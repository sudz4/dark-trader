{
 "cells": [
  {
   "cell_type": "code",
   "execution_count": 154,
   "metadata": {},
   "outputs": [],
   "source": [
    "import pandas as pd\n",
    "import yfinance as yf\n",
    "import numpy as np\n",
    "import mplfinance as mpf\n",
    "import matplotlib.pyplot as plt\n",
    "import yfinance as yf\n",
    "import vectorbt as vbt\n",
    "from ta.trend import MACD\n",
    "\n",
    "from ta.momentum import RSIIndicator\n",
    "from ta.trend import SMAIndicator\n",
    "from ta.momentum import RSIIndicator, StochasticOscillator\n",
    "from ta.trend import SMAIndicator, MACD, PSARIndicator\n",
    "from ta.volatility import BollingerBands, AverageTrueRange\n",
    "from ta.volume import OnBalanceVolumeIndicator\n",
    "from datetime import datetime\n",
    "from datetime import timedelta as td\n",
    "from tqdm import tqdm  # Visualize loop progress\n",
    "from sklearn.linear_model import LinearRegression\n",
    "from tenacity import retry, stop_after_attempt, wait_fixed\n",
    "from datetime import datetime, timedelta\n",
    "\n",
    "pd.set_option('display.colheader_justify', 'left')  # Left-align column headers\n",
    "pd.set_option('display.max_columns', None)\n",
    "pd.set_option('display.max_rows', None)\n",
    "pd.set_option('display.max_colwidth', None)\n",
    "vbt.settings.set_theme('dark')\n",
    "# vbt.settings.plotting.aut_rangebreaks = True\n",
    "\n",
    "import requests\n",
    "import json\n",
    "import os\n",
    "import pytz # timezone\n",
    "import warnings"
   ]
  },
  {
   "cell_type": "code",
   "execution_count": 155,
   "metadata": {},
   "outputs": [
    {
     "data": {
      "text/plain": [
       "True"
      ]
     },
     "execution_count": 155,
     "metadata": {},
     "output_type": "execute_result"
    }
   ],
   "source": [
    "from dotenv import load_dotenv\n",
    "load_dotenv()"
   ]
  },
  {
   "cell_type": "markdown",
   "metadata": {},
   "source": [
    "| Pre-Market Gap Up Screener Quantitative Trading Strategy |\n",
    "|----|\n",
    "| A progam by sudz |"
   ]
  },
  {
   "cell_type": "markdown",
   "metadata": {},
   "source": [
    "| SETUP |\n",
    "|--|\n",
    "| TradingView Data (import) |"
   ]
  },
  {
   "cell_type": "code",
   "execution_count": 156,
   "metadata": {},
   "outputs": [
    {
     "name": "stdout",
     "output_type": "stream",
     "text": [
      "_2024-07-17.csv\n"
     ]
    }
   ],
   "source": [
    "# today's date string for file naming automation\n",
    "today_date_str = datetime.now().strftime(\"_%Y-%m-%d.csv\")\n",
    "# today_date_str = '_2024-06-11.csv' # this is a near perfect outcome example replay day\n",
    "# today_date_str = '_2024-07-15.csv' # TRUMP\n",
    "\n",
    "print(today_date_str)"
   ]
  },
  {
   "cell_type": "code",
   "execution_count": 157,
   "metadata": {},
   "outputs": [
    {
     "name": "stdout",
     "output_type": "stream",
     "text": [
      "738 U.S. Stocks \n",
      "$(pre-market change) > $0.00 USD\n"
     ]
    }
   ],
   "source": [
    "# concat base file name with today's date string\n",
    "filename = f\"trading_view_raw_data/tv_screen_gap-up{today_date_str}\"\n",
    "# filename = \"trading_view_raw_data/tv_screen_gap-up_2024-07-11_0611.csv\"\n",
    "# read in trading view raw data\n",
    "trading_view_df = pd.read_csv(filename)\n",
    "\n",
    "print(f'{len(trading_view_df.index)} U.S. Stocks \\n$(pre-market change) > $0.00 USD')\n",
    "# trading_view_raw_df.head(5)"
   ]
  },
  {
   "cell_type": "code",
   "execution_count": 158,
   "metadata": {},
   "outputs": [],
   "source": [
    "# # pring the data types of the columns\n",
    "# trading_view_df.dtypes"
   ]
  },
  {
   "cell_type": "code",
   "execution_count": 159,
   "metadata": {},
   "outputs": [],
   "source": [
    "#### CREATE MARKET CAP CATEGORIES ####\n",
    "def categorize_market_cap(df):\n",
    "    # convert 'Market capitalization' to numeric, coercing errors to NaN\n",
    "    df['Market capitalization'] = pd.to_numeric(df['Market capitalization'], errors='coerce')\n",
    "    # define conditions for market cap categories\n",
    "    conditions = [\n",
    "        # Titans - 200 billion and above\n",
    "        (df['Market capitalization'] >= 200000000000),\n",
    "        # Large Cap - 10 billion to 200 billion\n",
    "        (df['Market capitalization'] >= 10000000000) & (df['Market capitalization'] < 200000000000),\n",
    "        # Midlers - 2 billion to 10 billion\n",
    "        (df['Market capitalization'] >= 2000000000) & (df['Market capitalization'] < 10000000000),\n",
    "        # Small Cap - 300 million to 2 billion\n",
    "        (df['Market capitalization'] >= 300000000) & (df['Market capitalization'] < 2000000000), \n",
    "        # Micro Cap - 50 million to 300 million\n",
    "        (df['Market capitalization'] > 50000000) & (df['Market capitalization'] < 300000000),\n",
    "        # Shrimp - 50 million and below\n",
    "        (df['Market capitalization'] <= 50000000)\n",
    "    ]\n",
    "    categories = ['Titans', 'Large caps', 'Midlers', 'Small caps', 'Micro caps', 'Shrimp']\n",
    "    # use np.select to assign categories based on conditions\n",
    "    df['marketCapType'] = np.select(conditions, categories, default='Undefined')\n",
    "    \n",
    "    return df"
   ]
  },
  {
   "cell_type": "code",
   "execution_count": 160,
   "metadata": {},
   "outputs": [
    {
     "name": "stdout",
     "output_type": "stream",
     "text": [
      "738\n",
      "738\n"
     ]
    },
    {
     "data": {
      "text/html": [
       "<div>\n",
       "<style scoped>\n",
       "    .dataframe tbody tr th:only-of-type {\n",
       "        vertical-align: middle;\n",
       "    }\n",
       "\n",
       "    .dataframe tbody tr th {\n",
       "        vertical-align: top;\n",
       "    }\n",
       "\n",
       "    .dataframe thead th {\n",
       "        text-align: right;\n",
       "    }\n",
       "</style>\n",
       "<table border=\"1\" class=\"dataframe\">\n",
       "  <thead>\n",
       "    <tr style=\"text-align: left;\">\n",
       "      <th></th>\n",
       "      <th>Symbol</th>\n",
       "      <th>Description</th>\n",
       "      <th>Industry</th>\n",
       "      <th>Sector</th>\n",
       "      <th>Exchange</th>\n",
       "      <th>Index</th>\n",
       "      <th>Market capitalization</th>\n",
       "      <th>Market capitalization - Currency</th>\n",
       "      <th>Price</th>\n",
       "      <th>Price - Currency</th>\n",
       "      <th>Pre-market Open</th>\n",
       "      <th>Pre-market Open - Currency</th>\n",
       "      <th>Pre-market Change</th>\n",
       "      <th>Pre-market Change - Currency</th>\n",
       "      <th>Pre-market Change %</th>\n",
       "      <th>Pre-market Gap %</th>\n",
       "      <th>Float shares outstanding</th>\n",
       "      <th>Volume 1 day</th>\n",
       "      <th>Volume 1 week</th>\n",
       "      <th>Pre-market Volume</th>\n",
       "      <th>Average Volume 10 days</th>\n",
       "      <th>Average Volume 30 days</th>\n",
       "      <th>Average Volume 90 days</th>\n",
       "      <th>Volatility 1 day</th>\n",
       "      <th>Volatility 1 week</th>\n",
       "      <th>Volatility 1 month</th>\n",
       "      <th>Volume Weighted Average Price 1 day</th>\n",
       "      <th>Price to earnings ratio</th>\n",
       "      <th>Relative Volume at Time</th>\n",
       "      <th>Relative Volume 1 day</th>\n",
       "      <th>Beta 1 year</th>\n",
       "      <th>Beta 3 years</th>\n",
       "      <th>Beta 5 years</th>\n",
       "      <th>Relative Volume 1 minute</th>\n",
       "      <th>Relative Volume 5 minutes</th>\n",
       "      <th>Relative Volume 15 minutes</th>\n",
       "      <th>Relative Volume 30 minutes</th>\n",
       "      <th>Relative Volume 1 hour</th>\n",
       "      <th>Relative Volume 2 hours</th>\n",
       "      <th>Relative Volume 4 hours</th>\n",
       "      <th>Relative Volume 1 week</th>\n",
       "      <th>Relative Volume 1 month</th>\n",
       "      <th>Highest high 1 month</th>\n",
       "      <th>Highest high 1 month - Currency</th>\n",
       "      <th>Highest high 3 months</th>\n",
       "      <th>Highest high 3 months - Currency</th>\n",
       "      <th>Highest high 6 months</th>\n",
       "      <th>Highest high 6 months - Currency</th>\n",
       "      <th>Highest high 52 weeks</th>\n",
       "      <th>Highest high 52 weeks - Currency</th>\n",
       "      <th>Highest high All Time</th>\n",
       "      <th>Highest high All Time - Currency</th>\n",
       "      <th>High 5 minutes</th>\n",
       "      <th>High 5 minutes - Currency</th>\n",
       "      <th>High 15 minutes</th>\n",
       "      <th>High 15 minutes - Currency</th>\n",
       "      <th>High 30 minutes</th>\n",
       "      <th>High 30 minutes - Currency</th>\n",
       "      <th>High 1 hour</th>\n",
       "      <th>High 1 hour - Currency</th>\n",
       "      <th>High 2 hours</th>\n",
       "      <th>High 2 hours - Currency</th>\n",
       "      <th>High 4 hours</th>\n",
       "      <th>High 4 hours - Currency</th>\n",
       "      <th>High 1 day</th>\n",
       "      <th>High 1 day - Currency</th>\n",
       "      <th>High 1 week</th>\n",
       "      <th>High 1 week - Currency</th>\n",
       "      <th>High 1 month</th>\n",
       "      <th>High 1 month - Currency</th>\n",
       "      <th>Revenue per employee, Annual</th>\n",
       "      <th>Revenue per employee, Annual - Currency</th>\n",
       "      <th>Simple Moving Average (5) 1 minute</th>\n",
       "      <th>Simple Moving Average (8) 1 minute</th>\n",
       "      <th>Simple Moving Average (5) 5 minutes</th>\n",
       "      <th>Simple Moving Average (13) 5 minutes</th>\n",
       "      <th>Bollinger Bands (20) 1 minute, Upper</th>\n",
       "      <th>Bollinger Bands (20) 1 minute, Basis</th>\n",
       "      <th>Bollinger Bands (20) 1 minute, Lower</th>\n",
       "      <th>Bollinger Bands (20) 5 minutes, Upper</th>\n",
       "      <th>Bollinger Bands (20) 5 minutes, Basis</th>\n",
       "      <th>Bollinger Bands (20) 5 minutes, Lower</th>\n",
       "      <th>International Securities Identification Number</th>\n",
       "      <th>Relative Volume 1 day.1</th>\n",
       "      <th>Recent earnings date</th>\n",
       "      <th>Upcoming earnings date</th>\n",
       "      <th>Analyst Rating</th>\n",
       "      <th>Target price 1 year</th>\n",
       "      <th>Target price 1 year - Currency</th>\n",
       "      <th>Technical Rating 5 minutes</th>\n",
       "      <th>marketCapType</th>\n",
       "    </tr>\n",
       "  </thead>\n",
       "  <tbody>\n",
       "    <tr>\n",
       "      <th>0</th>\n",
       "      <td>WMT</td>\n",
       "      <td>Walmart Inc.</td>\n",
       "      <td>Specialty stores</td>\n",
       "      <td>Retail trade</td>\n",
       "      <td>NYSE</td>\n",
       "      <td>S&amp;P 500, Dow Jones Industrial Average, S&amp;P 500 Consumer Staples, S&amp;P 100, Russell 3000, Dow Jones Composite Average, Russell 1000, S&amp;P 500 ESG, NYSE Arca Major Market</td>\n",
       "      <td>5.629676e+11</td>\n",
       "      <td>USD</td>\n",
       "      <td>69.99</td>\n",
       "      <td>USD</td>\n",
       "      <td>69.85</td>\n",
       "      <td>USD</td>\n",
       "      <td>0.15</td>\n",
       "      <td>USD</td>\n",
       "      <td>0.214316</td>\n",
       "      <td>-0.200029</td>\n",
       "      <td>4.313099e+09</td>\n",
       "      <td>9836818</td>\n",
       "      <td>20007961.0</td>\n",
       "      <td>39389</td>\n",
       "      <td>11775111.3</td>\n",
       "      <td>1.383264e+07</td>\n",
       "      <td>1.547940e+07</td>\n",
       "      <td>0.948548</td>\n",
       "      <td>1.234957</td>\n",
       "      <td>1.344061</td>\n",
       "      <td>69.936667</td>\n",
       "      <td>29.900034</td>\n",
       "      <td>0.900634</td>\n",
       "      <td>0.84378</td>\n",
       "      <td>0.36616</td>\n",
       "      <td>0.619937</td>\n",
       "      <td>0.501161</td>\n",
       "      <td>3.079847</td>\n",
       "      <td>5.37265</td>\n",
       "      <td>4.471832</td>\n",
       "      <td>3.372721</td>\n",
       "      <td>1.530677</td>\n",
       "      <td>0.795167</td>\n",
       "      <td>0.759536</td>\n",
       "      <td>0.267024</td>\n",
       "      <td>0.316161</td>\n",
       "      <td>70.45</td>\n",
       "      <td>USD</td>\n",
       "      <td>70.45</td>\n",
       "      <td>USD</td>\n",
       "      <td>70.45</td>\n",
       "      <td>USD</td>\n",
       "      <td>70.45</td>\n",
       "      <td>USD</td>\n",
       "      <td>70.45</td>\n",
       "      <td>USD</td>\n",
       "      <td>70.035</td>\n",
       "      <td>USD</td>\n",
       "      <td>70.035</td>\n",
       "      <td>USD</td>\n",
       "      <td>70.13</td>\n",
       "      <td>USD</td>\n",
       "      <td>70.13</td>\n",
       "      <td>USD</td>\n",
       "      <td>70.13</td>\n",
       "      <td>USD</td>\n",
       "      <td>70.24</td>\n",
       "      <td>USD</td>\n",
       "      <td>70.24</td>\n",
       "      <td>USD</td>\n",
       "      <td>70.24</td>\n",
       "      <td>USD</td>\n",
       "      <td>70.45</td>\n",
       "      <td>USD</td>\n",
       "      <td>308630.952381</td>\n",
       "      <td>USD</td>\n",
       "      <td>69.991</td>\n",
       "      <td>69.975625</td>\n",
       "      <td>69.97</td>\n",
       "      <td>70.052954</td>\n",
       "      <td>70.02365</td>\n",
       "      <td>69.960885</td>\n",
       "      <td>69.89812</td>\n",
       "      <td>70.200414</td>\n",
       "      <td>70.06955</td>\n",
       "      <td>69.938686</td>\n",
       "      <td>US9311421039</td>\n",
       "      <td>0.84378</td>\n",
       "      <td>2024-05-16</td>\n",
       "      <td>2024-08-15</td>\n",
       "      <td>Strong buy</td>\n",
       "      <td>73.290294</td>\n",
       "      <td>USD</td>\n",
       "      <td>Neutral</td>\n",
       "      <td>Titans</td>\n",
       "    </tr>\n",
       "  </tbody>\n",
       "</table>\n",
       "</div>"
      ],
      "text/plain": [
       "  Symbol Description   Industry          Sector        Exchange  \\\n",
       "0  WMT    Walmart Inc.  Specialty stores  Retail trade  NYSE      \n",
       "\n",
       "  Index                                                                                                                                                                    \\\n",
       "0  S&P 500, Dow Jones Industrial Average, S&P 500 Consumer Staples, S&P 100, Russell 3000, Dow Jones Composite Average, Russell 1000, S&P 500 ESG, NYSE Arca Major Market   \n",
       "\n",
       "   Market capitalization Market capitalization - Currency  Price  \\\n",
       "0  5.629676e+11           USD                              69.99   \n",
       "\n",
       "  Price - Currency  Pre-market Open Pre-market Open - Currency  \\\n",
       "0  USD              69.85            USD                         \n",
       "\n",
       "   Pre-market Change Pre-market Change - Currency  Pre-market Change %  \\\n",
       "0  0.15               USD                          0.214316              \n",
       "\n",
       "   Pre-market Gap %  Float shares outstanding  Volume 1 day  Volume 1 week  \\\n",
       "0 -0.200029          4.313099e+09              9836818       20007961.0      \n",
       "\n",
       "   Pre-market Volume  Average Volume 10 days  Average Volume 30 days  \\\n",
       "0  39389              11775111.3              1.383264e+07             \n",
       "\n",
       "   Average Volume 90 days  Volatility 1 day  Volatility 1 week  \\\n",
       "0  1.547940e+07            0.948548          1.234957            \n",
       "\n",
       "   Volatility 1 month  Volume Weighted Average Price 1 day  \\\n",
       "0  1.344061            69.936667                             \n",
       "\n",
       "   Price to earnings ratio  Relative Volume at Time  Relative Volume 1 day  \\\n",
       "0  29.900034                0.900634                 0.84378                 \n",
       "\n",
       "   Beta 1 year  Beta 3 years  Beta 5 years  Relative Volume 1 minute  \\\n",
       "0  0.36616      0.619937      0.501161      3.079847                   \n",
       "\n",
       "   Relative Volume 5 minutes  Relative Volume 15 minutes  \\\n",
       "0  5.37265                    4.471832                     \n",
       "\n",
       "   Relative Volume 30 minutes  Relative Volume 1 hour  \\\n",
       "0  3.372721                    1.530677                 \n",
       "\n",
       "   Relative Volume 2 hours  Relative Volume 4 hours  Relative Volume 1 week  \\\n",
       "0  0.795167                 0.759536                 0.267024                 \n",
       "\n",
       "   Relative Volume 1 month  Highest high 1 month  \\\n",
       "0  0.316161                 70.45                  \n",
       "\n",
       "  Highest high 1 month - Currency  Highest high 3 months  \\\n",
       "0  USD                             70.45                   \n",
       "\n",
       "  Highest high 3 months - Currency  Highest high 6 months  \\\n",
       "0  USD                              70.45                   \n",
       "\n",
       "  Highest high 6 months - Currency  Highest high 52 weeks  \\\n",
       "0  USD                              70.45                   \n",
       "\n",
       "  Highest high 52 weeks - Currency  Highest high All Time  \\\n",
       "0  USD                              70.45                   \n",
       "\n",
       "  Highest high All Time - Currency  High 5 minutes High 5 minutes - Currency  \\\n",
       "0  USD                              70.035          USD                        \n",
       "\n",
       "   High 15 minutes High 15 minutes - Currency  High 30 minutes  \\\n",
       "0  70.035           USD                        70.13             \n",
       "\n",
       "  High 30 minutes - Currency  High 1 hour High 1 hour - Currency  \\\n",
       "0  USD                        70.13        USD                     \n",
       "\n",
       "   High 2 hours High 2 hours - Currency  High 4 hours High 4 hours - Currency  \\\n",
       "0  70.13         USD                     70.24         USD                      \n",
       "\n",
       "   High 1 day High 1 day - Currency  High 1 week High 1 week - Currency  \\\n",
       "0  70.24       USD                   70.24        USD                     \n",
       "\n",
       "   High 1 month High 1 month - Currency  Revenue per employee, Annual  \\\n",
       "0  70.45         USD                     308630.952381                  \n",
       "\n",
       "  Revenue per employee, Annual - Currency  Simple Moving Average (5) 1 minute  \\\n",
       "0  USD                                     69.991                               \n",
       "\n",
       "   Simple Moving Average (8) 1 minute  Simple Moving Average (5) 5 minutes  \\\n",
       "0  69.975625                           69.97                                 \n",
       "\n",
       "   Simple Moving Average (13) 5 minutes  Bollinger Bands (20) 1 minute, Upper  \\\n",
       "0  70.052954                             70.02365                               \n",
       "\n",
       "   Bollinger Bands (20) 1 minute, Basis  Bollinger Bands (20) 1 minute, Lower  \\\n",
       "0  69.960885                             69.89812                               \n",
       "\n",
       "   Bollinger Bands (20) 5 minutes, Upper  \\\n",
       "0  70.200414                               \n",
       "\n",
       "   Bollinger Bands (20) 5 minutes, Basis  \\\n",
       "0  70.06955                                \n",
       "\n",
       "   Bollinger Bands (20) 5 minutes, Lower  \\\n",
       "0  69.938686                               \n",
       "\n",
       "  International Securities Identification Number  Relative Volume 1 day.1  \\\n",
       "0  US9311421039                                   0.84378                   \n",
       "\n",
       "  Recent earnings date Upcoming earnings date Analyst Rating  \\\n",
       "0  2024-05-16           2024-08-15             Strong buy      \n",
       "\n",
       "   Target price 1 year Target price 1 year - Currency  \\\n",
       "0  73.290294            USD                             \n",
       "\n",
       "  Technical Rating 5 minutes marketCapType  \n",
       "0  Neutral                    Titans        "
      ]
     },
     "execution_count": 160,
     "metadata": {},
     "output_type": "execute_result"
    }
   ],
   "source": [
    "# EXECUTE\n",
    "category_setup_df = categorize_market_cap(trading_view_df).copy()\n",
    "\n",
    "# view trading view df length and verify you don't lose data in the process\n",
    "print(len(trading_view_df))\n",
    "print(len(category_setup_df))\n",
    "category_setup_df.head(1)\n"
   ]
  },
  {
   "cell_type": "code",
   "execution_count": 161,
   "metadata": {},
   "outputs": [
    {
     "name": "stdout",
     "output_type": "stream",
     "text": [
      "738 U.S. Stocks in the dataframe \n",
      "$(pre-market change) > $0.00 USD\n"
     ]
    },
    {
     "data": {
      "text/html": [
       "<div>\n",
       "<style scoped>\n",
       "    .dataframe tbody tr th:only-of-type {\n",
       "        vertical-align: middle;\n",
       "    }\n",
       "\n",
       "    .dataframe tbody tr th {\n",
       "        vertical-align: top;\n",
       "    }\n",
       "\n",
       "    .dataframe thead th {\n",
       "        text-align: right;\n",
       "    }\n",
       "</style>\n",
       "<table border=\"1\" class=\"dataframe\">\n",
       "  <thead>\n",
       "    <tr style=\"text-align: left;\">\n",
       "      <th></th>\n",
       "      <th>marketCapType</th>\n",
       "      <th>count</th>\n",
       "      <th>percentage</th>\n",
       "    </tr>\n",
       "  </thead>\n",
       "  <tbody>\n",
       "    <tr>\n",
       "      <th>0</th>\n",
       "      <td>Shrimp</td>\n",
       "      <td>234</td>\n",
       "      <td>31.707317</td>\n",
       "    </tr>\n",
       "    <tr>\n",
       "      <th>1</th>\n",
       "      <td>Micro caps</td>\n",
       "      <td>144</td>\n",
       "      <td>19.512195</td>\n",
       "    </tr>\n",
       "    <tr>\n",
       "      <th>2</th>\n",
       "      <td>Small caps</td>\n",
       "      <td>134</td>\n",
       "      <td>18.157182</td>\n",
       "    </tr>\n",
       "    <tr>\n",
       "      <th>3</th>\n",
       "      <td>Large caps</td>\n",
       "      <td>127</td>\n",
       "      <td>17.208672</td>\n",
       "    </tr>\n",
       "    <tr>\n",
       "      <th>4</th>\n",
       "      <td>Midlers</td>\n",
       "      <td>82</td>\n",
       "      <td>11.111111</td>\n",
       "    </tr>\n",
       "    <tr>\n",
       "      <th>5</th>\n",
       "      <td>Titans</td>\n",
       "      <td>12</td>\n",
       "      <td>1.626016</td>\n",
       "    </tr>\n",
       "    <tr>\n",
       "      <th>6</th>\n",
       "      <td>Undefined</td>\n",
       "      <td>5</td>\n",
       "      <td>0.677507</td>\n",
       "    </tr>\n",
       "  </tbody>\n",
       "</table>\n",
       "</div>"
      ],
      "text/plain": [
       "  marketCapType  count  percentage\n",
       "0      Shrimp    234    31.707317 \n",
       "1  Micro caps    144    19.512195 \n",
       "2  Small caps    134    18.157182 \n",
       "3  Large caps    127    17.208672 \n",
       "4     Midlers     82    11.111111 \n",
       "5      Titans     12     1.626016 \n",
       "6   Undefined      5     0.677507 "
      ]
     },
     "execution_count": 161,
     "metadata": {},
     "output_type": "execute_result"
    }
   ],
   "source": [
    "#### ---- DEVELOPEMEMT ---- ####\n",
    "\n",
    "# view the raw counts and percentages of each market cap type\n",
    "mc_xl_df = category_setup_df['marketCapType'].value_counts().reset_index()\n",
    "mc_xl_df.columns = ['marketCapType', 'count']  # Rename columns for clarity\n",
    "# calculate percentage -> add new columne to dataframe\n",
    "mc_xl_df['percentage'] = (mc_xl_df['count'] / mc_xl_df['count'].sum()) * 100\n",
    "\n",
    "print(f'{len(category_setup_df.index)} U.S. Stocks in the dataframe \\n$(pre-market change) > $0.00 USD')\n",
    "mc_xl_df"
   ]
  },
  {
   "cell_type": "code",
   "execution_count": 162,
   "metadata": {},
   "outputs": [
    {
     "name": "stdout",
     "output_type": "stream",
     "text": [
      "733\n"
     ]
    }
   ],
   "source": [
    "# drop Undefined marketCapType\n",
    "category_setup_df = category_setup_df[category_setup_df['marketCapType'] != 'Undefined']\n",
    "print(len(category_setup_df))"
   ]
  },
  {
   "cell_type": "code",
   "execution_count": 163,
   "metadata": {},
   "outputs": [],
   "source": [
    "# need to add error handling for when zero (0) return (4/4/24)\n",
    "# zero again 5/24/24\n",
    "# - not so much error handling but want to see if we need to adjust the criteria in general\n",
    "# - need to put this theory and algo through more paper trading and adjust as needed\n",
    "# think about adding other staples to dataframe\n",
    "# or you create a separate investments_long_df or similar for those, i.e., TSLA, PLTR, SOFI etc..."
   ]
  },
  {
   "cell_type": "markdown",
   "metadata": {},
   "source": [
    "| SETUP Part 2/2 |\n",
    "|-|\n",
    "| TradingView (raw data) | \n",
    "\n",
    "things to add;\n",
    "* Pre-Market Volume: Adding a minimum pre-market volume threshold can help filter out stocks that might have large percentage changes but low trading volumes, which can lead to unreliable price movements and high slippage.\n",
    "Example: A minimum of 50,000 shares traded in the pre-market for all categories.\n",
    "\n",
    "* overall market sentiment and filter tightener (macro)"
   ]
  },
  {
   "cell_type": "markdown",
   "metadata": {},
   "source": [
    "| SCREEN LEVEL #1/ |\n",
    "|-|\n",
    "| Primary AND also the intital screener that does the most damage |"
   ]
  },
  {
   "cell_type": "code",
   "execution_count": 164,
   "metadata": {},
   "outputs": [],
   "source": [
    "#### CRITERIA CONFIG DICTIONARY ####\n",
    "criteria_config = {\n",
    "   \"Titans\": {\n",
    "        \"pre_market_change_pct_threshold\": 0.002,  # 0.2% for Titans\n",
    "        \"float_shares_outstanding_threshold\": 1000000000,  # 1 billion shares\n",
    "        \"relative_volume_threshold\": 1.2,  # More inclusive\n",
    "        \"relative_volume_at_time_threshold\": 0.03,  # More inclusive\n",
    "        \"pre_market_gap_percentage_threshold\": 0.001,  # 0.1%\n",
    "        \"pre_market_vwap_drawdown_threshold\": 0.003,  # 0.3% drawdown from VWAP\n",
    "        #last\n",
    "        \"pre_market_volume_threshold\": 50000  # Minimum pre-market volume\n",
    "    }, \n",
    "    \"Large caps\": {\n",
    "        \"pre_market_change_pct_threshold\": 0.005,  # 0.5% for Large caps\n",
    "        \"float_shares_outstanding_threshold\": 200000000,  # 200 million shares\n",
    "        \"relative_volume_threshold\": 1.3,  # More inclusive\n",
    "        \"relative_volume_at_time_threshold\": 0.04,  # More inclusive\n",
    "        \"pre_market_gap_percentage_threshold\": 0.005,  # 0.5%\n",
    "        \"pre_market_vwap_drawdown_threshold\": 0.004,  # 0.4% drawdown from VWAP\n",
    "        #last\n",
    "        \"pre_market_volume_threshold\": 50000  # Minimum pre-market volume\n",
    "    },\n",
    "    \"Mid caps\": {\n",
    "        \"pre_market_change_pct_threshold\": 0.02,  # 2% for Mid caps\n",
    "        \"float_shares_outstanding_threshold\": 50000000,  # 50 million shares\n",
    "        \"relative_volume_threshold\": 1.3,\n",
    "        \"relative_volume_at_time_threshold\": 0.05,\n",
    "        \"pre_market_gap_percentage_threshold\": 0.02,\n",
    "        \"pre_market_vwap_drawdown_threshold\": 0.005,  # 0.5% drawdown from VWAP\n",
    "        #last\n",
    "        \"pre_market_volume_threshold\": 50000  # Minimum pre-market volume\n",
    "    },\n",
    "    \"Small caps\": {\n",
    "        \"pre_market_change_pct_threshold\": 0.03,  # 3% for Small caps\n",
    "        \"float_shares_outstanding_threshold\": 20000000,  # 20 million shares\n",
    "        \"relative_volume_threshold\": 1.2,\n",
    "        \"relative_volume_at_time_threshold\": 0.05,\n",
    "        \"pre_market_gap_percentage_threshold\": 0.03,\n",
    "        \"pre_market_vwap_drawdown_threshold\": 0.006,  # 0.6% drawdown from VWAP\n",
    "        #last\n",
    "        \"pre_market_volume_threshold\": 50000  # Minimum pre-market volume\n",
    "    },\n",
    "    \"Micro caps\": {\n",
    "        \"pre_market_change_pct_threshold\": 0.04,  # 4% for Micro caps\n",
    "        \"float_shares_outstanding_threshold\": 5000000,  # 5 million shares\n",
    "        \"relative_volume_threshold\": 1.1,\n",
    "        \"relative_volume_at_time_threshold\": 0.05,\n",
    "        \"pre_market_gap_percentage_threshold\": 0.04,\n",
    "        \"pre_market_vwap_drawdown_threshold\": 0.007,  # 0.7% drawdown from VWAP\n",
    "        #last\n",
    "        \"pre_market_volume_threshold\": 50000  # Minimum pre-market volume\n",
    "    },\n",
    "    \"Shrimp\": {\n",
    "        \"pre_market_change_pct_threshold\": 0.05,  # 5% for Shrimp\n",
    "        \"float_shares_outstanding_threshold\": 1000000,  # 1 million shares\n",
    "        \"relative_volume_threshold\": 1.0,\n",
    "        \"relative_volume_at_time_threshold\": 0.05,\n",
    "        \"pre_market_gap_percentage_threshold\": 0.05,\n",
    "        \"pre_market_vwap_drawdown_threshold\": 0.008, # 0.8% drawdown from VWAP\n",
    "        #last\n",
    "        \"pre_market_volume_threshold\": 50000  # Minimum pre-market volume\n",
    "    }\n",
    "}"
   ]
  },
  {
   "cell_type": "code",
   "execution_count": 165,
   "metadata": {},
   "outputs": [],
   "source": [
    "# what about exceptions, like if all these criteria above are met but there is super high volume and less than x& < 1% gap-up\n",
    "# would have to specify specific criteria for the market caps"
   ]
  },
  {
   "cell_type": "code",
   "execution_count": 166,
   "metadata": {},
   "outputs": [],
   "source": [
    "def filter_by_pre_market_change(df, change_pct_threshold):\n",
    "    \"\"\"Filter stocks by pre-market change percentage.\"\"\"\n",
    "    return df[df['Pre-market Change %'] >= change_pct_threshold]\n",
    "\n",
    "def filter_by_float_shares(df, float_shares_threshold):\n",
    "    \"\"\"Filter stocks by float shares outstanding.\"\"\"\n",
    "    df.loc[:, 'Float shares outstanding'] = pd.to_numeric(df['Float shares outstanding'], errors='coerce')\n",
    "    return df[df['Float shares outstanding'] <= float_shares_threshold]\n",
    "\n",
    "def filter_by_relative_volume(df, relative_volume_threshold):\n",
    "    \"\"\"Filter stocks by relative volume.\"\"\"\n",
    "    df.loc[:, 'Relative Volume 1 day'] = pd.to_numeric(df['Relative Volume 1 day'], errors='coerce')\n",
    "    return df[df['Relative Volume 1 day'] >= relative_volume_threshold]\n",
    "\n",
    "def filter_by_relative_volume_at_time(df, relative_volume_at_time_threshold):\n",
    "    \"\"\"Filter stocks by relative volume at a specific time.\"\"\"\n",
    "    df.loc[:, 'Relative Volume at Time'] = pd.to_numeric(df['Relative Volume at Time'], errors='coerce')\n",
    "    return df[df['Relative Volume at Time'] >= relative_volume_at_time_threshold]\n",
    "\n",
    "def filter_by_pre_market_gap_percentage(df, pre_market_gap_percentage_threshold):\n",
    "    \"\"\"Filter stocks by pre-market gap percentage.\"\"\"\n",
    "    return df[df['Pre-market Gap %'] >= pre_market_gap_percentage_threshold]\n",
    "\n",
    "def filter_by_price_near_vwap(df, pre_market_vwap_drawdown_threshold):\n",
    "    \"\"\"Filter stocks where the price is near the VWAP, considering the specified drawdown threshold.\"\"\"\n",
    "    df.loc[:, 'Price'] = pd.to_numeric(df['Price'], errors='coerce')\n",
    "    df.loc[:, 'Volume Weighted Average Price 1 day'] = pd.to_numeric(df['Volume Weighted Average Price 1 day'], errors='coerce')\n",
    "    df.loc[:, 'Min Price from VWAP'] = df['Volume Weighted Average Price 1 day'] * (1 - pre_market_vwap_drawdown_threshold)\n",
    "    return df[df['Price'] >= df['Min Price from VWAP']].drop(columns=['Min Price from VWAP'])\n",
    "\n",
    "def filter_by_volatility(df):\n",
    "    \"\"\"Filter stocks based on recent volatility being higher than weekly and monthly averages.\"\"\"\n",
    "    df.loc[:, 'Volatility 1 day'] = pd.to_numeric(df['Volatility 1 day'], errors='coerce')\n",
    "    df.loc[:, 'Volatility 1 week'] = pd.to_numeric(df['Volatility 1 week'], errors='coerce')\n",
    "    df.loc[:, 'Volatility 1 month'] = pd.to_numeric(df['Volatility 1 month'], errors='coerce')\n",
    "    return df[(df['Volatility 1 day'] >= df['Volatility 1 week']) & (df['Volatility 1 day'] >= df['Volatility 1 month'])]\n",
    "\n",
    "#### last (i.e., stay organized, bookend filter section here, add other filters above ####\n",
    "def filter_by_pre_market_volume(df, pre_market_volume_threshold):\n",
    "    \"\"\"Filter stocks by pre-market volume.\"\"\"\n",
    "    df['Pre-market Volume'] = pd.to_numeric(df['Pre-market Volume'], errors='coerce')\n",
    "    return df[df['Pre-market Volume'] >= pre_market_volume_threshold]"
   ]
  },
  {
   "cell_type": "code",
   "execution_count": 167,
   "metadata": {},
   "outputs": [],
   "source": [
    "# WRAPPER FUNCTION\n",
    "def screen_stocks_by_category(df, category):\n",
    "    # FILTERS\n",
    "    config = criteria_config.get(category, {})\n",
    "    pre_market_change_pct_threshold = config.get(\"pre_market_change_pct_threshold\", 0)\n",
    "    float_shares_threshold = config.get(\"float_shares_outstanding_threshold\", float('inf'))\n",
    "    relative_volume_threshold = config.get(\"relative_volume_threshold\", 0)\n",
    "    relative_volume_at_time_threshold = config.get(\"relative_volume_at_time_threshold\", 0)\n",
    "    pre_market_gap_percentage_threshold = config.get(\"pre_market_gap_percentage_threshold\", 0)\n",
    "    pre_market_vwap_drawdown_threshold = config.get(\"pre_market_vwap_drawdown_threshold\", 0)\n",
    "    # last\n",
    "    pre_market_volume_threshold = config.get(\"pre_market_volume_threshold\", 0)\n",
    "\n",
    "    # FUNCTIONS (core processing)\n",
    "    filtered_df = filter_by_pre_market_change(df, pre_market_change_pct_threshold)\n",
    "    filtered_df = filter_by_float_shares(filtered_df, float_shares_threshold)\n",
    "    filtered_df = filter_by_relative_volume(filtered_df, relative_volume_threshold)\n",
    "    filtered_df = filter_by_relative_volume_at_time(filtered_df, relative_volume_at_time_threshold)\n",
    "    filtered_df = filter_by_volatility(filtered_df)\n",
    "    filtered_df = filter_by_pre_market_gap_percentage(filtered_df, pre_market_gap_percentage_threshold)\n",
    "    filtered_df = filter_by_price_near_vwap(filtered_df, pre_market_vwap_drawdown_threshold)\n",
    "    # last\n",
    "    filtered_df = filter_by_pre_market_volume(filtered_df, pre_market_volume_threshold)\n",
    "\n",
    "    return filtered_df"
   ]
  },
  {
   "cell_type": "code",
   "execution_count": 168,
   "metadata": {},
   "outputs": [
    {
     "name": "stdout",
     "output_type": "stream",
     "text": [
      "(39, 91)\n"
     ]
    },
    {
     "data": {
      "text/html": [
       "<div>\n",
       "<style scoped>\n",
       "    .dataframe tbody tr th:only-of-type {\n",
       "        vertical-align: middle;\n",
       "    }\n",
       "\n",
       "    .dataframe tbody tr th {\n",
       "        vertical-align: top;\n",
       "    }\n",
       "\n",
       "    .dataframe thead th {\n",
       "        text-align: right;\n",
       "    }\n",
       "</style>\n",
       "<table border=\"1\" class=\"dataframe\">\n",
       "  <thead>\n",
       "    <tr style=\"text-align: left;\">\n",
       "      <th></th>\n",
       "      <th>Symbol</th>\n",
       "      <th>Description</th>\n",
       "      <th>Industry</th>\n",
       "      <th>Sector</th>\n",
       "      <th>Exchange</th>\n",
       "      <th>Index</th>\n",
       "      <th>Market capitalization</th>\n",
       "      <th>Market capitalization - Currency</th>\n",
       "      <th>Price</th>\n",
       "      <th>Price - Currency</th>\n",
       "      <th>Pre-market Open</th>\n",
       "      <th>Pre-market Open - Currency</th>\n",
       "      <th>Pre-market Change</th>\n",
       "      <th>Pre-market Change - Currency</th>\n",
       "      <th>Pre-market Change %</th>\n",
       "      <th>Pre-market Gap %</th>\n",
       "      <th>Float shares outstanding</th>\n",
       "      <th>Volume 1 day</th>\n",
       "      <th>Volume 1 week</th>\n",
       "      <th>Pre-market Volume</th>\n",
       "      <th>Average Volume 10 days</th>\n",
       "      <th>Average Volume 30 days</th>\n",
       "      <th>Average Volume 90 days</th>\n",
       "      <th>Volatility 1 day</th>\n",
       "      <th>Volatility 1 week</th>\n",
       "      <th>Volatility 1 month</th>\n",
       "      <th>Volume Weighted Average Price 1 day</th>\n",
       "      <th>Price to earnings ratio</th>\n",
       "      <th>Relative Volume at Time</th>\n",
       "      <th>Relative Volume 1 day</th>\n",
       "      <th>Beta 1 year</th>\n",
       "      <th>Beta 3 years</th>\n",
       "      <th>Beta 5 years</th>\n",
       "      <th>Relative Volume 1 minute</th>\n",
       "      <th>Relative Volume 5 minutes</th>\n",
       "      <th>Relative Volume 15 minutes</th>\n",
       "      <th>Relative Volume 30 minutes</th>\n",
       "      <th>Relative Volume 1 hour</th>\n",
       "      <th>Relative Volume 2 hours</th>\n",
       "      <th>Relative Volume 4 hours</th>\n",
       "      <th>Relative Volume 1 week</th>\n",
       "      <th>Relative Volume 1 month</th>\n",
       "      <th>Highest high 1 month</th>\n",
       "      <th>Highest high 1 month - Currency</th>\n",
       "      <th>Highest high 3 months</th>\n",
       "      <th>Highest high 3 months - Currency</th>\n",
       "      <th>Highest high 6 months</th>\n",
       "      <th>Highest high 6 months - Currency</th>\n",
       "      <th>Highest high 52 weeks</th>\n",
       "      <th>Highest high 52 weeks - Currency</th>\n",
       "      <th>Highest high All Time</th>\n",
       "      <th>Highest high All Time - Currency</th>\n",
       "      <th>High 5 minutes</th>\n",
       "      <th>High 5 minutes - Currency</th>\n",
       "      <th>High 15 minutes</th>\n",
       "      <th>High 15 minutes - Currency</th>\n",
       "      <th>High 30 minutes</th>\n",
       "      <th>High 30 minutes - Currency</th>\n",
       "      <th>High 1 hour</th>\n",
       "      <th>High 1 hour - Currency</th>\n",
       "      <th>High 2 hours</th>\n",
       "      <th>High 2 hours - Currency</th>\n",
       "      <th>High 4 hours</th>\n",
       "      <th>High 4 hours - Currency</th>\n",
       "      <th>High 1 day</th>\n",
       "      <th>High 1 day - Currency</th>\n",
       "      <th>High 1 week</th>\n",
       "      <th>High 1 week - Currency</th>\n",
       "      <th>High 1 month</th>\n",
       "      <th>High 1 month - Currency</th>\n",
       "      <th>Revenue per employee, Annual</th>\n",
       "      <th>Revenue per employee, Annual - Currency</th>\n",
       "      <th>Simple Moving Average (5) 1 minute</th>\n",
       "      <th>Simple Moving Average (8) 1 minute</th>\n",
       "      <th>Simple Moving Average (5) 5 minutes</th>\n",
       "      <th>Simple Moving Average (13) 5 minutes</th>\n",
       "      <th>Bollinger Bands (20) 1 minute, Upper</th>\n",
       "      <th>Bollinger Bands (20) 1 minute, Basis</th>\n",
       "      <th>Bollinger Bands (20) 1 minute, Lower</th>\n",
       "      <th>Bollinger Bands (20) 5 minutes, Upper</th>\n",
       "      <th>Bollinger Bands (20) 5 minutes, Basis</th>\n",
       "      <th>Bollinger Bands (20) 5 minutes, Lower</th>\n",
       "      <th>International Securities Identification Number</th>\n",
       "      <th>Relative Volume 1 day.1</th>\n",
       "      <th>Recent earnings date</th>\n",
       "      <th>Upcoming earnings date</th>\n",
       "      <th>Analyst Rating</th>\n",
       "      <th>Target price 1 year</th>\n",
       "      <th>Target price 1 year - Currency</th>\n",
       "      <th>Technical Rating 5 minutes</th>\n",
       "      <th>marketCapType</th>\n",
       "    </tr>\n",
       "  </thead>\n",
       "  <tbody>\n",
       "    <tr>\n",
       "      <th>0</th>\n",
       "      <td>RGLD</td>\n",
       "      <td>Royal Gold, Inc.</td>\n",
       "      <td>Precious metals</td>\n",
       "      <td>Non-energy minerals</td>\n",
       "      <td>NASDAQ</td>\n",
       "      <td>NASDAQ Composite, PHLX Gold/Silver Sector, S&amp;P MidCap 400, Russell 3000, Russell 1000, NASDAQ Industrials</td>\n",
       "      <td>9.206573e+09</td>\n",
       "      <td>USD</td>\n",
       "      <td>140.06</td>\n",
       "      <td>USD</td>\n",
       "      <td>140.8</td>\n",
       "      <td>USD</td>\n",
       "      <td>0.74</td>\n",
       "      <td>USD</td>\n",
       "      <td>0.528345</td>\n",
       "      <td>0.528345</td>\n",
       "      <td>6.550086e+07</td>\n",
       "      <td>331992</td>\n",
       "      <td>556876.0</td>\n",
       "      <td>100</td>\n",
       "      <td>355127.2</td>\n",
       "      <td>358167.6</td>\n",
       "      <td>417193.111111</td>\n",
       "      <td>2.803124</td>\n",
       "      <td>2.16805</td>\n",
       "      <td>1.823437</td>\n",
       "      <td>139.230000</td>\n",
       "      <td>41.343685</td>\n",
       "      <td>1.200033</td>\n",
       "      <td>0.973807</td>\n",
       "      <td>0.635129</td>\n",
       "      <td>0.697982</td>\n",
       "      <td>0.871532</td>\n",
       "      <td>2.652628</td>\n",
       "      <td>3.92617</td>\n",
       "      <td>6.088094</td>\n",
       "      <td>3.065142</td>\n",
       "      <td>1.794860</td>\n",
       "      <td>0.887771</td>\n",
       "      <td>0.803960</td>\n",
       "      <td>0.327605</td>\n",
       "      <td>0.460091</td>\n",
       "      <td>140.64</td>\n",
       "      <td>USD</td>\n",
       "      <td>140.64</td>\n",
       "      <td>USD</td>\n",
       "      <td>140.64</td>\n",
       "      <td>USD</td>\n",
       "      <td>140.64</td>\n",
       "      <td>USD</td>\n",
       "      <td>147.82</td>\n",
       "      <td>USD</td>\n",
       "      <td>140.375</td>\n",
       "      <td>USD</td>\n",
       "      <td>140.375</td>\n",
       "      <td>USD</td>\n",
       "      <td>140.375</td>\n",
       "      <td>USD</td>\n",
       "      <td>140.375</td>\n",
       "      <td>USD</td>\n",
       "      <td>140.375</td>\n",
       "      <td>USD</td>\n",
       "      <td>140.64</td>\n",
       "      <td>USD</td>\n",
       "      <td>140.64</td>\n",
       "      <td>USD</td>\n",
       "      <td>140.64</td>\n",
       "      <td>USD</td>\n",
       "      <td>140.64</td>\n",
       "      <td>USD</td>\n",
       "      <td>2.019057e+07</td>\n",
       "      <td>USD</td>\n",
       "      <td>140.104</td>\n",
       "      <td>140.12250</td>\n",
       "      <td>140.076</td>\n",
       "      <td>140.016538</td>\n",
       "      <td>140.293532</td>\n",
       "      <td>140.11215</td>\n",
       "      <td>139.930768</td>\n",
       "      <td>140.337844</td>\n",
       "      <td>139.879500</td>\n",
       "      <td>139.421156</td>\n",
       "      <td>US7802871084</td>\n",
       "      <td>0.973807</td>\n",
       "      <td>2024-05-08</td>\n",
       "      <td>2024-08-07</td>\n",
       "      <td>Buy</td>\n",
       "      <td>156.333333</td>\n",
       "      <td>USD</td>\n",
       "      <td>Neutral</td>\n",
       "      <td>Midlers</td>\n",
       "    </tr>\n",
       "    <tr>\n",
       "      <th>1</th>\n",
       "      <td>FRT</td>\n",
       "      <td>Federal Realty Investment Trust</td>\n",
       "      <td>Real estate investment trusts</td>\n",
       "      <td>Finance</td>\n",
       "      <td>NYSE</td>\n",
       "      <td>S&amp;P 500, S&amp;P 500 Real Estate, Russell 3000, Russell 1000, S&amp;P 500 ESG</td>\n",
       "      <td>9.085569e+09</td>\n",
       "      <td>USD</td>\n",
       "      <td>108.70</td>\n",
       "      <td>USD</td>\n",
       "      <td>109.0</td>\n",
       "      <td>USD</td>\n",
       "      <td>0.30</td>\n",
       "      <td>USD</td>\n",
       "      <td>0.275989</td>\n",
       "      <td>0.275989</td>\n",
       "      <td>8.224153e+07</td>\n",
       "      <td>426559</td>\n",
       "      <td>880651.0</td>\n",
       "      <td>100</td>\n",
       "      <td>384951.7</td>\n",
       "      <td>455698.8</td>\n",
       "      <td>532302.422222</td>\n",
       "      <td>2.286357</td>\n",
       "      <td>1.71774</td>\n",
       "      <td>1.356195</td>\n",
       "      <td>108.086667</td>\n",
       "      <td>38.752228</td>\n",
       "      <td>1.333267</td>\n",
       "      <td>1.127490</td>\n",
       "      <td>0.834872</td>\n",
       "      <td>1.045315</td>\n",
       "      <td>1.254363</td>\n",
       "      <td>2.076645</td>\n",
       "      <td>5.29943</td>\n",
       "      <td>6.606878</td>\n",
       "      <td>5.616436</td>\n",
       "      <td>2.536698</td>\n",
       "      <td>1.383014</td>\n",
       "      <td>1.230792</td>\n",
       "      <td>0.387252</td>\n",
       "      <td>0.331902</td>\n",
       "      <td>108.84</td>\n",
       "      <td>USD</td>\n",
       "      <td>108.84</td>\n",
       "      <td>USD</td>\n",
       "      <td>108.84</td>\n",
       "      <td>USD</td>\n",
       "      <td>108.84</td>\n",
       "      <td>USD</td>\n",
       "      <td>171.08</td>\n",
       "      <td>USD</td>\n",
       "      <td>108.820</td>\n",
       "      <td>USD</td>\n",
       "      <td>108.840</td>\n",
       "      <td>USD</td>\n",
       "      <td>108.840</td>\n",
       "      <td>USD</td>\n",
       "      <td>108.840</td>\n",
       "      <td>USD</td>\n",
       "      <td>108.840</td>\n",
       "      <td>USD</td>\n",
       "      <td>108.84</td>\n",
       "      <td>USD</td>\n",
       "      <td>108.84</td>\n",
       "      <td>USD</td>\n",
       "      <td>108.84</td>\n",
       "      <td>USD</td>\n",
       "      <td>108.84</td>\n",
       "      <td>USD</td>\n",
       "      <td>3.811364e+06</td>\n",
       "      <td>USD</td>\n",
       "      <td>108.750</td>\n",
       "      <td>108.73875</td>\n",
       "      <td>108.641</td>\n",
       "      <td>108.370854</td>\n",
       "      <td>108.896755</td>\n",
       "      <td>108.68415</td>\n",
       "      <td>108.471545</td>\n",
       "      <td>108.853171</td>\n",
       "      <td>108.194805</td>\n",
       "      <td>107.536439</td>\n",
       "      <td>US3137451015</td>\n",
       "      <td>1.127490</td>\n",
       "      <td>2024-05-02</td>\n",
       "      <td>2024-08-01</td>\n",
       "      <td>Buy</td>\n",
       "      <td>113.031250</td>\n",
       "      <td>USD</td>\n",
       "      <td>Buy</td>\n",
       "      <td>Midlers</td>\n",
       "    </tr>\n",
       "  </tbody>\n",
       "</table>\n",
       "</div>"
      ],
      "text/plain": [
       "  Symbol Description                      Industry                        \\\n",
       "0  RGLD                  Royal Gold, Inc.                Precious metals   \n",
       "1   FRT   Federal Realty Investment Trust  Real estate investment trusts   \n",
       "\n",
       "  Sector               Exchange  \\\n",
       "0  Non-energy minerals  NASDAQ    \n",
       "1              Finance    NYSE    \n",
       "\n",
       "  Index                                                                                                       \\\n",
       "0  NASDAQ Composite, PHLX Gold/Silver Sector, S&P MidCap 400, Russell 3000, Russell 1000, NASDAQ Industrials   \n",
       "1                                      S&P 500, S&P 500 Real Estate, Russell 3000, Russell 1000, S&P 500 ESG   \n",
       "\n",
       "   Market capitalization Market capitalization - Currency  Price   \\\n",
       "0  9.206573e+09           USD                              140.06   \n",
       "1  9.085569e+09           USD                              108.70   \n",
       "\n",
       "  Price - Currency  Pre-market Open Pre-market Open - Currency  \\\n",
       "0  USD              140.8            USD                         \n",
       "1  USD              109.0            USD                         \n",
       "\n",
       "   Pre-market Change Pre-market Change - Currency  Pre-market Change %  \\\n",
       "0  0.74               USD                          0.528345              \n",
       "1  0.30               USD                          0.275989              \n",
       "\n",
       "   Pre-market Gap %  Float shares outstanding  Volume 1 day  Volume 1 week  \\\n",
       "0  0.528345          6.550086e+07              331992        556876.0        \n",
       "1  0.275989          8.224153e+07              426559        880651.0        \n",
       "\n",
       "   Pre-market Volume  Average Volume 10 days  Average Volume 30 days  \\\n",
       "0  100                355127.2                358167.6                 \n",
       "1  100                384951.7                455698.8                 \n",
       "\n",
       "   Average Volume 90 days  Volatility 1 day  Volatility 1 week  \\\n",
       "0  417193.111111           2.803124          2.16805             \n",
       "1  532302.422222           2.286357          1.71774             \n",
       "\n",
       "   Volatility 1 month  Volume Weighted Average Price 1 day  \\\n",
       "0  1.823437            139.230000                            \n",
       "1  1.356195            108.086667                            \n",
       "\n",
       "   Price to earnings ratio  Relative Volume at Time  Relative Volume 1 day  \\\n",
       "0  41.343685                1.200033                 0.973807                \n",
       "1  38.752228                1.333267                 1.127490                \n",
       "\n",
       "   Beta 1 year  Beta 3 years  Beta 5 years  Relative Volume 1 minute  \\\n",
       "0  0.635129     0.697982      0.871532      2.652628                   \n",
       "1  0.834872     1.045315      1.254363      2.076645                   \n",
       "\n",
       "   Relative Volume 5 minutes  Relative Volume 15 minutes  \\\n",
       "0  3.92617                    6.088094                     \n",
       "1  5.29943                    6.606878                     \n",
       "\n",
       "   Relative Volume 30 minutes  Relative Volume 1 hour  \\\n",
       "0  3.065142                    1.794860                 \n",
       "1  5.616436                    2.536698                 \n",
       "\n",
       "   Relative Volume 2 hours  Relative Volume 4 hours  Relative Volume 1 week  \\\n",
       "0  0.887771                 0.803960                 0.327605                 \n",
       "1  1.383014                 1.230792                 0.387252                 \n",
       "\n",
       "   Relative Volume 1 month  Highest high 1 month  \\\n",
       "0  0.460091                 140.64                 \n",
       "1  0.331902                 108.84                 \n",
       "\n",
       "  Highest high 1 month - Currency  Highest high 3 months  \\\n",
       "0  USD                             140.64                  \n",
       "1  USD                             108.84                  \n",
       "\n",
       "  Highest high 3 months - Currency  Highest high 6 months  \\\n",
       "0  USD                              140.64                  \n",
       "1  USD                              108.84                  \n",
       "\n",
       "  Highest high 6 months - Currency  Highest high 52 weeks  \\\n",
       "0  USD                              140.64                  \n",
       "1  USD                              108.84                  \n",
       "\n",
       "  Highest high 52 weeks - Currency  Highest high All Time  \\\n",
       "0  USD                              147.82                  \n",
       "1  USD                              171.08                  \n",
       "\n",
       "  Highest high All Time - Currency  High 5 minutes High 5 minutes - Currency  \\\n",
       "0  USD                              140.375         USD                        \n",
       "1  USD                              108.820         USD                        \n",
       "\n",
       "   High 15 minutes High 15 minutes - Currency  High 30 minutes  \\\n",
       "0  140.375          USD                        140.375           \n",
       "1  108.840          USD                        108.840           \n",
       "\n",
       "  High 30 minutes - Currency  High 1 hour High 1 hour - Currency  \\\n",
       "0  USD                        140.375      USD                     \n",
       "1  USD                        108.840      USD                     \n",
       "\n",
       "   High 2 hours High 2 hours - Currency  High 4 hours High 4 hours - Currency  \\\n",
       "0  140.375       USD                     140.64        USD                      \n",
       "1  108.840       USD                     108.84        USD                      \n",
       "\n",
       "   High 1 day High 1 day - Currency  High 1 week High 1 week - Currency  \\\n",
       "0  140.64      USD                   140.64       USD                     \n",
       "1  108.84      USD                   108.84       USD                     \n",
       "\n",
       "   High 1 month High 1 month - Currency  Revenue per employee, Annual  \\\n",
       "0  140.64        USD                     2.019057e+07                   \n",
       "1  108.84        USD                     3.811364e+06                   \n",
       "\n",
       "  Revenue per employee, Annual - Currency  Simple Moving Average (5) 1 minute  \\\n",
       "0  USD                                     140.104                              \n",
       "1  USD                                     108.750                              \n",
       "\n",
       "   Simple Moving Average (8) 1 minute  Simple Moving Average (5) 5 minutes  \\\n",
       "0  140.12250                           140.076                               \n",
       "1  108.73875                           108.641                               \n",
       "\n",
       "   Simple Moving Average (13) 5 minutes  Bollinger Bands (20) 1 minute, Upper  \\\n",
       "0  140.016538                            140.293532                             \n",
       "1  108.370854                            108.896755                             \n",
       "\n",
       "   Bollinger Bands (20) 1 minute, Basis  Bollinger Bands (20) 1 minute, Lower  \\\n",
       "0  140.11215                             139.930768                             \n",
       "1  108.68415                             108.471545                             \n",
       "\n",
       "   Bollinger Bands (20) 5 minutes, Upper  \\\n",
       "0  140.337844                              \n",
       "1  108.853171                              \n",
       "\n",
       "   Bollinger Bands (20) 5 minutes, Basis  \\\n",
       "0  139.879500                              \n",
       "1  108.194805                              \n",
       "\n",
       "   Bollinger Bands (20) 5 minutes, Lower  \\\n",
       "0  139.421156                              \n",
       "1  107.536439                              \n",
       "\n",
       "  International Securities Identification Number  Relative Volume 1 day.1  \\\n",
       "0  US7802871084                                   0.973807                  \n",
       "1  US3137451015                                   1.127490                  \n",
       "\n",
       "  Recent earnings date Upcoming earnings date Analyst Rating  \\\n",
       "0  2024-05-08           2024-08-07             Buy             \n",
       "1  2024-05-02           2024-08-01             Buy             \n",
       "\n",
       "   Target price 1 year Target price 1 year - Currency  \\\n",
       "0  156.333333           USD                             \n",
       "1  113.031250           USD                             \n",
       "\n",
       "  Technical Rating 5 minutes marketCapType  \n",
       "0  Neutral                    Midlers       \n",
       "1      Buy                    Midlers       "
      ]
     },
     "execution_count": 168,
     "metadata": {},
     "output_type": "execute_result"
    }
   ],
   "source": [
    "#### EXECUTE AND CREATE FULL (baseline) GAP-UP DATAFRAME ####\n",
    "L1_df = pd.DataFrame()\n",
    "categories = category_setup_df['marketCapType'].unique()\n",
    "\n",
    "for category in categories:\n",
    "    category_df = category_setup_df[category_setup_df['marketCapType'] == category]\n",
    "    gap_up_stage_df = screen_stocks_by_category(category_df, category)\n",
    "    L1_df = pd.concat([L1_df, gap_up_stage_df])\n",
    "\n",
    "# filter in descending order by market cap and then by pre-market change percentage\n",
    "L1_df = L1_df.sort_values(by=['Market capitalization', 'Pre-market Change %'], ascending=[False, False])\n",
    "L1_df.reset_index(drop=True, inplace=True)\n",
    "# filter in descending order by market cap and then by pre-market change percentage\n",
    "L1_df = L1_df.sort_values(by=['Market capitalization', 'Pre-market Change %'], ascending=[False, False])\n",
    "# reset index and drop\n",
    "L1_df.reset_index(drop=True, inplace=True)\n",
    "\n",
    "# print(gap_up_df.columns)\n",
    "print(L1_df.shape)\n",
    "L1_df.head(2)"
   ]
  },
  {
   "cell_type": "code",
   "execution_count": 169,
   "metadata": {},
   "outputs": [
    {
     "name": "stdout",
     "output_type": "stream",
     "text": [
      "(39, 91)\n"
     ]
    }
   ],
   "source": [
    "# create a copy over gap_up_df\n",
    "gap_up_df = L1_df.copy()\n",
    "print(gap_up_df.shape)"
   ]
  },
  {
   "cell_type": "code",
   "execution_count": 170,
   "metadata": {},
   "outputs": [
    {
     "name": "stdout",
     "output_type": "stream",
     "text": [
      "39 Stocks\n"
     ]
    }
   ],
   "source": [
    "#### Gap-Up (potential, shortlisted) TARGETs ####\n",
    "# might want to add pre-market change $, pre-market change %\n",
    "print(f'{len(L1_df.index)} Stocks')\n",
    "# L1_df.iloc[:, [0, 1, 8]].head(20)\n",
    "\n"
   ]
  },
  {
   "cell_type": "code",
   "execution_count": 171,
   "metadata": {},
   "outputs": [
    {
     "name": "stdout",
     "output_type": "stream",
     "text": [
      "Index(['Symbol', 'Description', 'Industry', 'Sector', 'Exchange', 'Index',\n",
      "       'Market capitalization', 'Market capitalization - Currency', 'Price',\n",
      "       'Price - Currency', 'Pre-market Open', 'Pre-market Open - Currency',\n",
      "       'Pre-market Change', 'Pre-market Change - Currency',\n",
      "       'Pre-market Change %', 'Pre-market Gap %', 'Float shares outstanding',\n",
      "       'Volume 1 day', 'Volume 1 week', 'Pre-market Volume',\n",
      "       'Average Volume 10 days', 'Average Volume 30 days',\n",
      "       'Average Volume 90 days', 'Volatility 1 day', 'Volatility 1 week',\n",
      "       'Volatility 1 month', 'Volume Weighted Average Price 1 day',\n",
      "       'Price to earnings ratio', 'Relative Volume at Time',\n",
      "       'Relative Volume 1 day', 'Beta 1 year', 'Beta 3 years', 'Beta 5 years',\n",
      "       'Relative Volume 1 minute', 'Relative Volume 5 minutes',\n",
      "       'Relative Volume 15 minutes', 'Relative Volume 30 minutes',\n",
      "       'Relative Volume 1 hour', 'Relative Volume 2 hours',\n",
      "       'Relative Volume 4 hours', 'Relative Volume 1 week',\n",
      "       'Relative Volume 1 month', 'Highest high 1 month',\n",
      "       'Highest high 1 month - Currency', 'Highest high 3 months',\n",
      "       'Highest high 3 months - Currency', 'Highest high 6 months',\n",
      "       'Highest high 6 months - Currency', 'Highest high 52 weeks',\n",
      "       'Highest high 52 weeks - Currency', 'Highest high All Time',\n",
      "       'Highest high All Time - Currency', 'High 5 minutes',\n",
      "       'High 5 minutes - Currency', 'High 15 minutes',\n",
      "       'High 15 minutes - Currency', 'High 30 minutes',\n",
      "       'High 30 minutes - Currency', 'High 1 hour', 'High 1 hour - Currency',\n",
      "       'High 2 hours', 'High 2 hours - Currency', 'High 4 hours',\n",
      "       'High 4 hours - Currency', 'High 1 day', 'High 1 day - Currency',\n",
      "       'High 1 week', 'High 1 week - Currency', 'High 1 month',\n",
      "       'High 1 month - Currency', 'Revenue per employee, Annual',\n",
      "       'Revenue per employee, Annual - Currency',\n",
      "       'Simple Moving Average (5) 1 minute',\n",
      "       'Simple Moving Average (8) 1 minute',\n",
      "       'Simple Moving Average (5) 5 minutes',\n",
      "       'Simple Moving Average (13) 5 minutes',\n",
      "       'Bollinger Bands (20) 1 minute, Upper',\n",
      "       'Bollinger Bands (20) 1 minute, Basis',\n",
      "       'Bollinger Bands (20) 1 minute, Lower',\n",
      "       'Bollinger Bands (20) 5 minutes, Upper',\n",
      "       'Bollinger Bands (20) 5 minutes, Basis',\n",
      "       'Bollinger Bands (20) 5 minutes, Lower',\n",
      "       'International Securities Identification Number',\n",
      "       'Relative Volume 1 day.1', 'Recent earnings date',\n",
      "       'Upcoming earnings date', 'Analyst Rating', 'Target price 1 year',\n",
      "       'Target price 1 year - Currency', 'Technical Rating 5 minutes',\n",
      "       'marketCapType'],\n",
      "      dtype='object')\n"
     ]
    }
   ],
   "source": [
    "print(L1_df.columns)"
   ]
  },
  {
   "cell_type": "code",
   "execution_count": 172,
   "metadata": {},
   "outputs": [
    {
     "name": "stdout",
     "output_type": "stream",
     "text": [
      "Index(['Symbol', 'Description', 'Pre-market Change %', 'Pre-market Gap %',\n",
      "       'marketCapType', 'Price', 'Pre-market Open', 'Industry', 'Index',\n",
      "       'Sector', 'Exchange', 'Recent earnings date', 'Upcoming earnings date',\n",
      "       'Float shares outstanding', 'Average Volume 10 days',\n",
      "       'Average Volume 30 days', 'Average Volume 90 days',\n",
      "       'Relative Volume 1 day', 'Relative Volume 5 minutes',\n",
      "       'Relative Volume 30 minutes', 'Relative Volume at Time'],\n",
      "      dtype='object')\n"
     ]
    },
    {
     "data": {
      "text/html": [
       "<div>\n",
       "<style scoped>\n",
       "    .dataframe tbody tr th:only-of-type {\n",
       "        vertical-align: middle;\n",
       "    }\n",
       "\n",
       "    .dataframe tbody tr th {\n",
       "        vertical-align: top;\n",
       "    }\n",
       "\n",
       "    .dataframe thead th {\n",
       "        text-align: right;\n",
       "    }\n",
       "</style>\n",
       "<table border=\"1\" class=\"dataframe\">\n",
       "  <thead>\n",
       "    <tr style=\"text-align: left;\">\n",
       "      <th></th>\n",
       "      <th>Symbol</th>\n",
       "      <th>Description</th>\n",
       "      <th>Pre-market Change %</th>\n",
       "      <th>Pre-market Gap %</th>\n",
       "      <th>marketCapType</th>\n",
       "      <th>Price</th>\n",
       "      <th>Pre-market Open</th>\n",
       "      <th>Industry</th>\n",
       "      <th>Index</th>\n",
       "      <th>Sector</th>\n",
       "      <th>Exchange</th>\n",
       "      <th>Recent earnings date</th>\n",
       "      <th>Upcoming earnings date</th>\n",
       "      <th>Float shares outstanding</th>\n",
       "      <th>Average Volume 10 days</th>\n",
       "      <th>Average Volume 30 days</th>\n",
       "      <th>Average Volume 90 days</th>\n",
       "      <th>Relative Volume 1 day</th>\n",
       "      <th>Relative Volume 5 minutes</th>\n",
       "      <th>Relative Volume 30 minutes</th>\n",
       "      <th>Relative Volume at Time</th>\n",
       "    </tr>\n",
       "  </thead>\n",
       "  <tbody>\n",
       "    <tr>\n",
       "      <th>0</th>\n",
       "      <td>RGLD</td>\n",
       "      <td>Royal Gold, Inc.</td>\n",
       "      <td>0.528345</td>\n",
       "      <td>0.528345</td>\n",
       "      <td>Midlers</td>\n",
       "      <td>140.06</td>\n",
       "      <td>140.8</td>\n",
       "      <td>Precious metals</td>\n",
       "      <td>NASDAQ Composite, PHLX Gold/Silver Sector, S&amp;P MidCap 400, Russell 3000, Russell 1000, NASDAQ Industrials</td>\n",
       "      <td>Non-energy minerals</td>\n",
       "      <td>NASDAQ</td>\n",
       "      <td>2024-05-08</td>\n",
       "      <td>2024-08-07</td>\n",
       "      <td>6.550086e+07</td>\n",
       "      <td>355127.2</td>\n",
       "      <td>358167.6</td>\n",
       "      <td>417193.111111</td>\n",
       "      <td>0.973807</td>\n",
       "      <td>3.92617</td>\n",
       "      <td>3.065142</td>\n",
       "      <td>1.200033</td>\n",
       "    </tr>\n",
       "    <tr>\n",
       "      <th>1</th>\n",
       "      <td>FRT</td>\n",
       "      <td>Federal Realty Investment Trust</td>\n",
       "      <td>0.275989</td>\n",
       "      <td>0.275989</td>\n",
       "      <td>Midlers</td>\n",
       "      <td>108.70</td>\n",
       "      <td>109.0</td>\n",
       "      <td>Real estate investment trusts</td>\n",
       "      <td>S&amp;P 500, S&amp;P 500 Real Estate, Russell 3000, Russell 1000, S&amp;P 500 ESG</td>\n",
       "      <td>Finance</td>\n",
       "      <td>NYSE</td>\n",
       "      <td>2024-05-02</td>\n",
       "      <td>2024-08-01</td>\n",
       "      <td>8.224153e+07</td>\n",
       "      <td>384951.7</td>\n",
       "      <td>455698.8</td>\n",
       "      <td>532302.422222</td>\n",
       "      <td>1.127490</td>\n",
       "      <td>5.29943</td>\n",
       "      <td>5.616436</td>\n",
       "      <td>1.333267</td>\n",
       "    </tr>\n",
       "  </tbody>\n",
       "</table>\n",
       "</div>"
      ],
      "text/plain": [
       "  Symbol Description                       Pre-market Change %  \\\n",
       "0  RGLD                  Royal Gold, Inc.  0.528345              \n",
       "1   FRT   Federal Realty Investment Trust  0.275989              \n",
       "\n",
       "   Pre-market Gap % marketCapType  Price   Pre-market Open  \\\n",
       "0  0.528345          Midlers       140.06  140.8             \n",
       "1  0.275989          Midlers       108.70  109.0             \n",
       "\n",
       "  Industry                        \\\n",
       "0                Precious metals   \n",
       "1  Real estate investment trusts   \n",
       "\n",
       "  Index                                                                                                       \\\n",
       "0  NASDAQ Composite, PHLX Gold/Silver Sector, S&P MidCap 400, Russell 3000, Russell 1000, NASDAQ Industrials   \n",
       "1                                      S&P 500, S&P 500 Real Estate, Russell 3000, Russell 1000, S&P 500 ESG   \n",
       "\n",
       "  Sector               Exchange Recent earnings date Upcoming earnings date  \\\n",
       "0  Non-energy minerals  NASDAQ   2024-05-08           2024-08-07              \n",
       "1              Finance    NYSE   2024-05-02           2024-08-01              \n",
       "\n",
       "   Float shares outstanding  Average Volume 10 days  Average Volume 30 days  \\\n",
       "0  6.550086e+07              355127.2                358167.6                 \n",
       "1  8.224153e+07              384951.7                455698.8                 \n",
       "\n",
       "   Average Volume 90 days  Relative Volume 1 day  Relative Volume 5 minutes  \\\n",
       "0  417193.111111           0.973807               3.92617                     \n",
       "1  532302.422222           1.127490               5.29943                     \n",
       "\n",
       "   Relative Volume 30 minutes  Relative Volume at Time  \n",
       "0  3.065142                    1.200033                 \n",
       "1  5.616436                    1.333267                 "
      ]
     },
     "execution_count": 172,
     "metadata": {},
     "output_type": "execute_result"
    }
   ],
   "source": [
    "# modify columns order and length\n",
    "# columns list\n",
    "reordered_cols_list = ['Symbol', 'Description', 'Pre-market Change %', 'Pre-market Gap %', 'marketCapType',\n",
    "                     'Price', 'Pre-market Open', 'Industry', 'Index', 'Sector', 'Exchange', \n",
    "                     'Recent earnings date', 'Upcoming earnings date', 'Float shares outstanding', \n",
    "                     'Average Volume 10 days', 'Average Volume 30 days', 'Average Volume 90 days', \n",
    "                     'Relative Volume 1 day', 'Relative Volume 5 minutes', \n",
    "                     'Relative Volume 30 minutes', 'Relative Volume at Time']\n",
    "\n",
    "# Filter columns to only include those present in the DataFrame\n",
    "existing_cols = [col for col in reordered_cols_list if col in gap_up_df.columns]\n",
    "\n",
    "# Reorder and select the existing columns from the gap_up_df\n",
    "gap_up_df = L1_df[existing_cols]\n",
    "\n",
    "print(gap_up_df.columns)\n",
    "gap_up_df.head(2)\n"
   ]
  },
  {
   "cell_type": "code",
   "execution_count": 173,
   "metadata": {},
   "outputs": [],
   "source": [
    "# check for missing columns\n",
    "missing_cols = [col for col in reordered_cols_list if col not in gap_up_df.columns]\n",
    "if missing_cols:\n",
    "    print(f\"Warning: The following columns were not found: {missing_cols}\")\n"
   ]
  },
  {
   "cell_type": "code",
   "execution_count": 174,
   "metadata": {},
   "outputs": [],
   "source": [
    "# # print random 10 rows\n",
    "# print(gap_up_df.sample(10))"
   ]
  },
  {
   "cell_type": "code",
   "execution_count": 175,
   "metadata": {},
   "outputs": [
    {
     "name": "stdout",
     "output_type": "stream",
     "text": [
      "39\n"
     ]
    }
   ],
   "source": [
    "# save gap_up_df to .xlsx as 'L1_df{time_stamp_now}.xlsx'\n",
    "gap_up_df.to_excel(f\"gap up dataframe{today_date_str}.xlsx\", index=False)\n",
    "\n",
    "print(len(gap_up_df.index))"
   ]
  },
  {
   "cell_type": "markdown",
   "metadata": {},
   "source": [
    "| SCREEN LEVEL #2/ |\n",
    "|-|\n",
    "| Compute technical indicators |"
   ]
  },
  {
   "cell_type": "code",
   "execution_count": 176,
   "metadata": {},
   "outputs": [],
   "source": [
    "def compute_technical_indicators(df):\n",
    "    tech_data = []\n",
    "\n",
    "    for symbol in df['Symbol'].unique():\n",
    "        data = yf.download(symbol, period=\"6mo\", interval=\"1d\")\n",
    "\n",
    "        if not data.empty:\n",
    "            rsi = RSIIndicator(data['Close'], window=14).rsi().iloc[-1]\n",
    "            ma20 = SMAIndicator(data['Close'], window=20).sma_indicator().iloc[-1]\n",
    "            ma50 = SMAIndicator(data['Close'], window=50).sma_indicator().iloc[-1]\n",
    "            macd = MACD(data['Close']).macd_diff().iloc[-1]\n",
    "\n",
    "            tech_data.append({\n",
    "                'Symbol': symbol,\n",
    "                'RSI': rsi,\n",
    "                'MA20': ma20,\n",
    "                'MA50': ma50,\n",
    "                'MACD': macd,\n",
    "                ## YAHOOFINANCE ##\n",
    "                'Yahoo Price': data['Close'].iloc[-1],  \n",
    "            })\n",
    "\n",
    "    tech_df = pd.DataFrame(tech_data)\n",
    "    return tech_df"
   ]
  },
  {
   "cell_type": "code",
   "execution_count": 177,
   "metadata": {},
   "outputs": [
    {
     "name": "stderr",
     "output_type": "stream",
     "text": [
      "[*********************100%%**********************]  1 of 1 completed\n",
      "[*********************100%%**********************]  1 of 1 completed\n",
      "[*********************100%%**********************]  1 of 1 completed\n",
      "[*********************100%%**********************]  1 of 1 completed\n",
      "[*********************100%%**********************]  1 of 1 completed\n",
      "[*********************100%%**********************]  1 of 1 completed\n",
      "[*********************100%%**********************]  1 of 1 completed\n",
      "[*********************100%%**********************]  1 of 1 completed\n",
      "[*********************100%%**********************]  1 of 1 completed\n",
      "[*********************100%%**********************]  1 of 1 completed\n",
      "[*********************100%%**********************]  1 of 1 completed\n",
      "[*********************100%%**********************]  1 of 1 completed\n",
      "[*********************100%%**********************]  1 of 1 completed\n",
      "[*********************100%%**********************]  1 of 1 completed\n",
      "[*********************100%%**********************]  1 of 1 completed\n",
      "[*********************100%%**********************]  1 of 1 completed\n",
      "[*********************100%%**********************]  1 of 1 completed\n",
      "[*********************100%%**********************]  1 of 1 completed\n",
      "[*********************100%%**********************]  1 of 1 completed\n",
      "[*********************100%%**********************]  1 of 1 completed\n",
      "[*********************100%%**********************]  1 of 1 completed\n",
      "[*********************100%%**********************]  1 of 1 completed\n",
      "[*********************100%%**********************]  1 of 1 completed\n",
      "[*********************100%%**********************]  1 of 1 completed\n",
      "[*********************100%%**********************]  1 of 1 completed\n",
      "[*********************100%%**********************]  1 of 1 completed\n",
      "[*********************100%%**********************]  1 of 1 completed\n",
      "[*********************100%%**********************]  1 of 1 completed\n",
      "[*********************100%%**********************]  1 of 1 completed\n",
      "[*********************100%%**********************]  1 of 1 completed\n",
      "[*********************100%%**********************]  1 of 1 completed\n",
      "[*********************100%%**********************]  1 of 1 completed\n",
      "[*********************100%%**********************]  1 of 1 completed\n",
      "[*********************100%%**********************]  1 of 1 completed\n",
      "[*********************100%%**********************]  1 of 1 completed\n",
      "[*********************100%%**********************]  1 of 1 completed\n",
      "[*********************100%%**********************]  1 of 1 completed\n",
      "[*********************100%%**********************]  1 of 1 completed\n",
      "[*********************100%%**********************]  1 of 1 completed\n"
     ]
    }
   ],
   "source": [
    "# EXECUTE -> compute technical indicators\n",
    "L2_df = compute_technical_indicators(gap_up_df)"
   ]
  },
  {
   "cell_type": "code",
   "execution_count": 178,
   "metadata": {},
   "outputs": [
    {
     "name": "stdout",
     "output_type": "stream",
     "text": [
      "(39, 6)\n"
     ]
    },
    {
     "data": {
      "text/html": [
       "<div>\n",
       "<style scoped>\n",
       "    .dataframe tbody tr th:only-of-type {\n",
       "        vertical-align: middle;\n",
       "    }\n",
       "\n",
       "    .dataframe tbody tr th {\n",
       "        vertical-align: top;\n",
       "    }\n",
       "\n",
       "    .dataframe thead th {\n",
       "        text-align: right;\n",
       "    }\n",
       "</style>\n",
       "<table border=\"1\" class=\"dataframe\">\n",
       "  <thead>\n",
       "    <tr style=\"text-align: left;\">\n",
       "      <th></th>\n",
       "      <th>Symbol</th>\n",
       "      <th>RSI</th>\n",
       "      <th>MA20</th>\n",
       "      <th>MA50</th>\n",
       "      <th>MACD</th>\n",
       "      <th>Yahoo Price</th>\n",
       "    </tr>\n",
       "  </thead>\n",
       "  <tbody>\n",
       "    <tr>\n",
       "      <th>0</th>\n",
       "      <td>RGLD</td>\n",
       "      <td>79.431080</td>\n",
       "      <td>128.6405</td>\n",
       "      <td>127.7484</td>\n",
       "      <td>1.365126</td>\n",
       "      <td>140.059998</td>\n",
       "    </tr>\n",
       "    <tr>\n",
       "      <th>1</th>\n",
       "      <td>FRT</td>\n",
       "      <td>76.987577</td>\n",
       "      <td>101.8340</td>\n",
       "      <td>101.3928</td>\n",
       "      <td>0.859139</td>\n",
       "      <td>108.699997</td>\n",
       "    </tr>\n",
       "  </tbody>\n",
       "</table>\n",
       "</div>"
      ],
      "text/plain": [
       "  Symbol  RSI        MA20      MA50      MACD      Yahoo Price\n",
       "0  RGLD   79.431080  128.6405  127.7484  1.365126  140.059998 \n",
       "1   FRT   76.987577  101.8340  101.3928  0.859139  108.699997 "
      ]
     },
     "execution_count": 178,
     "metadata": {},
     "output_type": "execute_result"
    }
   ],
   "source": [
    "# view df\n",
    "print(L2_df.shape)\n",
    "L2_df.head(2)"
   ]
  },
  {
   "cell_type": "code",
   "execution_count": 179,
   "metadata": {},
   "outputs": [],
   "source": [
    "# # MERGE\n",
    "# print(gap_up_df.shape)\n",
    "# gap_up_df = gap_up_df.merge(L2_df, on='Symbol')\n",
    "# print(gap_up_df.shape)"
   ]
  },
  {
   "cell_type": "code",
   "execution_count": 180,
   "metadata": {},
   "outputs": [],
   "source": [
    "def screen_stocks_by_technical_indicators(df):\n",
    "    # filter based on RSI, MA, and MACD\n",
    "    df = df[(df['RSI'] >= 0) & (df['RSI'] < 70)]  # RSI filter condition\n",
    "    df = df[df['Yahoo Price'] > df['MA20']]\n",
    "    df = df[df['Yahoo Price'] > df['MA50']]\n",
    "    df = df[df['MACD'] > 0]\n",
    "    \"\"\" \n",
    "    # should i add more to this?\n",
    "    # level 3 will start to get more advanced filering\n",
    "    # dont want to overfilter to soon also and miss something\n",
    "    # patience\n",
    "    \"\"\"\n",
    "    return df"
   ]
  },
  {
   "cell_type": "code",
   "execution_count": 181,
   "metadata": {},
   "outputs": [
    {
     "name": "stdout",
     "output_type": "stream",
     "text": [
      "(39, 6)\n",
      "(18, 6)\n"
     ]
    }
   ],
   "source": [
    "# EXECUTE level 2 screen\n",
    "print(L2_df.shape)\n",
    "L2_df = screen_stocks_by_technical_indicators(L2_df)\n",
    "print(L2_df.shape)"
   ]
  },
  {
   "cell_type": "code",
   "execution_count": 182,
   "metadata": {},
   "outputs": [
    {
     "name": "stdout",
     "output_type": "stream",
     "text": [
      "(39, 21)\n",
      "(18, 26)\n"
     ]
    }
   ],
   "source": [
    "#### ---- MERGE---- ####\n",
    "# merge L2_df with gap_up_df\n",
    "print(gap_up_df.shape)\n",
    "gap_up_df = gap_up_df.merge(L2_df, on='Symbol')\n",
    "print(gap_up_df.shape)"
   ]
  },
  {
   "cell_type": "code",
   "execution_count": 183,
   "metadata": {},
   "outputs": [
    {
     "name": "stdout",
     "output_type": "stream",
     "text": [
      "['GTLB', 'CHX', 'WH', 'G', 'VFC', 'CBT', 'ITRI', 'RIG', 'GTES', 'PTEN', 'SGRY', 'TFPM', 'CEIX', 'USAC', 'PGNY', 'AIR', 'CGON', 'BTSGU']\n",
      "GTLB: GitLab Inc.\n",
      "CHX: ChampionX Corporation\n",
      "WH: Wyndham Hotels & Resorts, Inc.\n",
      "G: Genpact Limited\n",
      "VFC: V.F. Corporation\n",
      "CBT: Cabot Corporation\n",
      "ITRI: Itron, Inc.\n",
      "RIG: Transocean Ltd (Switzerland)\n",
      "GTES: Gates Industrial Corporation plc\n",
      "PTEN: Patterson-UTI Energy, Inc.\n",
      "SGRY: Surgery Partners, Inc.\n",
      "TFPM: Triple Flag Precious Metals Corp.\n",
      "CEIX: CONSOL Energy Inc.\n",
      "USAC: USA Compression Partners, LP\n",
      "PGNY: Progyny, Inc.\n",
      "AIR: AAR Corp.\n",
      "CGON: CG Oncology, Inc.\n",
      "BTSGU: BrightSpring Health Services, Inc. - Tangible Equity\n",
      "18\n"
     ]
    }
   ],
   "source": [
    "## gap list ##\n",
    "gap_up_list = gap_up_df['Symbol'].tolist()\n",
    "print(gap_up_list)\n",
    "## gap up dictionary ##\n",
    "gap_up_dict = gap_up_df.set_index('Symbol')['Description'].to_dict()\n",
    "\n",
    "for symbol, description in gap_up_dict.items():\n",
    "    print(f\"{symbol}: {description}\")\n",
    "\n",
    "print(len(gap_up_list))"
   ]
  },
  {
   "cell_type": "code",
   "execution_count": 184,
   "metadata": {},
   "outputs": [
    {
     "name": "stdout",
     "output_type": "stream",
     "text": [
      "(18, 26)\n"
     ]
    }
   ],
   "source": [
    "print(gap_up_df.shape)"
   ]
  },
  {
   "cell_type": "code",
   "execution_count": 185,
   "metadata": {},
   "outputs": [],
   "source": [
    "# save to excel\n",
    "gap_up_df.to_excel(f\"gap_up_df4_{today_date_str}.xlsx\", index=False)"
   ]
  },
  {
   "cell_type": "markdown",
   "metadata": {},
   "source": [
    "| END of immediate working stuff |\n",
    "|-|\n",
    "| July 17 2024 |"
   ]
  },
  {
   "cell_type": "code",
   "execution_count": null,
   "metadata": {},
   "outputs": [],
   "source": []
  },
  {
   "cell_type": "code",
   "execution_count": null,
   "metadata": {},
   "outputs": [],
   "source": []
  },
  {
   "cell_type": "code",
   "execution_count": 186,
   "metadata": {},
   "outputs": [],
   "source": [
    "# add high low close\n",
    "#### ---- Quick Stary Backtesting ---- ####\n",
    "def basic_daily_technicals(df):\n",
    "    symbols = df['Symbol'].tolist()\n",
    "    stock_data = {}\n",
    "\n",
    "    for symbol in symbols:\n",
    "        stock_info = yf.Ticker(symbol)\n",
    "        today_data = stock_info.history(period='1d')\n",
    "        \n",
    "        if not today_data.empty:\n",
    "            stock_data[symbol] = {\n",
    "                'High': today_data['High'].values[0],\n",
    "                'Low': today_data['Low'].values[0],\n",
    "                'Open': today_data['Open'].values[0],\n",
    "                'Close': today_data['Close'].values[0],\n",
    "                'Volume': today_data['Volume'].values[0],\n",
    "                'Date': today_data.index[0]\n",
    "            }\n",
    "        else:\n",
    "            stock_data[symbol] = {\n",
    "                'High': None,\n",
    "                'Low': None,\n",
    "                'Open': None,\n",
    "                'Close': None,\n",
    "                'Volume': None,\n",
    "                'Date': None\n",
    "            }\n",
    "\n",
    "    # create a DataFrame from the stock data dictionary\n",
    "    stock_data_df = pd.DataFrame(stock_data).T.reset_index().rename(columns={'index': 'Symbol'})\n",
    "    \n",
    "    # merge the new stock data with the existing DataFrame\n",
    "    updated_df = pd.merge(df, stock_data_df, on='Symbol', how='left')\n",
    "    \n",
    "    return updated_df"
   ]
  },
  {
   "cell_type": "code",
   "execution_count": 187,
   "metadata": {},
   "outputs": [
    {
     "data": {
      "text/html": [
       "<div>\n",
       "<style scoped>\n",
       "    .dataframe tbody tr th:only-of-type {\n",
       "        vertical-align: middle;\n",
       "    }\n",
       "\n",
       "    .dataframe tbody tr th {\n",
       "        vertical-align: top;\n",
       "    }\n",
       "\n",
       "    .dataframe thead th {\n",
       "        text-align: right;\n",
       "    }\n",
       "</style>\n",
       "<table border=\"1\" class=\"dataframe\">\n",
       "  <thead>\n",
       "    <tr style=\"text-align: left;\">\n",
       "      <th></th>\n",
       "      <th>Symbol</th>\n",
       "      <th>Description</th>\n",
       "      <th>Pre-market Change %</th>\n",
       "      <th>Pre-market Gap %</th>\n",
       "      <th>marketCapType</th>\n",
       "      <th>Price</th>\n",
       "      <th>Pre-market Open</th>\n",
       "      <th>Industry</th>\n",
       "      <th>Index</th>\n",
       "      <th>Sector</th>\n",
       "      <th>Exchange</th>\n",
       "      <th>Recent earnings date</th>\n",
       "      <th>Upcoming earnings date</th>\n",
       "      <th>Float shares outstanding</th>\n",
       "      <th>Average Volume 10 days</th>\n",
       "      <th>Average Volume 30 days</th>\n",
       "      <th>Average Volume 90 days</th>\n",
       "      <th>Relative Volume 1 day</th>\n",
       "      <th>Relative Volume 5 minutes</th>\n",
       "      <th>Relative Volume 30 minutes</th>\n",
       "      <th>Relative Volume at Time</th>\n",
       "      <th>RSI</th>\n",
       "      <th>MA20</th>\n",
       "      <th>MA50</th>\n",
       "      <th>MACD</th>\n",
       "      <th>Yahoo Price</th>\n",
       "      <th>High</th>\n",
       "      <th>Low</th>\n",
       "      <th>Open</th>\n",
       "      <th>Close</th>\n",
       "      <th>Volume</th>\n",
       "      <th>Date</th>\n",
       "    </tr>\n",
       "  </thead>\n",
       "  <tbody>\n",
       "    <tr>\n",
       "      <th>0</th>\n",
       "      <td>GTLB</td>\n",
       "      <td>GitLab Inc.</td>\n",
       "      <td>12.514805</td>\n",
       "      <td>1.756810</td>\n",
       "      <td>Midlers</td>\n",
       "      <td>50.66</td>\n",
       "      <td>51.55</td>\n",
       "      <td>Packaged software</td>\n",
       "      <td>NASDAQ Composite, Russell 3000, Russell 1000, NASDAQ Computer</td>\n",
       "      <td>Technology services</td>\n",
       "      <td>NASDAQ</td>\n",
       "      <td>2024-06-03</td>\n",
       "      <td>2024-09-03</td>\n",
       "      <td>1.166448e+08</td>\n",
       "      <td>2207448.6</td>\n",
       "      <td>3.218110e+06</td>\n",
       "      <td>2.460818e+06</td>\n",
       "      <td>0.866318</td>\n",
       "      <td>8.396720</td>\n",
       "      <td>3.387849</td>\n",
       "      <td>0.768867</td>\n",
       "      <td>53.067257</td>\n",
       "      <td>48.6735</td>\n",
       "      <td>50.1948</td>\n",
       "      <td>0.218860</td>\n",
       "      <td>50.66</td>\n",
       "      <td>50.82</td>\n",
       "      <td>49.360001</td>\n",
       "      <td>49.5</td>\n",
       "      <td>50.66</td>\n",
       "      <td>2056200</td>\n",
       "      <td>2024-07-16 00:00:00-04:00</td>\n",
       "    </tr>\n",
       "    <tr>\n",
       "      <th>1</th>\n",
       "      <td>CHX</td>\n",
       "      <td>ChampionX Corporation</td>\n",
       "      <td>0.811124</td>\n",
       "      <td>0.811124</td>\n",
       "      <td>Midlers</td>\n",
       "      <td>34.52</td>\n",
       "      <td>34.80</td>\n",
       "      <td>Chemicals: specialty</td>\n",
       "      <td>NASDAQ Composite, Russell 2000, S&amp;P MidCap 400, Russell 3000, NASDAQ Industrials, Mini-Russell 2000</td>\n",
       "      <td>Process industries</td>\n",
       "      <td>NASDAQ</td>\n",
       "      <td>2024-04-24</td>\n",
       "      <td>2024-07-23</td>\n",
       "      <td>1.889231e+08</td>\n",
       "      <td>1680871.2</td>\n",
       "      <td>2.113527e+06</td>\n",
       "      <td>2.201962e+06</td>\n",
       "      <td>1.786580</td>\n",
       "      <td>5.622182</td>\n",
       "      <td>3.198674</td>\n",
       "      <td>1.887944</td>\n",
       "      <td>64.058210</td>\n",
       "      <td>32.6255</td>\n",
       "      <td>32.7154</td>\n",
       "      <td>0.207944</td>\n",
       "      <td>34.52</td>\n",
       "      <td>34.689999</td>\n",
       "      <td>33.52</td>\n",
       "      <td>33.959999</td>\n",
       "      <td>34.52</td>\n",
       "      <td>2727900</td>\n",
       "      <td>2024-07-16 00:00:00-04:00</td>\n",
       "    </tr>\n",
       "  </tbody>\n",
       "</table>\n",
       "</div>"
      ],
      "text/plain": [
       "  Symbol Description             Pre-market Change %  Pre-market Gap %  \\\n",
       "0  GTLB             GitLab Inc.  12.514805            1.756810           \n",
       "1   CHX   ChampionX Corporation   0.811124            0.811124           \n",
       "\n",
       "  marketCapType  Price  Pre-market Open Industry               \\\n",
       "0  Midlers       50.66  51.55               Packaged software   \n",
       "1  Midlers       34.52  34.80            Chemicals: specialty   \n",
       "\n",
       "  Index                                                                                                 \\\n",
       "0                                        NASDAQ Composite, Russell 3000, Russell 1000, NASDAQ Computer   \n",
       "1  NASDAQ Composite, Russell 2000, S&P MidCap 400, Russell 3000, NASDAQ Industrials, Mini-Russell 2000   \n",
       "\n",
       "  Sector               Exchange Recent earnings date Upcoming earnings date  \\\n",
       "0  Technology services  NASDAQ   2024-06-03           2024-09-03              \n",
       "1   Process industries  NASDAQ   2024-04-24           2024-07-23              \n",
       "\n",
       "   Float shares outstanding  Average Volume 10 days  Average Volume 30 days  \\\n",
       "0  1.166448e+08              2207448.6               3.218110e+06             \n",
       "1  1.889231e+08              1680871.2               2.113527e+06             \n",
       "\n",
       "   Average Volume 90 days  Relative Volume 1 day  Relative Volume 5 minutes  \\\n",
       "0  2.460818e+06            0.866318               8.396720                    \n",
       "1  2.201962e+06            1.786580               5.622182                    \n",
       "\n",
       "   Relative Volume 30 minutes  Relative Volume at Time  RSI        MA20     \\\n",
       "0  3.387849                    0.768867                 53.067257  48.6735   \n",
       "1  3.198674                    1.887944                 64.058210  32.6255   \n",
       "\n",
       "   MA50     MACD      Yahoo Price High       Low        Open       Close   \\\n",
       "0  50.1948  0.218860  50.66            50.82  49.360001       49.5  50.66   \n",
       "1  32.7154  0.207944  34.52        34.689999      33.52  33.959999  34.52   \n",
       "\n",
       "  Volume   Date                        \n",
       "0  2056200  2024-07-16 00:00:00-04:00  \n",
       "1  2727900  2024-07-16 00:00:00-04:00  "
      ]
     },
     "execution_count": 187,
     "metadata": {},
     "output_type": "execute_result"
    }
   ],
   "source": [
    "gap_up_df = basic_daily_technicals(gap_up_df)\n",
    "\n",
    "gap_up_df.head(2)"
   ]
  },
  {
   "cell_type": "code",
   "execution_count": 188,
   "metadata": {},
   "outputs": [],
   "source": [
    "from ta.momentum import RSIIndicator\n",
    "from ta.trend import MACD\n",
    "from ta.volatility import BollingerBands\n",
    "from ta.volatility import BollingerBands\n",
    "from ta.volume import OnBalanceVolumeIndicator"
   ]
  },
  {
   "cell_type": "code",
   "execution_count": 189,
   "metadata": {},
   "outputs": [],
   "source": [
    "# Adding technical indicators to the dataframe\n",
    "def add_bollinger_bands(df):\n",
    "    bb = BollingerBands(df['Close'])\n",
    "    df['BB_High'] = bb.bollinger_hband()\n",
    "    df['BB_Low'] = bb.bollinger_lband()\n",
    "    return df\n",
    "\n",
    "def filter_by_bollinger_bands(df):\n",
    "    return df[(df['Close'] > df['BB_Low']) & (df['Close'] < df['BB_High'])]\n",
    "\n",
    "def add_volume_indicators(df):\n",
    "    obv = OnBalanceVolumeIndicator(df['Close'], df['Volume'])\n",
    "    df['OBV'] = obv.on_balance_volume()\n",
    "    return df\n",
    "\n",
    "def filter_by_volume_spike(df, volume_threshold=1.5):\n",
    "    df['Volume_Spike'] = df['Volume'] / df['Volume'].rolling(window=20).mean()\n",
    "    return df[df['Volume_Spike'] > volume_threshold]\n",
    "\n",
    "# # Placeholder function for sentiment analysis\n",
    "# def filter_by_sentiment(df, sentiment_threshold=0.5):\n",
    "#     # Assume you have a function that fetches sentiment scores\n",
    "#     df['Sentiment'] = fetch_sentiment_scores(df['Symbol'])\n",
    "#     return df[df['Sentiment'] > sentiment_threshold]\n",
    "\n",
    "# Apply filters based on the user's choice\n",
    "def apply_additional_filters(df, apply_bb=False, apply_volume_spike=False, apply_sentiment=False, volume_threshold=1.5, sentiment_threshold=0.5):\n",
    "    if apply_bb:\n",
    "        df = add_bollinger_bands(df)\n",
    "        df = filter_by_bollinger_bands(df)\n",
    "    if apply_volume_spike:\n",
    "        df = add_volume_indicators(df)\n",
    "        df = filter_by_volume_spike(df, volume_threshold)\n",
    "    # if apply_sentiment:\n",
    "    #     df = filter_by_sentiment(df, sentiment_threshold)\n",
    "    return df\n"
   ]
  },
  {
   "cell_type": "code",
   "execution_count": 190,
   "metadata": {},
   "outputs": [],
   "source": [
    "L3_df = apply_additional_filters(gap_up_df, apply_bb=True, apply_volume_spike=True, apply_sentiment=False, volume_threshold=1.5, sentiment_threshold=0.5)\n"
   ]
  },
  {
   "cell_type": "code",
   "execution_count": 191,
   "metadata": {},
   "outputs": [
    {
     "data": {
      "text/html": [
       "<div>\n",
       "<style scoped>\n",
       "    .dataframe tbody tr th:only-of-type {\n",
       "        vertical-align: middle;\n",
       "    }\n",
       "\n",
       "    .dataframe tbody tr th {\n",
       "        vertical-align: top;\n",
       "    }\n",
       "\n",
       "    .dataframe thead th {\n",
       "        text-align: right;\n",
       "    }\n",
       "</style>\n",
       "<table border=\"1\" class=\"dataframe\">\n",
       "  <thead>\n",
       "    <tr style=\"text-align: left;\">\n",
       "      <th></th>\n",
       "      <th>Symbol</th>\n",
       "      <th>Description</th>\n",
       "      <th>Pre-market Change %</th>\n",
       "      <th>Pre-market Gap %</th>\n",
       "      <th>marketCapType</th>\n",
       "      <th>Price</th>\n",
       "      <th>Pre-market Open</th>\n",
       "      <th>Industry</th>\n",
       "      <th>Index</th>\n",
       "      <th>Sector</th>\n",
       "      <th>Exchange</th>\n",
       "      <th>Recent earnings date</th>\n",
       "      <th>Upcoming earnings date</th>\n",
       "      <th>Float shares outstanding</th>\n",
       "      <th>Average Volume 10 days</th>\n",
       "      <th>Average Volume 30 days</th>\n",
       "      <th>Average Volume 90 days</th>\n",
       "      <th>Relative Volume 1 day</th>\n",
       "      <th>Relative Volume 5 minutes</th>\n",
       "      <th>Relative Volume 30 minutes</th>\n",
       "      <th>Relative Volume at Time</th>\n",
       "      <th>RSI</th>\n",
       "      <th>MA20</th>\n",
       "      <th>MA50</th>\n",
       "      <th>MACD</th>\n",
       "      <th>Yahoo Price</th>\n",
       "      <th>High</th>\n",
       "      <th>Low</th>\n",
       "      <th>Open</th>\n",
       "      <th>Close</th>\n",
       "      <th>Volume</th>\n",
       "      <th>Date</th>\n",
       "      <th>BB_High</th>\n",
       "      <th>BB_Low</th>\n",
       "      <th>OBV</th>\n",
       "      <th>Volume_Spike</th>\n",
       "    </tr>\n",
       "  </thead>\n",
       "  <tbody>\n",
       "  </tbody>\n",
       "</table>\n",
       "</div>"
      ],
      "text/plain": [
       "Empty DataFrame\n",
       "Columns: [Symbol, Description, Pre-market Change %, Pre-market Gap %, marketCapType, Price, Pre-market Open, Industry, Index, Sector, Exchange, Recent earnings date, Upcoming earnings date, Float shares outstanding, Average Volume 10 days, Average Volume 30 days, Average Volume 90 days, Relative Volume 1 day, Relative Volume 5 minutes, Relative Volume 30 minutes, Relative Volume at Time, RSI, MA20, MA50, MACD, Yahoo Price, High, Low, Open, Close, Volume, Date, BB_High, BB_Low, OBV, Volume_Spike]\n",
       "Index: []"
      ]
     },
     "execution_count": 191,
     "metadata": {},
     "output_type": "execute_result"
    }
   ],
   "source": [
    "L3_df.head(2)"
   ]
  },
  {
   "cell_type": "code",
   "execution_count": 192,
   "metadata": {},
   "outputs": [
    {
     "name": "stdout",
     "output_type": "stream",
     "text": [
      "18\n",
      "Index(['Symbol', 'Description', 'Pre-market Change %', 'Pre-market Gap %',\n",
      "       'marketCapType', 'Price', 'Pre-market Open', 'Industry', 'Index',\n",
      "       'Sector', 'Exchange', 'Recent earnings date', 'Upcoming earnings date',\n",
      "       'Float shares outstanding', 'Average Volume 10 days',\n",
      "       'Average Volume 30 days', 'Average Volume 90 days',\n",
      "       'Relative Volume 1 day', 'Relative Volume 5 minutes',\n",
      "       'Relative Volume 30 minutes', 'Relative Volume at Time', 'RSI', 'MA20',\n",
      "       'MA50', 'MACD', 'Yahoo Price', 'High', 'Low', 'Open', 'Close', 'Volume',\n",
      "       'Date', 'BB_High', 'BB_Low'],\n",
      "      dtype='object')\n"
     ]
    }
   ],
   "source": [
    "print(len(gap_up_df.index))\n",
    "print(gap_up_df.columns)"
   ]
  },
  {
   "cell_type": "code",
   "execution_count": 193,
   "metadata": {},
   "outputs": [],
   "source": [
    "#### ---- NEWS ---- ####\n",
    "# news by indexes, inddustry verticals, overall market. are we bullish or bearish? date/time\n",
    "# prepare news data aggregation and augmentation, translations to eng?"
   ]
  },
  {
   "cell_type": "code",
   "execution_count": 194,
   "metadata": {},
   "outputs": [],
   "source": [
    "#### DEVELOPMENT END WORK HER 0238 7/16/24 ####"
   ]
  },
  {
   "cell_type": "code",
   "execution_count": null,
   "metadata": {},
   "outputs": [],
   "source": []
  },
  {
   "cell_type": "code",
   "execution_count": null,
   "metadata": {},
   "outputs": [],
   "source": []
  },
  {
   "cell_type": "code",
   "execution_count": null,
   "metadata": {},
   "outputs": [],
   "source": []
  },
  {
   "cell_type": "code",
   "execution_count": null,
   "metadata": {},
   "outputs": [],
   "source": []
  },
  {
   "cell_type": "code",
   "execution_count": null,
   "metadata": {},
   "outputs": [],
   "source": []
  },
  {
   "cell_type": "code",
   "execution_count": null,
   "metadata": {},
   "outputs": [],
   "source": []
  },
  {
   "cell_type": "code",
   "execution_count": null,
   "metadata": {},
   "outputs": [],
   "source": []
  },
  {
   "cell_type": "code",
   "execution_count": null,
   "metadata": {},
   "outputs": [],
   "source": []
  },
  {
   "cell_type": "code",
   "execution_count": null,
   "metadata": {},
   "outputs": [],
   "source": []
  },
  {
   "cell_type": "code",
   "execution_count": null,
   "metadata": {},
   "outputs": [],
   "source": []
  },
  {
   "cell_type": "code",
   "execution_count": null,
   "metadata": {},
   "outputs": [],
   "source": []
  },
  {
   "cell_type": "code",
   "execution_count": null,
   "metadata": {},
   "outputs": [],
   "source": []
  },
  {
   "cell_type": "markdown",
   "metadata": {},
   "source": [
    "| END day ops |\n",
    "|-|\n",
    "| Work in progress below |"
   ]
  },
  {
   "cell_type": "markdown",
   "metadata": {},
   "source": [
    "| SUDZ - Backtest, In-Flight Operation |\n",
    "|-|\n",
    "| START: TOOL |"
   ]
  },
  {
   "cell_type": "code",
   "execution_count": 195,
   "metadata": {},
   "outputs": [
    {
     "name": "stdout",
     "output_type": "stream",
     "text": [
      "2024-07-11\n",
      "(18, 7)\n"
     ]
    },
    {
     "data": {
      "text/html": [
       "<div>\n",
       "<style scoped>\n",
       "    .dataframe tbody tr th:only-of-type {\n",
       "        vertical-align: middle;\n",
       "    }\n",
       "\n",
       "    .dataframe tbody tr th {\n",
       "        vertical-align: top;\n",
       "    }\n",
       "\n",
       "    .dataframe thead th {\n",
       "        text-align: right;\n",
       "    }\n",
       "</style>\n",
       "<table border=\"1\" class=\"dataframe\">\n",
       "  <thead>\n",
       "    <tr style=\"text-align: left;\">\n",
       "      <th></th>\n",
       "      <th>Symbol</th>\n",
       "      <th>$@09:31</th>\n",
       "      <th>$@09:32</th>\n",
       "      <th>$@09:39</th>\n",
       "      <th>$@10:01</th>\n",
       "      <th>$@10:02</th>\n",
       "      <th>$@10:39</th>\n",
       "    </tr>\n",
       "  </thead>\n",
       "  <tbody>\n",
       "    <tr>\n",
       "      <th>0</th>\n",
       "      <td>GTLB</td>\n",
       "      <td>51.450001</td>\n",
       "      <td>52.220001</td>\n",
       "      <td>52.220001</td>\n",
       "      <td>52.220001</td>\n",
       "      <td>52.220001</td>\n",
       "      <td>52.220001</td>\n",
       "    </tr>\n",
       "    <tr>\n",
       "      <th>1</th>\n",
       "      <td>CHX</td>\n",
       "      <td>31.980000</td>\n",
       "      <td>32.099998</td>\n",
       "      <td>32.099998</td>\n",
       "      <td>32.099998</td>\n",
       "      <td>32.099998</td>\n",
       "      <td>32.099998</td>\n",
       "    </tr>\n",
       "    <tr>\n",
       "      <th>2</th>\n",
       "      <td>WH</td>\n",
       "      <td>73.209999</td>\n",
       "      <td>73.500000</td>\n",
       "      <td>73.500000</td>\n",
       "      <td>73.500000</td>\n",
       "      <td>73.500000</td>\n",
       "      <td>73.500000</td>\n",
       "    </tr>\n",
       "    <tr>\n",
       "      <th>3</th>\n",
       "      <td>G</td>\n",
       "      <td>NaN</td>\n",
       "      <td>31.780001</td>\n",
       "      <td>31.780001</td>\n",
       "      <td>31.780001</td>\n",
       "      <td>31.780001</td>\n",
       "      <td>31.780001</td>\n",
       "    </tr>\n",
       "    <tr>\n",
       "      <th>4</th>\n",
       "      <td>VFC</td>\n",
       "      <td>13.210000</td>\n",
       "      <td>13.270000</td>\n",
       "      <td>13.270000</td>\n",
       "      <td>13.270000</td>\n",
       "      <td>13.270000</td>\n",
       "      <td>13.270000</td>\n",
       "    </tr>\n",
       "  </tbody>\n",
       "</table>\n",
       "</div>"
      ],
      "text/plain": [
       "  Symbol  $@09:31    $@09:32    $@09:39    $@10:01    $@10:02    $@10:39  \n",
       "0  GTLB   51.450001  52.220001  52.220001  52.220001  52.220001  52.220001\n",
       "1   CHX   31.980000  32.099998  32.099998  32.099998  32.099998  32.099998\n",
       "2    WH   73.209999  73.500000  73.500000  73.500000  73.500000  73.500000\n",
       "3     G         NaN  31.780001  31.780001  31.780001  31.780001  31.780001\n",
       "4   VFC   13.210000  13.270000  13.270000  13.270000  13.270000  13.270000"
      ]
     },
     "execution_count": 195,
     "metadata": {},
     "output_type": "execute_result"
    }
   ],
   "source": [
    "# BACKTEST SYMBOL LIST\n",
    "symbols = gap_up_df['Symbol'].tolist()\n",
    "\n",
    "# DATE\n",
    "date_str = '2024-07-11'  # example date\n",
    "# TIME (EST)\n",
    "times_est = ['09:31','09:32', '09:39', # BUY ZONE (default)\n",
    "             '10:01', '10:02', '10:39'] # SELL ZONE (default)\n",
    "\n",
    "# Fetch historical data and extract prices at specified times\n",
    "data = {'Symbol': [], '$@09:31': [], '$@09:32': [], '$@09:39': [],\n",
    "         '$@10:01': [], '$@10:02': [], '$@10:39': []}\n",
    "\n",
    "for symbol in symbols:\n",
    "    ticker = yf.Ticker(symbol)\n",
    "    # Fetch 1-minute data for the specified date\n",
    "    hist = ticker.history(start=date_str, end=(datetime.strptime(date_str, '%Y-%m-%d') + timedelta(days=1)).strftime('%Y-%m-%d'), interval='1m')\n",
    "    \n",
    "    # Ensure the index is timezone-aware by localizing to UTC if necessary, then convert to EST\n",
    "    if hist.index.tz is None:\n",
    "        hist.index = hist.index.tz_localize('UTC').tz_convert('US/Eastern')\n",
    "    else:\n",
    "        hist.index = hist.index.tz_convert('US/Eastern')\n",
    "\n",
    "    # Filter data for specified times\n",
    "    price_at_0931 = hist.loc[hist.index.strftime('%H:%M') == '09:32']['Close'].values\n",
    "    price_at_0932 = hist.loc[hist.index.strftime('%H:%M') == '10:04']['Close'].values\n",
    "    \n",
    "    ## save the data ##\n",
    "    data['Symbol'].append(symbol)\n",
    "                            #### ---- BUY ZONE ---- ####\n",
    "    data['$@09:31'].append(price_at_0931[0] if len(price_at_0931) > 0 else None) # BUY ZONE\n",
    "    data['$@09:32'].append(price_at_0932[0] if len(price_at_0932) > 0 else None) # BUY ZONE\n",
    "    data['$@09:39'].append(price_at_0932[0] if len(price_at_0932) > 0 else None) # BUY ZONE\n",
    "                            #### ---- SELL ZONE ---- ####\n",
    "    data['$@10:01'].append(price_at_0932[0] if len(price_at_0932) > 0 else None) # SELL ZONE\n",
    "    data['$@10:02'].append(price_at_0932[0] if len(price_at_0932) > 0 else None) # SELL ZONE\n",
    "    data['$@10:39'].append(price_at_0932[0] if len(price_at_0932) > 0 else None) # SELL ZONE\n",
    "\n",
    "# Convert to DataFrame for better visualization\n",
    "lwbt_df = pd.DataFrame(data)\n",
    "\n",
    "print(date_str)\n",
    "print(lwbt_df.shape)\n",
    "lwbt_df.head(5)"
   ]
  },
  {
   "cell_type": "code",
   "execution_count": 196,
   "metadata": {},
   "outputs": [],
   "source": [
    "# # get the open price for each and create a new column\n",
    "# # the actual Open price at 9:30am\n",
    "# lwbt_df['Open'] = gap_up_df['Symbol'].apply(lambda symbol: yf.Ticker(symbol).history(period='1d')['Open'][0])"
   ]
  },
  {
   "cell_type": "code",
   "execution_count": 197,
   "metadata": {},
   "outputs": [
    {
     "data": {
      "text/html": [
       "<div>\n",
       "<style scoped>\n",
       "    .dataframe tbody tr th:only-of-type {\n",
       "        vertical-align: middle;\n",
       "    }\n",
       "\n",
       "    .dataframe tbody tr th {\n",
       "        vertical-align: top;\n",
       "    }\n",
       "\n",
       "    .dataframe thead th {\n",
       "        text-align: right;\n",
       "    }\n",
       "</style>\n",
       "<table border=\"1\" class=\"dataframe\">\n",
       "  <thead>\n",
       "    <tr style=\"text-align: left;\">\n",
       "      <th></th>\n",
       "      <th>Symbol</th>\n",
       "      <th>$@09:31</th>\n",
       "      <th>$@09:32</th>\n",
       "      <th>$@09:39</th>\n",
       "      <th>$@10:01</th>\n",
       "      <th>$@10:02</th>\n",
       "      <th>$@10:39</th>\n",
       "    </tr>\n",
       "  </thead>\n",
       "  <tbody>\n",
       "    <tr>\n",
       "      <th>0</th>\n",
       "      <td>GTLB</td>\n",
       "      <td>51.450001</td>\n",
       "      <td>52.220001</td>\n",
       "      <td>52.220001</td>\n",
       "      <td>52.220001</td>\n",
       "      <td>52.220001</td>\n",
       "      <td>52.220001</td>\n",
       "    </tr>\n",
       "    <tr>\n",
       "      <th>1</th>\n",
       "      <td>CHX</td>\n",
       "      <td>31.980000</td>\n",
       "      <td>32.099998</td>\n",
       "      <td>32.099998</td>\n",
       "      <td>32.099998</td>\n",
       "      <td>32.099998</td>\n",
       "      <td>32.099998</td>\n",
       "    </tr>\n",
       "    <tr>\n",
       "      <th>2</th>\n",
       "      <td>WH</td>\n",
       "      <td>73.209999</td>\n",
       "      <td>73.500000</td>\n",
       "      <td>73.500000</td>\n",
       "      <td>73.500000</td>\n",
       "      <td>73.500000</td>\n",
       "      <td>73.500000</td>\n",
       "    </tr>\n",
       "    <tr>\n",
       "      <th>3</th>\n",
       "      <td>G</td>\n",
       "      <td>NaN</td>\n",
       "      <td>31.780001</td>\n",
       "      <td>31.780001</td>\n",
       "      <td>31.780001</td>\n",
       "      <td>31.780001</td>\n",
       "      <td>31.780001</td>\n",
       "    </tr>\n",
       "    <tr>\n",
       "      <th>4</th>\n",
       "      <td>VFC</td>\n",
       "      <td>13.210000</td>\n",
       "      <td>13.270000</td>\n",
       "      <td>13.270000</td>\n",
       "      <td>13.270000</td>\n",
       "      <td>13.270000</td>\n",
       "      <td>13.270000</td>\n",
       "    </tr>\n",
       "  </tbody>\n",
       "</table>\n",
       "</div>"
      ],
      "text/plain": [
       "  Symbol  $@09:31    $@09:32    $@09:39    $@10:01    $@10:02    $@10:39  \n",
       "0  GTLB   51.450001  52.220001  52.220001  52.220001  52.220001  52.220001\n",
       "1   CHX   31.980000  32.099998  32.099998  32.099998  32.099998  32.099998\n",
       "2    WH   73.209999  73.500000  73.500000  73.500000  73.500000  73.500000\n",
       "3     G         NaN  31.780001  31.780001  31.780001  31.780001  31.780001\n",
       "4   VFC   13.210000  13.270000  13.270000  13.270000  13.270000  13.270000"
      ]
     },
     "execution_count": 197,
     "metadata": {},
     "output_type": "execute_result"
    }
   ],
   "source": [
    "lwbt_df.head(5)"
   ]
  },
  {
   "cell_type": "code",
   "execution_count": 198,
   "metadata": {},
   "outputs": [
    {
     "name": "stdout",
     "output_type": "stream",
     "text": [
      "2024-07-11\n",
      "(18, 3)\n"
     ]
    },
    {
     "data": {
      "text/html": [
       "<div>\n",
       "<style scoped>\n",
       "    .dataframe tbody tr th:only-of-type {\n",
       "        vertical-align: middle;\n",
       "    }\n",
       "\n",
       "    .dataframe tbody tr th {\n",
       "        vertical-align: top;\n",
       "    }\n",
       "\n",
       "    .dataframe thead th {\n",
       "        text-align: right;\n",
       "    }\n",
       "</style>\n",
       "<table border=\"1\" class=\"dataframe\">\n",
       "  <thead>\n",
       "    <tr style=\"text-align: left;\">\n",
       "      <th></th>\n",
       "      <th>Symbol</th>\n",
       "      <th>buy_price</th>\n",
       "      <th>sell_price</th>\n",
       "    </tr>\n",
       "  </thead>\n",
       "  <tbody>\n",
       "    <tr>\n",
       "      <th>0</th>\n",
       "      <td>GTLB</td>\n",
       "      <td>51.474998</td>\n",
       "      <td>52.320000</td>\n",
       "    </tr>\n",
       "    <tr>\n",
       "      <th>1</th>\n",
       "      <td>CHX</td>\n",
       "      <td>31.860001</td>\n",
       "      <td>32.099998</td>\n",
       "    </tr>\n",
       "    <tr>\n",
       "      <th>2</th>\n",
       "      <td>WH</td>\n",
       "      <td>73.180000</td>\n",
       "      <td>73.389999</td>\n",
       "    </tr>\n",
       "    <tr>\n",
       "      <th>3</th>\n",
       "      <td>G</td>\n",
       "      <td>31.420000</td>\n",
       "      <td>31.690001</td>\n",
       "    </tr>\n",
       "    <tr>\n",
       "      <th>4</th>\n",
       "      <td>VFC</td>\n",
       "      <td>13.160000</td>\n",
       "      <td>13.245000</td>\n",
       "    </tr>\n",
       "  </tbody>\n",
       "</table>\n",
       "</div>"
      ],
      "text/plain": [
       "  Symbol  buy_price  sell_price\n",
       "0  GTLB   51.474998  52.320000 \n",
       "1   CHX   31.860001  32.099998 \n",
       "2    WH   73.180000  73.389999 \n",
       "3     G   31.420000  31.690001 \n",
       "4   VFC   13.160000  13.245000 "
      ]
     },
     "execution_count": 198,
     "metadata": {},
     "output_type": "execute_result"
    }
   ],
   "source": [
    "#### ---- Light Weight Backtesting TOOL ---- ####\n",
    "\n",
    "# calculate the buy and sell prices\n",
    "# fetch historical data and extract prices at specified times\n",
    "data = {'Symbol': [], 'buy_price': [], 'sell_price': []}\n",
    "\n",
    "for symbol in symbols:\n",
    "    ticker = yf.Ticker(symbol)\n",
    "\n",
    "    # Fetch 1-minute data for the specified date in EST timezone\n",
    "    hist = ticker.history(start=date_str, end=(datetime.strptime(date_str, '%Y-%m-%d') + timedelta(days=1)).strftime('%Y-%m-%d'), interval='1m')\n",
    "    # hist.index = hist.index.tz_localize('US/Eastern')\n",
    "\n",
    "    # Filter and extract prices\n",
    "    buy_zone_prices = hist.loc[hist.index.strftime('%H:%M').isin(['09:31', '09:32', '09:39'])]['Close']\n",
    "    sell_zone_prices = hist.loc[hist.index.strftime('%H:%M').isin(['10:01', '10:02', '10:39'])]['Close']\n",
    "    \n",
    "    # Determine buy and sell prices with fallbacks\n",
    "    buy_price = buy_zone_prices.first_valid_index()\n",
    "    if buy_price is None:\n",
    "        # then drop row\n",
    "        gap_up_df.drop(gap_up_df[gap_up_df['Symbol'] == symbol].index, inplace=True)\n",
    "    else:\n",
    "        buy_price = buy_zone_prices[buy_price]  # Use the first valid price from the buy zone\n",
    "\n",
    "    sell_price = sell_zone_prices.first_valid_index()\n",
    "    if sell_price is None:\n",
    "        # then drop row\n",
    "        gap_up_df.drop(gap_up_df[gap_up_df['Symbol'] == symbol].index, inplace=True)\n",
    "    else:\n",
    "        sell_price = sell_zone_prices[sell_price]  # Use the first valid price from the sell zone\n",
    "\n",
    "    data['Symbol'].append(symbol)\n",
    "    data['buy_price'].append(buy_price)\n",
    "    data['sell_price'].append(sell_price)\n",
    "\n",
    "# Create the final DataFrame\n",
    "lwbt_df = pd.DataFrame(data)\n",
    "\n",
    "print(date_str)\n",
    "print(lwbt_df.shape)\n",
    "lwbt_df.head(5)\n"
   ]
  },
  {
   "cell_type": "code",
   "execution_count": 199,
   "metadata": {},
   "outputs": [
    {
     "name": "stdout",
     "output_type": "stream",
     "text": [
      "\n",
      "Remaining cash: $16971.84605884552\n",
      "Shares purchased: 4004\n",
      "Amount invested: $83028.15394115448\n",
      "Amount invested + remaining cash: $100000.0\n",
      "(18, 5)\n"
     ]
    },
    {
     "data": {
      "text/html": [
       "<div>\n",
       "<style scoped>\n",
       "    .dataframe tbody tr th:only-of-type {\n",
       "        vertical-align: middle;\n",
       "    }\n",
       "\n",
       "    .dataframe tbody tr th {\n",
       "        vertical-align: top;\n",
       "    }\n",
       "\n",
       "    .dataframe thead th {\n",
       "        text-align: right;\n",
       "    }\n",
       "</style>\n",
       "<table border=\"1\" class=\"dataframe\">\n",
       "  <thead>\n",
       "    <tr style=\"text-align: left;\">\n",
       "      <th></th>\n",
       "      <th>Symbol</th>\n",
       "      <th>buy_price</th>\n",
       "      <th>sell_price</th>\n",
       "      <th>shares_purchased</th>\n",
       "      <th>amount_invested</th>\n",
       "    </tr>\n",
       "  </thead>\n",
       "  <tbody>\n",
       "    <tr>\n",
       "      <th>0</th>\n",
       "      <td>GTLB</td>\n",
       "      <td>51.474998</td>\n",
       "      <td>52.320000</td>\n",
       "      <td>107</td>\n",
       "      <td>5507.824837</td>\n",
       "    </tr>\n",
       "    <tr>\n",
       "      <th>1</th>\n",
       "      <td>CHX</td>\n",
       "      <td>31.860001</td>\n",
       "      <td>32.099998</td>\n",
       "      <td>174</td>\n",
       "      <td>5543.640106</td>\n",
       "    </tr>\n",
       "    <tr>\n",
       "      <th>2</th>\n",
       "      <td>WH</td>\n",
       "      <td>73.180000</td>\n",
       "      <td>73.389999</td>\n",
       "      <td>75</td>\n",
       "      <td>5488.500023</td>\n",
       "    </tr>\n",
       "    <tr>\n",
       "      <th>3</th>\n",
       "      <td>G</td>\n",
       "      <td>31.420000</td>\n",
       "      <td>31.690001</td>\n",
       "      <td>176</td>\n",
       "      <td>5529.920013</td>\n",
       "    </tr>\n",
       "    <tr>\n",
       "      <th>4</th>\n",
       "      <td>VFC</td>\n",
       "      <td>13.160000</td>\n",
       "      <td>13.245000</td>\n",
       "      <td>422</td>\n",
       "      <td>5553.519936</td>\n",
       "    </tr>\n",
       "  </tbody>\n",
       "</table>\n",
       "</div>"
      ],
      "text/plain": [
       "  Symbol  buy_price  sell_price  shares_purchased  amount_invested\n",
       "0  GTLB   51.474998  52.320000   107               5507.824837    \n",
       "1   CHX   31.860001  32.099998   174               5543.640106    \n",
       "2    WH   73.180000  73.389999    75               5488.500023    \n",
       "3     G   31.420000  31.690001   176               5529.920013    \n",
       "4   VFC   13.160000  13.245000   422               5553.519936    "
      ]
     },
     "execution_count": 199,
     "metadata": {},
     "output_type": "execute_result"
    }
   ],
   "source": [
    "#### ---- starting Capital ---- $$$$\n",
    "purse = 100_000\n",
    "\n",
    "# calculate amount to allocate per stock (rounding down to nearest whole dollar)\n",
    "allocation_per_stock = purse // len(lwbt_df)\n",
    "\n",
    "# initialize a new column for the number of shares purchased\n",
    "lwbt_df['shares_purchased'] = 0\n",
    "\n",
    "#initialize with the starting purse\n",
    "remaining_cash = purse \n",
    "for index, row in lwbt_df.iterrows():\n",
    "    buy_price = row['buy_price']\n",
    "    if buy_price is not None and not pd.isna(buy_price):  # Check if buy price is valid\n",
    "        shares_to_buy = allocation_per_stock // buy_price\n",
    "        remaining_cash -= shares_to_buy * buy_price\n",
    "        lwbt_df.at[index, 'shares_purchased'] = shares_to_buy\n",
    "\n",
    "print(f\"\\nRemaining cash: ${remaining_cash}\")\n",
    "print(f\"Shares purchased: {lwbt_df['shares_purchased'].sum()}\")\n",
    "# calculate amount invested\n",
    "lwbt_df['amount_invested'] = lwbt_df['shares_purchased'] * lwbt_df['buy_price']\n",
    "print(f\"Amount invested: ${lwbt_df['amount_invested'].sum()}\")\n",
    "# print amount invested + remaining cash as a math check\n",
    "print(f\"Amount invested + remaining cash: ${lwbt_df['amount_invested'].sum() + remaining_cash}\")\n",
    "\n",
    "print(lwbt_df.shape)\n",
    "lwbt_df.head(5)\n"
   ]
  },
  {
   "cell_type": "code",
   "execution_count": 200,
   "metadata": {},
   "outputs": [],
   "source": [
    "# START HERE\n",
    "# profit/loss calculation\n",
    "# Cols;\n",
    "\n",
    "# prof$loss\n",
    "# prof$loss%\n",
    "# bank$"
   ]
  },
  {
   "cell_type": "code",
   "execution_count": 201,
   "metadata": {},
   "outputs": [
    {
     "name": "stdout",
     "output_type": "stream",
     "text": [
      "New amount invested: $83415.32470703125\n",
      "Total profit/loss: $1.6446008682250977\n"
     ]
    }
   ],
   "source": [
    "# calculate profit/loss\n",
    "lwbt_df['profit_loss'] = lwbt_df['sell_price'] - lwbt_df['buy_price']\n",
    "# calculate percentage profit/loss\n",
    "lwbt_df['profit_loss_pct'] = (lwbt_df['profit_loss'] / lwbt_df['buy_price']) * 100\n",
    "# calculte the amount invested after selling\n",
    "lwbt_df['new_amount_invested'] = lwbt_df['shares_purchased'] * lwbt_df['sell_price']\n",
    "# print the total for new_amount_invested\n",
    "\n",
    "print(f\"New amount invested: ${lwbt_df['new_amount_invested'].sum()}\")\n",
    "# print total profit/loss\n",
    "print(f\"Total profit/loss: ${lwbt_df['profit_loss'].sum()}\")"
   ]
  },
  {
   "cell_type": "code",
   "execution_count": 202,
   "metadata": {},
   "outputs": [
    {
     "data": {
      "text/html": [
       "<div>\n",
       "<style scoped>\n",
       "    .dataframe tbody tr th:only-of-type {\n",
       "        vertical-align: middle;\n",
       "    }\n",
       "\n",
       "    .dataframe tbody tr th {\n",
       "        vertical-align: top;\n",
       "    }\n",
       "\n",
       "    .dataframe thead th {\n",
       "        text-align: right;\n",
       "    }\n",
       "</style>\n",
       "<table border=\"1\" class=\"dataframe\">\n",
       "  <thead>\n",
       "    <tr style=\"text-align: left;\">\n",
       "      <th></th>\n",
       "      <th>Symbol</th>\n",
       "      <th>buy_price</th>\n",
       "      <th>sell_price</th>\n",
       "      <th>shares_purchased</th>\n",
       "      <th>amount_invested</th>\n",
       "      <th>profit_loss</th>\n",
       "      <th>profit_loss_pct</th>\n",
       "      <th>new_amount_invested</th>\n",
       "    </tr>\n",
       "  </thead>\n",
       "  <tbody>\n",
       "    <tr>\n",
       "      <th>0</th>\n",
       "      <td>GTLB</td>\n",
       "      <td>51.474998</td>\n",
       "      <td>52.320000</td>\n",
       "      <td>107</td>\n",
       "      <td>5507.824837</td>\n",
       "      <td>0.845001</td>\n",
       "      <td>1.641576</td>\n",
       "      <td>5598.239967</td>\n",
       "    </tr>\n",
       "    <tr>\n",
       "      <th>1</th>\n",
       "      <td>CHX</td>\n",
       "      <td>31.860001</td>\n",
       "      <td>32.099998</td>\n",
       "      <td>174</td>\n",
       "      <td>5543.640106</td>\n",
       "      <td>0.239998</td>\n",
       "      <td>0.753289</td>\n",
       "      <td>5585.399734</td>\n",
       "    </tr>\n",
       "    <tr>\n",
       "      <th>2</th>\n",
       "      <td>WH</td>\n",
       "      <td>73.180000</td>\n",
       "      <td>73.389999</td>\n",
       "      <td>75</td>\n",
       "      <td>5488.500023</td>\n",
       "      <td>0.209999</td>\n",
       "      <td>0.286962</td>\n",
       "      <td>5504.249954</td>\n",
       "    </tr>\n",
       "    <tr>\n",
       "      <th>3</th>\n",
       "      <td>G</td>\n",
       "      <td>31.420000</td>\n",
       "      <td>31.690001</td>\n",
       "      <td>176</td>\n",
       "      <td>5529.920013</td>\n",
       "      <td>0.270000</td>\n",
       "      <td>0.859327</td>\n",
       "      <td>5577.440094</td>\n",
       "    </tr>\n",
       "    <tr>\n",
       "      <th>4</th>\n",
       "      <td>VFC</td>\n",
       "      <td>13.160000</td>\n",
       "      <td>13.245000</td>\n",
       "      <td>422</td>\n",
       "      <td>5553.519936</td>\n",
       "      <td>0.085000</td>\n",
       "      <td>0.645897</td>\n",
       "      <td>5589.389952</td>\n",
       "    </tr>\n",
       "    <tr>\n",
       "      <th>5</th>\n",
       "      <td>CBT</td>\n",
       "      <td>92.385002</td>\n",
       "      <td>93.300003</td>\n",
       "      <td>60</td>\n",
       "      <td>5543.100128</td>\n",
       "      <td>0.915001</td>\n",
       "      <td>0.990421</td>\n",
       "      <td>5598.000183</td>\n",
       "    </tr>\n",
       "    <tr>\n",
       "      <th>6</th>\n",
       "      <td>ITRI</td>\n",
       "      <td>104.489998</td>\n",
       "      <td>103.019997</td>\n",
       "      <td>53</td>\n",
       "      <td>5537.969887</td>\n",
       "      <td>-1.470001</td>\n",
       "      <td>-1.406834</td>\n",
       "      <td>5460.059822</td>\n",
       "    </tr>\n",
       "    <tr>\n",
       "      <th>7</th>\n",
       "      <td>RIG</td>\n",
       "      <td>5.050500</td>\n",
       "      <td>5.040100</td>\n",
       "      <td>1099</td>\n",
       "      <td>5550.499408</td>\n",
       "      <td>-0.010400</td>\n",
       "      <td>-0.205917</td>\n",
       "      <td>5539.070007</td>\n",
       "    </tr>\n",
       "    <tr>\n",
       "      <th>8</th>\n",
       "      <td>GTES</td>\n",
       "      <td>15.410000</td>\n",
       "      <td>15.470000</td>\n",
       "      <td>360</td>\n",
       "      <td>5547.599945</td>\n",
       "      <td>0.060000</td>\n",
       "      <td>0.389360</td>\n",
       "      <td>5569.200096</td>\n",
       "    </tr>\n",
       "    <tr>\n",
       "      <th>9</th>\n",
       "      <td>PTEN</td>\n",
       "      <td>9.860000</td>\n",
       "      <td>9.945000</td>\n",
       "      <td>563</td>\n",
       "      <td>5551.179807</td>\n",
       "      <td>0.085000</td>\n",
       "      <td>0.862069</td>\n",
       "      <td>5599.034828</td>\n",
       "    </tr>\n",
       "    <tr>\n",
       "      <th>10</th>\n",
       "      <td>SGRY</td>\n",
       "      <td>24.030001</td>\n",
       "      <td>24.350000</td>\n",
       "      <td>231</td>\n",
       "      <td>5550.930159</td>\n",
       "      <td>0.320000</td>\n",
       "      <td>1.331667</td>\n",
       "      <td>5624.850088</td>\n",
       "    </tr>\n",
       "    <tr>\n",
       "      <th>11</th>\n",
       "      <td>TFPM</td>\n",
       "      <td>15.800000</td>\n",
       "      <td>15.760000</td>\n",
       "      <td>351</td>\n",
       "      <td>5545.800067</td>\n",
       "      <td>-0.040000</td>\n",
       "      <td>-0.253164</td>\n",
       "      <td>5531.760080</td>\n",
       "    </tr>\n",
       "    <tr>\n",
       "      <th>12</th>\n",
       "      <td>CEIX</td>\n",
       "      <td>98.464996</td>\n",
       "      <td>98.430000</td>\n",
       "      <td>56</td>\n",
       "      <td>5514.039795</td>\n",
       "      <td>-0.034996</td>\n",
       "      <td>-0.035542</td>\n",
       "      <td>5512.080017</td>\n",
       "    </tr>\n",
       "    <tr>\n",
       "      <th>13</th>\n",
       "      <td>USAC</td>\n",
       "      <td>NaN</td>\n",
       "      <td>23.950001</td>\n",
       "      <td>0</td>\n",
       "      <td>NaN</td>\n",
       "      <td>NaN</td>\n",
       "      <td>NaN</td>\n",
       "      <td>0.000000</td>\n",
       "    </tr>\n",
       "    <tr>\n",
       "      <th>14</th>\n",
       "      <td>PGNY</td>\n",
       "      <td>27.629999</td>\n",
       "      <td>28.030001</td>\n",
       "      <td>201</td>\n",
       "      <td>5553.629831</td>\n",
       "      <td>0.400002</td>\n",
       "      <td>1.447707</td>\n",
       "      <td>5634.030138</td>\n",
       "    </tr>\n",
       "    <tr>\n",
       "      <th>15</th>\n",
       "      <td>AIR</td>\n",
       "      <td>72.500000</td>\n",
       "      <td>72.269997</td>\n",
       "      <td>76</td>\n",
       "      <td>5510.000000</td>\n",
       "      <td>-0.230003</td>\n",
       "      <td>-0.317246</td>\n",
       "      <td>5492.519745</td>\n",
       "    </tr>\n",
       "    <tr>\n",
       "      <th>16</th>\n",
       "      <td>CGON</td>\n",
       "      <td>NaN</td>\n",
       "      <td>33.380001</td>\n",
       "      <td>0</td>\n",
       "      <td>NaN</td>\n",
       "      <td>NaN</td>\n",
       "      <td>NaN</td>\n",
       "      <td>0.000000</td>\n",
       "    </tr>\n",
       "    <tr>\n",
       "      <th>17</th>\n",
       "      <td>BTSGU</td>\n",
       "      <td>NaN</td>\n",
       "      <td>NaN</td>\n",
       "      <td>0</td>\n",
       "      <td>NaN</td>\n",
       "      <td>NaN</td>\n",
       "      <td>NaN</td>\n",
       "      <td>NaN</td>\n",
       "    </tr>\n",
       "  </tbody>\n",
       "</table>\n",
       "</div>"
      ],
      "text/plain": [
       "   Symbol  buy_price   sell_price  shares_purchased  amount_invested  \\\n",
       "0    GTLB   51.474998   52.320000   107              5507.824837       \n",
       "1     CHX   31.860001   32.099998   174              5543.640106       \n",
       "2      WH   73.180000   73.389999    75              5488.500023       \n",
       "3       G   31.420000   31.690001   176              5529.920013       \n",
       "4     VFC   13.160000   13.245000   422              5553.519936       \n",
       "5     CBT   92.385002   93.300003    60              5543.100128       \n",
       "6    ITRI  104.489998  103.019997    53              5537.969887       \n",
       "7     RIG    5.050500    5.040100  1099              5550.499408       \n",
       "8    GTES   15.410000   15.470000   360              5547.599945       \n",
       "9    PTEN    9.860000    9.945000   563              5551.179807       \n",
       "10   SGRY   24.030001   24.350000   231              5550.930159       \n",
       "11   TFPM   15.800000   15.760000   351              5545.800067       \n",
       "12   CEIX   98.464996   98.430000    56              5514.039795       \n",
       "13   USAC         NaN   23.950001     0                      NaN       \n",
       "14   PGNY   27.629999   28.030001   201              5553.629831       \n",
       "15    AIR   72.500000   72.269997    76              5510.000000       \n",
       "16   CGON         NaN   33.380001     0                      NaN       \n",
       "17  BTSGU         NaN         NaN     0                      NaN       \n",
       "\n",
       "    profit_loss  profit_loss_pct  new_amount_invested  \n",
       "0   0.845001     1.641576         5598.239967          \n",
       "1   0.239998     0.753289         5585.399734          \n",
       "2   0.209999     0.286962         5504.249954          \n",
       "3   0.270000     0.859327         5577.440094          \n",
       "4   0.085000     0.645897         5589.389952          \n",
       "5   0.915001     0.990421         5598.000183          \n",
       "6  -1.470001    -1.406834         5460.059822          \n",
       "7  -0.010400    -0.205917         5539.070007          \n",
       "8   0.060000     0.389360         5569.200096          \n",
       "9   0.085000     0.862069         5599.034828          \n",
       "10  0.320000     1.331667         5624.850088          \n",
       "11 -0.040000    -0.253164         5531.760080          \n",
       "12 -0.034996    -0.035542         5512.080017          \n",
       "13       NaN          NaN            0.000000          \n",
       "14  0.400002     1.447707         5634.030138          \n",
       "15 -0.230003    -0.317246         5492.519745          \n",
       "16       NaN          NaN            0.000000          \n",
       "17       NaN          NaN                 NaN          "
      ]
     },
     "execution_count": 202,
     "metadata": {},
     "output_type": "execute_result"
    }
   ],
   "source": [
    "# view df\n",
    "lwbt_df"
   ]
  },
  {
   "cell_type": "code",
   "execution_count": 203,
   "metadata": {},
   "outputs": [
    {
     "name": "stdout",
     "output_type": "stream",
     "text": [
      "83415.32470703125\n",
      "Settling Bank Balance: $83415.32470703125\n",
      "Remaining Cash (Not Invested): $16971.84605884552\n",
      "Total Bank Balance: $100387.17076587677\n",
      "Total Profit/Loss (Day): $387.17076587677\n"
     ]
    }
   ],
   "source": [
    "print(lwbt_df['new_amount_invested'].sum())\n",
    "settling_bank_balance = lwbt_df['new_amount_invested'].sum()\n",
    "print(f\"Settling Bank Balance: ${settling_bank_balance}\")\n",
    "print(f\"Remaining Cash (Not Invested): ${remaining_cash}\")\n",
    "print(f\"Total Bank Balance: ${settling_bank_balance + remaining_cash}\")\n",
    "print(f\"Total Profit/Loss (Day): ${settling_bank_balance + remaining_cash - purse}\")"
   ]
  },
  {
   "cell_type": "code",
   "execution_count": 204,
   "metadata": {},
   "outputs": [
    {
     "name": "stdout",
     "output_type": "stream",
     "text": [
      "Remaining cash: $100387.17076587677\n"
     ]
    }
   ],
   "source": [
    "# add remaining cash to the total new_amount_invested\n",
    "remaining_cash += lwbt_df['new_amount_invested'].sum()\n",
    "print(f\"Remaining cash: ${remaining_cash}\")"
   ]
  },
  {
   "cell_type": "code",
   "execution_count": 205,
   "metadata": {},
   "outputs": [
    {
     "name": "stdout",
     "output_type": "stream",
     "text": [
      "Total profit/loss: $1.6446008682250977\n",
      "Total profit/loss percentage: 0.00%\n",
      "Total amount invested: $83415.32470703125\n",
      "Remaining cash: $100387.17076587677\n",
      "Total amount invested (including remaining cash): $183802.49547290802\n"
     ]
    },
    {
     "data": {
      "text/html": [
       "<div>\n",
       "<style scoped>\n",
       "    .dataframe tbody tr th:only-of-type {\n",
       "        vertical-align: middle;\n",
       "    }\n",
       "\n",
       "    .dataframe tbody tr th {\n",
       "        vertical-align: top;\n",
       "    }\n",
       "\n",
       "    .dataframe thead th {\n",
       "        text-align: right;\n",
       "    }\n",
       "</style>\n",
       "<table border=\"1\" class=\"dataframe\">\n",
       "  <thead>\n",
       "    <tr style=\"text-align: left;\">\n",
       "      <th></th>\n",
       "      <th>Symbol</th>\n",
       "      <th>buy_price</th>\n",
       "      <th>sell_price</th>\n",
       "      <th>shares_purchased</th>\n",
       "      <th>amount_invested</th>\n",
       "      <th>profit_loss</th>\n",
       "      <th>profit_loss_pct</th>\n",
       "      <th>new_amount_invested</th>\n",
       "    </tr>\n",
       "  </thead>\n",
       "  <tbody>\n",
       "    <tr>\n",
       "      <th>0</th>\n",
       "      <td>GTLB</td>\n",
       "      <td>51.474998</td>\n",
       "      <td>52.320000</td>\n",
       "      <td>107</td>\n",
       "      <td>5507.824837</td>\n",
       "      <td>0.845001</td>\n",
       "      <td>1.641576</td>\n",
       "      <td>5598.239967</td>\n",
       "    </tr>\n",
       "    <tr>\n",
       "      <th>10</th>\n",
       "      <td>SGRY</td>\n",
       "      <td>24.030001</td>\n",
       "      <td>24.350000</td>\n",
       "      <td>231</td>\n",
       "      <td>5550.930159</td>\n",
       "      <td>0.320000</td>\n",
       "      <td>1.331667</td>\n",
       "      <td>5624.850088</td>\n",
       "    </tr>\n",
       "    <tr>\n",
       "      <th>14</th>\n",
       "      <td>PGNY</td>\n",
       "      <td>27.629999</td>\n",
       "      <td>28.030001</td>\n",
       "      <td>201</td>\n",
       "      <td>5553.629831</td>\n",
       "      <td>0.400002</td>\n",
       "      <td>1.447707</td>\n",
       "      <td>5634.030138</td>\n",
       "    </tr>\n",
       "  </tbody>\n",
       "</table>\n",
       "</div>"
      ],
      "text/plain": [
       "   Symbol  buy_price  sell_price  shares_purchased  amount_invested  \\\n",
       "0   GTLB   51.474998  52.320000   107               5507.824837       \n",
       "10  SGRY   24.030001  24.350000   231               5550.930159       \n",
       "14  PGNY   27.629999  28.030001   201               5553.629831       \n",
       "\n",
       "    profit_loss  profit_loss_pct  new_amount_invested  \n",
       "0   0.845001     1.641576         5598.239967          \n",
       "10  0.320000     1.331667         5624.850088          \n",
       "14  0.400002     1.447707         5634.030138          "
      ]
     },
     "execution_count": 205,
     "metadata": {},
     "output_type": "execute_result"
    }
   ],
   "source": [
    "# print total profit/loss\n",
    "print(f\"Total profit/loss: ${lwbt_df['profit_loss'].sum()}\")\n",
    "# calculate total profit/loss percentage\n",
    "total_profit_loss_pct = (lwbt_df['profit_loss'].sum() / lwbt_df['amount_invested'].sum()) * 100\n",
    "print(f\"Total profit/loss percentage: {total_profit_loss_pct:.2f}%\")\n",
    "# sum the new amount invested\n",
    "print(f\"Total amount invested: ${lwbt_df['new_amount_invested'].sum()}\")\n",
    "# print how much cash there is\n",
    "print(f\"Remaining cash: ${remaining_cash}\")\n",
    "# print what the sum could be if we added remaining cash to the new amount invested\n",
    "print(f\"Total amount invested (including remaining cash): ${lwbt_df['new_amount_invested'].sum() + remaining_cash}\")\n",
    "\n",
    "# return stocks with percent profit/loss greater than 1%\n",
    "lwbt_df[lwbt_df['profit_loss_pct'] > 1]"
   ]
  },
  {
   "cell_type": "markdown",
   "metadata": {},
   "source": [
    "| SUDZ - Backtest, In-Flight Operation |\n",
    "|-|\n",
    "| END: TOOL |"
   ]
  },
  {
   "cell_type": "code",
   "execution_count": 206,
   "metadata": {},
   "outputs": [
    {
     "name": "stdout",
     "output_type": "stream",
     "text": [
      "Level I -> 39 (stocks)\n",
      "Level II -> 18 (stocks)\n",
      "\n",
      "Index(['Symbol', 'RSI', 'MA20', 'MA50', 'MACD', 'Yahoo Price'], dtype='object')\n"
     ]
    }
   ],
   "source": [
    "# apply the technical indicator filtering\n",
    "L2_df = screen_stocks_by_technical_indicators(L2_df)\n",
    "\n",
    "print(f\"Level I -> {L1_df.shape[0]} (stocks)\")\n",
    "print(f\"Level II -> {L2_df.shape[0]} (stocks)\\n\")\n",
    "\n",
    "print(L2_df.columns)"
   ]
  },
  {
   "cell_type": "code",
   "execution_count": 207,
   "metadata": {},
   "outputs": [
    {
     "ename": "KeyError",
     "evalue": "\"['Price'] not found in axis\"",
     "output_type": "error",
     "traceback": [
      "\u001b[0;31m---------------------------------------------------------------------------\u001b[0m",
      "\u001b[0;31mKeyError\u001b[0m                                  Traceback (most recent call last)",
      "Cell \u001b[0;32mIn[207], line 2\u001b[0m\n\u001b[1;32m      1\u001b[0m \u001b[38;5;66;03m# drop price from L2_df\u001b[39;00m\n\u001b[0;32m----> 2\u001b[0m \u001b[43mL2_df\u001b[49m\u001b[38;5;241;43m.\u001b[39;49m\u001b[43mdrop\u001b[49m\u001b[43m(\u001b[49m\u001b[43mcolumns\u001b[49m\u001b[38;5;241;43m=\u001b[39;49m\u001b[43m[\u001b[49m\u001b[38;5;124;43m'\u001b[39;49m\u001b[38;5;124;43mPrice\u001b[39;49m\u001b[38;5;124;43m'\u001b[39;49m\u001b[43m]\u001b[49m\u001b[43m,\u001b[49m\u001b[43m \u001b[49m\u001b[43minplace\u001b[49m\u001b[38;5;241;43m=\u001b[39;49m\u001b[38;5;28;43;01mTrue\u001b[39;49;00m\u001b[43m)\u001b[49m\n",
      "File \u001b[0;32m~/Desktop/FINANCIAL-SYSTEMS/dark-trader/dt_venv/lib/python3.11/site-packages/pandas/core/frame.py:5344\u001b[0m, in \u001b[0;36mDataFrame.drop\u001b[0;34m(self, labels, axis, index, columns, level, inplace, errors)\u001b[0m\n\u001b[1;32m   5196\u001b[0m \u001b[38;5;28;01mdef\u001b[39;00m \u001b[38;5;21mdrop\u001b[39m(\n\u001b[1;32m   5197\u001b[0m     \u001b[38;5;28mself\u001b[39m,\n\u001b[1;32m   5198\u001b[0m     labels: IndexLabel \u001b[38;5;241m|\u001b[39m \u001b[38;5;28;01mNone\u001b[39;00m \u001b[38;5;241m=\u001b[39m \u001b[38;5;28;01mNone\u001b[39;00m,\n\u001b[0;32m   (...)\u001b[0m\n\u001b[1;32m   5205\u001b[0m     errors: IgnoreRaise \u001b[38;5;241m=\u001b[39m \u001b[38;5;124m\"\u001b[39m\u001b[38;5;124mraise\u001b[39m\u001b[38;5;124m\"\u001b[39m,\n\u001b[1;32m   5206\u001b[0m ) \u001b[38;5;241m-\u001b[39m\u001b[38;5;241m>\u001b[39m DataFrame \u001b[38;5;241m|\u001b[39m \u001b[38;5;28;01mNone\u001b[39;00m:\n\u001b[1;32m   5207\u001b[0m \u001b[38;5;250m    \u001b[39m\u001b[38;5;124;03m\"\"\"\u001b[39;00m\n\u001b[1;32m   5208\u001b[0m \u001b[38;5;124;03m    Drop specified labels from rows or columns.\u001b[39;00m\n\u001b[1;32m   5209\u001b[0m \n\u001b[0;32m   (...)\u001b[0m\n\u001b[1;32m   5342\u001b[0m \u001b[38;5;124;03m            weight  1.0     0.8\u001b[39;00m\n\u001b[1;32m   5343\u001b[0m \u001b[38;5;124;03m    \"\"\"\u001b[39;00m\n\u001b[0;32m-> 5344\u001b[0m     \u001b[38;5;28;01mreturn\u001b[39;00m \u001b[38;5;28;43msuper\u001b[39;49m\u001b[43m(\u001b[49m\u001b[43m)\u001b[49m\u001b[38;5;241;43m.\u001b[39;49m\u001b[43mdrop\u001b[49m\u001b[43m(\u001b[49m\n\u001b[1;32m   5345\u001b[0m \u001b[43m        \u001b[49m\u001b[43mlabels\u001b[49m\u001b[38;5;241;43m=\u001b[39;49m\u001b[43mlabels\u001b[49m\u001b[43m,\u001b[49m\n\u001b[1;32m   5346\u001b[0m \u001b[43m        \u001b[49m\u001b[43maxis\u001b[49m\u001b[38;5;241;43m=\u001b[39;49m\u001b[43maxis\u001b[49m\u001b[43m,\u001b[49m\n\u001b[1;32m   5347\u001b[0m \u001b[43m        \u001b[49m\u001b[43mindex\u001b[49m\u001b[38;5;241;43m=\u001b[39;49m\u001b[43mindex\u001b[49m\u001b[43m,\u001b[49m\n\u001b[1;32m   5348\u001b[0m \u001b[43m        \u001b[49m\u001b[43mcolumns\u001b[49m\u001b[38;5;241;43m=\u001b[39;49m\u001b[43mcolumns\u001b[49m\u001b[43m,\u001b[49m\n\u001b[1;32m   5349\u001b[0m \u001b[43m        \u001b[49m\u001b[43mlevel\u001b[49m\u001b[38;5;241;43m=\u001b[39;49m\u001b[43mlevel\u001b[49m\u001b[43m,\u001b[49m\n\u001b[1;32m   5350\u001b[0m \u001b[43m        \u001b[49m\u001b[43minplace\u001b[49m\u001b[38;5;241;43m=\u001b[39;49m\u001b[43minplace\u001b[49m\u001b[43m,\u001b[49m\n\u001b[1;32m   5351\u001b[0m \u001b[43m        \u001b[49m\u001b[43merrors\u001b[49m\u001b[38;5;241;43m=\u001b[39;49m\u001b[43merrors\u001b[49m\u001b[43m,\u001b[49m\n\u001b[1;32m   5352\u001b[0m \u001b[43m    \u001b[49m\u001b[43m)\u001b[49m\n",
      "File \u001b[0;32m~/Desktop/FINANCIAL-SYSTEMS/dark-trader/dt_venv/lib/python3.11/site-packages/pandas/core/generic.py:4711\u001b[0m, in \u001b[0;36mNDFrame.drop\u001b[0;34m(self, labels, axis, index, columns, level, inplace, errors)\u001b[0m\n\u001b[1;32m   4709\u001b[0m \u001b[38;5;28;01mfor\u001b[39;00m axis, labels \u001b[38;5;129;01min\u001b[39;00m axes\u001b[38;5;241m.\u001b[39mitems():\n\u001b[1;32m   4710\u001b[0m     \u001b[38;5;28;01mif\u001b[39;00m labels \u001b[38;5;129;01mis\u001b[39;00m \u001b[38;5;129;01mnot\u001b[39;00m \u001b[38;5;28;01mNone\u001b[39;00m:\n\u001b[0;32m-> 4711\u001b[0m         obj \u001b[38;5;241m=\u001b[39m \u001b[43mobj\u001b[49m\u001b[38;5;241;43m.\u001b[39;49m\u001b[43m_drop_axis\u001b[49m\u001b[43m(\u001b[49m\u001b[43mlabels\u001b[49m\u001b[43m,\u001b[49m\u001b[43m \u001b[49m\u001b[43maxis\u001b[49m\u001b[43m,\u001b[49m\u001b[43m \u001b[49m\u001b[43mlevel\u001b[49m\u001b[38;5;241;43m=\u001b[39;49m\u001b[43mlevel\u001b[49m\u001b[43m,\u001b[49m\u001b[43m \u001b[49m\u001b[43merrors\u001b[49m\u001b[38;5;241;43m=\u001b[39;49m\u001b[43merrors\u001b[49m\u001b[43m)\u001b[49m\n\u001b[1;32m   4713\u001b[0m \u001b[38;5;28;01mif\u001b[39;00m inplace:\n\u001b[1;32m   4714\u001b[0m     \u001b[38;5;28mself\u001b[39m\u001b[38;5;241m.\u001b[39m_update_inplace(obj)\n",
      "File \u001b[0;32m~/Desktop/FINANCIAL-SYSTEMS/dark-trader/dt_venv/lib/python3.11/site-packages/pandas/core/generic.py:4753\u001b[0m, in \u001b[0;36mNDFrame._drop_axis\u001b[0;34m(self, labels, axis, level, errors, only_slice)\u001b[0m\n\u001b[1;32m   4751\u001b[0m         new_axis \u001b[38;5;241m=\u001b[39m axis\u001b[38;5;241m.\u001b[39mdrop(labels, level\u001b[38;5;241m=\u001b[39mlevel, errors\u001b[38;5;241m=\u001b[39merrors)\n\u001b[1;32m   4752\u001b[0m     \u001b[38;5;28;01melse\u001b[39;00m:\n\u001b[0;32m-> 4753\u001b[0m         new_axis \u001b[38;5;241m=\u001b[39m \u001b[43maxis\u001b[49m\u001b[38;5;241;43m.\u001b[39;49m\u001b[43mdrop\u001b[49m\u001b[43m(\u001b[49m\u001b[43mlabels\u001b[49m\u001b[43m,\u001b[49m\u001b[43m \u001b[49m\u001b[43merrors\u001b[49m\u001b[38;5;241;43m=\u001b[39;49m\u001b[43merrors\u001b[49m\u001b[43m)\u001b[49m\n\u001b[1;32m   4754\u001b[0m     indexer \u001b[38;5;241m=\u001b[39m axis\u001b[38;5;241m.\u001b[39mget_indexer(new_axis)\n\u001b[1;32m   4756\u001b[0m \u001b[38;5;66;03m# Case for non-unique axis\u001b[39;00m\n\u001b[1;32m   4757\u001b[0m \u001b[38;5;28;01melse\u001b[39;00m:\n",
      "File \u001b[0;32m~/Desktop/FINANCIAL-SYSTEMS/dark-trader/dt_venv/lib/python3.11/site-packages/pandas/core/indexes/base.py:7000\u001b[0m, in \u001b[0;36mIndex.drop\u001b[0;34m(self, labels, errors)\u001b[0m\n\u001b[1;32m   6998\u001b[0m \u001b[38;5;28;01mif\u001b[39;00m mask\u001b[38;5;241m.\u001b[39many():\n\u001b[1;32m   6999\u001b[0m     \u001b[38;5;28;01mif\u001b[39;00m errors \u001b[38;5;241m!=\u001b[39m \u001b[38;5;124m\"\u001b[39m\u001b[38;5;124mignore\u001b[39m\u001b[38;5;124m\"\u001b[39m:\n\u001b[0;32m-> 7000\u001b[0m         \u001b[38;5;28;01mraise\u001b[39;00m \u001b[38;5;167;01mKeyError\u001b[39;00m(\u001b[38;5;124mf\u001b[39m\u001b[38;5;124m\"\u001b[39m\u001b[38;5;132;01m{\u001b[39;00mlabels[mask]\u001b[38;5;241m.\u001b[39mtolist()\u001b[38;5;132;01m}\u001b[39;00m\u001b[38;5;124m not found in axis\u001b[39m\u001b[38;5;124m\"\u001b[39m)\n\u001b[1;32m   7001\u001b[0m     indexer \u001b[38;5;241m=\u001b[39m indexer[\u001b[38;5;241m~\u001b[39mmask]\n\u001b[1;32m   7002\u001b[0m \u001b[38;5;28;01mreturn\u001b[39;00m \u001b[38;5;28mself\u001b[39m\u001b[38;5;241m.\u001b[39mdelete(indexer)\n",
      "\u001b[0;31mKeyError\u001b[0m: \"['Price'] not found in axis\""
     ]
    }
   ],
   "source": [
    "# drop price from L2_df\n",
    "L2_df.drop(columns=['Price'], inplace=True)"
   ]
  },
  {
   "cell_type": "code",
   "execution_count": null,
   "metadata": {},
   "outputs": [
    {
     "name": "stdout",
     "output_type": "stream",
     "text": [
      "(43, 31)\n",
      "(43, 35)\n"
     ]
    }
   ],
   "source": [
    "# mergge L2_df to gap_up_df\n",
    "print(gap_up_df.shape)\n",
    "gap_up_df = gap_up_df.merge(L2_df, on='Symbol')\n",
    "print(gap_up_df.shape)"
   ]
  },
  {
   "cell_type": "code",
   "execution_count": null,
   "metadata": {},
   "outputs": [],
   "source": []
  },
  {
   "cell_type": "code",
   "execution_count": null,
   "metadata": {},
   "outputs": [],
   "source": []
  },
  {
   "cell_type": "code",
   "execution_count": null,
   "metadata": {},
   "outputs": [],
   "source": []
  },
  {
   "cell_type": "code",
   "execution_count": null,
   "metadata": {},
   "outputs": [],
   "source": []
  },
  {
   "cell_type": "code",
   "execution_count": null,
   "metadata": {},
   "outputs": [],
   "source": []
  },
  {
   "cell_type": "markdown",
   "metadata": {},
   "source": [
    "| Screener Level X old 3 |\n",
    "|-|"
   ]
  },
  {
   "cell_type": "code",
   "execution_count": null,
   "metadata": {},
   "outputs": [],
   "source": [
    "def screen_three(df):\n",
    "    tech_data = []\n",
    "\n",
    "    for symbol in df['Symbol'].unique():\n",
    "        data = yf.download(symbol, period=\"6mo\", interval=\"1d\")\n",
    "\n",
    "        if not data.empty:\n",
    "            # Additional Indicators\n",
    "            bollinger_bands = BollingerBands(data['Close'], window=20, window_dev=2)\n",
    "            lower_band = bollinger_bands.bollinger_lband().iloc[-1]\n",
    "            upper_band = bollinger_bands.bollinger_hband().iloc[-1]\n",
    "            atr = AverageTrueRange(data['High'], data['Low'], data['Close'], window=14).average_true_range().iloc[-1]\n",
    "            stochastic = StochasticOscillator(data['High'], data['Low'], data['Close'], window=14).stoch().iloc[-1]\n",
    "            obv = OnBalanceVolumeIndicator(data['Close'], data['Volume']).on_balance_volume().iloc[-1]\n",
    "            psar = PSARIndicator(data['High'], data['Low'], data['Close']).psar().iloc[-1]\n",
    "\n",
    "            tech_data.append({\n",
    "                'Symbol': symbol,\n",
    "                'LowerBand': lower_band,\n",
    "                'UpperBand': upper_band,\n",
    "                'ATR': atr,\n",
    "                'Stochastic': stochastic,\n",
    "                'OBV': obv,\n",
    "                'PSAR': psar\n",
    "            })\n",
    "\n",
    "    tech_df = pd.DataFrame(tech_data)\n",
    "    return tech_df"
   ]
  },
  {
   "cell_type": "code",
   "execution_count": null,
   "metadata": {},
   "outputs": [],
   "source": [
    "warnings.filterwarnings(\"ignore\", category=FutureWarning, module=\"ta\")"
   ]
  },
  {
   "cell_type": "code",
   "execution_count": null,
   "metadata": {},
   "outputs": [
    {
     "name": "stderr",
     "output_type": "stream",
     "text": [
      "[*********************100%%**********************]  1 of 1 completed\n",
      "[*********************100%%**********************]  1 of 1 completed\n",
      "[*********************100%%**********************]  1 of 1 completed\n",
      "[*********************100%%**********************]  1 of 1 completed\n",
      "[*********************100%%**********************]  1 of 1 completed\n",
      "[*********************100%%**********************]  1 of 1 completed\n",
      "[*********************100%%**********************]  1 of 1 completed\n",
      "[*********************100%%**********************]  1 of 1 completed\n",
      "[*********************100%%**********************]  1 of 1 completed\n",
      "[*********************100%%**********************]  1 of 1 completed\n",
      "[*********************100%%**********************]  1 of 1 completed\n",
      "[*********************100%%**********************]  1 of 1 completed\n",
      "[*********************100%%**********************]  1 of 1 completed\n",
      "[*********************100%%**********************]  1 of 1 completed\n",
      "[*********************100%%**********************]  1 of 1 completed\n",
      "[*********************100%%**********************]  1 of 1 completed\n",
      "[*********************100%%**********************]  1 of 1 completed\n",
      "[*********************100%%**********************]  1 of 1 completed\n",
      "[*********************100%%**********************]  1 of 1 completed\n",
      "[*********************100%%**********************]  1 of 1 completed\n",
      "[*********************100%%**********************]  1 of 1 completed\n",
      "[*********************100%%**********************]  1 of 1 completed\n",
      "[*********************100%%**********************]  1 of 1 completed\n",
      "[*********************100%%**********************]  1 of 1 completed\n",
      "[*********************100%%**********************]  1 of 1 completed\n",
      "[*********************100%%**********************]  1 of 1 completed\n",
      "[*********************100%%**********************]  1 of 1 completed\n",
      "[*********************100%%**********************]  1 of 1 completed\n",
      "[*********************100%%**********************]  1 of 1 completed\n",
      "[*********************100%%**********************]  1 of 1 completed\n",
      "[*********************100%%**********************]  1 of 1 completed\n",
      "[*********************100%%**********************]  1 of 1 completed\n",
      "[*********************100%%**********************]  1 of 1 completed\n",
      "[*********************100%%**********************]  1 of 1 completed\n",
      "[*********************100%%**********************]  1 of 1 completed\n",
      "[*********************100%%**********************]  1 of 1 completed\n",
      "[*********************100%%**********************]  1 of 1 completed\n",
      "[*********************100%%**********************]  1 of 1 completed\n",
      "[*********************100%%**********************]  1 of 1 completed\n",
      "[*********************100%%**********************]  1 of 1 completed\n",
      "[*********************100%%**********************]  1 of 1 completed\n",
      "[*********************100%%**********************]  1 of 1 completed\n",
      "[*********************100%%**********************]  1 of 1 completed\n",
      "[*********************100%%**********************]  1 of 1 completed\n",
      "[*********************100%%**********************]  1 of 1 completed\n",
      "[*********************100%%**********************]  1 of 1 completed\n",
      "[*********************100%%**********************]  1 of 1 completed\n",
      "[*********************100%%**********************]  1 of 1 completed\n",
      "[*********************100%%**********************]  1 of 1 completed\n",
      "[*********************100%%**********************]  1 of 1 completed\n",
      "[*********************100%%**********************]  1 of 1 completed\n",
      "[*********************100%%**********************]  1 of 1 completed\n",
      "[*********************100%%**********************]  1 of 1 completed\n",
      "[*********************100%%**********************]  1 of 1 completed\n",
      "[*********************100%%**********************]  1 of 1 completed\n",
      "[*********************100%%**********************]  1 of 1 completed\n",
      "[*********************100%%**********************]  1 of 1 completed\n",
      "[*********************100%%**********************]  1 of 1 completed\n",
      "[*********************100%%**********************]  1 of 1 completed\n",
      "[*********************100%%**********************]  1 of 1 completed\n",
      "[*********************100%%**********************]  1 of 1 completed\n",
      "[*********************100%%**********************]  1 of 1 completed\n",
      "[*********************100%%**********************]  1 of 1 completed\n",
      "[*********************100%%**********************]  1 of 1 completed\n",
      "[*********************100%%**********************]  1 of 1 completed\n",
      "[*********************100%%**********************]  1 of 1 completed\n",
      "[*********************100%%**********************]  1 of 1 completed\n",
      "[*********************100%%**********************]  1 of 1 completed\n",
      "[*********************100%%**********************]  1 of 1 completed\n",
      "[*********************100%%**********************]  1 of 1 completed\n",
      "[*********************100%%**********************]  1 of 1 completed\n",
      "[*********************100%%**********************]  1 of 1 completed\n",
      "[*********************100%%**********************]  1 of 1 completed\n",
      "[*********************100%%**********************]  1 of 1 completed\n",
      "[*********************100%%**********************]  1 of 1 completed\n",
      "[*********************100%%**********************]  1 of 1 completed\n",
      "[*********************100%%**********************]  1 of 1 completed\n",
      "[*********************100%%**********************]  1 of 1 completed\n",
      "[*********************100%%**********************]  1 of 1 completed\n",
      "[*********************100%%**********************]  1 of 1 completed\n",
      "[*********************100%%**********************]  1 of 1 completed\n",
      "[*********************100%%**********************]  1 of 1 completed\n",
      "[*********************100%%**********************]  1 of 1 completed\n",
      "[*********************100%%**********************]  1 of 1 completed\n",
      "[*********************100%%**********************]  1 of 1 completed\n",
      "[*********************100%%**********************]  1 of 1 completed\n"
     ]
    },
    {
     "name": "stdout",
     "output_type": "stream",
     "text": [
      "\n",
      "Level III -> 43 (stocks)\n",
      "\n"
     ]
    }
   ],
   "source": [
    "# Execute -> Compute additional technical indicators\n",
    "addtl_techn_df = screen_three(gap_up_df)\n",
    "\n",
    "# Merge the additional technical indicators back to the level II dataframe\n",
    "level_three_stg_df =gap_up_df.merge(addtl_techn_df, on='Symbol')\n",
    "\n",
    "def screen_stocks_by_additional_technical_indicators(df):\n",
    "    # Filter based on additional technical indicators\n",
    "    df = df[(df['Price'] > df['LowerBand']) & (df['Price'] < df['UpperBand'])]  # Within Bollinger Bands\n",
    "    df = df[df['ATR'] > df['ATR'].mean()]  # Above average volatility\n",
    "    df = df[(df['Stochastic'] > 20) & (df['Stochastic'] < 80)]  # Avoid overbought/oversold conditions\n",
    "    df = df[df['PSAR'] < df['Price']]  # PSAR below price indicating an uptrend\n",
    "\n",
    "    return df\n",
    "\n",
    "# Apply the additional technical indicator filtering\n",
    "L3_df = screen_three(level_three_stg_df)\n",
    "\n",
    "print(f\"\\nLevel III -> {L3_df.shape[0]} (stocks)\\n\")"
   ]
  },
  {
   "cell_type": "code",
   "execution_count": null,
   "metadata": {},
   "outputs": [
    {
     "name": "stdout",
     "output_type": "stream",
     "text": [
      "3438\n"
     ]
    },
    {
     "data": {
      "text/html": [
       "<div>\n",
       "<style scoped>\n",
       "    .dataframe tbody tr th:only-of-type {\n",
       "        vertical-align: middle;\n",
       "    }\n",
       "\n",
       "    .dataframe tbody tr th {\n",
       "        vertical-align: top;\n",
       "    }\n",
       "\n",
       "    .dataframe thead th {\n",
       "        text-align: right;\n",
       "    }\n",
       "</style>\n",
       "<table border=\"1\" class=\"dataframe\">\n",
       "  <thead>\n",
       "    <tr style=\"text-align: left;\">\n",
       "      <th></th>\n",
       "      <th>Symbol</th>\n",
       "      <th>LowerBand</th>\n",
       "      <th>UpperBand</th>\n",
       "      <th>ATR</th>\n",
       "      <th>Stochastic</th>\n",
       "      <th>OBV</th>\n",
       "      <th>PSAR</th>\n",
       "    </tr>\n",
       "  </thead>\n",
       "  <tbody>\n",
       "    <tr>\n",
       "      <th>0</th>\n",
       "      <td>MKSI</td>\n",
       "      <td>125.791353</td>\n",
       "      <td>142.673651</td>\n",
       "      <td>4.715325</td>\n",
       "      <td>81.637529</td>\n",
       "      <td>12310400</td>\n",
       "      <td>127.346093</td>\n",
       "    </tr>\n",
       "    <tr>\n",
       "      <th>1</th>\n",
       "      <td>PNW</td>\n",
       "      <td>73.437872</td>\n",
       "      <td>79.436127</td>\n",
       "      <td>1.259407</td>\n",
       "      <td>89.368230</td>\n",
       "      <td>31997300</td>\n",
       "      <td>76.174156</td>\n",
       "    </tr>\n",
       "    <tr>\n",
       "      <th>2</th>\n",
       "      <td>ROIV</td>\n",
       "      <td>10.327975</td>\n",
       "      <td>11.263024</td>\n",
       "      <td>0.305409</td>\n",
       "      <td>85.355709</td>\n",
       "      <td>-58875000</td>\n",
       "      <td>10.395656</td>\n",
       "    </tr>\n",
       "    <tr>\n",
       "      <th>3</th>\n",
       "      <td>NNN</td>\n",
       "      <td>41.131878</td>\n",
       "      <td>43.723122</td>\n",
       "      <td>0.632297</td>\n",
       "      <td>90.880475</td>\n",
       "      <td>12779100</td>\n",
       "      <td>41.608561</td>\n",
       "    </tr>\n",
       "    <tr>\n",
       "      <th>4</th>\n",
       "      <td>SKM</td>\n",
       "      <td>20.505185</td>\n",
       "      <td>21.286815</td>\n",
       "      <td>0.239628</td>\n",
       "      <td>92.500060</td>\n",
       "      <td>4788000</td>\n",
       "      <td>20.632271</td>\n",
       "    </tr>\n",
       "  </tbody>\n",
       "</table>\n",
       "</div>"
      ],
      "text/plain": [
       "  Symbol  LowerBand   UpperBand   ATR       Stochastic  OBV       PSAR      \n",
       "0  MKSI   125.791353  142.673651  4.715325  81.637529   12310400  127.346093\n",
       "1   PNW    73.437872   79.436127  1.259407  89.368230   31997300   76.174156\n",
       "2  ROIV    10.327975   11.263024  0.305409  85.355709  -58875000   10.395656\n",
       "3   NNN    41.131878   43.723122  0.632297  90.880475   12779100   41.608561\n",
       "4   SKM    20.505185   21.286815  0.239628  92.500060    4788000   20.632271"
      ]
     },
     "execution_count": 136,
     "metadata": {},
     "output_type": "execute_result"
    }
   ],
   "source": [
    "# print\n",
    "print(len(f\"{L3_df} stocks\"))\n",
    "L3_df.head(5)"
   ]
  },
  {
   "cell_type": "markdown",
   "metadata": {},
   "source": [
    "| Screener Level 4 |\n",
    "|-|"
   ]
  },
  {
   "cell_type": "code",
   "execution_count": null,
   "metadata": {},
   "outputs": [],
   "source": []
  },
  {
   "cell_type": "code",
   "execution_count": null,
   "metadata": {},
   "outputs": [],
   "source": []
  },
  {
   "cell_type": "code",
   "execution_count": null,
   "metadata": {},
   "outputs": [],
   "source": []
  },
  {
   "cell_type": "code",
   "execution_count": null,
   "metadata": {},
   "outputs": [],
   "source": []
  },
  {
   "cell_type": "code",
   "execution_count": null,
   "metadata": {},
   "outputs": [],
   "source": []
  },
  {
   "cell_type": "code",
   "execution_count": null,
   "metadata": {},
   "outputs": [],
   "source": []
  },
  {
   "cell_type": "code",
   "execution_count": null,
   "metadata": {},
   "outputs": [],
   "source": []
  },
  {
   "cell_type": "code",
   "execution_count": null,
   "metadata": {},
   "outputs": [],
   "source": []
  },
  {
   "cell_type": "code",
   "execution_count": null,
   "metadata": {},
   "outputs": [],
   "source": []
  },
  {
   "cell_type": "code",
   "execution_count": null,
   "metadata": {},
   "outputs": [
    {
     "name": "stdout",
     "output_type": "stream",
     "text": [
      "['MKSI', 'PNW', 'ROIV', 'NNN', 'WBS', 'CLS', 'BPOP', 'SNV', 'WHR', 'MOD', 'FNB', 'BIPC', 'COLB', 'GBCI', 'IPGP', 'HTGC', 'MAC', 'QFIN', 'AROC', 'FULT', 'MWA', 'EBC', 'PPBI']\n",
      "23\n"
     ]
    }
   ],
   "source": [
    "# return a list of symbols from the simple_gap_df\n",
    "enhanced_stock_list = enhanced_gap_df['Symbol'].unique().tolist()\n",
    "\n",
    "print(enhanced_stock_list)\n",
    "print(len(enhanced_stock_list))"
   ]
  },
  {
   "cell_type": "code",
   "execution_count": null,
   "metadata": {},
   "outputs": [
    {
     "name": "stderr",
     "output_type": "stream",
     "text": [
      "[*********************100%%**********************]  1 of 1 completed\n",
      "[*********************100%%**********************]  1 of 1 completed\n",
      "[*********************100%%**********************]  1 of 1 completed\n",
      "[*********************100%%**********************]  1 of 1 completed\n",
      "[*********************100%%**********************]  1 of 1 completed\n",
      "[*********************100%%**********************]  1 of 1 completed\n",
      "[*********************100%%**********************]  1 of 1 completed\n",
      "[*********************100%%**********************]  1 of 1 completed\n",
      "[*********************100%%**********************]  1 of 1 completed\n",
      "[*********************100%%**********************]  1 of 1 completed\n",
      "[*********************100%%**********************]  1 of 1 completed\n",
      "[*********************100%%**********************]  1 of 1 completed\n",
      "[*********************100%%**********************]  1 of 1 completed\n",
      "[*********************100%%**********************]  1 of 1 completed\n",
      "[*********************100%%**********************]  1 of 1 completed\n",
      "[*********************100%%**********************]  1 of 1 completed\n",
      "[*********************100%%**********************]  1 of 1 completed\n",
      "[*********************100%%**********************]  1 of 1 completed\n",
      "[*********************100%%**********************]  1 of 1 completed\n",
      "[*********************100%%**********************]  1 of 1 completed\n",
      "[*********************100%%**********************]  1 of 1 completed\n",
      "[*********************100%%**********************]  1 of 1 completed\n",
      "[*********************100%%**********************]  1 of 1 completed"
     ]
    },
    {
     "name": "stdout",
     "output_type": "stream",
     "text": [
      "(23, 3)\n",
      "   Symbol  yahoo_current_price yahoo_timestamp          \n",
      "0   MKSI   142.679993          2024-07-12 09:30:00-04:00\n",
      "1    PNW    79.790001          2024-07-12 09:30:00-04:00\n",
      "2   ROIV    11.310000          2024-07-12 09:30:00-04:00\n",
      "3    NNN    44.279999          2024-07-12 09:30:00-04:00\n",
      "4    WBS    46.750000          2024-07-12 09:30:00-04:00\n",
      "5    CLS    59.255001          2024-07-12 09:30:00-04:00\n",
      "6   BPOP    93.540001          2024-07-12 09:30:00-04:00\n",
      "7    SNV    42.465000          2024-07-12 09:30:00-04:00\n",
      "8    WHR   109.605598          2024-07-12 09:30:00-04:00\n",
      "9    MOD   108.251999          2024-07-12 09:30:00-04:00\n",
      "10   FNB    14.410000          2024-07-12 09:30:00-04:00\n",
      "11  BIPC    36.009998          2024-07-12 09:30:00-04:00\n",
      "12  COLB    21.500000          2024-07-12 09:30:00-04:00\n",
      "13  GBCI    40.240002          2024-07-12 09:30:00-04:00\n",
      "14  IPGP    88.870003          2024-07-12 09:30:00-04:00\n",
      "15  HTGC    21.219000          2024-07-12 09:30:00-04:00\n",
      "16   MAC    15.665500          2024-07-12 09:30:00-04:00\n",
      "17  QFIN    20.330000          2024-07-12 09:30:00-04:00\n",
      "18  AROC    21.799999          2024-07-12 09:30:00-04:00\n",
      "19  FULT    17.530001          2024-07-12 09:30:00-04:00\n",
      "20   MWA    19.250000          2024-07-12 09:30:00-04:00\n",
      "21   EBC    14.990000          2024-07-12 09:30:00-04:00\n",
      "22  PPBI    24.950001          2024-07-12 09:30:00-04:00\n",
      "(23, 15)\n",
      "(23, 17)\n"
     ]
    },
    {
     "name": "stderr",
     "output_type": "stream",
     "text": [
      "\n"
     ]
    }
   ],
   "source": [
    "def get_premarket_prices(symbols):\n",
    "    premarket_data = []\n",
    "\n",
    "    for symbol in symbols:\n",
    "        # Retrieve the historical data for the last two days including pre/post market data\n",
    "        data = yf.download(symbol, period=\"2d\", interval=\"1m\", prepost=True)\n",
    "        \n",
    "        if not data.empty:\n",
    "            # Filter pre-market data\n",
    "            premarket_data_today = data.between_time('04:00', '09:30')\n",
    "            \n",
    "            if not premarket_data_today.empty:\n",
    "                # Get the last pre-market price and timestamp\n",
    "                current_price = premarket_data_today.iloc[-1]['Close']\n",
    "                timestamp = premarket_data_today.index[-1]\n",
    "                \n",
    "                premarket_data.append([symbol, current_price, timestamp])\n",
    "\n",
    "    # Create a DataFrame with columns Symbol, Current Price, and Timestamp\n",
    "    premarket_prices_df = pd.DataFrame(premarket_data, columns=['Symbol', 'yahoo_current_price', 'yahoo_timestamp'])\n",
    "\n",
    "    return premarket_prices_df\n",
    "\n",
    "# get the pre-market prices for the symbols\n",
    "premarket_df = get_premarket_prices(enhanced_stock_list)\n",
    "\n",
    "print(premarket_df.shape)\n",
    "print(premarket_df)\n",
    "\n",
    "# join premarket_df with enhanced_gap_df\n",
    "targets_df = enhanced_gap_df.merge(premarket_df, on='Symbol')\n",
    "\n",
    "print(enhanced_gap_df.shape)\n",
    "print(targets_df.shape)"
   ]
  },
  {
   "cell_type": "code",
   "execution_count": null,
   "metadata": {},
   "outputs": [
    {
     "data": {
      "text/html": [
       "<div>\n",
       "<style scoped>\n",
       "    .dataframe tbody tr th:only-of-type {\n",
       "        vertical-align: middle;\n",
       "    }\n",
       "\n",
       "    .dataframe tbody tr th {\n",
       "        vertical-align: top;\n",
       "    }\n",
       "\n",
       "    .dataframe thead th {\n",
       "        text-align: right;\n",
       "    }\n",
       "</style>\n",
       "<table border=\"1\" class=\"dataframe\">\n",
       "  <thead>\n",
       "    <tr style=\"text-align: left;\">\n",
       "      <th></th>\n",
       "      <th>Symbol</th>\n",
       "      <th>Description</th>\n",
       "      <th>Pre-market Change %</th>\n",
       "      <th>Pre-market Gap %</th>\n",
       "      <th>marketCapType</th>\n",
       "      <th>Price</th>\n",
       "      <th>Pre-market Open</th>\n",
       "      <th>Industry</th>\n",
       "      <th>Index</th>\n",
       "      <th>Sector</th>\n",
       "      <th>Exchange</th>\n",
       "      <th>RSI</th>\n",
       "      <th>MA20</th>\n",
       "      <th>MA50</th>\n",
       "      <th>MACD</th>\n",
       "      <th>yahoo_current_price</th>\n",
       "      <th>yahoo_timestamp</th>\n",
       "    </tr>\n",
       "  </thead>\n",
       "  <tbody>\n",
       "    <tr>\n",
       "      <th>0</th>\n",
       "      <td>MKSI</td>\n",
       "      <td>MKS Instruments, Inc.</td>\n",
       "      <td>1.159115</td>\n",
       "      <td>1.159115</td>\n",
       "      <td>Midlers</td>\n",
       "      <td>142.35</td>\n",
       "      <td>144.00</td>\n",
       "      <td>Industrial machinery</td>\n",
       "      <td>NASDAQ Composite, S&amp;P MidCap 400, Russell 3000, Russell 1000, NASDAQ Industrials</td>\n",
       "      <td>Producer manufacturing</td>\n",
       "      <td>NASDAQ</td>\n",
       "      <td>66.922984</td>\n",
       "      <td>134.232502</td>\n",
       "      <td>130.079801</td>\n",
       "      <td>1.034348</td>\n",
       "      <td>142.679993</td>\n",
       "      <td>2024-07-12 09:30:00-04:00</td>\n",
       "    </tr>\n",
       "    <tr>\n",
       "      <th>1</th>\n",
       "      <td>PNW</td>\n",
       "      <td>Pinnacle West Capital Corporation</td>\n",
       "      <td>0.471398</td>\n",
       "      <td>0.458657</td>\n",
       "      <td>Midlers</td>\n",
       "      <td>78.49</td>\n",
       "      <td>78.85</td>\n",
       "      <td>Electric utilities</td>\n",
       "      <td>S&amp;P 500, S&amp;P 500 Utilities, Russell 3000, Russell 1000, PHLX Utilities Sector</td>\n",
       "      <td>Utilities</td>\n",
       "      <td>NYSE</td>\n",
       "      <td>69.233223</td>\n",
       "      <td>76.437000</td>\n",
       "      <td>76.702400</td>\n",
       "      <td>0.507085</td>\n",
       "      <td>79.790001</td>\n",
       "      <td>2024-07-12 09:30:00-04:00</td>\n",
       "    </tr>\n",
       "  </tbody>\n",
       "</table>\n",
       "</div>"
      ],
      "text/plain": [
       "  Symbol Description                         Pre-market Change %  \\\n",
       "0  MKSI               MKS Instruments, Inc.  1.159115              \n",
       "1   PNW   Pinnacle West Capital Corporation  0.471398              \n",
       "\n",
       "   Pre-market Gap % marketCapType  Price   Pre-market Open  \\\n",
       "0  1.159115          Midlers       142.35  144.00            \n",
       "1  0.458657          Midlers        78.49   78.85            \n",
       "\n",
       "  Industry               \\\n",
       "0  Industrial machinery   \n",
       "1    Electric utilities   \n",
       "\n",
       "  Index                                                                              \\\n",
       "0  NASDAQ Composite, S&P MidCap 400, Russell 3000, Russell 1000, NASDAQ Industrials   \n",
       "1     S&P 500, S&P 500 Utilities, Russell 3000, Russell 1000, PHLX Utilities Sector   \n",
       "\n",
       "  Sector                  Exchange  RSI        MA20        MA50        \\\n",
       "0  Producer manufacturing  NASDAQ   66.922984  134.232502  130.079801   \n",
       "1               Utilities    NYSE   69.233223   76.437000   76.702400   \n",
       "\n",
       "   MACD      yahoo_current_price yahoo_timestamp            \n",
       "0  1.034348  142.679993          2024-07-12 09:30:00-04:00  \n",
       "1  0.507085   79.790001          2024-07-12 09:30:00-04:00  "
      ]
     },
     "execution_count": 95,
     "metadata": {},
     "output_type": "execute_result"
    }
   ],
   "source": [
    "targets_df.head(2)"
   ]
  },
  {
   "cell_type": "code",
   "execution_count": null,
   "metadata": {},
   "outputs": [],
   "source": []
  },
  {
   "cell_type": "code",
   "execution_count": null,
   "metadata": {},
   "outputs": [],
   "source": []
  },
  {
   "cell_type": "code",
   "execution_count": null,
   "metadata": {},
   "outputs": [],
   "source": [
    "#### ---- Quick Stary Backtesting ---- ####\n",
    "def add_stock_data(df):\n",
    "    symbols = df['Symbol'].tolist()\n",
    "    stock_data = {}\n",
    "\n",
    "    for symbol in symbols:\n",
    "        stock_info = yf.Ticker(symbol)\n",
    "        today_data = stock_info.history(period='1d')\n",
    "        \n",
    "        if not today_data.empty:\n",
    "            stock_data[symbol] = {\n",
    "                'High': today_data['High'].values[0],\n",
    "                'Low': today_data['Low'].values[0],\n",
    "                'Open': today_data['Open'].values[0],\n",
    "                'Close': today_data['Close'].values[0],\n",
    "                'Date': today_data.index[0]\n",
    "            }\n",
    "        else:\n",
    "            stock_data[symbol] = {\n",
    "                'High': None,\n",
    "                'Low': None,\n",
    "                'Open': None,\n",
    "                'Close': None,\n",
    "                'Date': None\n",
    "            }\n",
    "\n",
    "    # create a DataFrame from the stock data dictionary\n",
    "    stock_data_df = pd.DataFrame(stock_data).T.reset_index().rename(columns={'index': 'Symbol'})\n",
    "    \n",
    "    # merge the new stock data with the existing DataFrame\n",
    "    updated_df = pd.merge(df, stock_data_df, on='Symbol', how='left')\n",
    "    \n",
    "    return updated_df\n",
    "\n",
    "# fetch prices at specific times\n",
    "def add_intraday_prices(df, interval='1m'):\n",
    "    symbols = df['Symbol'].tolist()\n",
    "    intraday_data = []\n",
    "\n",
    "    for symbol in symbols:\n",
    "        stock_info = yf.Ticker(symbol)\n",
    "        today_intraday = stock_info.history(interval=interval, period='1d')\n",
    "        \n",
    "        # convert the index to Eastern time zone (eastern is default for NYSE and NASDAQ)\n",
    "        today_intraday.index = today_intraday.index.tz_convert('US/Eastern')\n",
    "        \n",
    "        # find the closest times to 09:33 PST and 07:15 PST\n",
    "        price_0933 = today_intraday.between_time('09:33', '09:34')['Close']\n",
    "        price_1015 = today_intraday.between_time('10:15', '10:16')['Close']\n",
    "        \n",
    "        # use the first available price in the range if not empty\n",
    "        price_0933_value = price_0933.values[0] if not price_0933.empty else None\n",
    "        price_1015_value = price_1015.values[0] if not price_1015.empty else None\n",
    "        \n",
    "        intraday_data.append({\n",
    "            'Symbol': symbol,\n",
    "            'Price@09:33': price_0933_value,\n",
    "            'Price@10:15': price_1015_value\n",
    "        })\n",
    "\n",
    "    # create a df from intraday data list\n",
    "    intraday_data_df = pd.DataFrame(intraday_data)\n",
    "    \n",
    "    return intraday_data_df"
   ]
  },
  {
   "cell_type": "code",
   "execution_count": null,
   "metadata": {},
   "outputs": [],
   "source": [
    "# add stock data to existing df\n",
    "qstart_bt_df = add_stock_data(targets_df)\n",
    "\n",
    "# fetch intraday prices and merge with the existing df\n",
    "intraday_prices_df = add_intraday_prices(targets_df)\n",
    "qstart_bt_df = pd.merge(qstart_bt_df, intraday_prices_df, on='Symbol', how='left')"
   ]
  },
  {
   "cell_type": "code",
   "execution_count": null,
   "metadata": {},
   "outputs": [
    {
     "name": "stdout",
     "output_type": "stream",
     "text": [
      "23\n",
      "Index(['Symbol', 'Description', 'Pre-market Change %', 'Pre-market Gap %',\n",
      "       'marketCapType', 'Price', 'Pre-market Open', 'Industry', 'Index',\n",
      "       'Sector', 'Exchange', 'RSI', 'MA20', 'MA50', 'MACD',\n",
      "       'yahoo_current_price', 'yahoo_timestamp', 'High', 'Low', 'Open',\n",
      "       'Close', 'Date', 'Price@09:33', 'Price@10:15'],\n",
      "      dtype='object')\n"
     ]
    }
   ],
   "source": [
    "print(len(qstart_bt_df))\n",
    "print(qstart_bt_df.columns)"
   ]
  },
  {
   "cell_type": "markdown",
   "metadata": {},
   "source": [
    "| SCREEN LEVEL III |\n",
    "|-|"
   ]
  },
  {
   "cell_type": "code",
   "execution_count": null,
   "metadata": {},
   "outputs": [],
   "source": []
  },
  {
   "cell_type": "code",
   "execution_count": null,
   "metadata": {},
   "outputs": [],
   "source": []
  },
  {
   "cell_type": "code",
   "execution_count": null,
   "metadata": {},
   "outputs": [],
   "source": []
  },
  {
   "cell_type": "code",
   "execution_count": null,
   "metadata": {},
   "outputs": [],
   "source": []
  },
  {
   "cell_type": "code",
   "execution_count": null,
   "metadata": {},
   "outputs": [],
   "source": []
  },
  {
   "cell_type": "code",
   "execution_count": null,
   "metadata": {},
   "outputs": [],
   "source": []
  },
  {
   "cell_type": "code",
   "execution_count": null,
   "metadata": {},
   "outputs": [],
   "source": [
    "# setup column ordering\n",
    "backtest_df_cols = ['Symbol', \n",
    "                    'Description', \n",
    "                    'Pre-market Change %', \n",
    "                    'Pre-market Gap %', \n",
    "                    'marketCapType', \n",
    "                    'Price', \n",
    "                    'Pre-market Open', \n",
    "                    'Industry', \n",
    "                    'Index', 'Sector', \n",
    "                    'Exchange', \n",
    "                    'Current Price',\n",
    "                    'High', \n",
    "                    'Low', \n",
    "                    'Open', \n",
    "                    'Close', \n",
    "                    'Date', \n",
    "                    'Price@09:33', \n",
    "                    'Price@10:15']"
   ]
  },
  {
   "cell_type": "code",
   "execution_count": null,
   "metadata": {},
   "outputs": [],
   "source": [
    "#### START WORK HERE"
   ]
  },
  {
   "cell_type": "code",
   "execution_count": null,
   "metadata": {},
   "outputs": [],
   "source": [
    "#### START HERE SUDZ DEV #############################\n",
    "# figure out and order your cols\n",
    "# backtest all of these\n",
    "# determine default buy, sell, and your exit order simultaneous order\n",
    "# think about visual chart also\n",
    "# could have a tear sheat of your record. yes yes yes yes\n",
    "\n",
    "# you have like 4 dataframes fuck\n",
    "# simple_gap_df, enhanced_df, premarket_df, and qstart_bt_df\n",
    "\n",
    "# NEWS also but maybe get to that on the weekend and tee up for next week.\n",
    "\n",
    "# default buy @ 0632\n",
    "# default sell @ 0705\n",
    "# default shares = 1000"
   ]
  },
  {
   "cell_type": "code",
   "execution_count": null,
   "metadata": {},
   "outputs": [],
   "source": [
    "# visually verifying is fine\n",
    "# but we have to put some other reliable mechanism here to create more conviction from screen L1 -> screen L2 -> screen L"
   ]
  },
  {
   "cell_type": "code",
   "execution_count": null,
   "metadata": {},
   "outputs": [],
   "source": [
    "# #### ---- DAY TARGETS ---- ####\n",
    "# secondary_list = ['ATRA', 'WIX', 'PNW', 'FRT', 'CGNX', 'ROIV', 'RBC',]\n",
    "\n",
    "# # create day_df from simple gap df applying a filter matching symbols in day_target_list\n",
    "# second_df = simple_gap_df[simple_gap_df['Symbol'].isin(secondary_list)]\n",
    "\n",
    "# second_df\n"
   ]
  },
  {
   "cell_type": "markdown",
   "metadata": {},
   "source": [
    "| SCREEN LEVEL IV |\n",
    "|-|\n",
    "| Primary TARGETs (PTs) |\n",
    "| PTs >= 2 |"
   ]
  },
  {
   "cell_type": "code",
   "execution_count": null,
   "metadata": {},
   "outputs": [],
   "source": [
    "# start level 3 basic probably with just narrowing the RSI then go from there"
   ]
  },
  {
   "cell_type": "code",
   "execution_count": null,
   "metadata": {},
   "outputs": [],
   "source": [
    "# do i need a time var here for the pre-market prices?\n",
    "# other apis for pre-market and nasdaq registration\n",
    "# iex api deprecating in August 2"
   ]
  },
  {
   "cell_type": "code",
   "execution_count": null,
   "metadata": {},
   "outputs": [
    {
     "name": "stdout",
     "output_type": "stream",
     "text": [
      "['ACLS', 'MNSO']\n",
      "(0, 15)\n"
     ]
    },
    {
     "data": {
      "text/html": [
       "<div>\n",
       "<style scoped>\n",
       "    .dataframe tbody tr th:only-of-type {\n",
       "        vertical-align: middle;\n",
       "    }\n",
       "\n",
       "    .dataframe tbody tr th {\n",
       "        vertical-align: top;\n",
       "    }\n",
       "\n",
       "    .dataframe thead th {\n",
       "        text-align: right;\n",
       "    }\n",
       "</style>\n",
       "<table border=\"1\" class=\"dataframe\">\n",
       "  <thead>\n",
       "    <tr style=\"text-align: left;\">\n",
       "      <th></th>\n",
       "      <th>Symbol</th>\n",
       "      <th>Description</th>\n",
       "      <th>Pre-market Change %</th>\n",
       "      <th>Pre-market Gap %</th>\n",
       "      <th>marketCapType</th>\n",
       "      <th>Price</th>\n",
       "      <th>Pre-market Open</th>\n",
       "      <th>Industry</th>\n",
       "      <th>Index</th>\n",
       "      <th>Sector</th>\n",
       "      <th>Exchange</th>\n",
       "      <th>RSI</th>\n",
       "      <th>MA20</th>\n",
       "      <th>MA50</th>\n",
       "      <th>MACD</th>\n",
       "    </tr>\n",
       "  </thead>\n",
       "  <tbody>\n",
       "  </tbody>\n",
       "</table>\n",
       "</div>"
      ],
      "text/plain": [
       "Empty DataFrame\n",
       "Columns: [Symbol, Description, Pre-market Change %, Pre-market Gap %, marketCapType, Price, Pre-market Open, Industry, Index, Sector, Exchange, RSI, MA20, MA50, MACD]\n",
       "Index: []"
      ]
     },
     "execution_count": 78,
     "metadata": {},
     "output_type": "execute_result"
    }
   ],
   "source": [
    "# # return primary targets from df\n",
    "# pt_list = ['ACLS', 'MNSO']\n",
    "# pt_df = simple_gap_df[simple_gap_df['Symbol'].isin(pt_list)]\n",
    "\n",
    "# print(pt_list)\n",
    "# print(pt_df.shape)\n",
    "# pt_df"
   ]
  },
  {
   "cell_type": "code",
   "execution_count": null,
   "metadata": {},
   "outputs": [],
   "source": [
    "#### DEV ####\n",
    "\n",
    "\n",
    "\n",
    "\n",
    "\n",
    "\n",
    "\n",
    "\n",
    "\n",
    "\n"
   ]
  },
  {
   "cell_type": "code",
   "execution_count": null,
   "metadata": {},
   "outputs": [],
   "source": []
  },
  {
   "cell_type": "code",
   "execution_count": null,
   "metadata": {},
   "outputs": [],
   "source": []
  },
  {
   "cell_type": "code",
   "execution_count": null,
   "metadata": {},
   "outputs": [
    {
     "name": "stdout",
     "output_type": "stream",
     "text": [
      "['WIX', 'PNW', 'FRT', 'CGNX', 'ROIV', 'RBC', 'SFM', 'NNN', 'FLR', 'WBS', 'ENSG', 'CBSH', 'EXP', 'OGE', 'RMBS', 'CMA', 'AGI', 'ZION', 'BPOP', 'SUM', 'JAZZ', 'SNV', 'TMHC', 'VVV', 'WHR', 'MOD', 'SITE', 'COOP', 'R', 'ATKR', 'ZWS', 'FNB', 'KBH', 'AVAV', 'COLB', 'GBCI', 'PAGS', 'FFIN', 'UMBF', 'HGV', 'URBN', 'IPGP', 'ALE', 'SHAK', 'VLY', 'APLE', 'AX', 'QFIN', 'AROC', 'APAM', 'YETI', 'GFF', 'FULT', 'NHI', 'SKT', 'MWA', 'ABR', 'LXP', 'FHB', 'CBU', 'EBC', 'WAFD', 'BFH', 'PPBI']\n",
      "['ATRA', 'WIX', 'PNW', 'FRT', 'CGNX', 'ROIV', 'RBC']\n",
      "['ACLS', 'MNSO']\n"
     ]
    }
   ],
   "source": [
    "#### ---- Quickstart Backtest ---- ####\n",
    "# manually set target list (>= 2 stocks)\n",
    "manual_day_list = ['ACLS', 'MNSO',]\n",
    "\n",
    "print(first_list)\n",
    "print(secondary_list)\n",
    "# print(manual_day_list)\n",
    "print(pt_list)"
   ]
  },
  {
   "cell_type": "code",
   "execution_count": null,
   "metadata": {},
   "outputs": [
    {
     "data": {
      "text/html": [
       "<div>\n",
       "<style scoped>\n",
       "    .dataframe tbody tr th:only-of-type {\n",
       "        vertical-align: middle;\n",
       "    }\n",
       "\n",
       "    .dataframe tbody tr th {\n",
       "        vertical-align: top;\n",
       "    }\n",
       "\n",
       "    .dataframe thead th {\n",
       "        text-align: right;\n",
       "    }\n",
       "</style>\n",
       "<table border=\"1\" class=\"dataframe\">\n",
       "  <thead>\n",
       "    <tr style=\"text-align: left;\">\n",
       "      <th></th>\n",
       "      <th>Symbol</th>\n",
       "      <th>Description</th>\n",
       "      <th>Index</th>\n",
       "    </tr>\n",
       "  </thead>\n",
       "  <tbody>\n",
       "  </tbody>\n",
       "</table>\n",
       "</div>"
      ],
      "text/plain": [
       "Empty DataFrame\n",
       "Columns: [Symbol, Description, Index]\n",
       "Index: []"
      ]
     },
     "execution_count": 80,
     "metadata": {},
     "output_type": "execute_result"
    }
   ],
   "source": [
    "# return a new dataframe with only the stocks in the manual_day_list\n",
    "manual_day_df = simple_gap_df[simple_gap_df['Symbol'].isin(manual_day_list)]\n",
    "# use iloc to select first two cols\n",
    "manual_day_df = manual_day_df.iloc[:, [0, 1, 8]]\n",
    "\n",
    "manual_day_df"
   ]
  },
  {
   "cell_type": "code",
   "execution_count": null,
   "metadata": {},
   "outputs": [
    {
     "name": "stdout",
     "output_type": "stream",
     "text": [
      "  Symbol Description                   High        Low        \n",
      "0  MNSO   MINISO Group Holding Limited   19.549999       18.93\n",
      "1  ACLS     Axcelis Technologies, Inc.  158.610001  151.669998\n"
     ]
    }
   ],
   "source": [
    "# create staging df for high and low prices\n",
    "high_low_time_df = qstart_bt_df[['Symbol', 'Description', 'High', 'Low']]\n",
    "\n",
    "print(high_low_time_df)"
   ]
  },
  {
   "cell_type": "code",
   "execution_count": null,
   "metadata": {},
   "outputs": [
    {
     "name": "stdout",
     "output_type": "stream",
     "text": [
      "  Symbol Description                   High        Low         high_time_stamp           low_time_stamp           \n",
      "0  MNSO   MINISO Group Holding Limited   19.549999       18.93 2024-07-10 09:48:00-04:00 2024-07-10 15:37:00-04:00\n",
      "1  ACLS     Axcelis Technologies, Inc.  158.610001  151.669998 2024-07-10 09:45:00-04:00 2024-07-10 09:30:00-04:00\n"
     ]
    },
    {
     "name": "stderr",
     "output_type": "stream",
     "text": [
      "/var/folders/8w/4mj_4m4d0rs1q22bl9g77hhw0000gn/T/ipykernel_68713/118328880.py:9: SettingWithCopyWarning: \n",
      "A value is trying to be set on a copy of a slice from a DataFrame.\n",
      "Try using .loc[row_indexer,col_indexer] = value instead\n",
      "\n",
      "See the caveats in the documentation: https://pandas.pydata.org/pandas-docs/stable/user_guide/indexing.html#returning-a-view-versus-a-copy\n",
      "  high_low_time_df[['high_time_stamp', 'low_time_stamp']] = high_low_time_df['Symbol'].apply(\n",
      "/var/folders/8w/4mj_4m4d0rs1q22bl9g77hhw0000gn/T/ipykernel_68713/118328880.py:9: SettingWithCopyWarning: \n",
      "A value is trying to be set on a copy of a slice from a DataFrame.\n",
      "Try using .loc[row_indexer,col_indexer] = value instead\n",
      "\n",
      "See the caveats in the documentation: https://pandas.pydata.org/pandas-docs/stable/user_guide/indexing.html#returning-a-view-versus-a-copy\n",
      "  high_low_time_df[['high_time_stamp', 'low_time_stamp']] = high_low_time_df['Symbol'].apply(\n"
     ]
    }
   ],
   "source": [
    "# fetch the timestamps @ high and low price marks\n",
    "def get_high_low_timestamps(symbol, interval='1m', period='1d'):\n",
    "    data = yf.Ticker(symbol).history(interval=interval, period=period)\n",
    "    high_time_stamp = data['High'].idxmax()\n",
    "    low_time_stamp = data['Low'].idxmin()\n",
    "    return high_time_stamp, low_time_stamp\n",
    "\n",
    "# fetch timestamps and update the df\n",
    "high_low_time_df[['high_time_stamp', 'low_time_stamp']] = high_low_time_df['Symbol'].apply(\n",
    "    lambda symbol: pd.Series(get_high_low_timestamps(symbol))\n",
    ")\n",
    "\n",
    "print(high_low_time_df)"
   ]
  },
  {
   "cell_type": "code",
   "execution_count": null,
   "metadata": {},
   "outputs": [
    {
     "name": "stderr",
     "output_type": "stream",
     "text": [
      "/var/folders/8w/4mj_4m4d0rs1q22bl9g77hhw0000gn/T/ipykernel_68713/2157241607.py:2: SettingWithCopyWarning: \n",
      "A value is trying to be set on a copy of a slice from a DataFrame.\n",
      "Try using .loc[row_indexer,col_indexer] = value instead\n",
      "\n",
      "See the caveats in the documentation: https://pandas.pydata.org/pandas-docs/stable/user_guide/indexing.html#returning-a-view-versus-a-copy\n",
      "  high_low_time_df['high_time_stamp'] = high_low_time_df['high_time_stamp'].dt.time\n",
      "/var/folders/8w/4mj_4m4d0rs1q22bl9g77hhw0000gn/T/ipykernel_68713/2157241607.py:3: SettingWithCopyWarning: \n",
      "A value is trying to be set on a copy of a slice from a DataFrame.\n",
      "Try using .loc[row_indexer,col_indexer] = value instead\n",
      "\n",
      "See the caveats in the documentation: https://pandas.pydata.org/pandas-docs/stable/user_guide/indexing.html#returning-a-view-versus-a-copy\n",
      "  high_low_time_df['low_time_stamp'] = high_low_time_df['low_time_stamp'].dt.time\n"
     ]
    },
    {
     "data": {
      "text/html": [
       "<div>\n",
       "<style scoped>\n",
       "    .dataframe tbody tr th:only-of-type {\n",
       "        vertical-align: middle;\n",
       "    }\n",
       "\n",
       "    .dataframe tbody tr th {\n",
       "        vertical-align: top;\n",
       "    }\n",
       "\n",
       "    .dataframe thead th {\n",
       "        text-align: right;\n",
       "    }\n",
       "</style>\n",
       "<table border=\"1\" class=\"dataframe\">\n",
       "  <thead>\n",
       "    <tr style=\"text-align: left;\">\n",
       "      <th></th>\n",
       "      <th>Symbol</th>\n",
       "      <th>Description</th>\n",
       "      <th>High</th>\n",
       "      <th>Low</th>\n",
       "      <th>high_time_stamp</th>\n",
       "      <th>low_time_stamp</th>\n",
       "    </tr>\n",
       "  </thead>\n",
       "  <tbody>\n",
       "    <tr>\n",
       "      <th>0</th>\n",
       "      <td>MNSO</td>\n",
       "      <td>MINISO Group Holding Limited</td>\n",
       "      <td>19.549999</td>\n",
       "      <td>18.93</td>\n",
       "      <td>09:48:00</td>\n",
       "      <td>15:37:00</td>\n",
       "    </tr>\n",
       "    <tr>\n",
       "      <th>1</th>\n",
       "      <td>ACLS</td>\n",
       "      <td>Axcelis Technologies, Inc.</td>\n",
       "      <td>158.610001</td>\n",
       "      <td>151.669998</td>\n",
       "      <td>09:45:00</td>\n",
       "      <td>09:30:00</td>\n",
       "    </tr>\n",
       "  </tbody>\n",
       "</table>\n",
       "</div>"
      ],
      "text/plain": [
       "  Symbol Description                   High        Low         high_time_stamp low_time_stamp\n",
       "0  MNSO   MINISO Group Holding Limited   19.549999       18.93  09:48:00        15:37:00     \n",
       "1  ACLS     Axcelis Technologies, Inc.  158.610001  151.669998  09:45:00        09:30:00     "
      ]
     },
     "execution_count": 31,
     "metadata": {},
     "output_type": "execute_result"
    }
   ],
   "source": [
    "# transform time string data\n",
    "high_low_time_df['high_time_stamp'] = high_low_time_df['high_time_stamp'].dt.time\n",
    "high_low_time_df['low_time_stamp'] = high_low_time_df['low_time_stamp'].dt.time\n",
    "\n",
    "high_low_time_df"
   ]
  },
  {
   "cell_type": "code",
   "execution_count": null,
   "metadata": {},
   "outputs": [
    {
     "data": {
      "text/html": [
       "<div>\n",
       "<style scoped>\n",
       "    .dataframe tbody tr th:only-of-type {\n",
       "        vertical-align: middle;\n",
       "    }\n",
       "\n",
       "    .dataframe tbody tr th {\n",
       "        vertical-align: top;\n",
       "    }\n",
       "\n",
       "    .dataframe thead th {\n",
       "        text-align: right;\n",
       "    }\n",
       "</style>\n",
       "<table border=\"1\" class=\"dataframe\">\n",
       "  <thead>\n",
       "    <tr style=\"text-align: left;\">\n",
       "      <th></th>\n",
       "      <th>Symbol</th>\n",
       "      <th>Description</th>\n",
       "      <th>Index</th>\n",
       "      <th>High</th>\n",
       "      <th>Low</th>\n",
       "      <th>Open</th>\n",
       "      <th>Close</th>\n",
       "      <th>Date</th>\n",
       "      <th>Price@09:33</th>\n",
       "      <th>Price@10:15</th>\n",
       "      <th>high_time_stamp</th>\n",
       "      <th>low_time_stamp</th>\n",
       "    </tr>\n",
       "  </thead>\n",
       "  <tbody>\n",
       "    <tr>\n",
       "      <th>0</th>\n",
       "      <td>MNSO</td>\n",
       "      <td>MINISO Group Holding Limited</td>\n",
       "      <td>NASDAQ Golden Dragon China</td>\n",
       "      <td>19.549999</td>\n",
       "      <td>18.93</td>\n",
       "      <td>19.1</td>\n",
       "      <td>19.16</td>\n",
       "      <td>2024-07-10</td>\n",
       "      <td>19.075001</td>\n",
       "      <td>19.229099</td>\n",
       "      <td>09:48:00</td>\n",
       "      <td>15:37:00</td>\n",
       "    </tr>\n",
       "    <tr>\n",
       "      <th>1</th>\n",
       "      <td>ACLS</td>\n",
       "      <td>Axcelis Technologies, Inc.</td>\n",
       "      <td>NASDAQ Composite, Russell 2000, PHLX Semiconductor Sector, Russell 3000, NASDAQ Computer, Mini-Russell 2000</td>\n",
       "      <td>158.610001</td>\n",
       "      <td>151.669998</td>\n",
       "      <td>153.449997</td>\n",
       "      <td>155.020004</td>\n",
       "      <td>2024-07-10</td>\n",
       "      <td>153.199997</td>\n",
       "      <td>153.199997</td>\n",
       "      <td>09:45:00</td>\n",
       "      <td>09:30:00</td>\n",
       "    </tr>\n",
       "  </tbody>\n",
       "</table>\n",
       "</div>"
      ],
      "text/plain": [
       "  Symbol Description                   Index                                                                                                        High        Low         Open        Close       Date         Price@09:33  Price@10:15 high_time_stamp low_time_stamp\n",
       "0  MNSO   MINISO Group Holding Limited                                                                                   NASDAQ Golden Dragon China   19.549999       18.93        19.1       19.16  2024-07-10   19.075001    19.229099   09:48:00        15:37:00     \n",
       "1  ACLS     Axcelis Technologies, Inc.  NASDAQ Composite, Russell 2000, PHLX Semiconductor Sector, Russell 3000, NASDAQ Computer, Mini-Russell 2000  158.610001  151.669998  153.449997  155.020004  2024-07-10  153.199997   153.199997   09:45:00        09:30:00     "
      ]
     },
     "execution_count": 32,
     "metadata": {},
     "output_type": "execute_result"
    }
   ],
   "source": [
    "# add the last two cols to the qstart_bt_df\n",
    "qstart_bt_df[['high_time_stamp', 'low_time_stamp']] = high_low_time_df[['high_time_stamp', 'low_time_stamp']]\n",
    "\n",
    "# transform Date column string to set the format\n",
    "qstart_bt_df['Date'] = pd.to_datetime(qstart_bt_df['Date']).dt.strftime('%Y-%m-%d')\n",
    "\n",
    "print(qstart_bt_df.shape)\n",
    "qstart_bt_df"
   ]
  },
  {
   "cell_type": "code",
   "execution_count": null,
   "metadata": {},
   "outputs": [],
   "source": [
    "#### ---- Set Manual Trade Details ---- ####\n",
    "# structured dictionary for two (2) stocks with buy and sell details\n",
    "trade_deets = {\n",
    "    'MNSO': {\n",
    "        'buy_price': 19.11,\n",
    "        'buy_time': '09:31:47',\n",
    "        'quantity': 300,\n",
    "        'sell_price': 19.40,\n",
    "        'sell_time': '09:58:19',\n",
    "        'trading_platform': 'Fidelity'\n",
    "    },\n",
    "      'ACLS': {\n",
    "        'buy_price': 153.20,\n",
    "        'buy_time': '09:31:10',\n",
    "        'quantity': 50,\n",
    "        'sell_price': 158.24,\n",
    "        'sell_time': '09:55:00',\n",
    "        'trading_platform': 'Robinhood'\n",
    "    }\n",
    "}"
   ]
  },
  {
   "cell_type": "code",
   "execution_count": null,
   "metadata": {},
   "outputs": [
    {
     "name": "stdout",
     "output_type": "stream",
     "text": [
      "(2, 18)\n"
     ]
    },
    {
     "data": {
      "text/html": [
       "<div>\n",
       "<style scoped>\n",
       "    .dataframe tbody tr th:only-of-type {\n",
       "        vertical-align: middle;\n",
       "    }\n",
       "\n",
       "    .dataframe tbody tr th {\n",
       "        vertical-align: top;\n",
       "    }\n",
       "\n",
       "    .dataframe thead th {\n",
       "        text-align: right;\n",
       "    }\n",
       "</style>\n",
       "<table border=\"1\" class=\"dataframe\">\n",
       "  <thead>\n",
       "    <tr style=\"text-align: left;\">\n",
       "      <th></th>\n",
       "      <th>Symbol</th>\n",
       "      <th>Description</th>\n",
       "      <th>Index</th>\n",
       "      <th>High</th>\n",
       "      <th>Low</th>\n",
       "      <th>Open</th>\n",
       "      <th>Close</th>\n",
       "      <th>Date</th>\n",
       "      <th>Price@09:33</th>\n",
       "      <th>Price@10:15</th>\n",
       "      <th>high_time_stamp</th>\n",
       "      <th>low_time_stamp</th>\n",
       "      <th>buy_price</th>\n",
       "      <th>buy_time</th>\n",
       "      <th>quantity</th>\n",
       "      <th>sell_price</th>\n",
       "      <th>sell_time</th>\n",
       "      <th>trading_platform</th>\n",
       "    </tr>\n",
       "  </thead>\n",
       "  <tbody>\n",
       "    <tr>\n",
       "      <th>0</th>\n",
       "      <td>MNSO</td>\n",
       "      <td>MINISO Group Holding Limited</td>\n",
       "      <td>NASDAQ Golden Dragon China</td>\n",
       "      <td>19.549999</td>\n",
       "      <td>18.93</td>\n",
       "      <td>19.1</td>\n",
       "      <td>19.16</td>\n",
       "      <td>2024-07-10</td>\n",
       "      <td>19.075001</td>\n",
       "      <td>19.229099</td>\n",
       "      <td>09:48:00</td>\n",
       "      <td>15:37:00</td>\n",
       "      <td>19.11</td>\n",
       "      <td>09:31:47</td>\n",
       "      <td>300.0</td>\n",
       "      <td>19.40</td>\n",
       "      <td>09:58:19</td>\n",
       "      <td>Fidelity</td>\n",
       "    </tr>\n",
       "    <tr>\n",
       "      <th>1</th>\n",
       "      <td>ACLS</td>\n",
       "      <td>Axcelis Technologies, Inc.</td>\n",
       "      <td>NASDAQ Composite, Russell 2000, PHLX Semiconductor Sector, Russell 3000, NASDAQ Computer, Mini-Russell 2000</td>\n",
       "      <td>158.610001</td>\n",
       "      <td>151.669998</td>\n",
       "      <td>153.449997</td>\n",
       "      <td>155.020004</td>\n",
       "      <td>2024-07-10</td>\n",
       "      <td>153.199997</td>\n",
       "      <td>153.199997</td>\n",
       "      <td>09:45:00</td>\n",
       "      <td>09:30:00</td>\n",
       "      <td>153.20</td>\n",
       "      <td>09:31:10</td>\n",
       "      <td>50.0</td>\n",
       "      <td>158.24</td>\n",
       "      <td>09:55:00</td>\n",
       "      <td>Robinhood</td>\n",
       "    </tr>\n",
       "  </tbody>\n",
       "</table>\n",
       "</div>"
      ],
      "text/plain": [
       "  Symbol Description                   Index                                                                                                        High        Low         Open        Close       Date         Price@09:33  Price@10:15 high_time_stamp low_time_stamp  buy_price buy_time   quantity  sell_price sell_time trading_platform\n",
       "0  MNSO   MINISO Group Holding Limited                                                                                   NASDAQ Golden Dragon China   19.549999       18.93        19.1       19.16  2024-07-10   19.075001    19.229099   09:48:00        15:37:00        19.11     09:31:47  300.0      19.40      09:58:19   Fidelity      \n",
       "1  ACLS     Axcelis Technologies, Inc.  NASDAQ Composite, Russell 2000, PHLX Semiconductor Sector, Russell 3000, NASDAQ Computer, Mini-Russell 2000  158.610001  151.669998  153.449997  155.020004  2024-07-10  153.199997   153.199997   09:45:00        09:30:00       153.20     09:31:10   50.0     158.24      09:55:00  Robinhood      "
      ]
     },
     "execution_count": 35,
     "metadata": {},
     "output_type": "execute_result"
    }
   ],
   "source": [
    "# add trade details to the DataFrame\n",
    "for symbol in trade_deets:\n",
    "    qstart_bt_df.loc[qstart_bt_df['Symbol'] == symbol, 'buy_price'] = trade_deets[symbol]['buy_price']\n",
    "    qstart_bt_df.loc[qstart_bt_df['Symbol'] == symbol, 'buy_time'] = trade_deets[symbol]['buy_time']\n",
    "    qstart_bt_df.loc[qstart_bt_df['Symbol'] == symbol, 'quantity'] = trade_deets[symbol]['quantity']\n",
    "    qstart_bt_df.loc[qstart_bt_df['Symbol'] == symbol, 'sell_price'] = trade_deets[symbol]['sell_price']\n",
    "    qstart_bt_df.loc[qstart_bt_df['Symbol'] == symbol, 'sell_time'] = trade_deets[symbol]['sell_time']\n",
    "    qstart_bt_df.loc[qstart_bt_df['Symbol'] == symbol, 'trading_platform'] = trade_deets[symbol]['trading_platform']\n",
    "\n",
    "print(qstart_bt_df.shape)\n",
    "qstart_bt_df"
   ]
  },
  {
   "cell_type": "code",
   "execution_count": null,
   "metadata": {},
   "outputs": [
    {
     "name": "stdout",
     "output_type": "stream",
     "text": [
      "(2, 22)\n"
     ]
    },
    {
     "data": {
      "text/html": [
       "<div>\n",
       "<style scoped>\n",
       "    .dataframe tbody tr th:only-of-type {\n",
       "        vertical-align: middle;\n",
       "    }\n",
       "\n",
       "    .dataframe tbody tr th {\n",
       "        vertical-align: top;\n",
       "    }\n",
       "\n",
       "    .dataframe thead th {\n",
       "        text-align: right;\n",
       "    }\n",
       "</style>\n",
       "<table border=\"1\" class=\"dataframe\">\n",
       "  <thead>\n",
       "    <tr style=\"text-align: left;\">\n",
       "      <th></th>\n",
       "      <th>Symbol</th>\n",
       "      <th>Description</th>\n",
       "      <th>Index</th>\n",
       "      <th>High</th>\n",
       "      <th>Low</th>\n",
       "      <th>Open</th>\n",
       "      <th>Close</th>\n",
       "      <th>Date</th>\n",
       "      <th>Price@09:33</th>\n",
       "      <th>Price@10:15</th>\n",
       "      <th>high_time_stamp</th>\n",
       "      <th>low_time_stamp</th>\n",
       "      <th>buy_price</th>\n",
       "      <th>buy_time</th>\n",
       "      <th>quantity</th>\n",
       "      <th>sell_price</th>\n",
       "      <th>sell_time</th>\n",
       "      <th>trading_platform</th>\n",
       "      <th>amount@buy</th>\n",
       "      <th>amount@close</th>\n",
       "      <th>realized_$</th>\n",
       "      <th>realized_%</th>\n",
       "    </tr>\n",
       "  </thead>\n",
       "  <tbody>\n",
       "    <tr>\n",
       "      <th>0</th>\n",
       "      <td>MNSO</td>\n",
       "      <td>MINISO Group Holding Limited</td>\n",
       "      <td>NASDAQ Golden Dragon China</td>\n",
       "      <td>19.549999</td>\n",
       "      <td>18.93</td>\n",
       "      <td>19.1</td>\n",
       "      <td>19.16</td>\n",
       "      <td>2024-07-10</td>\n",
       "      <td>19.075001</td>\n",
       "      <td>19.229099</td>\n",
       "      <td>09:48:00</td>\n",
       "      <td>15:37:00</td>\n",
       "      <td>19.11</td>\n",
       "      <td>09:31:47</td>\n",
       "      <td>300.0</td>\n",
       "      <td>19.40</td>\n",
       "      <td>09:58:19</td>\n",
       "      <td>Fidelity</td>\n",
       "      <td>5733.0</td>\n",
       "      <td>5820.0</td>\n",
       "      <td>87.0</td>\n",
       "      <td>1.517530</td>\n",
       "    </tr>\n",
       "    <tr>\n",
       "      <th>1</th>\n",
       "      <td>ACLS</td>\n",
       "      <td>Axcelis Technologies, Inc.</td>\n",
       "      <td>NASDAQ Composite, Russell 2000, PHLX Semiconductor Sector, Russell 3000, NASDAQ Computer, Mini-Russell 2000</td>\n",
       "      <td>158.610001</td>\n",
       "      <td>151.669998</td>\n",
       "      <td>153.449997</td>\n",
       "      <td>155.020004</td>\n",
       "      <td>2024-07-10</td>\n",
       "      <td>153.199997</td>\n",
       "      <td>153.199997</td>\n",
       "      <td>09:45:00</td>\n",
       "      <td>09:30:00</td>\n",
       "      <td>153.20</td>\n",
       "      <td>09:31:10</td>\n",
       "      <td>50.0</td>\n",
       "      <td>158.24</td>\n",
       "      <td>09:55:00</td>\n",
       "      <td>Robinhood</td>\n",
       "      <td>7660.0</td>\n",
       "      <td>7912.0</td>\n",
       "      <td>252.0</td>\n",
       "      <td>3.289817</td>\n",
       "    </tr>\n",
       "  </tbody>\n",
       "</table>\n",
       "</div>"
      ],
      "text/plain": [
       "  Symbol Description                   Index                                                                                                        High        Low         Open        Close       Date         Price@09:33  Price@10:15 high_time_stamp low_time_stamp  buy_price buy_time   quantity  sell_price sell_time trading_platform  amount@buy  amount@close  realized_$  realized_%\n",
       "0  MNSO   MINISO Group Holding Limited                                                                                   NASDAQ Golden Dragon China   19.549999       18.93        19.1       19.16  2024-07-10   19.075001    19.229099   09:48:00        15:37:00        19.11     09:31:47  300.0      19.40      09:58:19   Fidelity        5733.0      5820.0         87.0       1.517530  \n",
       "1  ACLS     Axcelis Technologies, Inc.  NASDAQ Composite, Russell 2000, PHLX Semiconductor Sector, Russell 3000, NASDAQ Computer, Mini-Russell 2000  158.610001  151.669998  153.449997  155.020004  2024-07-10  153.199997   153.199997   09:45:00        09:30:00       153.20     09:31:10   50.0     158.24      09:55:00  Robinhood        7660.0      7912.0        252.0       3.289817  "
      ]
     },
     "execution_count": 36,
     "metadata": {},
     "output_type": "execute_result"
    }
   ],
   "source": [
    "# add math calculation columns\n",
    "qstart_bt_df['amount@buy'] = qstart_bt_df['buy_price'] * qstart_bt_df['quantity']\n",
    "qstart_bt_df['amount@close'] = qstart_bt_df['sell_price'] * qstart_bt_df['quantity']\n",
    "qstart_bt_df['realized_$'] = qstart_bt_df['amount@close'] - qstart_bt_df['amount@buy']\n",
    "qstart_bt_df['realized_%'] = (qstart_bt_df['realized_$'] / qstart_bt_df['amount@buy']) * 100\n",
    "\n",
    "print(qstart_bt_df.shape)\n",
    "qstart_bt_df"
   ]
  },
  {
   "cell_type": "code",
   "execution_count": null,
   "metadata": {},
   "outputs": [
    {
     "name": "stdout",
     "output_type": "stream",
     "text": [
      "Wednesday\n",
      "Wed\n"
     ]
    }
   ],
   "source": [
    "# save day of week as a string\n",
    "day_of_week = datetime.datetime.today().strftime('%A')\n",
    "# lowercase and only first 3 chars\n",
    "day_of_week_abrv = day_of_week[:3]\n",
    "\n",
    "print(day_of_week)\n",
    "print(day_of_week_abrv)"
   ]
  },
  {
   "cell_type": "code",
   "execution_count": null,
   "metadata": {},
   "outputs": [],
   "source": [
    "# create or update existing directory\n",
    "trade_logz_dir = \"tRaDeLoGz\"\n",
    "os.makedirs(trade_logz_dir, exist_ok=True)\n",
    "\n",
    "# save to xlsx in that directory\n",
    "trade_logz_dir_file_path = f\"{trade_logz_dir}/tRaDeLoGz_{day_of_week_abrv}{today_date_str}.xlsx\"\n",
    "qstart_bt_df.to_excel(trade_logz_dir_file_path, index=False)"
   ]
  },
  {
   "cell_type": "code",
   "execution_count": null,
   "metadata": {},
   "outputs": [
    {
     "data": {
      "text/plain": [
       "0"
      ]
     },
     "execution_count": 40,
     "metadata": {},
     "output_type": "execute_result"
    }
   ],
   "source": [
    "# open the file\n",
    "os.system(f\"open {trade_logz_dir_file_path}\")"
   ]
  },
  {
   "cell_type": "code",
   "execution_count": null,
   "metadata": {},
   "outputs": [],
   "source": [
    "# START here with the trade details\n",
    "# later figure out how you can speed things up with news\n",
    "# keep automating and speeding things up\n",
    "# reorder the columns\n",
    "# you can keep improving it every day if you want to, but you will have the trade record avaialable data saved for your records\n",
    "# next iteration you have to rearrange cols, set sheet number\n",
    "# also set the col var types properly, i.e., for $ and % and probably others\n",
    "# should also have some kinda notes.\n",
    "# maybe even ideal trade?? not sure, isn't that obvious it would be the high and low of the day\n",
    "# accompany these time stamps with volume somehow\n",
    "# thinking later of using volume to determine the best time to sell instead of times (which is based on general intraday (early 630-730) volume trends)\n",
    "# can get fancier with excel output maybe set the zoom, auto open, not sure, could also get as fancy as you want with excel wings\n",
    "# keep the one file but different excel docouments for each day, for now just one sheet per doc keep simple\n",
    "# could include type of buy and sell\n",
    "# should figure out strategy, i.e., some standard type protocols like trailing stop lostt % not sure\n",
    "# would like to do percenct, maybe use market cap or price to determine bc prob cant be standard for all stocks all time, maybe tho\n",
    "\n",
    "#### the 2 you really trade. all others you should paper trade and measure, then keep refining the program as needed\n",
    "# seek advice and outside input"
   ]
  },
  {
   "cell_type": "code",
   "execution_count": null,
   "metadata": {},
   "outputs": [],
   "source": []
  },
  {
   "cell_type": "code",
   "execution_count": null,
   "metadata": {},
   "outputs": [],
   "source": []
  },
  {
   "cell_type": "code",
   "execution_count": null,
   "metadata": {},
   "outputs": [],
   "source": []
  },
  {
   "cell_type": "code",
   "execution_count": null,
   "metadata": {},
   "outputs": [],
   "source": [
    "#### ---- Create Folders ---- ####\n",
    "# also create excel doc for each trading day, checks for existing folders and files and update or add to them\n",
    "# reorder cols later\n",
    "# you did this over in the edgartools, use that to start and copy"
   ]
  },
  {
   "cell_type": "code",
   "execution_count": null,
   "metadata": {},
   "outputs": [],
   "source": []
  },
  {
   "cell_type": "code",
   "execution_count": null,
   "metadata": {},
   "outputs": [],
   "source": []
  },
  {
   "cell_type": "code",
   "execution_count": null,
   "metadata": {},
   "outputs": [],
   "source": []
  },
  {
   "cell_type": "code",
   "execution_count": null,
   "metadata": {},
   "outputs": [],
   "source": []
  },
  {
   "cell_type": "code",
   "execution_count": null,
   "metadata": {},
   "outputs": [],
   "source": []
  },
  {
   "cell_type": "code",
   "execution_count": null,
   "metadata": {},
   "outputs": [],
   "source": []
  },
  {
   "cell_type": "code",
   "execution_count": null,
   "metadata": {},
   "outputs": [],
   "source": []
  },
  {
   "cell_type": "code",
   "execution_count": null,
   "metadata": {},
   "outputs": [],
   "source": []
  },
  {
   "cell_type": "code",
   "execution_count": null,
   "metadata": {},
   "outputs": [],
   "source": []
  },
  {
   "cell_type": "code",
   "execution_count": null,
   "metadata": {},
   "outputs": [],
   "source": []
  },
  {
   "cell_type": "code",
   "execution_count": null,
   "metadata": {},
   "outputs": [],
   "source": []
  },
  {
   "cell_type": "code",
   "execution_count": null,
   "metadata": {},
   "outputs": [],
   "source": [
    "# # save day_df to csv\n",
    "# day_df.to_csv(f\"trading_view_raw_data/tv_screen_gap-up_2024-07-10_612_day_df.csv\", index=False)\n"
   ]
  },
  {
   "cell_type": "code",
   "execution_count": null,
   "metadata": {},
   "outputs": [
    {
     "data": {
      "text/plain": [
       "' \\nMINISO Group Holding Limited (MNSO) - High likelihood to gap up due to strong pre-market activity, positive news, and robust financial performance.\\nAxcelis Technologies, Inc. (ACLS) - High likelihood to gap up driven by strong industry performance, positive financial results, and favorable technical indicators.\\n'"
      ]
     },
     "execution_count": 43,
     "metadata": {},
     "output_type": "execute_result"
    }
   ],
   "source": [
    "#### ---- TRADING NOTES -> DATE = 7/10/24 ---- ####\n",
    "\"\"\" \n",
    "MINISO Group Holding Limited (MNSO) - High likelihood to gap up due to strong pre-market activity, positive news, and robust financial performance.\n",
    "Axcelis Technologies, Inc. (ACLS) - High likelihood to gap up driven by strong industry performance, positive financial results, and favorable technical indicators.\n",
    "\"\"\""
   ]
  },
  {
   "cell_type": "code",
   "execution_count": null,
   "metadata": {},
   "outputs": [],
   "source": [
    "# here is where you are at. \n",
    "# aLSO I WANT A is it a good pre-market score before the main screener and then after also accounting for main screener and all pre screeners"
   ]
  },
  {
   "cell_type": "code",
   "execution_count": null,
   "metadata": {},
   "outputs": [],
   "source": [
    "#### you could try in the morning to get IEX news\n",
    "# maybe a try with the foreign news, IF foreign exchanges = true?\n",
    "# could also look at the indexes returned in the screener and then chart those after also\n",
    "# might need to create symbol and name dictionary to work with\n",
    "\n",
    "# need price\n",
    "# news\n",
    "# other markets\n",
    "# news and translation\n",
    "# index comparison\n",
    "# trends\n",
    "\n",
    "## backtesting \n",
    "# openprice, price at 5min, price at 0705, (perc gain), high, low, close\n",
    "# from here can also indicate shares simulated, etc..."
   ]
  },
  {
   "cell_type": "code",
   "execution_count": null,
   "metadata": {},
   "outputs": [],
   "source": []
  },
  {
   "cell_type": "code",
   "execution_count": null,
   "metadata": {},
   "outputs": [],
   "source": []
  },
  {
   "cell_type": "markdown",
   "metadata": {},
   "source": [
    "| Backtesting -> START |\n",
    "|-|\n",
    "| HEAVY Current DEV |\n",
    "| < July 4th |"
   ]
  },
  {
   "cell_type": "code",
   "execution_count": null,
   "metadata": {},
   "outputs": [
    {
     "name": "stdout",
     "output_type": "stream",
     "text": [
      "['MMYT', 'WIX', 'YMM', 'FHN', 'AGNC', 'WAL', 'ETSY', 'ZION', 'STWD', 'ALGM', 'MNSO', 'RITM', 'ACLS', 'ZI', 'COLB', 'AEO', 'PTEN', 'INTR']\n"
     ]
    }
   ],
   "source": [
    "print(sgap_stock_list)"
   ]
  },
  {
   "cell_type": "code",
   "execution_count": null,
   "metadata": {},
   "outputs": [],
   "source": [
    "# # List of stock symbols\n",
    "# symbols = ['SFM', 'ATI', 'AAON', 'MNSO', 'LNTH', 'CVLT', 'CRS', 'SMPL', 'TRMD', 'SDRL', 'UNF', 'GOGL', 'VZIO', 'PAYO']\n",
    "\n",
    "# # Specify the date and times (in EST)\n",
    "# date_str = '2024-06-26'  # example date\n",
    "# # date_str = datetime.now().strftime('%Y-%m-%d')\n",
    "# times_est = ['09:35', '10:05']  # times in EST\n",
    "\n",
    "# # Fetch historical data and extract prices at specified times\n",
    "# data = {'Symbol': [], '$@0935': [], '$@1005': []}\n",
    "\n",
    "# for symbol in symbols:\n",
    "#     ticker = yf.Ticker(symbol)\n",
    "#     # Fetch 1-minute data for the specified date\n",
    "#     hist = ticker.history(start=date_str, end=(datetime.strptime(date_str, '%Y-%m-%d') + timedelta(days=1)).strftime('%Y-%m-%d'), interval='1m')\n",
    "    \n",
    "#     # Ensure the index is timezone-aware by localizing to UTC if necessary, then convert to EST\n",
    "#     if hist.index.tz is None:\n",
    "#         hist.index = hist.index.tz_localize('UTC').tz_convert('US/Eastern')\n",
    "#     else:\n",
    "#         hist.index = hist.index.tz_convert('US/Eastern')\n",
    "\n",
    "#     # Filter data for specified times\n",
    "#     price_at_0935 = hist.loc[hist.index.strftime('%H:%M') == '09:35']['Close'].values\n",
    "#     price_at_1035 = hist.loc[hist.index.strftime('%H:%M') == '10:35']['Close'].values\n",
    "    \n",
    "#     # Save data\n",
    "#     data['Symbol'].append(symbol)\n",
    "#     data['$@0935'].append(price_at_0935[0] if len(price_at_0935) > 0 else None)\n",
    "#     data['$@1005'].append(price_at_1035[0] if len(price_at_1035) > 0 else None)\n",
    "\n",
    "# # Convert to DataFrame for better visualization\n",
    "# df = pd.DataFrame(data)\n",
    "\n",
    "# print(date_str)\n",
    "# df"
   ]
  },
  {
   "cell_type": "code",
   "execution_count": null,
   "metadata": {},
   "outputs": [],
   "source": [
    "# symbols = ['SFM', 'ATI', 'AAON', 'MNSO', 'LNTH', 'CVLT', 'CRS', 'SMPL', 'TRMD', 'SDRL', 'UNF', 'GOGL', 'VZIO', 'PAYO']\n",
    "\n",
    "# # Specify the date (in EST)\n",
    "# # date_str = '2024-06-26'  # example date\n",
    "# date_str = datetime.now().strftime('%Y-%m-%d')\n",
    "\n",
    "# # Fetch historical data and extract Open, Close, High, and Low prices\n",
    "# data_daily = {'Symbol': [], 'Open': [], 'Close': [], 'High': [], 'Low': []}\n",
    "\n",
    "# for symbol in symbols:\n",
    "#     ticker = yf.Ticker(symbol)\n",
    "    \n",
    "#     # Fetch daily data for the specified date to get Open, Close, High, and Low prices\n",
    "#     hist_daily = ticker.history(start=date_str, end=(datetime.strptime(date_str, '%Y-%m-%d') + timedelta(days=1)).strftime('%Y-%m-%d'), interval='1d')\n",
    "    \n",
    "#     # Get the daily Open, Close, High, and Low prices\n",
    "#     open_price = hist_daily['Open'].values\n",
    "#     close_price = hist_daily['Close'].values\n",
    "#     high_price = hist_daily['High'].values\n",
    "#     low_price = hist_daily['Low'].values\n",
    "    \n",
    "#     # Save daily data\n",
    "#     data_daily['Symbol'].append(symbol)\n",
    "#     data_daily['Open'].append(open_price[0] if len(open_price) > 0 else None)\n",
    "#     data_daily['Close'].append(close_price[0] if len(close_price) > 0 else None)\n",
    "#     data_daily['High'].append(high_price[0] if len(high_price) > 0 else None)\n",
    "#     data_daily['Low'].append(low_price[0] if len(low_price) > 0 else None)\n",
    "\n",
    "# # Convert to DataFrame for better visualization\n",
    "# df_daily = pd.DataFrame(data_daily)\n",
    "\n",
    "# print(date_str)\n",
    "# df_daily"
   ]
  },
  {
   "cell_type": "code",
   "execution_count": null,
   "metadata": {},
   "outputs": [],
   "source": []
  },
  {
   "cell_type": "code",
   "execution_count": null,
   "metadata": {},
   "outputs": [],
   "source": []
  },
  {
   "cell_type": "code",
   "execution_count": null,
   "metadata": {},
   "outputs": [],
   "source": []
  },
  {
   "cell_type": "code",
   "execution_count": null,
   "metadata": {},
   "outputs": [],
   "source": []
  },
  {
   "cell_type": "markdown",
   "metadata": {},
   "source": [
    "| Backtesting <- END |\n",
    "|-|\n",
    "| HEAVY Current DEV |\n",
    "| < July 4th |"
   ]
  },
  {
   "cell_type": "code",
   "execution_count": null,
   "metadata": {},
   "outputs": [],
   "source": [
    "# # to csv\n",
    "# simple_gap_df.to_csv(f\"trading_view_raw_data/UPD_{today_date_str}\", index=False)"
   ]
  },
  {
   "cell_type": "markdown",
   "metadata": {},
   "source": [
    "| vectorb Development |\n",
    "|-|\n",
    "| START DEV |"
   ]
  },
  {
   "cell_type": "code",
   "execution_count": null,
   "metadata": {},
   "outputs": [],
   "source": [
    "# #### Yahoo Finance API ####\n",
    "# # yf_vbt_stock = 'NOW' # servicenow\n",
    "# yf_vbt_stock = sgap_stock_list[0] # first stock in the list\n",
    "# print(f'${yf_vbt_stock}')\n",
    "# yahoo_price_data = yf.Ticker(yf_vbt_stock).history(period='1d')\n",
    "\n",
    "# yahoo_price_close = yahoo_price_data['Close'].iloc[-1]\n",
    "# yahoo_price_date = yahoo_price_data.index[-1]\n",
    "\n",
    "# print(f'${yahoo_price_close}')\n",
    "# print(yahoo_price_date)\n"
   ]
  },
  {
   "cell_type": "code",
   "execution_count": null,
   "metadata": {},
   "outputs": [],
   "source": [
    "# iex_api_key = os.getenv(\"IEX_API_KEY\")  # Replace with your actual IEX API key"
   ]
  },
  {
   "cell_type": "code",
   "execution_count": null,
   "metadata": {},
   "outputs": [],
   "source": [
    "# # set iex api parameters\n",
    "# iex_symbol = 'NOW'\n",
    "# iex_mins_interval = '10'\n",
    "# # iex_day_range = '10d'\n",
    "\n",
    "# # iex url construct\n",
    "# url = f'https://api.iex.cloud/v1/data/core/minutebar/{iex_symbol}?last={iex_mins_interval}&token={iex_api_key}'\n",
    "\n",
    "# # fetch data\n",
    "# response = requests.get(url)\n",
    "# iex_data = response.json()\n",
    "# print(response.status_code)\n",
    "\n",
    "# # look at the json\n",
    "# print(iex_data)\n",
    "# # # check if data is in expected format and convert to DataFrame\n",
    "# # if isinstance(iex_data, list):\n",
    "# #     iex_hd_df = pd.DataFrame(iex_data)\n",
    "# #     print(iex_hd_df)"
   ]
  },
  {
   "cell_type": "code",
   "execution_count": null,
   "metadata": {},
   "outputs": [],
   "source": [
    "# if isinstance(iex_data, list):\n",
    "#     parsed_data = []\n",
    "\n",
    "#     # Parse the JSON data\n",
    "#     for item in iex_data:\n",
    "#         for time, data in item.items():\n",
    "#             if time not in ['id', 'key', 'subkey', 'date', 'updated']:\n",
    "#                 data['time'] = time\n",
    "#                 parsed_data.append(data)\n",
    "\n",
    "#     # Convert to DataFrame\n",
    "#     iex_hd_df = pd.DataFrame(parsed_data)\n",
    "#     iex_hd_df['date'] = pd.to_datetime(iex_hd_df['date'], format='%Y%m%d')\n",
    "#     iex_hd_df['datetime'] = iex_hd_df['date'].astype(str) + ' ' + iex_hd_df['time']\n",
    "#     iex_hd_df['datetime'] = pd.to_datetime(iex_hd_df['datetime'])\n",
    "#     iex_hd_df.set_index('datetime', inplace=True)\n",
    "    \n",
    "#     # Drop the separate date and time columns\n",
    "#     iex_hd_df.drop(columns=['date', 'time'], inplace=True)\n",
    "\n",
    "#     # Display the DataFrame\n",
    "#     print(\"DataFrame:\")\n",
    "#     print(iex_hd_df)\n",
    "# else:\n",
    "#     print(\"Unexpected data format:\", iex_data)\n",
    "\n",
    "# # view\n",
    "# iex_hd_df"
   ]
  },
  {
   "cell_type": "code",
   "execution_count": null,
   "metadata": {},
   "outputs": [],
   "source": [
    "#### historical data\n",
    "# determine time FRAMEs \n",
    "# determine time RANGE\n",
    "# retrieve historical data from iex cloud api\n",
    "\n",
    "# what about market volatility trends, times, lunch power, both daily and cyclically, quarterly, event based like earnings, sector etc."
   ]
  },
  {
   "cell_type": "code",
   "execution_count": null,
   "metadata": {},
   "outputs": [],
   "source": [
    "# # higher frequency\n",
    "# start_date = '2024-05-24'\n",
    "# end_date = '2024-05-25'\n",
    "# vbt_data = vbt.YFData.download('NOW', start=start_date, end=end_date, interval='5m')"
   ]
  },
  {
   "cell_type": "code",
   "execution_count": null,
   "metadata": {},
   "outputs": [],
   "source": [
    "# close_5m = vbt_data.get('Close')\n",
    "\n",
    "# print(close_5m)"
   ]
  },
  {
   "cell_type": "code",
   "execution_count": null,
   "metadata": {},
   "outputs": [],
   "source": [
    "# # print the day today - 60 days\n",
    "# dt.date.today() - dt.timedelta(days=60)"
   ]
  },
  {
   "cell_type": "code",
   "execution_count": null,
   "metadata": {},
   "outputs": [],
   "source": [
    "# # symbol = 'NOW'\n",
    "# symbol = sgap_stock_list[0]\n",
    "# # set the start date to today -59 days\n",
    "# start_date = (dt.date.today() - dt.timedelta(days=59)).strftime('%Y-%m-%d')  # Adjust to current date\n",
    "# end_date = dt.datetime.today().strftime('%Y-%m-%d')  # Adjust to current date\n",
    "\n",
    "# # download data for each timeframe\n",
    "# timeframes = ['5m', '15m', '30m', '1h']\n",
    "# data = {tf: vbt.YFData.download(symbol, start=start_date, end=end_date, interval=tf) for tf in timeframes}\n",
    "\n",
    "# # calculate SMAs for each timeframe\n",
    "# fast_sma = {tf: data[tf].get('Close').rolling(window=20).mean() for tf in timeframes}\n",
    "# slow_sma = {tf: data[tf].get('Close').rolling(window=50).mean() for tf in timeframes}"
   ]
  },
  {
   "cell_type": "code",
   "execution_count": null,
   "metadata": {},
   "outputs": [],
   "source": [
    "# # convert to dataframs\n",
    "# fast_sma_df = pd.DataFrame(fast_sma)\n",
    "# slow_sma_df = pd.DataFrame(slow_sma)"
   ]
  },
  {
   "cell_type": "code",
   "execution_count": null,
   "metadata": {},
   "outputs": [],
   "source": [
    "# fast_sma_df.tail(10)"
   ]
  },
  {
   "cell_type": "code",
   "execution_count": null,
   "metadata": {},
   "outputs": [],
   "source": [
    "# print(len(fast_sma_df))\n",
    "# fast_sma_df.dropna(how='all', inplace=True)\n",
    "# slow_sma_df.dropna(how='all', inplace=True)\n",
    "# print(len(fast_sma_df))"
   ]
  },
  {
   "cell_type": "markdown",
   "metadata": {},
   "source": [
    "| 1-min chart |\n",
    "|-|"
   ]
  },
  {
   "cell_type": "code",
   "execution_count": null,
   "metadata": {},
   "outputs": [],
   "source": [
    "# first_stock = simple_gap_df['Symbol'].iloc[0]\n",
    "# print(first_stock)\n"
   ]
  },
  {
   "cell_type": "code",
   "execution_count": null,
   "metadata": {},
   "outputs": [],
   "source": [
    "# # symbol = 'NOW'\n",
    "# symbol = simple_gap_df['Symbol'].iloc[0]\n",
    "# # auto - dev in progress\n",
    "# start_date = (dt.date.today() - dt.timedelta(days=7)).strftime('%Y-%m-%d')  \n",
    "# end_date = dt.datetime.today().strftime('%Y-%m-%d')  \n",
    "\n",
    "# # download data for each timeframe\n",
    "# timeframes = ['1m']\n",
    "# one_min_data = {tf: vbt.YFData.download(symbol, start=start_date, end=end_date, interval=tf) for tf in timeframes}\n",
    "\n",
    "# # calculate SMAs for each timeframe\n",
    "# one_min_fast_sma = {tf: one_min_data[tf].get('Close').rolling(window=20).mean() for tf in timeframes}\n",
    "# one_min_slow_sma = {tf: one_min_data[tf].get('Close').rolling(window=50).mean() for tf in timeframes}"
   ]
  },
  {
   "cell_type": "code",
   "execution_count": null,
   "metadata": {},
   "outputs": [],
   "source": [
    "# # convert to dataframs\n",
    "# one_min_fast_sma_df = pd.DataFrame(one_min_fast_sma)\n",
    "# one_min_slow_sma_df = pd.DataFrame(one_min_slow_sma)"
   ]
  },
  {
   "cell_type": "code",
   "execution_count": null,
   "metadata": {},
   "outputs": [],
   "source": [
    "# # NaNs check and drop\n",
    "# print(len(one_min_fast_sma_df))\n",
    "# one_min_fast_sma_df.dropna(inplace=True)\n",
    "# one_min_slow_sma_df.dropna(inplace=True)\n",
    "# print(len(one_min_fast_sma_df))"
   ]
  },
  {
   "cell_type": "code",
   "execution_count": null,
   "metadata": {},
   "outputs": [],
   "source": [
    "# one_min_fast_sma_df.head(4)"
   ]
  },
  {
   "cell_type": "code",
   "execution_count": null,
   "metadata": {},
   "outputs": [],
   "source": [
    "#### merge the dataframes\n",
    "### add the ticker and description to every row\n",
    "## could try to get more batches of 7 days\n",
    "# could also try exploring different apis more"
   ]
  },
  {
   "cell_type": "code",
   "execution_count": null,
   "metadata": {},
   "outputs": [],
   "source": [
    "# # vbt_data = vbt.YFData.download(yf_vbt_stock, start='2024-05-01', end='2024-05-31')\n",
    "# price = vbt.YFData.download('NOW', start='2024-05-01', end='2024-05-31').get('Close')\n",
    "# # price = vbt.YFData.download(yf_vbt_stock, start='2024-05-01', end='2024-05-31').get('Close')\n",
    "\n",
    "# # print(vbt_data)\n",
    "# print(price)"
   ]
  },
  {
   "cell_type": "code",
   "execution_count": null,
   "metadata": {},
   "outputs": [],
   "source": [
    "#### action on other exchanges"
   ]
  },
  {
   "cell_type": "code",
   "execution_count": null,
   "metadata": {},
   "outputs": [],
   "source": [
    "#### news, foreign exchanges, foreign news, translate."
   ]
  },
  {
   "cell_type": "code",
   "execution_count": null,
   "metadata": {},
   "outputs": [],
   "source": [
    "#### crew ai setup i feed them the best info possible\n",
    "\n",
    "# personas\n",
    "# dev = code review and feedback (ea day), potential model tweaks, could be good ci/cd pipeline servicenow demo\n",
    "# sector analyst\n",
    "# market analyst\n",
    "# resarcher 1\n",
    "# researcher 2\n",
    "# human"
   ]
  },
  {
   "cell_type": "markdown",
   "metadata": {},
   "source": [
    "| vectorb Development| \n",
    "|-|\n",
    "| END DEV|"
   ]
  },
  {
   "cell_type": "markdown",
   "metadata": {},
   "source": [
    "| guss_pl_df |\n",
    "|-|\n",
    "| Gap-up strategy screener, profit & loss dataframe |\n",
    "| START -> guss |"
   ]
  },
  {
   "cell_type": "code",
   "execution_count": null,
   "metadata": {},
   "outputs": [],
   "source": [
    "#### simulation plan = buy @ 635, sell @ 705 "
   ]
  },
  {
   "cell_type": "code",
   "execution_count": null,
   "metadata": {},
   "outputs": [],
   "source": []
  },
  {
   "cell_type": "code",
   "execution_count": null,
   "metadata": {},
   "outputs": [],
   "source": []
  },
  {
   "cell_type": "code",
   "execution_count": null,
   "metadata": {},
   "outputs": [],
   "source": [
    "# save / update results to excel"
   ]
  },
  {
   "cell_type": "markdown",
   "metadata": {},
   "source": [
    "| guss_pl_df |\n",
    "|-|\n",
    "| END <- guss |"
   ]
  },
  {
   "cell_type": "markdown",
   "metadata": {},
   "source": [
    "| Indexes |\n",
    "|-|\n",
    "| IEX Cloud API $ | \n",
    "\n",
    "market indexes, sector indexes\n",
    "currencies???"
   ]
  },
  {
   "cell_type": "code",
   "execution_count": null,
   "metadata": {},
   "outputs": [],
   "source": [
    "# #### STANDARD MARKET INDEXES EVALUATION\n",
    "# market_index_list = ['SPY', # SPX = S&P 500 index\n",
    "#                      'RSP', # SPXEW - S&P 500 equal weight index\n",
    "#                      'XLRE'] # real estate select sector SPDR fund\n",
    "\n",
    "# #### IEX CLOUD API KEY -> VARIABLE ####\n",
    "# iex_api_key = os.getenv(\"IEX_API_KEY\")  # Replace with your actual IEX API key\n",
    "\n",
    "# # Set the list of symbols variable\n",
    "# index_symbols = ','.join(market_index_list)\n",
    "\n",
    "# #### SET DATE RANGE HERE for - historical data processing\n",
    "# data_range = '5m' \n",
    "\n",
    "# url = f'https://cloud.iexapis.com/stable/stock/market/batch?symbols={index_symbols}&types=chart&range={data_range}&token={iex_api_key}'\n",
    "\n",
    "# # Make the GET request\n",
    "# response = requests.get(url)\n",
    "\n",
    "# # Initialize a DataFrame to collect data for each symbol\n",
    "# market_index_df = pd.DataFrame()\n",
    "\n",
    "# # Check if the request was successful\n",
    "# if response.status_code == 200:\n",
    "#     # Convert the response to JSON\n",
    "#     data = response.json()\n",
    "\n",
    "#     # Process and print the data with a progress bar\n",
    "#     for symbol in tqdm(market_index_list, desc=\"Processing symbols\"):\n",
    "#         if symbol in data:\n",
    "#             # Create a DataFrame for the current symbol's data\n",
    "#             symbol_df = pd.DataFrame(data[symbol]['chart'])\n",
    "#             # Add a 'symbol' column to identify the data\n",
    "#             symbol_df['symbol'] = symbol\n",
    "#             # Append the current symbol's DataFrame to the main DataFrame\n",
    "#             market_index_df = pd.concat([market_index_df, symbol_df], ignore_index=True)\n",
    "# else:\n",
    "#     print(f'Failed to fetch data: {response.status_code}')\n",
    "\n",
    "# # Ensure date column is datetime format\n",
    "# market_index_df['date'] = pd.to_datetime(market_index_df['date'])\n",
    "\n",
    "# #### FILTER matching MANDATORY columns only\n",
    "# hist_data_mandatory_cols_list = ['symbol', 'date', 'close', 'high', 'low', 'open', 'volume']\n",
    "# market_index_df = market_index_df[hist_data_mandatory_cols_list]\n",
    "\n",
    "# # Sort by date descending and ticker order specified in the list\n",
    "# market_index_df['symbol'] = pd.Categorical(market_index_df['symbol'], categories=market_index_list, ordered=True)\n",
    "# market_index_df = market_index_df.sort_values(by=['date', 'symbol'], ascending=[False, True])\n",
    "# # Reset the index to get a numbered index\n",
    "# market_index_df = market_index_df.reset_index(drop=True)\n",
    "# # rename the new index (these are DAYS aka trading periods since today if sorted descending)\n",
    "# # market_index_df.index.name = 'INDEX'\n",
    "\n",
    "# # print(market_index_df.columns)\n",
    "\n",
    "# # # view df\n",
    "# # market_index_df"
   ]
  },
  {
   "cell_type": "code",
   "execution_count": null,
   "metadata": {},
   "outputs": [],
   "source": [
    "# # Set variables for historical data analysis\n",
    "# mi_length = len(market_index_df.index)\n",
    "# unique_stocks = market_index_df['symbol'].nunique()\n",
    "# start_date = market_index_df['date'].min()\n",
    "# end_date = market_index_df['date'].max()\n",
    "\n",
    "# print(f\"START date: {start_date}\")\n",
    "# print(f\"END date: {end_date}\")\n",
    "# print(f'{market_index_df[\"date\"].nunique()} days of historical stock data.\\n')\n",
    "# print(f\"{mi_length} = Length of dataframe\")\n",
    "# print(f\"{unique_stocks} = Unique stocks in dataframe\")\n",
    "\n",
    "# # Entries per stock\n",
    "# days_per_stock = mi_length / unique_stocks\n",
    "# print(f\"{days_per_stock} = Date entries per stock (MATH check -> should be the same as the unique )\\n\")\n",
    "\n",
    "# # View the stocks\n",
    "# print(f'Unique stock ticker symbols: {market_index_list}')\n",
    "# index_cols_list = market_index_df.columns.tolist()\n",
    "# print(f'Columns: {index_cols_list}')\n",
    "\n",
    "# # convert df to .csv\n",
    "# # historical_df.to_csv(f'historical_stock_data{today_date_str}.csv', index=False)\n",
    "\n",
    "# print('INDEX DATAFRAME: historical price data $')\n",
    "# # Display the first few rows of the dataframe\n",
    "# market_index_df.tail(10)"
   ]
  },
  {
   "cell_type": "markdown",
   "metadata": {},
   "source": [
    "| MARKET SENTIMENT | \n",
    "|-|"
   ]
  },
  {
   "cell_type": "code",
   "execution_count": null,
   "metadata": {},
   "outputs": [],
   "source": [
    "#### MARKET SENTIMENT\n",
    "# 1 - VIX (Volatility Index): A high VIX can indicate market uncertainty, making it essential to manage risk carefully.\n",
    "# 2 - Overall Market Trend: Align your trades with the overall market trend. If major indices are bullish, it supports a positive trading environment.\n",
    "# 2i - see CRAMER\n",
    "# 2ii - see CRAMER\n",
    "# 2iii - see CRAMER\n",
    "# 3 - maybe some CRAMER + your own adaptation(s)\n",
    "# 4 - Index match and performance\n",
    "# 5 - sector index match on performance\n",
    "# 6 - how do i deal with implied volatility, do i overlay, is there  pre-built metric (if so how is that calculated)\n",
    "# 7 - further VIX and other adjustments, how to deal with implied volatility, at the macro and specific stock level / sector level and whatever is in between"
   ]
  },
  {
   "cell_type": "markdown",
   "metadata": {},
   "source": [
    "| Gap-Up Screener |\n",
    "|--|\n",
    "IEX Cloud API (GET Request)"
   ]
  },
  {
   "cell_type": "code",
   "execution_count": null,
   "metadata": {},
   "outputs": [
    {
     "data": {
      "text/plain": [
       "\"\\nA.\\nTHIS IS ALSO GOING TO BE YOUR NEWS, CURRENT NEWS (like almost real-time (within 15-30mins))\\n-try to get foreign news where people are awake\\n-translation (internationalization) feature would be both advanced as well as practical\\n-all info about these companies so we start to learn what we are wokring with today\\n-maybe some fundamentals although less important for gap up? unless gap up turns into swing trade\\n\\nB.\\n-need a closeness list. some rating system. avoid if a stock barely misses one or two filter metrics.\\n-so it's two part, 1-the filter closeness boolean as well as well has how close this miss was in terms of percentage and like an aggregate or miss difference -> THEN scoring system?\\n\\nC.\\n-you are going to need also a -> 'chart_tv_df (this will be for the TradingView data)\\n\\n\""
      ]
     },
     "execution_count": 77,
     "metadata": {},
     "output_type": "execute_result"
    }
   ],
   "source": [
    "\"\"\"\n",
    "A.\n",
    "THIS IS ALSO GOING TO BE YOUR NEWS, CURRENT NEWS (like almost real-time (within 15-30mins))\n",
    "-try to get foreign news where people are awake\n",
    "-translation (internationalization) feature would be both advanced as well as practical\n",
    "-all info about these companies so we start to learn what we are wokring with today\n",
    "-maybe some fundamentals although less important for gap up? unless gap up turns into swing trade\n",
    "\n",
    "B.\n",
    "-need a closeness list. some rating system. avoid if a stock barely misses one or two filter metrics.\n",
    "-so it's two part, 1-the filter closeness boolean as well as well has how close this miss was in terms of percentage and like an aggregate or miss difference -> THEN scoring system?\n",
    "\n",
    "C.\n",
    "-you are going to need also a -> 'chart_tv_df (this will be for the TradingView data)\n",
    "\n",
    "\"\"\""
   ]
  },
  {
   "cell_type": "code",
   "execution_count": null,
   "metadata": {},
   "outputs": [
    {
     "data": {
      "text/plain": [
       "'THIS IS WHERE YOU HAVE TO START AND DO WORK, maybe move up to organize better'"
      ]
     },
     "execution_count": 78,
     "metadata": {},
     "output_type": "execute_result"
    }
   ],
   "source": [
    "\"\"\"THIS IS WHERE YOU HAVE TO START AND DO WORK, maybe move up to organize better\"\"\""
   ]
  },
  {
   "cell_type": "code",
   "execution_count": null,
   "metadata": {},
   "outputs": [],
   "source": [
    "# \"\"\"NEWS AND THAT INTERNATIONALIZATION SHIT GOES HERE\"\"\"\n",
    "# info_news_df = pd.DataFrame(tv_L2_df, columns=['Symbol', 'Exchange', 'marketCapType'])\n",
    "\n",
    "# info_news_df"
   ]
  },
  {
   "cell_type": "code",
   "execution_count": null,
   "metadata": {},
   "outputs": [],
   "source": [
    "# #### IEX CLOUD API KEY -> VARIABLE ####\n",
    "# iex_api_key = os.getenv(\"IEX_API_KEY\")\n",
    "\n",
    "# # set the list of symbols variable\n",
    "# symbols = ','.join(sgap_stock_list)\n",
    "\n",
    "# # SETTING THE DATE RANGE\n",
    "# \"\"\"\n",
    "# y - Example: range=1y -> returns (one year)\n",
    "# ytd - Example: range=ytd -> returns (year-to-date)\n",
    "# m - Example: range=6m returns (six months)\n",
    "# d - Example: range=5d returns (five days)\n",
    "# \"\"\"\n",
    "# data_range = '5m' # DATE RANGE (for historical stock price data)\n",
    "\n",
    "# url = f'https://cloud.iexapis.com/stable/stock/market/batch?symbols={symbols}&types=chart&range={data_range}&token={iex_api_key}'\n",
    "\n",
    "# # Make the GET request\n",
    "# response = requests.get(url)\n",
    "\n",
    "# # Initialize a list to collect DataFrames for each symbol\n",
    "# dataframes_list = []\n",
    "\n",
    "# # Check if the request was successful\n",
    "# if response.status_code == 200:\n",
    "#     # Convert the response to JSON\n",
    "#     data = response.json()\n",
    "\n",
    "#     # Process and print the data with a progress bar\n",
    "#     for symbol in tqdm(sgap_stock_list, desc=\"Processing symbols\"):\n",
    "#         if symbol in data:\n",
    "#             # Create a DataFrame for the current symbol's data\n",
    "#             symbol_df = pd.DataFrame(data[symbol]['chart'])\n",
    "#             # Add a 'Ticker' column to identify the data\n",
    "#             symbol_df['Ticker'] = symbol\n",
    "#             # Append the current symbol's DataFrame to the list\n",
    "#             dataframes_list.append(symbol_df)\n",
    "#             # print(f'Data for {symbol}:')\n",
    "#             # print(symbol_df.head(5))  # print the first few rows of the DataFrame for this symbol\n",
    "# else:\n",
    "#     print(f'Failed to fetch data: {response.status_code}')\n",
    "\n",
    "# # concatenate dataframes and create a combined list\n",
    "# historical_df = pd.concat(dataframes_list, ignore_index=True)\n"
   ]
  },
  {
   "cell_type": "code",
   "execution_count": null,
   "metadata": {},
   "outputs": [],
   "source": [
    "# # Set variables for historical data analysis\n",
    "# historical_length = len(historical_df.index)\n",
    "# unique_stocks = historical_df['Ticker'].nunique()\n",
    "# start_date = historical_df['date'].min()\n",
    "# end_date = historical_df['date'].max()\n",
    "\n",
    "# print(f\"START date: {start_date}\")\n",
    "# print(f\"END date: {end_date}\")\n",
    "# print(f'{historical_df[\"date\"].nunique()} days of historical stock data.\\n')\n",
    "# print(f\"{historical_length} = Length of dataframe\")\n",
    "# print(f\"{unique_stocks} = Unique stocks in dataframe\")\n",
    "\n",
    "# # Entries per stock\n",
    "# days_per_stock = historical_length / unique_stocks\n",
    "# print(f\"{days_per_stock} = Date entries per stock (MATH check -> should be the same as the unique )\\n\")\n",
    "\n",
    "# # View the stocks\n",
    "# print(f'Unique stock ticker symbols: {sgap_stock_list}')\n",
    "# historical_cols_list = historical_df.columns.tolist()\n",
    "# print(f'Columns: {historical_cols_list}')\n",
    "\n",
    "# # convert df to .csv\n",
    "# # historical_df.to_csv(f'historical_stock_data{today_date_str}.csv', index=False)\n",
    "\n",
    "# # Display the first few rows of the dataframe\n",
    "# historical_df.tail(10)"
   ]
  },
  {
   "cell_type": "code",
   "execution_count": null,
   "metadata": {},
   "outputs": [],
   "source": [
    "#### DEV - DATA ORGANIZATION ####\n",
    "# convert df to .csv\n",
    "# historical_df.to_csv(f'/Users/sudz4/Desktop/FINANCIAL-SYSTEMS/dark-trader/trading_view_raw_data/historical_stock_data{today_date_str}.csv', index=False)"
   ]
  },
  {
   "cell_type": "code",
   "execution_count": null,
   "metadata": {},
   "outputs": [],
   "source": [
    "# # Ensure the dataframe is sorted by date if it's not already\n",
    "# historical_sorted_df = historical_df.sort_values(by='date')\n",
    "\n",
    "# # Select mandatory columns for a historical price bar chart + volume\n",
    "# # and explicitly copy the dataframe to ensure it's not a view but a new object\n",
    "# chart_historical_df = historical_sorted_df[[\n",
    "#     'symbol',   # *MANDATORY\n",
    "#     'date',     # *MANDATORY\n",
    "#     'close',    # *MANDATORY\n",
    "#     'high',     # *MANDATORY\n",
    "#     'low',      # *MANDATORY\n",
    "#     'open',     # *MANDATORY\n",
    "#     'volume'    # *MANDATORY\n",
    "# ]].copy()\n",
    "\n",
    "# # Group by 'symbol' and get the last occurrence\n",
    "# last_date_df = chart_historical_df.groupby('symbol').last().reset_index()\n",
    "\n",
    "# last_date_df\n"
   ]
  },
  {
   "cell_type": "code",
   "execution_count": null,
   "metadata": {},
   "outputs": [],
   "source": [
    "# # re-index the dataframe\n",
    "# # chart_historical_df.reset_index(drop=True, inplace=True)\n",
    "# # view head of your main df\n",
    "# print(f'Length of historical data: {len(chart_historical_df.index)}')"
   ]
  },
  {
   "cell_type": "code",
   "execution_count": null,
   "metadata": {},
   "outputs": [],
   "source": [
    "# you need to get the chart dataframe to a place where it has all the data you need in there. \n",
    "# it would be more next level if we let it rip into live stock feeds from here. all setup with the correct lines.\n",
    "# in the charts live feed we could use the tradingview html widget to display the charts."
   ]
  },
  {
   "cell_type": "code",
   "execution_count": null,
   "metadata": {},
   "outputs": [
    {
     "data": {
      "text/plain": [
       "'END DEV FRIDAY'"
      ]
     },
     "execution_count": 86,
     "metadata": {},
     "output_type": "execute_result"
    }
   ],
   "source": [
    "\"\"\"END DEV FRIDAY\"\"\""
   ]
  },
  {
   "cell_type": "markdown",
   "metadata": {},
   "source": [
    "| KEY LEVELS (Support & Resistance) |\n",
    "|-|\n",
    "| TECHNICAL INDICATOR CALCULATIONS FROM HISTORICAL DATA |\n",
    "\n",
    "in order of priority of in scope. \n",
    "thinking of moving some of the levels out as i test them and see what they look like.\n",
    "for instance i am thinking of eventually completely replacing MAs with EMAs"
   ]
  },
  {
   "cell_type": "code",
   "execution_count": null,
   "metadata": {},
   "outputs": [],
   "source": [
    "# \"calculate key levels from historical data\"\n",
    "# # save historical data to a csv\n",
    "# # chart_historical_df.to_csv(f'chart_historical_gpt_data{today_date_str}.csv', index=False)\n",
    "\n",
    "# chart_historical_df.head()\n",
    "# # think about returning unique values first row \n",
    "# # you wont get today if b/c of no close price obviously"
   ]
  },
  {
   "cell_type": "markdown",
   "metadata": {},
   "source": [
    "| HISTORICAL DATA |\n",
    "|-|\n",
    "| Baselne Data: OHCLV (Open, High, Low, Close, Volume) Candlestick Chart |\n",
    "| IMPORTANT: For effective plotting and time series analysis, it's crucial that the date column in the df is in the datetime format rather than an object (string). |"
   ]
  },
  {
   "cell_type": "code",
   "execution_count": null,
   "metadata": {},
   "outputs": [],
   "source": [
    "# chart_historical_df['date'] = pd.to_datetime(chart_historical_df['date'])\n",
    "# chart_historical_df.set_index('date', inplace=True)\n",
    "\n",
    "# print(chart_historical_df.index.dtype)  # Should print 'datetime64[ns]'\n",
    "# print(chart_historical_df.columns)  # This will list all columns except 'date'\n",
    "# chart_historical_df.head()\n"
   ]
  },
  {
   "cell_type": "markdown",
   "metadata": {},
   "source": [
    "# TREND LINES - UNIT TESTING"
   ]
  },
  {
   "cell_type": "markdown",
   "metadata": {},
   "source": [
    "| TICKER - Unit TESTING | \n",
    "|-|"
   ]
  },
  {
   "cell_type": "code",
   "execution_count": null,
   "metadata": {},
   "outputs": [],
   "source": [
    "# #### dynamic symbol test update \n",
    "# # return the unique symbols and store as list\n",
    "# unique_symbols = chart_historical_df['symbol'].unique()\n",
    "# unique_symbols_list = unique_symbols.tolist()\n",
    "\n",
    "# print(unique_symbols_list)\n",
    "\n",
    "# ex_ticker = unique_symbols_list[0]\n",
    "\n",
    "# print(ex_ticker)"
   ]
  },
  {
   "cell_type": "code",
   "execution_count": null,
   "metadata": {},
   "outputs": [],
   "source": [
    "# # #### HARDCODED SYMBOL -> Option #1\n",
    "# # ticker = 'CRM'\n",
    "# # ticker_df = chart_historical_df[chart_historical_df['symbol'] == ticker].copy()\n",
    "\n",
    "# #### DYNAMIC SYMBOL (allocation) -> Option #2\n",
    "# ticker = ex_ticker\n",
    "# ticker_df = chart_historical_df[chart_historical_df['symbol'] == ex_ticker].copy()\n",
    "\n",
    "# ticker_df.head()"
   ]
  },
  {
   "cell_type": "code",
   "execution_count": null,
   "metadata": {},
   "outputs": [],
   "source": [
    "# # rename columns so they are capitalized for mplfinance specs\n",
    "# ticker_df.rename(columns={'open': 'Open', 'high': 'High', 'low': 'Low', 'close': 'Close', 'volume': 'Volume'}, inplace=True)\n",
    "\n",
    "# ticker_df.tail(10)"
   ]
  },
  {
   "cell_type": "code",
   "execution_count": null,
   "metadata": {},
   "outputs": [],
   "source": [
    "# # save unit test dataframe to csv\n",
    "# ticker_df.to_csv(f'unit_TEST/historical_data_{ticker}{today_date_str}.csv', index=True)"
   ]
  },
  {
   "cell_type": "markdown",
   "metadata": {},
   "source": [
    "# ADVANCED WIP"
   ]
  },
  {
   "cell_type": "code",
   "execution_count": null,
   "metadata": {},
   "outputs": [],
   "source": [
    "# ticker_df.head(6)"
   ]
  },
  {
   "cell_type": "markdown",
   "metadata": {},
   "source": [
    "| ADVANCED CHARTING | \n",
    "|-|\n",
    "| Trend Lines | "
   ]
  },
  {
   "cell_type": "code",
   "execution_count": null,
   "metadata": {},
   "outputs": [],
   "source": [
    "# def check_trend_line(support: bool, pivot: int, slope: float, y: np.array):\n",
    "#     # compute sum of differences between line and prices, \n",
    "#     # return negative value if invalid \n",
    "    \n",
    "#     intercept = -slope * pivot + y.iloc[pivot]  # Using .iloc[] for positional indexing\n",
    "#     line_vals = slope * np.arange(len(y)) + intercept  # Calculate line values\n",
    "#     diffs = line_vals - y  # Calculate differences between line values and actual values\n",
    "    \n",
    "#     if support and diffs.max() > 1e-5:\n",
    "#         return -1.0  # Line is not valid for support\n",
    "#     elif not support and diffs.min() < -1e-5:\n",
    "#         return -1.0  # Line is not valid for resistance\n",
    "    \n",
    "#     err = (diffs ** 2.0).sum()  # Calculate sum of squared errors\n",
    "#     return err\n",
    "\n",
    "# def optimize_slope(support: bool, pivot: int, init_slope: float, y: np.array):\n",
    "#     slope_unit = (y.max() - y.min()) / len(y)  # Determine the unit change for slope\n",
    "    \n",
    "#     # Initialize optimization variables\n",
    "#     opt_step = 1.0\n",
    "#     min_step = 0.0001\n",
    "#     curr_step = opt_step\n",
    "#     best_slope = init_slope\n",
    "#     best_err = check_trend_line(support, pivot, init_slope, y)\n",
    "    \n",
    "#     assert(best_err >= 0.0)  # Initial slope should not produce an error\n",
    "    \n",
    "#     get_derivative = True\n",
    "#     derivative = None\n",
    "#     while curr_step > min_step:\n",
    "#         if get_derivative:\n",
    "#             # Numerical differentiation to find the direction to adjust slope\n",
    "#             slope_change = best_slope + slope_unit * min_step\n",
    "#             test_err = check_trend_line(support, pivot, slope_change, y)\n",
    "#             derivative = test_err - best_err\n",
    "\n",
    "#             if test_err < 0.0:  # If increasing slope fails, try decreasing\n",
    "#                 slope_change = best_slope - slope_unit * min_step\n",
    "#                 test_err = check_trend_line(support, pivot, slope_change, y)\n",
    "#                 derivative = best_err - test_err\n",
    "\n",
    "#             if test_err < 0.0:  # If derivative failed, abort optimization\n",
    "#                 raise Exception(\"Derivative failed. Check your data.\")\n",
    "\n",
    "#             get_derivative = False\n",
    "\n",
    "#         if derivative > 0.0:  # If increasing slope increased error\n",
    "#             test_slope = best_slope - slope_unit * curr_step\n",
    "#         else:  # If increasing slope decreased error\n",
    "#             test_slope = best_slope + slope_unit * curr_step\n",
    "        \n",
    "#         test_err = check_trend_line(support, pivot, test_slope, y)\n",
    "#         if test_err < 0 or test_err >= best_err:  # If slope failed or didn't reduce error\n",
    "#             curr_step *= 0.5  # Reduce step size\n",
    "#         else:  # If test slope reduced error\n",
    "#             best_err = test_err\n",
    "#             best_slope = test_slope\n",
    "#             get_derivative = True  # Recompute derivative\n",
    "    \n",
    "#     return (best_slope, -best_slope * pivot + y.iloc[pivot])  # Using .iloc[] for positional indexing\n",
    "\n",
    "# def fit_trendlines_single(data: np.array):\n",
    "#     x = np.arange(len(data))\n",
    "#     coefs = np.polyfit(x, data, 1)  # Fit line of best fit\n",
    "#     line_points = coefs[0] * x + coefs[1]  # Get points of line\n",
    "    \n",
    "#     # Find pivot points\n",
    "#     upper_pivot = (data - line_points).argmax()\n",
    "#     lower_pivot = (data - line_points).argmin()\n",
    "   \n",
    "#     # Optimize the slope for both trend lines\n",
    "#     support_coefs = optimize_slope(True, lower_pivot, coefs[0], data)\n",
    "#     resist_coefs = optimize_slope(False, upper_pivot, coefs[0], data)\n",
    "\n",
    "#     return (support_coefs, resist_coefs)\n",
    "\n",
    "# def fit_trendlines_high_low(high: np.array, low: np.array, close: np.array):\n",
    "#     x = np.arange(len(close))\n",
    "#     coefs = np.polyfit(x, close, 1)  # Fit line of best fit\n",
    "#     line_points = coefs[0] * x + coefs[1]  # Get points of line\n",
    "\n",
    "#     # Find pivot points\n",
    "#     upper_pivot = (high - line_points).argmax()\n",
    "#     lower_pivot = (low - line_points).argmin()\n",
    "    \n",
    "#     # Optimize the slope for both trend lines\n",
    "#     support_coefs = optimize_slope(True, lower_pivot, coefs[0], low)\n",
    "#     resist_coefs = optimize_slope(False, upper_pivot, coefs[0], high)\n",
    "\n",
    "#     return (support_coefs, resist_coefs)\n"
   ]
  },
  {
   "cell_type": "code",
   "execution_count": null,
   "metadata": {},
   "outputs": [],
   "source": [
    "# should be based on 72 periods but displayed as 24 periods maybe? nah?"
   ]
  },
  {
   "cell_type": "code",
   "execution_count": null,
   "metadata": {},
   "outputs": [],
   "source": [
    "# # step 1: fit trendlines for each stock\n",
    "# support_coefs, resist_coefs = fit_trendlines_high_low(ticker_df['High'], ticker_df['Low'], ticker_df['Close'])"
   ]
  },
  {
   "cell_type": "code",
   "execution_count": null,
   "metadata": {},
   "outputs": [],
   "source": [
    "# # step 2: calculate trendlines\n",
    "# x_values = np.arange(len(ticker_df))  # Use the actual data range\n",
    "\n",
    "# # Calculate the line values using the coefficients\n",
    "# support_line = support_coefs[0] * x_values + support_coefs[1]\n",
    "# resistance_line = resist_coefs[0] * x_values + resist_coefs[1]"
   ]
  },
  {
   "cell_type": "markdown",
   "metadata": {},
   "source": [
    "| ADVANCED CHARTING |\n",
    "|-|\n",
    "| Line of Best Fit (Regression Line) |\n",
    "| Pivot point Xs |\n",
    "| CLOSE |"
   ]
  },
  {
   "cell_type": "code",
   "execution_count": null,
   "metadata": {},
   "outputs": [],
   "source": [
    "# # linear regresion\n",
    "# last_72_df = ticker_df.iloc[-72:]\n",
    "# X = np.arange(len(last_72_df)).reshape(-1, 1)\n",
    "# y = last_72_df['Close'].values.reshape(-1, 1)\n",
    "\n",
    "# model = LinearRegression().fit(X, y)\n",
    "# best_fit_last_72 = model.predict(X).flatten()\n",
    "\n",
    "# # Preparing the regression line plot data\n",
    "# best_fit_series = pd.Series([np.nan] * len(ticker_df))\n",
    "# best_fit_series.iloc[-72:] = best_fit_last_72\n"
   ]
  },
  {
   "cell_type": "code",
   "execution_count": null,
   "metadata": {},
   "outputs": [],
   "source": [
    "# # Identify the pivot points within the last 72 periods\n",
    "# pivot_point_low_index = last_72_df['Close'].idxmin()\n",
    "# pivot_point_high_index = last_72_df['Close'].idxmax()"
   ]
  },
  {
   "cell_type": "code",
   "execution_count": null,
   "metadata": {},
   "outputs": [],
   "source": [
    "# # Initialize series for pivot points with NaN values\n",
    "# pivot_points_high_series = pd.Series(data=[np.nan] * len(ticker_df), index=ticker_df.index)\n",
    "# pivot_points_low_series = pd.Series(data=[np.nan] * len(ticker_df), index=ticker_df.index)\n",
    "\n",
    "# # Set the pivot point values\n",
    "# pivot_points_high_series[pivot_point_high_index] = ticker_df.loc[pivot_point_high_index, 'Close']\n",
    "# pivot_points_low_series[pivot_point_low_index] = ticker_df.loc[pivot_point_low_index, 'Close']"
   ]
  },
  {
   "cell_type": "markdown",
   "metadata": {},
   "source": [
    "| ADVANCED CHARTING |\n",
    "|-|\n",
    "| Extending the trend and regression lines to the future |"
   ]
  },
  {
   "cell_type": "code",
   "execution_count": null,
   "metadata": {},
   "outputs": [],
   "source": [
    "# # Extend x_values for future predictions\n",
    "# future_line_periods = 10\n",
    "# current_periods = len(ticker_df)\n",
    "# extended_x_values = np.arange(current_periods + future_line_periods)\n",
    "\n",
    "# # Calculate extended trend lines\n",
    "# extended_support_line = support_coefs[0] * extended_x_values + support_coefs[1]\n",
    "# extended_resistance_line = resist_coefs[0] * extended_x_values + resist_coefs[1]\n",
    "\n",
    "# # Calculate extended line of best fit\n",
    "# X_future = np.arange(-72, future_line_periods).reshape(-1, 1)  # -72 for last 72 periods and future periods\n",
    "# extended_best_fit = model.predict(X_future).flatten()"
   ]
  },
  {
   "cell_type": "markdown",
   "metadata": {},
   "source": [
    "| ADVANCED CHARTING - CHART IT |\n",
    "|-|\n",
    "| Candlestick Chart (KEY Levels overlayed) |\n"
   ]
  },
  {
   "cell_type": "code",
   "execution_count": null,
   "metadata": {},
   "outputs": [],
   "source": [
    "# # prepare the plot\n",
    "# apds = [mpf.make_addplot(support_line, color='green', width=2),\n",
    "#         mpf.make_addplot(resistance_line, color='red', width=2),\n",
    "#         mpf.make_addplot(best_fit_series, color='orange', width=2)]        \n",
    "#         # mpf.make_addplot(pivot_points_high_series, type='scatter', markersize=100, marker='x', color='green'),\n",
    "#         # mpf.make_addplot(pivot_points_low_series, type='scatter', markersize=100, marker='x', color='red')]"
   ]
  },
  {
   "cell_type": "code",
   "execution_count": null,
   "metadata": {},
   "outputs": [],
   "source": [
    "# # look at the df\n",
    "# ticker_df.tail(10)\n",
    "\n",
    "# # youre going to have to create some placeholders here.\n",
    "# # another df?"
   ]
  },
  {
   "cell_type": "code",
   "execution_count": null,
   "metadata": {},
   "outputs": [],
   "source": [
    "# #### CHART IT ####\n",
    "# # Define the period for the x-axis view and future extension\n",
    "# lookback_periods = 90\n",
    "# future_periods = 20\n",
    "\n",
    "# # Calculate the extended index for the lookback period\n",
    "# lookback_index = ticker_df.index[-lookback_periods]\n",
    "\n",
    "# # Generate the future index by adding the future periods to the last date\n",
    "# future_index = pd.date_range(start=ticker_df.index[-1] + pd.Timedelta(days=1),\n",
    "#                              periods=future_periods, freq='B')\n",
    "\n",
    "# # Combine the current and future indices\n",
    "# full_index = ticker_df.index.union(future_index)\n",
    "\n",
    "# # Set the xlim for plotting\n",
    "# xlim = (lookback_index, full_index[-1])\n",
    "\n",
    "# # Plot the candlestick chart with extended x-axis\n",
    "# mpf.plot(ticker_df,\n",
    "#          type='candle',\n",
    "#          style='charles',\n",
    "#          volume=True,\n",
    "#          title=f'${ticker} CHART',\n",
    "#          figratio=(42, 14),\n",
    "#          xlim=xlim,  # Set the new x-axis limits\n",
    "#          addplot=apds)  # 'apds' should contain all your additional plots"
   ]
  },
  {
   "cell_type": "code",
   "execution_count": null,
   "metadata": {},
   "outputs": [],
   "source": [
    "# ticker_df.tail(10)"
   ]
  },
  {
   "cell_type": "code",
   "execution_count": null,
   "metadata": {},
   "outputs": [],
   "source": [
    "# support_line"
   ]
  },
  {
   "cell_type": "markdown",
   "metadata": {},
   "source": [
    "# END ADVANCED WIP TESTS"
   ]
  },
  {
   "cell_type": "markdown",
   "metadata": {},
   "source": [
    "| DATA PACKAGE |\n",
    "|-|\n",
    "| Trend Lines |\n"
   ]
  },
  {
   "cell_type": "code",
   "execution_count": null,
   "metadata": {},
   "outputs": [],
   "source": [
    "# # Step 3: Calculate the y-values for the line of best fit for the last 72 periods\n",
    "# best_fit_last_72 = model.predict(X)\n",
    "\n",
    "# # Create a series for the best fit line, filled with NaN except for the last 72 values\n",
    "# best_fit_series = pd.Series([np.nan] * len(ticker_df), index=ticker_df.index)\n",
    "# # best_fit_series = pd.Series(model.predict(X), index=last_72_df.index)\n",
    "# best_fit_series[-72:] = best_fit_last_72\n",
    "\n",
    "# # # Step 4: Pivot Points\n",
    "# # pivot_point_low_index = last_72_df['Close'].idxmin()\n",
    "# # pivot_point_low_value = last_72_df.loc[pivot_point_low_index, 'Close']\n",
    "\n",
    "# # pivot_point_high_index = last_72_df['Close'].idxmax()\n",
    "# # pivot_point_high_value = last_72_df.loc[pivot_point_high_index, 'Close']\n",
    "\n",
    "# # # Create a series for the pivot points, similar to the best fit line\n",
    "# # pivot_points_low = pd.Series([np.nan] * len(ticker_df), index=ticker_df.index)\n",
    "# # pivot_points_low[pivot_point_low_index] = pivot_point_low_value\n",
    "\n",
    "# # pivot_points_high = pd.Series([np.nan] * len(ticker_df), index=ticker_df.index)\n",
    "# # pivot_points_high[pivot_point_high_index] = pivot_point_high_value\n",
    "\n",
    "# # # Step X: chart it\n",
    "# # last_72_index = ticker_df.index[-90] # 90 periods on the x-axis\n",
    "\n",
    "# # mpf.plot(ticker_df,\n",
    "# #          type='candle',\n",
    "# #          style='charles',\n",
    "# #          volume=True,\n",
    "# #          title=f'{ticker} Candlestick Chart: Last 72 Periods with Regression Line and Pivot Point',\n",
    "# #          figratio=(42, 14),\n",
    "# #          xlim=(last_72_index, ticker_df.index[-1]),  # Adjusted for the last 72 periods\n",
    "# #          addplot=apds)\n",
    "\n",
    "# # mpf.show()\n",
    "\n",
    "\n",
    "# # # step 5: chart setup\n",
    "# # apds = [\n",
    "# #     mpf.make_addplot(best_fit_series, color='orange', width=2),\n",
    "# #     mpf.make_addplot(pivot_points_low, type='scatter', markersize=200, marker='x', color='red'),\n",
    "# #     mpf.make_addplot(pivot_points_high, type='scatter', markersize=200, marker='x', color='green')  # Green X for the highest point\n",
    "# # ]\n",
    "\n",
    "# # # Step X: chart it\n",
    "# # last_72_index = ticker_df.index[-90] # 90 periods on the x-axis\n",
    "\n",
    "# # mpf.plot(ticker_df,\n",
    "# #          type='candle',\n",
    "# #          style='charles',\n",
    "# #          volume=True,\n",
    "# #          title=f'{ticker} Candlestick Chart: Last 72 Periods with Regression Line and Pivot Point',\n",
    "# #          figratio=(42, 14),\n",
    "# #          xlim=(last_72_index, ticker_df.index[-1]),  # Adjusted for the last 72 periods\n",
    "# #          addplot=apds)\n",
    "\n",
    "# # mpf.show()"
   ]
  },
  {
   "cell_type": "code",
   "execution_count": null,
   "metadata": {},
   "outputs": [],
   "source": [
    "# # step 5: chart setup\n",
    "# apds = [\n",
    "#     mpf.make_addplot(best_fit_series, color='orange', width=2),\n",
    "#     mpf.make_addplot(pivot_points_low, type='scatter', markersize=200, marker='x', color='red'),\n",
    "#     mpf.make_addplot(pivot_points_high, type='scatter', markersize=200, marker='x', color='green')  # Green X for the highest point\n",
    "# ]"
   ]
  },
  {
   "cell_type": "code",
   "execution_count": null,
   "metadata": {},
   "outputs": [],
   "source": [
    "# # Step X: chart it\n",
    "# last_72_index = ticker_df.index[-90] # 90 periods on the x-axis\n",
    "\n",
    "# mpf.plot(ticker_df,\n",
    "#          type='candle',\n",
    "#          style='charles',\n",
    "#          volume=True,\n",
    "#          title=f'{ticker} Candlestick Chart: Last 72 Periods with Regression Line and Pivot Point',\n",
    "#          figratio=(42, 14),\n",
    "#          xlim=(last_72_index, ticker_df.index[-1]),  # Adjusted for the last 72 periods\n",
    "#          addplot=apds)\n",
    "\n",
    "# mpf.show()\n"
   ]
  },
  {
   "cell_type": "markdown",
   "metadata": {},
   "source": [
    "50DSMA - needed bc everyone has it\n",
    "standard deviations (2 above)\n",
    "63DMA - makes at least more sense (63 trading days in a quarter)\n",
    "2dVWAP\n",
    "3dVWAP\n",
    "AVWAP"
   ]
  },
  {
   "cell_type": "markdown",
   "metadata": {},
   "source": [
    "| Dataframe -> .csv file |\n",
    "|-|"
   ]
  },
  {
   "cell_type": "code",
   "execution_count": null,
   "metadata": {},
   "outputs": [],
   "source": [
    "# # create a csv file with a flat date index (otherwise it'll get lost when saving to csv)\n",
    "# ticker_csv_df = ticker_df.reset_index()\n",
    "# # dtype of date\n",
    "# print(ticker_csv_df['date'].dtype)\n",
    "# # print index type\n",
    "# print(ticker_csv_df.index.dtype)\n",
    "\n",
    "# # save to csv\n",
    "# ticker_csv_df.to_csv(f'{ticker}_historical_data{today_date_str}', index=False)\n",
    "\n",
    "# ticker_csv_df.head(2)\n"
   ]
  },
  {
   "cell_type": "code",
   "execution_count": null,
   "metadata": {},
   "outputs": [],
   "source": [
    "# #### add VWAP to df\n",
    "# chart_historical_df['VWAP'] = (chart_historical_df['volume'] * (chart_historical_df['high'] + chart_historical_df['low'] + chart_historical_df['close']) / 3).cumsum() / chart_historical_df['volume'].cumsum()\n",
    "\n",
    "# chart_historical_df.head(4)"
   ]
  },
  {
   "cell_type": "code",
   "execution_count": null,
   "metadata": {},
   "outputs": [],
   "source": [
    "# \"\"\"SIMPLE MOVING AVERAGES (SMA)\"\"\"\n",
    "# def calculate_sma(dataframe, period):\n",
    "#     return dataframe['close'].rolling(window=period).mean()\n",
    "\n",
    "# chart_historical_df['SMA5'] = calculate_sma(chart_historical_df, 5)\n",
    "# chart_historical_df['SMA10'] = calculate_sma(chart_historical_df, 10)\n",
    "# chart_historical_df['SMA15'] = calculate_sma(chart_historical_df, 15)\n",
    "\n",
    "# chart_historical_df.tail(10)\n"
   ]
  },
  {
   "cell_type": "code",
   "execution_count": null,
   "metadata": {},
   "outputs": [],
   "source": [
    "# \"\"\"EXPONENTIAL MOVING AVERAGES (EMA)\"\"\"\n",
    "# def calculate_ema(dataframe, period):\n",
    "#     return dataframe['close'].ewm(span=period, adjust=False).mean()\n",
    "\n",
    "# # calculate EMAs for the specified periods\n",
    "# chart_historical_df['EMA5'] = calculate_ema(chart_historical_df, 5)\n",
    "# chart_historical_df['EMA10'] = calculate_ema(chart_historical_df, 10)\n",
    "# chart_historical_df['EMA20'] = calculate_ema(chart_historical_df, 20)\n",
    "# chart_historical_df['EMA50'] = calculate_ema(chart_historical_df, 50)\n",
    "\n",
    "# chart_historical_df.tail(10)\n"
   ]
  },
  {
   "cell_type": "code",
   "execution_count": null,
   "metadata": {},
   "outputs": [],
   "source": [
    "# \"\"\"MOVING AVERAGE CONVERGENCE DIVERGENCE (MACD)\"\"\"\n",
    "# # calculate the MACD line and the Signal line\n",
    "# chart_historical_df['MACD'] = calculate_ema(chart_historical_df, 12) - calculate_ema(chart_historical_df, 26)\n",
    "# chart_historical_df['MACD_Signal'] = chart_historical_df['MACD'].ewm(span=9, adjust=False).mean()\n",
    "\n",
    "# # MACD Histogram -> useful for visualizing momentum and potential buy/sell signals\n",
    "# chart_historical_df['MACD_Histogram'] = chart_historical_df['MACD'] - chart_historical_df['MACD_Signal']\n",
    "\n",
    "# chart_historical_df.tail(10)"
   ]
  },
  {
   "cell_type": "code",
   "execution_count": null,
   "metadata": {},
   "outputs": [],
   "source": [
    "# #### DEV - DATA ORGANIZATION ####\n",
    "# chart_historical_df.columns"
   ]
  },
  {
   "cell_type": "code",
   "execution_count": null,
   "metadata": {},
   "outputs": [],
   "source": [
    "# \"\"\"BOLLINGER BANDS (BB)\"\"\"\n",
    "# # BB 1 of 2 -> standard bollinger bands (20D CLOSE $)\n",
    "# period = 20 # SMA periods\n",
    "# std_dev_multiplier = 2 # standard deviation multiplier\n",
    "\n",
    "# # line 1: middle band -> simple moving average (SMA)\n",
    "# chart_historical_df[f'middle_band_SMA{period}'] = chart_historical_df['close'].rolling(window=period).mean()\n",
    "\n",
    "# # not a line: standard deviation -> used to calculate the upper and lower bands\n",
    "# chart_historical_df[f'std_dev_SMA{period}'] = chart_historical_df['close'].rolling(window=period).std()\n",
    "\n",
    "# # lines 2 & 3: upper and lower bands\n",
    "# chart_historical_df[f'upper_band_SMA{period}'] = chart_historical_df[f'middle_band_SMA{period}'] + (chart_historical_df[f'std_dev_SMA{period}'] * std_dev_multiplier)\n",
    "# chart_historical_df[f'lower_band_SMA{period}'] = chart_historical_df[f'middle_band_SMA{period}'] - (chart_historical_df[f'std_dev_SMA{period}'] * std_dev_multiplier)\n",
    "\n",
    "\n",
    "# # BB 2 of 2 -> typical price bollinger bands (20D TYPICAL $)\n",
    "# chart_historical_df['typical_price'] = (chart_historical_df['high'] + chart_historical_df['low'] + chart_historical_df['close']) / 3\n",
    "\n",
    "# # Calculate the SMA of the Typical Price and name it 'middle_band_typical_SMA20'\n",
    "# chart_historical_df[f'middle_band_typical_SMA{period}'] = chart_historical_df['typical_price'].rolling(window=period).mean()\n",
    "\n",
    "# # Calculate the standard deviation of the Typical Price\n",
    "# chart_historical_df[f'std_dev_typical_SMA{period}'] = chart_historical_df['typical_price'].rolling(window=period).std()\n",
    "\n",
    "# # Calculate the upper and lower bands for the Typical Price and name them accordingly\n",
    "# chart_historical_df[f'upper_band_typical_SMA{period}'] = chart_historical_df[f'middle_band_typical_SMA{period}'] + (chart_historical_df[f'std_dev_typical_SMA{period}'] * std_dev_multiplier)\n",
    "# chart_historical_df[f'lower_band_typical_SMA{period}'] = chart_historical_df[f'middle_band_typical_SMA{period}'] - (chart_historical_df[f'std_dev_typical_SMA{period}'] * std_dev_multiplier)\n",
    "\n",
    "# # view df with new (2) BBs (6 new columns)\n",
    "# # chart_historical_df.iloc[-1] # last row slice to check the new columns\n",
    "# chart_historical_df.tail(2)\n"
   ]
  },
  {
   "cell_type": "code",
   "execution_count": null,
   "metadata": {},
   "outputs": [],
   "source": [
    "# chart_historical_df.head(5)"
   ]
  },
  {
   "cell_type": "code",
   "execution_count": null,
   "metadata": {},
   "outputs": [],
   "source": [
    "# # drop rows that contain NAs (pulled extra data earlier for this purpose)\n",
    "# chart_historical_df = chart_historical_df.dropna()\n",
    "\n",
    "# # view the df\n",
    "# chart_historical_df.head(5)"
   ]
  },
  {
   "cell_type": "code",
   "execution_count": null,
   "metadata": {},
   "outputs": [],
   "source": [
    "# # date column check data type\n",
    "# chart_historical_df.index"
   ]
  },
  {
   "cell_type": "code",
   "execution_count": null,
   "metadata": {},
   "outputs": [],
   "source": [
    "# # IMPORTANT: reset index before saving to Excel (need this shit flat so we don't lose the 'date' index)\n",
    "# chart_historical_df.reset_index(inplace=True)"
   ]
  },
  {
   "cell_type": "code",
   "execution_count": null,
   "metadata": {},
   "outputs": [],
   "source": [
    "# chart_historical_df.index"
   ]
  },
  {
   "cell_type": "code",
   "execution_count": null,
   "metadata": {},
   "outputs": [],
   "source": [
    "# chart_historical_df.head(5)"
   ]
  },
  {
   "cell_type": "code",
   "execution_count": null,
   "metadata": {},
   "outputs": [],
   "source": [
    "# print(tv_L2_df.columns)"
   ]
  },
  {
   "cell_type": "code",
   "execution_count": null,
   "metadata": {},
   "outputs": [],
   "source": [
    "# # takes the original DataFrame and a list of stock symbols,\n",
    "# # returns a dictionary of DataFrames, one for each stock symbol\n",
    "# def create_symbol_dataframes(df, symbols):\n",
    "#     symbol_dfs = {}\n",
    "#     for symbol in symbols:\n",
    "#         # Filter the DataFrame for the symbol and store it in a dictionary\n",
    "#         symbol_dfs[f\"{symbol}_chart_df\"] = df[df['symbol'] == symbol]\n",
    "    \n",
    "#     return symbol_dfs\n",
    "\n",
    "\n",
    "# symbols = mvp_chart_df['symbol'].unique() \n",
    "# symbol_dataframes = create_symbol_dataframes(mvp_chart_df, symbols)\n",
    "\n",
    "# mtn_df = symbol_dataframes['MTN_chart_df']\n",
    "\n",
    "# print(symbol_dataframes)\n",
    "\n"
   ]
  },
  {
   "cell_type": "markdown",
   "metadata": {},
   "source": [
    "| CALCULATIONS - J. Welles Wilder Jr (technical indicators) |\n",
    "|-|\n",
    "| *displayed underneath the chart not overlayed* |\n",
    "| START |"
   ]
  },
  {
   "cell_type": "code",
   "execution_count": null,
   "metadata": {},
   "outputs": [],
   "source": [
    "# \"\"\"RELATIVE STRENGTH INDEX (RSI)\"\"\"\n",
    "# def calculate_rsi(dataframe, periods=14):\n",
    "#     close_delta = dataframe['close'].diff()\n",
    "#     up = close_delta.clip(lower=0)\n",
    "#     down = -1 * close_delta.clip(upper=0)\n",
    "\n",
    "#     ma_up = up.rolling(window=periods).mean()\n",
    "#     ma_down = down.rolling(window=periods).mean()\n",
    "\n",
    "#     rsi = ma_up / (ma_up + ma_down) * 100\n",
    "#     return rsi\n",
    "\n",
    "# # Adding the RSI to your DataFrame\n",
    "# chart_historical_df['RSI'] = calculate_rsi(chart_historical_df)\n",
    "\n",
    "# chart_historical_df.tail(10)\n"
   ]
  },
  {
   "cell_type": "code",
   "execution_count": null,
   "metadata": {},
   "outputs": [],
   "source": [
    "# \"\"\"AVERAGE TRUE RANGE (ATR)\"\"\"\n",
    "# def calculate_atr(dataframe, period=14):\n",
    "#     high_low = dataframe['high'] - dataframe['low']\n",
    "#     high_close = (dataframe['high'] - dataframe['close'].shift()).abs()\n",
    "#     low_close = (dataframe['low'] - dataframe['close'].shift()).abs()\n",
    "\n",
    "#     # Calculate the True Range (TR) as the maximum of the three measures\n",
    "#     tr = pd.concat([high_low, high_close, low_close], axis=1).max(axis=1)\n",
    "\n",
    "#     # Calculate the ATR by taking the rolling mean of the TR\n",
    "#     atr = tr.rolling(window=period).mean()\n",
    "    \n",
    "#     return atr\n",
    "\n",
    "# # Adding the ATR to your DataFrame\n",
    "# chart_historical_df['ATR'] = calculate_atr(chart_historical_df)\n",
    "\n",
    "# chart_historical_df.tail(10)"
   ]
  },
  {
   "cell_type": "code",
   "execution_count": null,
   "metadata": {},
   "outputs": [],
   "source": [
    "# START HERE\n",
    "# see about if i should be doing a multi-index and group by if it makes the code more efficient and accurate and all that\n",
    "# simple data plot soon to see what we are working with and if there are bugs"
   ]
  },
  {
   "cell_type": "code",
   "execution_count": null,
   "metadata": {},
   "outputs": [
    {
     "data": {
      "text/plain": [
       "'Average Directional Index (ADX)'"
      ]
     },
     "execution_count": 128,
     "metadata": {},
     "output_type": "execute_result"
    }
   ],
   "source": [
    "\"\"\"Average Directional Index (ADX)\"\"\""
   ]
  },
  {
   "cell_type": "code",
   "execution_count": null,
   "metadata": {},
   "outputs": [
    {
     "data": {
      "text/plain": [
       "'PARABOLIC SAR (PSAR)'"
      ]
     },
     "execution_count": 129,
     "metadata": {},
     "output_type": "execute_result"
    }
   ],
   "source": [
    "\"\"\"PARABOLIC SAR (PSAR)\"\"\""
   ]
  },
  {
   "cell_type": "markdown",
   "metadata": {},
   "source": [
    "| J. Welles Wilder Jr (technical indicators) |\n",
    "|-|\n",
    "| END |"
   ]
  },
  {
   "cell_type": "code",
   "execution_count": null,
   "metadata": {},
   "outputs": [],
   "source": [
    "# LINE LEVELS not full calculation dataframe\n",
    "# part 1 was calculations append\n",
    "# part 2 is data points append\n",
    "# part 3 extra - could be plotting past signals (might integrate ai in here like tensorflow)"
   ]
  },
  {
   "cell_type": "markdown",
   "metadata": {},
   "source": [
    "| CHARTS |\n",
    "|-|"
   ]
  },
  {
   "cell_type": "code",
   "execution_count": null,
   "metadata": {},
   "outputs": [],
   "source": [
    "# #### xlwings -> dynamic send to excel ####\n",
    "# # save name for todays returend gap up stocks historical data\n",
    "# chart_data_file = f'chart_data{today_date_str}.xlsx'\n",
    "\n",
    "# # reset index before saving to Excel (need\n",
    "# chart_historical_df.reset_index(inplace=True, drop=True)\n",
    "\n",
    "# # Save the DataFrame to an Excel file\n",
    "# chart_historical_df.to_excel(chart_data_file, index=False)\n",
    "\n",
    "# # Use xlwings to open the file in Excel\n",
    "# app = xw.App(visible=True)\n",
    "# book = app.books.open(chart_data_file)"
   ]
  },
  {
   "cell_type": "code",
   "execution_count": null,
   "metadata": {},
   "outputs": [],
   "source": [
    "# # AVAILABLE COLS\n",
    "# chart_historical_df.columns"
   ]
  },
  {
   "cell_type": "code",
   "execution_count": null,
   "metadata": {},
   "outputs": [],
   "source": [
    "# def plot_symbol_technicals(chart_historical_df, symbol):\n",
    "#     # FILTER\n",
    "#     symbol_df = chart_historical_df[chart_historical_df['symbol'] == symbol].copy()\n",
    "    \n",
    "#     # print(symbol_df.head(5))\n",
    "#     # DATA PREP\n",
    "#     add2plot = [\n",
    "#         # mpf.make_addplot(symbol_df['SMA5'], color='#7BAFD4', width=1.0, label='SMA5'), \n",
    "#         # mpf.make_addplot(symbol_df['SMA10'], color='#003087', width=1.0, label='SMA10'), \n",
    "#         mpf.make_addplot(symbol_df['VWAP'], color='#B31B1B', width=1.0, label='VWAP')\n",
    "#     ]\n",
    "    \n",
    "#     # STYLE & PLOT\n",
    "#     mpf_style = mpf.make_mpf_style(base_mpf_style='nightclouds', rc={'text.color': 'white'})\n",
    "#     fig, axes = mpf.plot(symbol_df,\n",
    "#                          type='candle',\n",
    "#                          addplot=add2plot,\n",
    "#                          volume=True,\n",
    "#                          style=mpf_style,\n",
    "#                         #  style='yahoo',\n",
    "#                          figratio=(42, 12),\n",
    "#                          title=f'${symbol} - Historical Data (4 Months)',\n",
    "#                          tight_layout=True,\n",
    "#                          returnfig=True)\n",
    "\n",
    "#     # watermark\n",
    "#     fig.text(0.5, 0.5, symbol, fontsize=50, color='gray', alpha=0.5, ha='center', va='center', rotation=0, transform=fig.transFigure)\n",
    "\n",
    "#     mpf.show()\n"
   ]
  },
  {
   "cell_type": "code",
   "execution_count": null,
   "metadata": {},
   "outputs": [],
   "source": [
    "# # print a list of the unique stock symbols\n",
    "# unique_symbols = chart_historical_df['symbol'].unique()\n",
    "# print(f'Unique stock symbols: {unique_symbols}')"
   ]
  },
  {
   "cell_type": "code",
   "execution_count": null,
   "metadata": {},
   "outputs": [],
   "source": [
    "# #### EXECUTE CHARTING ####\n",
    "# # DEV\n",
    "# plot_symbol_technicals(chart_historical_df, 'GRND')\n",
    "\n",
    "# # # PRO\n",
    "# # for unique in unique_symbols:\n",
    "# #     plot_symbol_technicals(chart_historical_df, unique)"
   ]
  },
  {
   "cell_type": "markdown",
   "metadata": {},
   "source": [
    "| END OF IN PROGRESS WORK - NOTES BELOW |\n",
    "|--|"
   ]
  },
  {
   "cell_type": "code",
   "execution_count": null,
   "metadata": {},
   "outputs": [
    {
     "data": {
      "text/plain": [
       "' \\nISSUE: some weird shit with the style param\\nnbd tho ctfo. \\n\\nworkaround =  is first successfully run with style=mpf_style, then swap it for style=s (dark mode - but common view like Ortex)  \\nthe blue shit and mpf_style is actually cool but might confuse user (i.e., blue = red and white = green) with the mpf_style\\nexperienced similar shit like this years ago, idunno will get to it.\\n\\n'"
      ]
     },
     "execution_count": 136,
     "metadata": {},
     "output_type": "execute_result"
    }
   ],
   "source": [
    "\"\"\" \n",
    "ISSUE: some weird shit with the style param\n",
    "nbd tho ctfo. \n",
    "\n",
    "workaround =  is first successfully run with style=mpf_style, then swap it for style=s (dark mode - but common view like Ortex)  \n",
    "the blue shit and mpf_style is actually cool but might confuse user (i.e., blue = red and white = green) with the mpf_style\n",
    "experienced similar shit like this years ago, idunno will get to it.\n",
    "\n",
    "\"\"\""
   ]
  },
  {
   "cell_type": "code",
   "execution_count": null,
   "metadata": {},
   "outputs": [],
   "source": [
    "# you're going to need different charts, one for the pre-market, and at least another for market open\n",
    "# I'd like market opens to be a live feed but really we might already be in trading view watching the pine script execute"
   ]
  },
  {
   "cell_type": "markdown",
   "metadata": {},
   "source": [
    "# Trend lines"
   ]
  },
  {
   "cell_type": "code",
   "execution_count": null,
   "metadata": {},
   "outputs": [],
   "source": [
    "# but first start with getting lines on that chart with STRV\n",
    "# let's get those key levels with an output on them and figure out your strategy\n",
    "# figure out when fibonacci extensions get activated\n",
    "# i see one view with a grid layout of the stock charts above or below them the summary with the key levels, current price and all that\n",
    "# i also see a view where when looking at individiual stocks we got data all over that shit. idgaf if it's \"confusing for the user\"\n",
    "\n",
    "# you have your key_levels_df\n",
    "# so start next from there okay\n",
    "\n",
    "#### </b> ####\n",
    "\n",
    "# make title more symetrically bigger not just bigger for fucks sake \n",
    "# move price to the right side, keep vol on left\n",
    "# see if you can get a marker or military like custom google font one of the ones you like\n",
    "# better yet use that program you wrote for sn logos actually to create your shit\n",
    "# could put that Sans Peur Systems somewhere at least watermark it, maybe?\n",
    "# key levels find up to 6?, scoring strategy?, then base allotment of position (1/3, 1/5) conditionally?\n",
    "# we could add RSI down there, fuck could add ichimoku, do whatever with all this data access now"
   ]
  },
  {
   "cell_type": "markdown",
   "metadata": {},
   "source": [
    "NOTES -> SMA Legend"
   ]
  },
  {
   "cell_type": "code",
   "execution_count": null,
   "metadata": {},
   "outputs": [],
   "source": [
    "# # SMA20, SMA50, and SMA200 has to be in 'dell_df'\n",
    "# legend_info = {\n",
    "#     'Indicator': ['SMA20', 'SMA50', 'SMA200'],\n",
    "#     'Color': ['blue', 'orange', 'green'],\n",
    "#     'Description': ['20-day Moving Average', '50-day Moving Average', '200-day Moving Average']\n",
    "# }\n",
    "\n",
    "# legend_df = pd.DataFrame(legend_info)\n",
    "# print(legend_df)\n"
   ]
  },
  {
   "cell_type": "markdown",
   "metadata": {},
   "source": [
    "NOTES -> custom mplfinance chart setup example"
   ]
  },
  {
   "cell_type": "code",
   "execution_count": null,
   "metadata": {},
   "outputs": [],
   "source": [
    "# \"\"\"    \n",
    "# Custom Theme setup\n",
    "# \"\"\"\n",
    "\n",
    "# dark_style = mpf.make_mpf_style(base_mpf_style='charles', \n",
    "#                                 rc={'axes.facecolor': 'black',\n",
    "#                                     'figure.facecolor': 'darkslategrey',\n",
    "#                                     'axes.grid': True,\n",
    "#                                     'grid.color': 'gray',\n",
    "#                                     'grid.linestyle': '--',\n",
    "#                                     'grid.linewidth': 0.6,\n",
    "#                                     'axes.titlesize': 16,\n",
    "#                                     'axes.titleweight': 'bold',\n",
    "#                                     'axes.labelsize': 12,\n",
    "#                                     'axes.labelweight': 'bold',\n",
    "#                                     'axes.labelcolor': 'white',\n",
    "#                                     'axes.edgecolor': 'white',\n",
    "#                                     'axes.linewidth': 2,\n",
    "#                                     'xtick.color': 'white',\n",
    "#                                     'xtick.labelsize': 10,\n",
    "#                                     'ytick.color': 'white',\n",
    "#                                     'ytick.labelsize': 10,\n",
    "#                                     'figure.titlesize': 18,\n",
    "#                                     'figure.titleweight': 'bold',\n",
    "#                                     'legend.facecolor': 'grey',\n",
    "#                                     'legend.edgecolor': 'white',\n",
    "#                                     'legend.fontsize': 10,\n",
    "#                                     'legend.title_fontsize': 12})\n",
    "\n",
    "# mpf.plot(strv_df, \n",
    "#          type='candle', \n",
    "#          style=dark_style,  # Using the custom dark style\n",
    "#          volume=True, \n",
    "#          title='STRV Candlestick Chart',\n",
    "#          mav=(20, 50, 200),  # Adding moving averages of 20, 50, and 200 periods\n",
    "#          figratio=(15, 8), \n",
    "#          tight_layout=True)"
   ]
  },
  {
   "cell_type": "code",
   "execution_count": null,
   "metadata": {},
   "outputs": [],
   "source": [
    "# i need a math checker for trading days vs calendar days (252/365)"
   ]
  },
  {
   "cell_type": "markdown",
   "metadata": {},
   "source": [
    "Notes -> yahoo finance API exaple (free) *with limitations"
   ]
  },
  {
   "cell_type": "code",
   "execution_count": null,
   "metadata": {},
   "outputs": [],
   "source": [
    "# import yfinance as yf\n",
    "# from datetime import datetime, timedelta"
   ]
  },
  {
   "cell_type": "code",
   "execution_count": null,
   "metadata": {},
   "outputs": [],
   "source": [
    "# # yahoo finance data download\n",
    "# start = datetime.now() - timedelta(days=60)\n",
    "# end = datetime.now()\n",
    "# yahoo_df = yf.download(gap_up_stocks_list, start, end)\n",
    "# yahoo_df = yahoo_df.loc[:,'Close']\n",
    "# # view the yahoo data yahoo finance formatting multi-index (has a 60day max with standard API maneuvers)\n",
    "# yahoo_df.head(10)"
   ]
  }
 ],
 "metadata": {
  "kernelspec": {
   "display_name": "dt_venv",
   "language": "python",
   "name": "python3"
  },
  "language_info": {
   "codemirror_mode": {
    "name": "ipython",
    "version": 3
   },
   "file_extension": ".py",
   "mimetype": "text/x-python",
   "name": "python",
   "nbconvert_exporter": "python",
   "pygments_lexer": "ipython3",
   "version": "3.11.1"
  }
 },
 "nbformat": 4,
 "nbformat_minor": 2
}
