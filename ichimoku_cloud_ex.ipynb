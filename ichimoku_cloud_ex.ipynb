{
 "cells": [
  {
   "cell_type": "code",
   "execution_count": null,
   "metadata": {},
   "outputs": [],
   "source": [
    "# libraries\n",
    "import numpy as np\n",
    "import pandas as pd\n",
    "import yfinance as yf\n",
    "import matplotlib.pyplot as plt\n",
    "import datetime as dt\n",
    "# from matplotlib.widgets import CheckButtons"
   ]
  },
  {
   "cell_type": "code",
   "execution_count": null,
   "metadata": {},
   "outputs": [],
   "source": [
    "\"\"\"ICHIMOKU CLOUD\"\"\"\n",
    "def fetch_stock_data(ticker, start_date, end_date):\n",
    "    stock_data = yf.download(ticker, start=start_date, end=end_date)\n",
    "    return stock_data\n",
    "\n",
    "def calculate_ichimoku(data):\n",
    "    high_prices = data['High']\n",
    "    low_prices = data['Low']\n",
    "    close_prices = data['Close']\n",
    "\n",
    "    # Ichimoku Cloud calculation\n",
    "    data['Tenkan-sen'] = (high_prices.rolling(window=9).max() + low_prices.rolling(window=9).min()) / 2\n",
    "    data['Kijun-sen'] = (high_prices.rolling(window=26).max() + low_prices.rolling(window=26).min()) / 2\n",
    "    data['Senkou Span A'] = ((data['Tenkan-sen'] + data['Kijun-sen']) / 2).shift(26)\n",
    "    data['Senkou Span B'] = ((high_prices.rolling(window=52).max() + low_prices.rolling(window=52).min()) / 2).shift(26)\n",
    "    data['Chikou Span'] = close_prices.shift(-26)\n",
    "\n",
    "    return data\n",
    "\n",
    "def plot_ichimoku(data, ticker):\n",
    "    plt.figure(figsize=(14, 8))\n",
    "    plt.plot(data.index, data['Close'], label=ticker)\n",
    "    plt.plot(data.index, data['Senkou Span A'], label='Senkou Span A')\n",
    "    plt.plot(data.index, data['Senkou Span B'], label='Senkou Span B')\n",
    "    plt.plot(data.index, data['Tenkan-sen'], label='Tenkan-sen')\n",
    "    plt.plot(data.index, data['Kijun-sen'], label='Kijun-sen')\n",
    "    plt.plot(data.index, data['Chikou Span'], label='Chikou Span', color='orange')\n",
    "    plt.fill_between(data.index, data['Senkou Span A'], data['Senkou Span B'], where=data['Senkou Span A']>=data['Senkou Span B'], color='lightgreen', alpha=0.8)\n",
    "    plt.fill_between(data.index, data['Senkou Span A'], data['Senkou Span B'], where=data['Senkou Span A']<data['Senkou Span B'], color='lightcoral', alpha=0.8)\n",
    "    plt.legend(loc='upper left')\n",
    "    plt.title('Ichimoku Cloud for ' + ticker)\n",
    "    plt.show()\n"
   ]
  },
  {
   "cell_type": "code",
   "execution_count": null,
   "metadata": {},
   "outputs": [],
   "source": [
    "if __name__ == '__main__':\n",
    "    ticker = 'PLTR'\n",
    "    start_date = '2024-01-01'\n",
    "    end_date = dt.datetime.now().strftime('%Y-%m-%d')\n",
    "    stock_data = fetch_stock_data(ticker, start_date, end_date)\n",
    "    ichimoku_data = calculate_ichimoku(stock_data)\n",
    "    plot_ichimoku(ichimoku_data, ticker)"
   ]
  },
  {
   "cell_type": "code",
   "execution_count": null,
   "metadata": {},
   "outputs": [],
   "source": []
  },
  {
   "cell_type": "code",
   "execution_count": null,
   "metadata": {},
   "outputs": [],
   "source": []
  }
 ],
 "metadata": {
  "language_info": {
   "name": "python"
  }
 },
 "nbformat": 4,
 "nbformat_minor": 2
}
