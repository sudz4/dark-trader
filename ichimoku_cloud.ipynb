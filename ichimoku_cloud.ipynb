{
 "cells": [
  {
   "cell_type": "code",
   "execution_count": 46,
   "metadata": {},
   "outputs": [
    {
     "data": {
      "text/plain": [
       "True"
      ]
     },
     "execution_count": 46,
     "metadata": {},
     "output_type": "execute_result"
    }
   ],
   "source": [
    "# libs\n",
    "import os\n",
    "import pandas as pd\n",
    "import requests\n",
    "from dotenv import load_dotenv #pip3 install python-dotenv\n",
    "# pip3 install lxml\n",
    "\n",
    "# load secrets\n",
    "load_dotenv()"
   ]
  },
  {
   "cell_type": "code",
   "execution_count": 41,
   "metadata": {},
   "outputs": [],
   "source": [
    "def get_historical_data(symbol, lookback_days=90):\n",
    "    iex_key = os.getenv(\"IEX_API_KEY\") \n",
    "    historical_url = f'https://cloud.iexapis.com/v1/stock/{symbol}/chart/{lookback_days}d?token={iex_key}'\n",
    "\n",
    "    historical_data = requests.get(historical_url).json()\n",
    "    df = pd.DataFrame(historical_data)\n",
    "    return df[['date', 'high', 'low', 'close']]\n",
    "\n",
    "# Fetch historical data\n",
    "ticker = 'PLTR'\n",
    "historical_df = get_historical_data(ticker)\n",
    "\n",
    "# Display the historical data\n",
    "# print(historical_df)\n",
    "\n",
    "# Convert the 'date' column to datetime objects\n",
    "historical_df['date'] = pd.to_datetime(historical_df['date'])\n",
    "\n",
    "# Sort the DataFrame by the 'date' column\n",
    "historical_df = historical_df.sort_values(by='date')"
   ]
  },
  {
   "cell_type": "code",
   "execution_count": 42,
   "metadata": {},
   "outputs": [
    {
     "data": {
      "text/html": [
       "<div>\n",
       "<style scoped>\n",
       "    .dataframe tbody tr th:only-of-type {\n",
       "        vertical-align: middle;\n",
       "    }\n",
       "\n",
       "    .dataframe tbody tr th {\n",
       "        vertical-align: top;\n",
       "    }\n",
       "\n",
       "    .dataframe thead th {\n",
       "        text-align: right;\n",
       "    }\n",
       "</style>\n",
       "<table border=\"1\" class=\"dataframe\">\n",
       "  <thead>\n",
       "    <tr style=\"text-align: right;\">\n",
       "      <th></th>\n",
       "      <th>date</th>\n",
       "      <th>high</th>\n",
       "      <th>low</th>\n",
       "      <th>close</th>\n",
       "    </tr>\n",
       "  </thead>\n",
       "  <tbody>\n",
       "    <tr>\n",
       "      <th>55</th>\n",
       "      <td>2024-01-11</td>\n",
       "      <td>16.93</td>\n",
       "      <td>16.17</td>\n",
       "      <td>16.68</td>\n",
       "    </tr>\n",
       "    <tr>\n",
       "      <th>56</th>\n",
       "      <td>2024-01-12</td>\n",
       "      <td>17.06</td>\n",
       "      <td>16.62</td>\n",
       "      <td>16.76</td>\n",
       "    </tr>\n",
       "    <tr>\n",
       "      <th>57</th>\n",
       "      <td>2024-01-16</td>\n",
       "      <td>16.74</td>\n",
       "      <td>16.29</td>\n",
       "      <td>16.53</td>\n",
       "    </tr>\n",
       "    <tr>\n",
       "      <th>58</th>\n",
       "      <td>2024-01-17</td>\n",
       "      <td>16.41</td>\n",
       "      <td>16.05</td>\n",
       "      <td>16.39</td>\n",
       "    </tr>\n",
       "    <tr>\n",
       "      <th>59</th>\n",
       "      <td>2024-01-18</td>\n",
       "      <td>16.81</td>\n",
       "      <td>16.10</td>\n",
       "      <td>16.40</td>\n",
       "    </tr>\n",
       "  </tbody>\n",
       "</table>\n",
       "</div>"
      ],
      "text/plain": [
       "         date   high    low  close\n",
       "55 2024-01-11  16.93  16.17  16.68\n",
       "56 2024-01-12  17.06  16.62  16.76\n",
       "57 2024-01-16  16.74  16.29  16.53\n",
       "58 2024-01-17  16.41  16.05  16.39\n",
       "59 2024-01-18  16.81  16.10  16.40"
      ]
     },
     "execution_count": 42,
     "metadata": {},
     "output_type": "execute_result"
    }
   ],
   "source": [
    "# display html version of df\n",
    "historical_df.tail(5)"
   ]
  }
 ],
 "metadata": {
  "kernelspec": {
   "display_name": "dt_venv",
   "language": "python",
   "name": "python3"
  },
  "language_info": {
   "codemirror_mode": {
    "name": "ipython",
    "version": 3
   },
   "file_extension": ".py",
   "mimetype": "text/x-python",
   "name": "python",
   "nbconvert_exporter": "python",
   "pygments_lexer": "ipython3",
   "version": "3.11.1"
  }
 },
 "nbformat": 4,
 "nbformat_minor": 2
}
