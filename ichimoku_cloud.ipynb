{
 "cells": [
  {
   "cell_type": "code",
   "execution_count": 1,
   "metadata": {},
   "outputs": [
    {
     "data": {
      "text/plain": [
       "True"
      ]
     },
     "execution_count": 1,
     "metadata": {},
     "output_type": "execute_result"
    }
   ],
   "source": [
    "# libs\n",
    "import os\n",
    "import pandas as pd\n",
    "import requests\n",
    "from dotenv import load_dotenv #pip3 install python-dotenv\n",
    "# pip3 install lxml\n",
    "\n",
    "# load secrets\n",
    "load_dotenv()"
   ]
  },
  {
   "cell_type": "code",
   "execution_count": 2,
   "metadata": {},
   "outputs": [],
   "source": [
    "def get_historical_data(symbol, lookback_days=90):\n",
    "    iex_key = os.getenv(\"IEX_API_KEY\") \n",
    "    historical_url = f'https://cloud.iexapis.com/v1/stock/{symbol}/chart/{lookback_days}d?token={iex_key}'\n",
    "\n",
    "    historical_data = requests.get(historical_url).json()\n",
    "    df = pd.DataFrame(historical_data)\n",
    "    return df[['date', 'high', 'low', 'close']]\n",
    "\n",
    "# Fetch historical data\n",
    "ticker = 'PLTR' # Palantir Technologies Inc\n",
    "#### sudz4 -> think about getting a list, can do list of SP500 or sector, pass the list to the function and get the data\n",
    "historical_df = get_historical_data(ticker)\n",
    "\n",
    "# Display the historical data\n",
    "# print(historical_df)\n",
    "\n",
    "# Convert the 'date' column to datetime objects\n",
    "historical_df['date'] = pd.to_datetime(historical_df['date'])\n",
    "\n",
    "# Sort the DataFrame by the 'date' column\n",
    "historical_df = historical_df.sort_values(by='date')"
   ]
  },
  {
   "cell_type": "code",
   "execution_count": 11,
   "metadata": {},
   "outputs": [
    {
     "name": "stdout",
     "output_type": "stream",
     "text": [
      "Historical Data START\n",
      "        date   high    low  close\n",
      "0 2023-11-06  19.08  17.93  18.54\n",
      "1 2023-11-07  19.17  18.53  18.80\n",
      "2 2023-11-08  18.93  18.15  18.49\n",
      "3 2023-11-09  18.87  18.16  18.27\n",
      "4 2023-11-10  19.72  18.06  19.67\n",
      "\n",
      "Historical Data END\n",
      "         date     high    low  close\n",
      "55 2024-01-26  16.7500  16.34  16.35\n",
      "56 2024-01-29  17.1100  16.43  17.09\n",
      "57 2024-01-30  17.2400  16.66  16.74\n",
      "58 2024-01-31  16.7600  16.07  16.09\n",
      "59 2024-02-01  16.4868  16.03  16.33\n"
     ]
    }
   ],
   "source": [
    "#### DEV -> df view options\n",
    "# print(historical_df) # full view\n",
    "\n",
    "print('Historical Data START')\n",
    "print(historical_df.head(5))\n",
    "print()\n",
    "print('Historical Data END')\n",
    "print(historical_df.tail(5)) # last 5 rows\n",
    "\n",
    "# print(historical_df.head(1)) # first row\n",
    "# print(historical_df.tail(1)) # last row"
   ]
  }
 ],
 "metadata": {
  "kernelspec": {
   "display_name": "dt_venv",
   "language": "python",
   "name": "python3"
  },
  "language_info": {
   "codemirror_mode": {
    "name": "ipython",
    "version": 3
   },
   "file_extension": ".py",
   "mimetype": "text/x-python",
   "name": "python",
   "nbconvert_exporter": "python",
   "pygments_lexer": "ipython3",
   "version": "3.11.1"
  }
 },
 "nbformat": 4,
 "nbformat_minor": 2
}
