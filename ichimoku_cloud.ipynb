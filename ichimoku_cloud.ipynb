{
 "cells": [
  {
   "cell_type": "code",
   "execution_count": 5,
   "metadata": {},
   "outputs": [
    {
     "data": {
      "text/plain": [
       "True"
      ]
     },
     "execution_count": 5,
     "metadata": {},
     "output_type": "execute_result"
    }
   ],
   "source": [
    "# libs\n",
    "import os\n",
    "import pandas as pd\n",
    "import requests\n",
    "from dotenv import load_dotenv #pip3 install python-dotenv\n",
    "# pip3 install lxml\n",
    "\n",
    "# load secrets\n",
    "load_dotenv()"
   ]
  },
  {
   "cell_type": "code",
   "execution_count": null,
   "metadata": {},
   "outputs": [],
   "source": [
    "def get_historical_data(symbol, lookback_days=90):\n",
    "    iex_key = os.getenv(\"IEX_API_KEY\") \n",
    "    historical_url = f'https://cloud.iexapis.com/v1/stock/{symbol}/chart/{lookback_days}d?token={iex_key}'\n",
    "\n",
    "    historical_data = requests.get(historical_url).json()\n",
    "    df = pd.DataFrame(historical_data)\n",
    "    return df[['date', 'high', 'low', 'close']]\n",
    "\n",
    "# Fetch historical data\n",
    "ticker = 'PLTR'\n",
    "historical_df = get_historical_data(ticker)\n",
    "\n",
    "# Display the historical data\n",
    "# print(historical_df)"
   ]
  },
  {
   "cell_type": "code",
   "execution_count": 8,
   "metadata": {},
   "outputs": [
    {
     "data": {
      "text/html": [
       "<div>\n",
       "<style scoped>\n",
       "    .dataframe tbody tr th:only-of-type {\n",
       "        vertical-align: middle;\n",
       "    }\n",
       "\n",
       "    .dataframe tbody tr th {\n",
       "        vertical-align: top;\n",
       "    }\n",
       "\n",
       "    .dataframe thead th {\n",
       "        text-align: right;\n",
       "    }\n",
       "</style>\n",
       "<table border=\"1\" class=\"dataframe\">\n",
       "  <thead>\n",
       "    <tr style=\"text-align: right;\">\n",
       "      <th></th>\n",
       "      <th>date</th>\n",
       "      <th>high</th>\n",
       "      <th>low</th>\n",
       "      <th>close</th>\n",
       "    </tr>\n",
       "  </thead>\n",
       "  <tbody>\n",
       "    <tr>\n",
       "      <th>0</th>\n",
       "      <td>2023-10-23</td>\n",
       "      <td>16.34</td>\n",
       "      <td>15.21</td>\n",
       "      <td>16.20</td>\n",
       "    </tr>\n",
       "    <tr>\n",
       "      <th>1</th>\n",
       "      <td>2023-10-24</td>\n",
       "      <td>16.93</td>\n",
       "      <td>16.30</td>\n",
       "      <td>16.64</td>\n",
       "    </tr>\n",
       "    <tr>\n",
       "      <th>2</th>\n",
       "      <td>2023-10-25</td>\n",
       "      <td>16.63</td>\n",
       "      <td>15.58</td>\n",
       "      <td>15.59</td>\n",
       "    </tr>\n",
       "    <tr>\n",
       "      <th>3</th>\n",
       "      <td>2023-10-26</td>\n",
       "      <td>15.91</td>\n",
       "      <td>15.05</td>\n",
       "      <td>15.29</td>\n",
       "    </tr>\n",
       "    <tr>\n",
       "      <th>4</th>\n",
       "      <td>2023-10-27</td>\n",
       "      <td>15.60</td>\n",
       "      <td>14.96</td>\n",
       "      <td>15.07</td>\n",
       "    </tr>\n",
       "  </tbody>\n",
       "</table>\n",
       "</div>"
      ],
      "text/plain": [
       "         date   high    low  close\n",
       "0  2023-10-23  16.34  15.21  16.20\n",
       "1  2023-10-24  16.93  16.30  16.64\n",
       "2  2023-10-25  16.63  15.58  15.59\n",
       "3  2023-10-26  15.91  15.05  15.29\n",
       "4  2023-10-27  15.60  14.96  15.07"
      ]
     },
     "execution_count": 8,
     "metadata": {},
     "output_type": "execute_result"
    }
   ],
   "source": [
    "# display html version of df\n",
    "historical_df.tail(5)"
   ]
  },
  {
   "cell_type": "code",
   "execution_count": 4,
   "metadata": {},
   "outputs": [
    {
     "data": {
      "text/html": [
       "<div>\n",
       "<style scoped>\n",
       "    .dataframe tbody tr th:only-of-type {\n",
       "        vertical-align: middle;\n",
       "    }\n",
       "\n",
       "    .dataframe tbody tr th {\n",
       "        vertical-align: top;\n",
       "    }\n",
       "\n",
       "    .dataframe thead th {\n",
       "        text-align: right;\n",
       "    }\n",
       "</style>\n",
       "<table border=\"1\" class=\"dataframe\">\n",
       "  <thead>\n",
       "    <tr style=\"text-align: right;\">\n",
       "      <th></th>\n",
       "      <th>ticker</th>\n",
       "      <th>stock_price</th>\n",
       "      <th>change_close</th>\n",
       "      <th>change_close_pct</th>\n",
       "      <th>volume_today</th>\n",
       "      <th>volume_avg_5d</th>\n",
       "      <th>market_cap</th>\n",
       "      <th>float</th>\n",
       "      <th>float_pct</th>\n",
       "      <th>volatility</th>\n",
       "      <th>liquidity</th>\n",
       "      <th>news</th>\n",
       "      <th>sector</th>\n",
       "      <th>industry</th>\n",
       "      <th>company_name</th>\n",
       "      <th>latestUpdate</th>\n",
       "    </tr>\n",
       "  </thead>\n",
       "  <tbody>\n",
       "    <tr>\n",
       "      <th>0</th>\n",
       "      <td>PLTR</td>\n",
       "      <td>16.59</td>\n",
       "      <td>0.19</td>\n",
       "      <td>0.01159</td>\n",
       "      <td>28239432</td>\n",
       "      <td>None</td>\n",
       "      <td>34331970862</td>\n",
       "      <td>920329412</td>\n",
       "      <td>None</td>\n",
       "      <td>None</td>\n",
       "      <td>None</td>\n",
       "      <td>None</td>\n",
       "      <td>Information</td>\n",
       "      <td>Software Publishers</td>\n",
       "      <td>Palantir Technologies Inc</td>\n",
       "      <td>1705693993039</td>\n",
       "    </tr>\n",
       "  </tbody>\n",
       "</table>\n",
       "</div>"
      ],
      "text/plain": [
       "  ticker  stock_price  change_close  change_close_pct  volume_today  \\\n",
       "0   PLTR        16.59          0.19           0.01159      28239432   \n",
       "\n",
       "  volume_avg_5d   market_cap      float float_pct volatility liquidity  news  \\\n",
       "0          None  34331970862  920329412      None       None      None  None   \n",
       "\n",
       "        sector             industry               company_name   latestUpdate  \n",
       "0  Information  Software Publishers  Palantir Technologies Inc  1705693993039  "
      ]
     },
     "execution_count": 4,
     "metadata": {},
     "output_type": "execute_result"
    }
   ],
   "source": [
    "#create df from data\n",
    "stock_df = pd.DataFrame([stock_data])\n",
    "\n",
    "#print df\n",
    "stock_df"
   ]
  }
 ],
 "metadata": {
  "kernelspec": {
   "display_name": "dt_venv",
   "language": "python",
   "name": "python3"
  },
  "language_info": {
   "codemirror_mode": {
    "name": "ipython",
    "version": 3
   },
   "file_extension": ".py",
   "mimetype": "text/x-python",
   "name": "python",
   "nbconvert_exporter": "python",
   "pygments_lexer": "ipython3",
   "version": "3.11.1"
  }
 },
 "nbformat": 4,
 "nbformat_minor": 2
}
