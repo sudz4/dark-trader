{
 "cells": [
  {
   "cell_type": "code",
   "execution_count": 2,
   "metadata": {},
   "outputs": [
    {
     "data": {
      "text/plain": [
       "True"
      ]
     },
     "execution_count": 2,
     "metadata": {},
     "output_type": "execute_result"
    }
   ],
   "source": [
    "# libs\n",
    "import os\n",
    "import pandas as pd\n",
    "import requests\n",
    "from dotenv import load_dotenv #pip3 install python-dotenv\n",
    "# pip3 install lxml\n",
    "\n",
    "# load secrets\n",
    "load_dotenv()"
   ]
  },
  {
   "cell_type": "code",
   "execution_count": 3,
   "metadata": {},
   "outputs": [
    {
     "name": "stdout",
     "output_type": "stream",
     "text": [
      "{'ticker': 'PLTR', 'stock_price': 16.59, 'change_close': 0.19, 'change_close_pct': 0.01159, 'volume_today': 28239432, 'volume_avg_5d': None, 'market_cap': 34331970862, 'float': 920329412, 'float_pct': None, 'volatility': None, 'liquidity': None, 'news': None, 'sector': 'Information', 'industry': 'Software Publishers', 'company_name': 'Palantir Technologies Inc', 'latestUpdate': 1705693993039}\n"
     ]
    }
   ],
   "source": [
    "def get_stock_data(symbol):\n",
    "    iex_key = os.getenv(\"IEX_API_KEY\") \n",
    "    \n",
    "    #define and append endpoints below\n",
    "    quote_url = f'https://cloud.iexapis.com/v1/stock/{symbol}/quote?token={iex_key}'\n",
    "    company_url = f'https://cloud.iexapis.com/v1/stock/{symbol}/company?token={iex_key}'\n",
    "    float_url = f'https://cloud.iexapis.com/v1/data-points/{symbol}/FLOAT?token={iex_key}'\n",
    "    \n",
    "    #execute api calls\n",
    "    quote_data = requests.get(quote_url).json()\n",
    "    company_data = requests.get(company_url).json()\n",
    "    float_data = requests.get(float_url).json()\n",
    "\n",
    "    #data mapping\n",
    "    stock_data = {\n",
    "        'ticker': symbol,\n",
    "        'stock_price': quote_data['latestPrice'],\n",
    "        'change_close': quote_data['change'], #KEY-Price Gap\n",
    "        'change_close_pct': quote_data['changePercent'],\n",
    "        'volume_today': quote_data['latestVolume'],\n",
    "        'volume_avg_5d': None, \n",
    "        'market_cap': quote_data['marketCap'],\n",
    "        'float': float_data,  \n",
    "        'float_pct': None, \n",
    "        'volatility': None,\n",
    "        'liquidity': None,\n",
    "        'news': None,\n",
    "        'sector': company_data['sector'],\n",
    "        'industry': company_data['industry'],\n",
    "        'company_name': company_data['companyName'],\n",
    "        'latestUpdate': quote_data['latestUpdate']\n",
    "    }\n",
    "\n",
    "    return stock_data\n",
    "\n",
    "#execute testing\n",
    "ticker = 'PLTR'\n",
    "stock_data = get_stock_data(ticker)\n",
    "print(stock_data)"
   ]
  },
  {
   "cell_type": "code",
   "execution_count": 4,
   "metadata": {},
   "outputs": [
    {
     "data": {
      "text/html": [
       "<div>\n",
       "<style scoped>\n",
       "    .dataframe tbody tr th:only-of-type {\n",
       "        vertical-align: middle;\n",
       "    }\n",
       "\n",
       "    .dataframe tbody tr th {\n",
       "        vertical-align: top;\n",
       "    }\n",
       "\n",
       "    .dataframe thead th {\n",
       "        text-align: right;\n",
       "    }\n",
       "</style>\n",
       "<table border=\"1\" class=\"dataframe\">\n",
       "  <thead>\n",
       "    <tr style=\"text-align: right;\">\n",
       "      <th></th>\n",
       "      <th>ticker</th>\n",
       "      <th>stock_price</th>\n",
       "      <th>change_close</th>\n",
       "      <th>change_close_pct</th>\n",
       "      <th>volume_today</th>\n",
       "      <th>volume_avg_5d</th>\n",
       "      <th>market_cap</th>\n",
       "      <th>float</th>\n",
       "      <th>float_pct</th>\n",
       "      <th>volatility</th>\n",
       "      <th>liquidity</th>\n",
       "      <th>news</th>\n",
       "      <th>sector</th>\n",
       "      <th>industry</th>\n",
       "      <th>company_name</th>\n",
       "      <th>latestUpdate</th>\n",
       "    </tr>\n",
       "  </thead>\n",
       "  <tbody>\n",
       "    <tr>\n",
       "      <th>0</th>\n",
       "      <td>PLTR</td>\n",
       "      <td>16.59</td>\n",
       "      <td>0.19</td>\n",
       "      <td>0.01159</td>\n",
       "      <td>28239432</td>\n",
       "      <td>None</td>\n",
       "      <td>34331970862</td>\n",
       "      <td>920329412</td>\n",
       "      <td>None</td>\n",
       "      <td>None</td>\n",
       "      <td>None</td>\n",
       "      <td>None</td>\n",
       "      <td>Information</td>\n",
       "      <td>Software Publishers</td>\n",
       "      <td>Palantir Technologies Inc</td>\n",
       "      <td>1705693993039</td>\n",
       "    </tr>\n",
       "  </tbody>\n",
       "</table>\n",
       "</div>"
      ],
      "text/plain": [
       "  ticker  stock_price  change_close  change_close_pct  volume_today  \\\n",
       "0   PLTR        16.59          0.19           0.01159      28239432   \n",
       "\n",
       "  volume_avg_5d   market_cap      float float_pct volatility liquidity  news  \\\n",
       "0          None  34331970862  920329412      None       None      None  None   \n",
       "\n",
       "        sector             industry               company_name   latestUpdate  \n",
       "0  Information  Software Publishers  Palantir Technologies Inc  1705693993039  "
      ]
     },
     "execution_count": 4,
     "metadata": {},
     "output_type": "execute_result"
    }
   ],
   "source": [
    "#create df from data\n",
    "stock_df = pd.DataFrame([stock_data])\n",
    "\n",
    "#print df\n",
    "stock_df"
   ]
  }
 ],
 "metadata": {
  "kernelspec": {
   "display_name": "dt_venv",
   "language": "python",
   "name": "python3"
  },
  "language_info": {
   "codemirror_mode": {
    "name": "ipython",
    "version": 3
   },
   "file_extension": ".py",
   "mimetype": "text/x-python",
   "name": "python",
   "nbconvert_exporter": "python",
   "pygments_lexer": "ipython3",
   "version": "3.11.1"
  }
 },
 "nbformat": 4,
 "nbformat_minor": 2
}
