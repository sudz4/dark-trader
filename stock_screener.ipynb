{
 "cells": [
  {
   "cell_type": "code",
   "execution_count": 159,
   "metadata": {},
   "outputs": [],
   "source": [
    "# libs\n",
    "import os\n",
    "import pandas as pd\n",
    "import requests\n",
    "from dotenv import load_dotenv #pip3 install python-dotenv\n",
    "# load secrets\n",
    "load_dotenv()\n",
    "import math\n",
    "import json\n",
    "from IPython.display import JSON\n"
   ]
  },
  {
   "cell_type": "code",
   "execution_count": 160,
   "metadata": {},
   "outputs": [
    {
     "data": {
      "text/html": [
       "<div>\n",
       "<style scoped>\n",
       "    .dataframe tbody tr th:only-of-type {\n",
       "        vertical-align: middle;\n",
       "    }\n",
       "\n",
       "    .dataframe tbody tr th {\n",
       "        vertical-align: top;\n",
       "    }\n",
       "\n",
       "    .dataframe thead th {\n",
       "        text-align: right;\n",
       "    }\n",
       "</style>\n",
       "<table border=\"1\" class=\"dataframe\">\n",
       "  <thead>\n",
       "    <tr style=\"text-align: right;\">\n",
       "      <th></th>\n",
       "      <th>symbol</th>\n",
       "      <th>exchange</th>\n",
       "      <th>exchangeSuffix</th>\n",
       "      <th>exchangeName</th>\n",
       "      <th>exchangeSegment</th>\n",
       "      <th>exchangeSegmentName</th>\n",
       "      <th>name</th>\n",
       "      <th>date</th>\n",
       "      <th>type</th>\n",
       "      <th>iexId</th>\n",
       "      <th>region</th>\n",
       "      <th>currency</th>\n",
       "      <th>isEnabled</th>\n",
       "      <th>figi</th>\n",
       "      <th>cik</th>\n",
       "      <th>lei</th>\n",
       "    </tr>\n",
       "  </thead>\n",
       "  <tbody>\n",
       "    <tr>\n",
       "      <th>0</th>\n",
       "      <td>A</td>\n",
       "      <td>XNYS</td>\n",
       "      <td></td>\n",
       "      <td>New York Stock Exchange Inc</td>\n",
       "      <td>XNYS</td>\n",
       "      <td>New York Stock Exchange Inc</td>\n",
       "      <td>Agilent Technologies Inc.</td>\n",
       "      <td>2024-02-16</td>\n",
       "      <td>cs</td>\n",
       "      <td>IEX_46574843354B2D52</td>\n",
       "      <td>US</td>\n",
       "      <td>USD</td>\n",
       "      <td>True</td>\n",
       "      <td>BBG000C2V3D6</td>\n",
       "      <td>0001090872</td>\n",
       "      <td>QUIX8Y7A2WP0XRMW7G29</td>\n",
       "    </tr>\n",
       "    <tr>\n",
       "      <th>1</th>\n",
       "      <td>AA</td>\n",
       "      <td>XNYS</td>\n",
       "      <td></td>\n",
       "      <td>New York Stock Exchange Inc</td>\n",
       "      <td>XNYS</td>\n",
       "      <td>New York Stock Exchange Inc</td>\n",
       "      <td>Alcoa Corp</td>\n",
       "      <td>2024-02-16</td>\n",
       "      <td>cs</td>\n",
       "      <td>IEX_4238333734532D52</td>\n",
       "      <td>US</td>\n",
       "      <td>USD</td>\n",
       "      <td>True</td>\n",
       "      <td>BBG00B3T3HD3</td>\n",
       "      <td>0001675149</td>\n",
       "      <td>549300T12EZ1F6PWWU29</td>\n",
       "    </tr>\n",
       "    <tr>\n",
       "      <th>2</th>\n",
       "      <td>AAA</td>\n",
       "      <td>ARCX</td>\n",
       "      <td></td>\n",
       "      <td>Nyse Arca</td>\n",
       "      <td>ARCX</td>\n",
       "      <td>Nyse Arca</td>\n",
       "      <td>Investment Managers Series Trust II - AXS Firs...</td>\n",
       "      <td>2024-02-16</td>\n",
       "      <td>et</td>\n",
       "      <td>IEX_5030314338392D52</td>\n",
       "      <td>US</td>\n",
       "      <td>USD</td>\n",
       "      <td>True</td>\n",
       "      <td>BBG01B0JRCS6</td>\n",
       "      <td>0001587982</td>\n",
       "      <td>549300SU7ER9OFETRU41</td>\n",
       "    </tr>\n",
       "    <tr>\n",
       "      <th>3</th>\n",
       "      <td>AAAU</td>\n",
       "      <td>BATS</td>\n",
       "      <td></td>\n",
       "      <td>Cboe Bzx U S Equities Exchange</td>\n",
       "      <td>BATS</td>\n",
       "      <td>Cboe Bzx U S Equities Exchange</td>\n",
       "      <td>Goldman Sachs Physical Gold ETF Trust - Goldma...</td>\n",
       "      <td>2024-02-16</td>\n",
       "      <td>et</td>\n",
       "      <td>IEX_474B433136332D52</td>\n",
       "      <td>US</td>\n",
       "      <td>USD</td>\n",
       "      <td>True</td>\n",
       "      <td>BBG00LPXX872</td>\n",
       "      <td>0001708646</td>\n",
       "      <td>None</td>\n",
       "    </tr>\n",
       "    <tr>\n",
       "      <th>4</th>\n",
       "      <td>AACG</td>\n",
       "      <td>XNAS</td>\n",
       "      <td></td>\n",
       "      <td>Nasdaq All Markets</td>\n",
       "      <td>XNMS</td>\n",
       "      <td>Nasdaq Nms Global Market</td>\n",
       "      <td>ATA Creativity Global - ADR</td>\n",
       "      <td>2024-02-16</td>\n",
       "      <td>ad</td>\n",
       "      <td>IEX_44595A4C53392D52</td>\n",
       "      <td>US</td>\n",
       "      <td>USD</td>\n",
       "      <td>True</td>\n",
       "      <td>BBG000V2S3P6</td>\n",
       "      <td>0001420529</td>\n",
       "      <td>None</td>\n",
       "    </tr>\n",
       "  </tbody>\n",
       "</table>\n",
       "</div>"
      ],
      "text/plain": [
       "  symbol exchange exchangeSuffix                    exchangeName  \\\n",
       "0      A     XNYS                    New York Stock Exchange Inc   \n",
       "1     AA     XNYS                    New York Stock Exchange Inc   \n",
       "2    AAA     ARCX                                      Nyse Arca   \n",
       "3   AAAU     BATS                 Cboe Bzx U S Equities Exchange   \n",
       "4   AACG     XNAS                             Nasdaq All Markets   \n",
       "\n",
       "  exchangeSegment             exchangeSegmentName  \\\n",
       "0            XNYS     New York Stock Exchange Inc   \n",
       "1            XNYS     New York Stock Exchange Inc   \n",
       "2            ARCX                       Nyse Arca   \n",
       "3            BATS  Cboe Bzx U S Equities Exchange   \n",
       "4            XNMS        Nasdaq Nms Global Market   \n",
       "\n",
       "                                                name        date type  \\\n",
       "0                          Agilent Technologies Inc.  2024-02-16   cs   \n",
       "1                                         Alcoa Corp  2024-02-16   cs   \n",
       "2  Investment Managers Series Trust II - AXS Firs...  2024-02-16   et   \n",
       "3  Goldman Sachs Physical Gold ETF Trust - Goldma...  2024-02-16   et   \n",
       "4                        ATA Creativity Global - ADR  2024-02-16   ad   \n",
       "\n",
       "                  iexId region currency  isEnabled          figi         cik  \\\n",
       "0  IEX_46574843354B2D52     US      USD       True  BBG000C2V3D6  0001090872   \n",
       "1  IEX_4238333734532D52     US      USD       True  BBG00B3T3HD3  0001675149   \n",
       "2  IEX_5030314338392D52     US      USD       True  BBG01B0JRCS6  0001587982   \n",
       "3  IEX_474B433136332D52     US      USD       True  BBG00LPXX872  0001708646   \n",
       "4  IEX_44595A4C53392D52     US      USD       True  BBG000V2S3P6  0001420529   \n",
       "\n",
       "                    lei  \n",
       "0  QUIX8Y7A2WP0XRMW7G29  \n",
       "1  549300T12EZ1F6PWWU29  \n",
       "2  549300SU7ER9OFETRU41  \n",
       "3                  None  \n",
       "4                  None  "
      ]
     },
     "execution_count": 160,
     "metadata": {},
     "output_type": "execute_result"
    }
   ],
   "source": [
    "# iex cloud - api data request\n",
    "iex_key = os.getenv(\"IEX_API_KEY\")\n",
    "url = 'https://cloud.iexapis.com/stable/ref-data/symbols?token=' + iex_key\n",
    "response = requests.get(url)\n",
    "data = response.json()\n",
    "symbols_df = pd.DataFrame(data)\n",
    "# print \n",
    "symbols_df.head()"
   ]
  },
  {
   "cell_type": "code",
   "execution_count": 161,
   "metadata": {},
   "outputs": [
    {
     "name": "stdout",
     "output_type": "stream",
     "text": [
      "  symbol exchange                 exchangeName\n",
      "0      A     XNYS  New York Stock Exchange Inc\n",
      "1     AA     XNYS  New York Stock Exchange Inc\n",
      "4   AACG     XNAS           Nasdaq All Markets\n",
      "5   AACI     XNAS           Nasdaq All Markets\n",
      "6  AACIU     XNAS           Nasdaq All Markets\n",
      "\n",
      "Data size: 7799\n"
     ]
    }
   ],
   "source": [
    "# NYSE and NASDAQ symbols only (filter)\n",
    "filtered_df = symbols_df[symbols_df['exchange'].isin(['XNYS', 'XNAS'])]\n",
    "\n",
    "# select cols\n",
    "filtered_df = filtered_df[['symbol', 'exchange', 'exchangeName']]\n",
    "\n",
    "# filter df\n",
    "print(filtered_df.head())\n",
    "data_size = len(filtered_df.index)\n",
    "print()\n",
    "print(f\"Data size: {data_size}\") # get length of dataframe"
   ]
  },
  {
   "cell_type": "code",
   "execution_count": 162,
   "metadata": {},
   "outputs": [
    {
     "name": "stdout",
     "output_type": "stream",
     "text": [
      "Total batches: 78\n",
      "Progress: |██████████████████████████████████████████████████| 100.00% Complete\n"
     ]
    }
   ],
   "source": [
    "batch_size = 100\n",
    "# Assuming filtered_df is a DataFrame that contains a 'symbol' column.\n",
    "# Calculate total batches\n",
    "total_batches = math.ceil(len(filtered_df) / batch_size)\n",
    "print(f\"Total batches: {total_batches}\")\n",
    "\n",
    "combined_data = []\n",
    "\n",
    "# function -> fetch market cap data in batches\n",
    "def fetch_market_cap(symbols_batch, iex_key):\n",
    "    symbols_str = ','.join(symbols_batch)\n",
    "    url = f'https://cloud.iexapis.com/stable/stock/market/batch?symbols={symbols_str}&types=quote&token={iex_key}'\n",
    "    response = requests.get(url)\n",
    "    if response.status_code == 200:\n",
    "        return response.json()\n",
    "    else:\n",
    "        return {}\n",
    "    \n",
    "# Initialize a counter for completed batches\n",
    "completed_batches = 0\n",
    "\n",
    "# Define the length of the progress bar\n",
    "progress_bar_length = 50\n",
    "\n",
    "# batch processing - IMPORTANT (API efficiency)\n",
    "for i in range(0, len(filtered_df), batch_size):\n",
    "    batch_symbols = filtered_df['symbol'].iloc[i:i+batch_size].tolist()\n",
    "    batch_data = fetch_market_cap(batch_symbols, iex_key)  # Make sure iex_key is defined and valid\n",
    "    \n",
    "    # process and append data for each symbol in the batch\n",
    "    for symbol in batch_symbols:\n",
    "        market_cap = batch_data.get(symbol, {}).get('quote', {}).get('marketCap', None)\n",
    "        combined_data.append({'symbol': symbol, 'marketcap': market_cap})\n",
    "    \n",
    "    # Increment the completed batches counter\n",
    "    completed_batches += 1\n",
    "\n",
    "    # Calculate the progress\n",
    "    progress = (completed_batches / total_batches)\n",
    "    filled_length = int(round(progress_bar_length * progress))\n",
    "    \n",
    "    # Create the progress bar\n",
    "    bar = '█' * filled_length + '-' * (progress_bar_length - filled_length)\n",
    "    \n",
    "    # Print the progress bar with the percentage\n",
    "    print(f\"\\rProgress: |{bar}| {progress*100:.2f}% Complete\", end=\"\\r\")\n",
    "\n",
    "# Ensure the next print happens on the next line\n",
    "print()\n",
    "\n",
    "# convert combined data into a DataFrame\n",
    "screener_df = pd.DataFrame(combined_data)\n",
    "\n",
    "# join with the filtered_df - this adds exchange and exchangeName data\n",
    "screener_df = screener_df.merge(filtered_df[['symbol', 'exchange', 'exchangeName']], on='symbol', how='left')"
   ]
  },
  {
   "cell_type": "code",
   "execution_count": 163,
   "metadata": {},
   "outputs": [
    {
     "name": "stdout",
     "output_type": "stream",
     "text": [
      "  symbol     marketcap exchange                 exchangeName\n",
      "0      A  3.951347e+10     XNYS  New York Stock Exchange Inc\n",
      "1     AA  4.890130e+09     XNYS  New York Stock Exchange Inc\n",
      "2   AACG  4.584605e+07     XNAS           Nasdaq All Markets\n",
      "3   AACI  2.594957e+07     XNAS           Nasdaq All Markets\n",
      "4  AACIU  2.587867e+07     XNAS           Nasdaq All Markets\n",
      "\n",
      "7799\n"
     ]
    }
   ],
   "source": [
    "print(screener_df.head())\n",
    "print()\n",
    "print(len(screener_df.index))"
   ]
  },
  {
   "cell_type": "code",
   "execution_count": 164,
   "metadata": {},
   "outputs": [],
   "source": [
    "# drop NAs\n",
    "screener_df.dropna(inplace=True)"
   ]
  },
  {
   "cell_type": "code",
   "execution_count": 165,
   "metadata": {},
   "outputs": [
    {
     "name": "stdout",
     "output_type": "stream",
     "text": [
      "New length: 7692\n",
      "\n",
      "  symbol     marketcap exchange                 exchangeName\n",
      "0      A  3.951347e+10     XNYS  New York Stock Exchange Inc\n",
      "1     AA  4.890130e+09     XNYS  New York Stock Exchange Inc\n",
      "2   AACG  4.584605e+07     XNAS           Nasdaq All Markets\n",
      "3   AACI  2.594957e+07     XNAS           Nasdaq All Markets\n",
      "4  AACIU  2.587867e+07     XNAS           Nasdaq All Markets\n"
     ]
    }
   ],
   "source": [
    "# determins the count of droped NAs\n",
    "print(f'New length: {len(screener_df)}')\n",
    "print()\n",
    "print(screener_df.head())"
   ]
  },
  {
   "cell_type": "code",
   "execution_count": 166,
   "metadata": {},
   "outputs": [
    {
     "name": "stdout",
     "output_type": "stream",
     "text": [
      "   symbol     marketcap exchange                 exchangeName marketcapType\n",
      "0       A  3.951347e+10     XNYS  New York Stock Exchange Inc     Large-Cap\n",
      "1      AA  4.890130e+09     XNYS  New York Stock Exchange Inc       Mid-Cap\n",
      "2    AACG  4.584605e+07     XNAS           Nasdaq All Markets     Micro-Cap\n",
      "3    AACI  2.594957e+07     XNAS           Nasdaq All Markets     Micro-Cap\n",
      "4   AACIU  2.587867e+07     XNAS           Nasdaq All Markets     Micro-Cap\n",
      "5    AACT  5.262500e+08     XNYS  New York Stock Exchange Inc     Small-Cap\n",
      "7   AACT=  5.262500e+08     XNYS  New York Stock Exchange Inc     Small-Cap\n",
      "8    AADI  4.659913e+07     XNAS           Nasdaq All Markets     Micro-Cap\n",
      "9    AADR  2.580885e+07     XNAS           Nasdaq All Markets     Micro-Cap\n",
      "10   AAGR  4.797160e+07     XNAS           Nasdaq All Markets     Micro-Cap\n"
     ]
    }
   ],
   "source": [
    "# categorize market cap\n",
    "def categorize_market_cap(x):\n",
    "    if x < 300e6:  #  < 300 million\n",
    "        return 'Micro-Cap'\n",
    "    elif 300e6 <= x < 2e9:  # 300 million to 2 billion\n",
    "        return 'Small-Cap'\n",
    "    elif 2e9 <= x < 10e9:  # 2 billion to 10 billion\n",
    "        return 'Mid-Cap'\n",
    "    elif 10e9 <= x < 200e9:  # 10 billion to 200 billion\n",
    "        return 'Large-Cap'\n",
    "    elif x >= 200e9:  # >= 200 billion\n",
    "        return 'Mega-Cap'\n",
    "    else:\n",
    "        return 'Unknown'  # handles negative or NaN values\n",
    "\n",
    "# apply function to 'marketcap' column AND create new 'marketcapType' column\n",
    "screener_df['marketcapType'] = screener_df['marketcap'].apply(categorize_market_cap)\n",
    "print(screener_df.head(10))"
   ]
  },
  {
   "cell_type": "code",
   "execution_count": 167,
   "metadata": {},
   "outputs": [],
   "source": [
    "# # DEV - marketcap groupby count\n",
    "# marketcap_counts = screener_df['marketcapType'].value_counts()\n",
    "\n",
    "# # convert SERIES to DF\n",
    "# marketcap_counts_df = marketcap_counts.reset_index()\n",
    "# marketcap_counts_df.columns = ['marketcapType', 'count']\n",
    "\n",
    "# # add percentage column\n",
    "# total_count = marketcap_counts.sum()\n",
    "# marketcap_counts_df['percentage'] = (marketcap_counts_df['count'] / total_count) * 100\n",
    "\n",
    "# # print\n",
    "# marketcap_counts_df"
   ]
  },
  {
   "cell_type": "code",
   "execution_count": 168,
   "metadata": {},
   "outputs": [],
   "source": [
    "# # DEV - checker\n",
    "# total_count_CHECK = marketcap_counts_df['count'].sum()\n",
    "\n",
    "# # if statement comparing the two values, return 'Data is correct' if they match, otherwise return 'Data is incorrect'\n",
    "# if total_count_CHECK == len(screener_df):\n",
    "#     print('Data lengths match! SUCCESS')\n",
    "# else:    \n",
    "#     print('Data mismatch! ERROR')\n",
    "#     print()\n",
    "#     print(f'Code checker: {total_count_CHECK}')\n",
    "#     print(f'Data length: {len(screener_df)}')"
   ]
  },
  {
   "cell_type": "code",
   "execution_count": 169,
   "metadata": {},
   "outputs": [],
   "source": [
    "# screener_df.head(2)"
   ]
  },
  {
   "cell_type": "code",
   "execution_count": 170,
   "metadata": {},
   "outputs": [
    {
     "name": "stdout",
     "output_type": "stream",
     "text": [
      "Total batches: 77\n",
      "Progress: |██████████████████████████████████████████████████| 100.00% Complete\r"
     ]
    }
   ],
   "source": [
    "batch_size = 100\n",
    "total_batches = math.ceil(len(screener_df) / batch_size)\n",
    "print(f\"Total batches: {total_batches}\")\n",
    "\n",
    "quote_data_list = []\n",
    "\n",
    "def fetch_quote_data(symbols_batch, iex_key):\n",
    "    symbols_str = ','.join(symbols_batch)\n",
    "    url = f'https://cloud.iexapis.com/stable/stock/market/batch?symbols={symbols_str}&types=quote&token={iex_key}'\n",
    "    response = requests.get(url)\n",
    "    if response.status_code == 200:\n",
    "        return response.json()\n",
    "    else:\n",
    "        return {}\n",
    "    \n",
    "# initialize a counter for completed batches\n",
    "completed_batches = 0\n",
    "\n",
    "# define the length of the progress bar\n",
    "progress_bar_length = 50\n",
    "\n",
    "\"\"\"scalable endpoint variable data request\"\"\"\n",
    "for i in range(0, len(screener_df), batch_size):\n",
    "    batch_symbols = screener_df['symbol'].iloc[i:i+batch_size].tolist()\n",
    "    batch_data = fetch_quote_data(batch_symbols, iex_key)\n",
    "    \n",
    "    # process and append data for each symbol in the batch\n",
    "    for symbol in batch_symbols:\n",
    "        quote_data = batch_data.get(symbol, {}).get('quote', {})\n",
    "        quote_data_list.append({\n",
    "            'symbol': symbol, # KEY\n",
    "            'latestPrice': quote_data.get('latestPrice', None),\n",
    "            'previousClose': quote_data.get('previousClose', None), # PREV DAY CLOSE\n",
    "            'extendedPrice': quote_data.get('extendedPrice', None), # EXTENDED HOURS PRICE\n",
    "            'extendedChangePercent': quote_data.get('extendedChangePercent', None), # EXTENDED HOURS CHANGE\n",
    "            'extendedPriceTime': quote_data.get('extendedPriceTime', None), # EXTENDED HOURS PRICE TIME\n",
    "            'latestVolume': quote_data.get('latestVolume', None), # LATEST VOLUME\n",
    "            'companyName': quote_data.get('companyName', None) # COMPANY NAME\n",
    "        })\n",
    "    \n",
    "    # increment completed batches counter\n",
    "    completed_batches += 1\n",
    "\n",
    "    # calculate progress\n",
    "    progress = (completed_batches / total_batches)\n",
    "    filled_length = int(round(progress_bar_length * progress))\n",
    "    \n",
    "    # create progress bar\n",
    "    bar = '█' * filled_length + '-' * (progress_bar_length - filled_length)\n",
    "    \n",
    "    # print progress bar with percentage\n",
    "    print(f\"\\rProgress: |{bar}| {progress*100:.2f}% Complete\", end=\"\\r\")\n",
    "\n",
    "# Convert the combined data into a DataFrame\n",
    "quote_df = pd.DataFrame(quote_data_list)\n",
    "\n",
    "# Merge with the screener_df\n",
    "screener_df = screener_df.merge(quote_df[['symbol',\n",
    "                                        'latestPrice',\n",
    "                                        'previousClose', #MOVED UP\n",
    "                                        'extendedPrice', #NEW\n",
    "                                        'extendedChangePercent', #NEW #IMPORTANT\n",
    "                                        'extendedPriceTime', #NEW  \n",
    "                                        'latestVolume', #NEW\n",
    "                                        'companyName']], on='symbol', how='left')\n"
   ]
  },
  {
   "cell_type": "code",
   "execution_count": 171,
   "metadata": {},
   "outputs": [],
   "source": [
    "# def print_available_stats_parameters(symbol, iex_key):\n",
    "#     url = f'https://cloud.iexapis.com/stable/stock/{symbol}/stats?token={iex_key}'\n",
    "#     response = requests.get(url)\n",
    "#     if response.status_code == 200:\n",
    "#         data = response.json()\n",
    "#         print(json.dumps(data, indent=4, sort_keys=True))\n",
    "#     else:\n",
    "#         print(f\"Failed to fetch stats for {symbol}. Status code: {response.status_code}\")\n",
    "\n",
    "# pltr = 'PLTR'\n",
    "# print_available_stats_parameters(pltr, iex_key)"
   ]
  },
  {
   "cell_type": "code",
   "execution_count": 172,
   "metadata": {},
   "outputs": [
    {
     "name": "stdout",
     "output_type": "stream",
     "text": [
      "Total batches: 77\n",
      "Progress: |██████████████████████████████████████████████████| 100.00% Complete\r"
     ]
    }
   ],
   "source": [
    "def fetch_shares_outstanding_data(symbols_batch, iex_key):\n",
    "    symbols_str = ','.join(symbols_batch)\n",
    "    url = f'https://cloud.iexapis.com/stable/stock/market/batch?symbols={symbols_str}&types=stats&token={iex_key}'\n",
    "    response = requests.get(url)\n",
    "    if response.status_code == 200:\n",
    "        return response.json()\n",
    "    else:\n",
    "        return {}\n",
    "\n",
    "# Assuming screener_df is a DataFrame containing the symbols\n",
    "batch_size = 100\n",
    "total_batches = math.ceil(len(screener_df) / batch_size)\n",
    "print(f\"Total batches: {total_batches}\")\n",
    "\n",
    "shares_outstanding_data_list = []\n",
    "\n",
    "# initialize a counter for completed batches\n",
    "completed_batches = 0\n",
    "# define the length of the progress bar\n",
    "progress_bar_length = 50\n",
    "\n",
    "# Replace 'screener_df' with the actual DataFrame containing the symbols\n",
    "for i in range(0, len(screener_df), batch_size):\n",
    "    batch_symbols = screener_df['symbol'].iloc[i:i+batch_size].tolist()\n",
    "    batch_data = fetch_shares_outstanding_data(batch_symbols, iex_key)\n",
    "    \n",
    "    # Process and append data for each symbol in the batch\n",
    "    for symbol in batch_symbols:\n",
    "        stats_data = batch_data.get(symbol, {}).get('stats', {})\n",
    "        shares_outstanding_data_list.append({\n",
    "            'symbol': symbol,\n",
    "            'sharesOutstanding': stats_data.get('sharesOutstanding', None),\n",
    "            'avg10Volume': stats_data.get('avg10Volume', None),\n",
    "            'avg30Volume': stats_data.get('avg30Volume', None),\n",
    "        })\n",
    "\n",
    "    # increment completed batches counter\n",
    "    completed_batches += 1\n",
    "\n",
    "    # calculate progress\n",
    "    progress = (completed_batches / total_batches)\n",
    "    filled_length = int(round(progress_bar_length * progress))\n",
    "    \n",
    "    # create progress bar\n",
    "    bar = '█' * filled_length + '-' * (progress_bar_length - filled_length)\n",
    "    \n",
    "    # print progress bar with percentage\n",
    "    print(f\"\\rProgress: |{bar}| {progress*100:.2f}% Complete\", end=\"\\r\")\n",
    "\n",
    "# Convert the combined data into a DataFrame\n",
    "shares_outstanding_df = pd.DataFrame(shares_outstanding_data_list)"
   ]
  },
  {
   "cell_type": "code",
   "execution_count": 173,
   "metadata": {},
   "outputs": [
    {
     "data": {
      "text/html": [
       "<div>\n",
       "<style scoped>\n",
       "    .dataframe tbody tr th:only-of-type {\n",
       "        vertical-align: middle;\n",
       "    }\n",
       "\n",
       "    .dataframe tbody tr th {\n",
       "        vertical-align: top;\n",
       "    }\n",
       "\n",
       "    .dataframe thead th {\n",
       "        text-align: right;\n",
       "    }\n",
       "</style>\n",
       "<table border=\"1\" class=\"dataframe\">\n",
       "  <thead>\n",
       "    <tr style=\"text-align: right;\">\n",
       "      <th></th>\n",
       "      <th>symbol</th>\n",
       "      <th>sharesOutstanding</th>\n",
       "      <th>avg10Volume</th>\n",
       "      <th>avg30Volume</th>\n",
       "    </tr>\n",
       "  </thead>\n",
       "  <tbody>\n",
       "    <tr>\n",
       "      <th>0</th>\n",
       "      <td>A</td>\n",
       "      <td>293039707</td>\n",
       "      <td>1314703</td>\n",
       "      <td>1337534</td>\n",
       "    </tr>\n",
       "    <tr>\n",
       "      <th>1</th>\n",
       "      <td>AA</td>\n",
       "      <td>178471908</td>\n",
       "      <td>5108389</td>\n",
       "      <td>6162207</td>\n",
       "    </tr>\n",
       "    <tr>\n",
       "      <th>2</th>\n",
       "      <td>AACG</td>\n",
       "      <td>31401405</td>\n",
       "      <td>38869</td>\n",
       "      <td>18008</td>\n",
       "    </tr>\n",
       "    <tr>\n",
       "      <th>3</th>\n",
       "      <td>AACI</td>\n",
       "      <td>2363349</td>\n",
       "      <td>8995</td>\n",
       "      <td>15402</td>\n",
       "    </tr>\n",
       "    <tr>\n",
       "      <th>4</th>\n",
       "      <td>AACIU</td>\n",
       "      <td>15000000</td>\n",
       "      <td>0</td>\n",
       "      <td>6983</td>\n",
       "    </tr>\n",
       "    <tr>\n",
       "      <th>5</th>\n",
       "      <td>AACT</td>\n",
       "      <td>50000000</td>\n",
       "      <td>311051</td>\n",
       "      <td>209019</td>\n",
       "    </tr>\n",
       "    <tr>\n",
       "      <th>6</th>\n",
       "      <td>AACT=</td>\n",
       "      <td>50000000</td>\n",
       "      <td>600</td>\n",
       "      <td>4678</td>\n",
       "    </tr>\n",
       "    <tr>\n",
       "      <th>7</th>\n",
       "      <td>AADI</td>\n",
       "      <td>24525860</td>\n",
       "      <td>228299</td>\n",
       "      <td>247570</td>\n",
       "    </tr>\n",
       "    <tr>\n",
       "      <th>8</th>\n",
       "      <td>AADR</td>\n",
       "      <td>450000</td>\n",
       "      <td>975</td>\n",
       "      <td>739</td>\n",
       "    </tr>\n",
       "    <tr>\n",
       "      <th>9</th>\n",
       "      <td>AAGR</td>\n",
       "      <td>57866830</td>\n",
       "      <td>82754</td>\n",
       "      <td>103377</td>\n",
       "    </tr>\n",
       "  </tbody>\n",
       "</table>\n",
       "</div>"
      ],
      "text/plain": [
       "  symbol  sharesOutstanding  avg10Volume  avg30Volume\n",
       "0      A          293039707      1314703      1337534\n",
       "1     AA          178471908      5108389      6162207\n",
       "2   AACG           31401405        38869        18008\n",
       "3   AACI            2363349         8995        15402\n",
       "4  AACIU           15000000            0         6983\n",
       "5   AACT           50000000       311051       209019\n",
       "6  AACT=           50000000          600         4678\n",
       "7   AADI           24525860       228299       247570\n",
       "8   AADR             450000          975          739\n",
       "9   AAGR           57866830        82754       103377"
      ]
     },
     "execution_count": 173,
     "metadata": {},
     "output_type": "execute_result"
    }
   ],
   "source": [
    "# shares outstanding dataframe - 1 \n",
    "shares_outstanding_df.head(10)"
   ]
  },
  {
   "cell_type": "code",
   "execution_count": 174,
   "metadata": {},
   "outputs": [
    {
     "name": "stdout",
     "output_type": "stream",
     "text": [
      "Total batches: 77\n"
     ]
    }
   ],
   "source": [
    "def fetch_deep_trades_data(symbols_batch, iex_key):\n",
    "    symbols_str = ','.join(symbols_batch)\n",
    "    url = f'https://cloud.iexapis.com/stable/deep/trades?symbols={symbols_str}&token={iex_key}'\n",
    "    response = requests.get(url)\n",
    "    if response.status_code == 200:\n",
    "        return response.json()\n",
    "    else:\n",
    "        return {}\n",
    "\n",
    "# Assuming screener_df is a DataFrame containing the symbols\n",
    "batch_size = 100\n",
    "# Example for illustrative purposes\n",
    "# screener_df = pd.DataFrame({'symbol': ['AAPL', 'MSFT', 'GOOGL']})\n",
    "total_batches = math.ceil(len(screener_df) / batch_size)\n",
    "print(f\"Total batches: {total_batches}\")\n",
    "\n",
    "deep_data_list = []\n",
    "\n",
    "for i in range(0, len(screener_df), batch_size):\n",
    "    batch_symbols = screener_df['symbol'].iloc[i:i+batch_size].tolist()\n",
    "    batch_data = fetch_deep_trades_data(batch_symbols, iex_key)\n",
    "    \n",
    "    # Process and infer volume data for each symbol in the batch\n",
    "    for symbol in batch_symbols:\n",
    "        if symbol in batch_data and batch_data[symbol]:\n",
    "            volume = sum(trade['size'] for trade in batch_data[symbol])\n",
    "            deep_data_list.append({\n",
    "                'symbol': symbol,\n",
    "                'volume': volume,\n",
    "            })\n",
    "\n",
    "# Convert the combined data into a DataFrame\n",
    "iex_deep_df = pd.DataFrame(deep_data_list)"
   ]
  },
  {
   "cell_type": "code",
   "execution_count": 186,
   "metadata": {},
   "outputs": [
    {
     "name": "stdout",
     "output_type": "stream",
     "text": [
      "   symbol  volume\n",
      "0       A   32764\n",
      "1      AA  126927\n",
      "2    AACG     248\n",
      "3    AACT      50\n",
      "4    AADI    3396\n",
      "5    AAGR    2786\n",
      "6     ACT    5373\n",
      "7    ACTG     925\n",
      "8     ACV     547\n",
      "9    ACVA   31754\n",
      "10   ACWI   28321\n",
      "11   ACWX   20745\n",
      "12   ACXP     400\n",
      "13   ADAG    1564\n",
      "14   ADAP    8380\n",
      "15   ADBE     912\n",
      "16  AGM-D      23\n",
      "17   AGMH     300\n",
      "18   AGNC  182256\n",
      "19  AGNCL     196\n",
      "454\n"
     ]
    }
   ],
   "source": [
    "print(iex_deep_df.head(20)) # data check\n",
    "print(len(iex_deep_df.index)) # data check"
   ]
  },
  {
   "cell_type": "code",
   "execution_count": 187,
   "metadata": {},
   "outputs": [
    {
     "name": "stdout",
     "output_type": "stream",
     "text": [
      "screener_df column count: 16\n"
     ]
    }
   ],
   "source": [
    "print(f\"screener_df column count: {len(screener_df.columns)}\") # col count\n",
    "screener_df = screener_df.merge(shares_outstanding_df, on='symbol', how='left')"
   ]
  },
  {
   "cell_type": "code",
   "execution_count": null,
   "metadata": {},
   "outputs": [],
   "source": [
    "# merge shares_outstanding_df AND iex_deep_df with screener_df\n",
    "screener_df = screener_df.merge(iex_deep_df, on='symbol', how='left')\n",
    "print(f\"screener_df column count: {len(screener_df.columns)}\") # col count\n",
    "\n",
    "screener_df.head(24) # data check"
   ]
  },
  {
   "cell_type": "code",
   "execution_count": null,
   "metadata": {},
   "outputs": [],
   "source": [
    "# My Watchlist\n",
    "watchlist = ['PLTR', 'TSLA', 'NOW', 'SNOW','FB', 'NVDA', 'PYPL', 'ADBE', 'NFLX']\n",
    "watchlist_df = screener_df[screener_df['symbol'].isin(watchlist)]\n",
    "\n",
    "watchlist_df"
   ]
  },
  {
   "cell_type": "code",
   "execution_count": null,
   "metadata": {},
   "outputs": [],
   "source": []
  },
  {
   "cell_type": "code",
   "execution_count": null,
   "metadata": {},
   "outputs": [],
   "source": []
  },
  {
   "cell_type": "code",
   "execution_count": null,
   "metadata": {},
   "outputs": [],
   "source": []
  },
  {
   "cell_type": "code",
   "execution_count": null,
   "metadata": {},
   "outputs": [],
   "source": []
  },
  {
   "cell_type": "code",
   "execution_count": null,
   "metadata": {},
   "outputs": [],
   "source": []
  },
  {
   "cell_type": "code",
   "execution_count": null,
   "metadata": {},
   "outputs": [],
   "source": []
  },
  {
   "cell_type": "code",
   "execution_count": null,
   "metadata": {},
   "outputs": [],
   "source": []
  },
  {
   "cell_type": "code",
   "execution_count": 179,
   "metadata": {},
   "outputs": [],
   "source": [
    "# screener_df.drop(columns=['avg10Volume'], inplace=True)"
   ]
  },
  {
   "cell_type": "code",
   "execution_count": 180,
   "metadata": {},
   "outputs": [],
   "source": [
    "# screener_df.head(1)"
   ]
  },
  {
   "cell_type": "code",
   "execution_count": 181,
   "metadata": {},
   "outputs": [],
   "source": [
    "# # filtered dataframe for selected stocks (TSLA, PLTR, SNOW)\n",
    "# selected_stocks = screener_df[(screener_df['symbol'] == 'TSLA') | (screener_df['symbol'] == 'PLTR') | (screener_df['symbol'] == 'SNOW')]\n",
    "# # fix index\n",
    "# selected_stocks.reset_index(drop=True, inplace=True)"
   ]
  },
  {
   "cell_type": "code",
   "execution_count": 182,
   "metadata": {},
   "outputs": [],
   "source": [
    "# # look at filterd dataframe\n",
    "# selected_stocks"
   ]
  },
  {
   "cell_type": "code",
   "execution_count": 183,
   "metadata": {},
   "outputs": [],
   "source": [
    "# # drop columns other than 'sybol', 'marketcap', 'exchange', 'exchangeName', 'marketcapType'\n",
    "# screener_df = screener_df[['symbol', 'marketcap', 'exchange', 'exchangeName', 'marketcapType',]]\n",
    "\n",
    "# screener_df.head(10)"
   ]
  },
  {
   "cell_type": "code",
   "execution_count": 184,
   "metadata": {},
   "outputs": [],
   "source": [
    "# # DEV - API endpoing parameter availability. \n",
    "# schema_base_test_url = 'https://cloud.iexapis.com/stable'\n",
    "# test_symbol = 'PLTR' # test ticker symbol\n",
    "# schema_test_url = f\"{schema_base_test_url}/stock/{test_symbol}/quote?schema=true&token={iex_key}\"\n",
    "# # GET request\n",
    "# schema_test_response = requests.get(schema_test_url)\n",
    "\n",
    "# print(json.dumps(schema_test_response.json(), indent=4))\n"
   ]
  },
  {
   "cell_type": "code",
   "execution_count": 185,
   "metadata": {},
   "outputs": [],
   "source": [
    "# # shares outstanding\n",
    "# symbol = 'PLTR'\n",
    "# so_test_url = f'https://cloud.iexapis.com/stable/stock/{symbol}/stats/sharesOutstanding?token={iex_key}'\n",
    "\n",
    "# response = requests.get(so_test_url)\n",
    "# if response.status_code == 200:\n",
    "#     shares_outstanding = response.json()\n",
    "#     print(f'Average Shares Outstanding for {symbol}: {shares_outstanding}')\n",
    "# else:\n",
    "#     print(f'Failed to fetch data for {symbol}. Status code: {response.status_code}')\n"
   ]
  },
  {
   "cell_type": "markdown",
   "metadata": {},
   "source": [
    "IDEAS\n",
    "1. Robust value score (RBV)\n",
    "2. create data frames for each market cap\n",
    "3. create a function that does math and querying based on rules / conditions\n",
    "4. apply function to the market cap data sets\n",
    "5. Look at other STATS now that the API is connected for the sharesOutstanding"
   ]
  },
  {
   "cell_type": "markdown",
   "metadata": {},
   "source": [
    "NOTES\n",
    "1. Float\n",
    "1. Free Flt Mkt Cap\n",
    "1. Free Flt\n",
    "1. Shares outstanding\n",
    "\n",
    "MANDATORY FIELDS\n",
    "1. "
   ]
  }
 ],
 "metadata": {
  "kernelspec": {
   "display_name": "dt_venv",
   "language": "python",
   "name": "python3"
  },
  "language_info": {
   "codemirror_mode": {
    "name": "ipython",
    "version": 3
   },
   "file_extension": ".py",
   "mimetype": "text/x-python",
   "name": "python",
   "nbconvert_exporter": "python",
   "pygments_lexer": "ipython3",
   "version": "3.11.1"
  }
 },
 "nbformat": 4,
 "nbformat_minor": 2
}
