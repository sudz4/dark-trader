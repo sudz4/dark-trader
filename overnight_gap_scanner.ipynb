{
 "cells": [
  {
   "cell_type": "code",
   "execution_count": null,
   "metadata": {},
   "outputs": [],
   "source": [
    "#large cap stocks\n",
    "\"\"\"\n",
    "pre-market stock scanner\n",
    "Technical Requirements:\n",
    "1-pre-market top gainers\n",
    "change from close >= 15%\n",
    "price >= $1.00\n",
    "Volume >= 20,000 (shares)\n",
    "Market Cap = $N/A (share price * number of shares outstanding)\n",
    "\n",
    "\n",
    "2-Mid-big cap gainers\n",
    "change from the close >= 2%\n",
    "price >= $5.00 <= $400.00 (could do $500.00)\n",
    "Volume >= 20000 (shares)\n",
    "Float <= (float=total outstanding shares - restricted shares)\n",
    "Market Cap = $5000000000 (5 billion)\n",
    "\"\"\""
   ]
  },
  {
   "cell_type": "code",
   "execution_count": null,
   "metadata": {},
   "outputs": [],
   "source": [
    "#variables\n",
    "screener_col_names = ['ticker',\n",
    "                      'stock_price',\n",
    "                      'float_shares',\n",
    "                      'short_float', #more significant for small cap stocks\n",
    "                      'change_close',\n",
    "                      'volume_today',\n",
    "                      'volume_avg_5d',\n",
    "                      'market_cap',\n",
    "                      'insitutional_ownership',\n",
    "                      'sector',\n",
    "                      'company_name']"
   ]
  }
 ],
 "metadata": {
  "language_info": {
   "name": "python"
  },
  "orig_nbformat": 4
 },
 "nbformat": 4,
 "nbformat_minor": 2
}
