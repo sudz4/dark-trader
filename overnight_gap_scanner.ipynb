{
 "cells": [
  {
   "cell_type": "code",
   "execution_count": null,
   "metadata": {},
   "outputs": [],
   "source": [
    "#large cap stocks\n",
    "\"\"\"\n",
    "pre-market stock scanner\n",
    "Technical Requirements:\n",
    "1-pre-market top gainers\n",
    "change from close >= 15%\n",
    "price >= $1.00\n",
    "Volume >= 20,000 (shares)\n",
    "Market Cap = $N/A (share price * number of shares outstanding)\n",
    "\n",
    "\n",
    "2-Mid-big cap gainers\n",
    "change from the close >= 2%\n",
    "price >= $5.00 <= $400.00 (could do $500.00)\n",
    "Volume >= 20000 (shares)\n",
    "Float <= (float=total outstanding shares - restricted shares)\n",
    "Market Cap = $5000000000 (5 billion)\n",
    "\"\"\""
   ]
  },
  {
   "cell_type": "code",
   "execution_count": 4,
   "metadata": {},
   "outputs": [],
   "source": [
    "import os\n",
    "import pandas as pd\n",
    "import requests\n",
    "from dotenv import load_dotenv #pip3 install python-dotenv\n"
   ]
  },
  {
   "cell_type": "code",
   "execution_count": 5,
   "metadata": {},
   "outputs": [
    {
     "data": {
      "text/plain": [
       "True"
      ]
     },
     "execution_count": 5,
     "metadata": {},
     "output_type": "execute_result"
    }
   ],
   "source": [
    "# load secrets\n",
    "load_dotenv()"
   ]
  },
  {
   "cell_type": "code",
   "execution_count": null,
   "metadata": {},
   "outputs": [],
   "source": [
    "#variables\n",
    "screener_col_names = ['ticker',\n",
    "                      'stock_price',\n",
    "                      'float_shares',\n",
    "                      'short_float', #more significant for small cap stocks\n",
    "                      'change_close',\n",
    "                      'volume_today',\n",
    "                      'volume_avg_5d',\n",
    "                      'market_cap',\n",
    "                      'insitutional_ownership',\n",
    "                      'sector',\n",
    "                      'company_name']"
   ]
  },
  {
   "cell_type": "code",
   "execution_count": 25,
   "metadata": {},
   "outputs": [
    {
     "ename": "TypeError",
     "evalue": "'int' object is not subscriptable",
     "output_type": "error",
     "traceback": [
      "\u001b[0;31m---------------------------------------------------------------------------\u001b[0m",
      "\u001b[0;31mTypeError\u001b[0m                                 Traceback (most recent call last)",
      "Cell \u001b[0;32mIn[25], line 12\u001b[0m\n\u001b[1;32m      8\u001b[0m     \u001b[39m# return float_data\u001b[39;00m\n\u001b[1;32m      9\u001b[0m     \u001b[39m# print(float_data)\u001b[39;00m\n\u001b[1;32m     10\u001b[0m     \u001b[39mprint\u001b[39m(float_data[\u001b[39m'\u001b[39m\u001b[39mvalue\u001b[39m\u001b[39m'\u001b[39m])\n\u001b[0;32m---> 12\u001b[0m get_stock_data(\u001b[39m'\u001b[39;49m\u001b[39mPLTR\u001b[39;49m\u001b[39m'\u001b[39;49m)\n",
      "Cell \u001b[0;32mIn[25], line 10\u001b[0m, in \u001b[0;36mget_stock_data\u001b[0;34m(symbol)\u001b[0m\n\u001b[1;32m      7\u001b[0m float_data \u001b[39m=\u001b[39m requests\u001b[39m.\u001b[39mget(float_url)\u001b[39m.\u001b[39mjson()\n\u001b[1;32m      8\u001b[0m \u001b[39m# return float_data\u001b[39;00m\n\u001b[1;32m      9\u001b[0m \u001b[39m# print(float_data)\u001b[39;00m\n\u001b[0;32m---> 10\u001b[0m \u001b[39mprint\u001b[39m(float_data[\u001b[39m'\u001b[39;49m\u001b[39mvalue\u001b[39;49m\u001b[39m'\u001b[39;49m])\n",
      "\u001b[0;31mTypeError\u001b[0m: 'int' object is not subscriptable"
     ]
    }
   ],
   "source": [
    "def get_stock_data(symbol):\n",
    "    iex_key = os.getenv(\"IEX_API_KEY\") # save key var \n",
    "    #define the endpoints\n",
    "    float_url = f'https://cloud.iexapis.com/v1/data-points/PLTR/FLOAT?token={iex_key}'\n",
    "    \n",
    "    # Make the API calls\n",
    "    float_data = requests.get(float_url).json()\n",
    "    # return float_data\n",
    "    # print(float_data)\n",
    "    print(float_data['value'])\n",
    "\n",
    "get_stock_data('PLTR')\n"
   ]
  },
  {
   "cell_type": "code",
   "execution_count": null,
   "metadata": {},
   "outputs": [],
   "source": [
    "import requests\n",
    "import os\n",
    "\n",
    "def get_stock_data(symbol):\n",
    "    iex_key = os.getenv(\"IEX_API_KEY\") # save key var \n",
    "    #define the endpoints\n",
    "    quote_url = f'https://cloud.iexapis.com/v1/stock/{symbol}/quote?token={iex_key}'\n",
    "    company_url = f'https://cloud.iexapis.com/v1/stock/{symbol}/company?token={iex_key}'\n",
    "    float_url = f'https://cloud.iexapis.com/v1/data-points/{symbol}/FLOAT?token={iex_key}'\n",
    "    \n",
    "    # Make the API calls\n",
    "    quote_data = requests.get(quote_url).json()\n",
    "    company_data = requests.get(company_url).json()\n",
    "    float_data = requests.get(float_url).json()\n",
    "\n",
    "    # Map the data to the desired columns\n",
    "    stock_data = {\n",
    "        'ticker': symbol,\n",
    "        'stock_price': quote_data['latestPrice'],\n",
    "        'change_close': quote_data['change'],\n",
    "        'change_close_pct': quote_data['changePercent'],\n",
    "        'volume_today': quote_data['latestVolume'],\n",
    "        'volume_avg_5d': None, # You may need to find the appropriate endpoint for this data\n",
    "        'market_cap': quote_data['marketCap'],\n",
    "        'float': float_data['value'],\n",
    "        'company_name': company_data['companyName'],\n",
    "    }\n",
    "\n",
    "    return stock_data\n",
    "\n",
    "# Example usage\n",
    "ticker = 'PLTR'\n",
    "data = get_stock_data(ticker)\n",
    "print(data)\n"
   ]
  }
 ],
 "metadata": {
  "kernelspec": {
   "display_name": "dt_venv",
   "language": "python",
   "name": "python3"
  },
  "language_info": {
   "codemirror_mode": {
    "name": "ipython",
    "version": 3
   },
   "file_extension": ".py",
   "mimetype": "text/x-python",
   "name": "python",
   "nbconvert_exporter": "python",
   "pygments_lexer": "ipython3",
   "version": "3.11.1"
  },
  "orig_nbformat": 4
 },
 "nbformat": 4,
 "nbformat_minor": 2
}
