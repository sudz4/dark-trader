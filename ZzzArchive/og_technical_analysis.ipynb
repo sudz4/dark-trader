{
 "cells": [
  {
   "cell_type": "code",
   "execution_count": 1,
   "metadata": {},
   "outputs": [
    {
     "data": {
      "text/plain": [
       "'\\npre-market stock scanner\\nTechnical Requirements:\\n1-pre-market top gainers\\nchange from close >= 15%\\nprice >= $1.00\\nVolume >= 20,000 (shares)\\nMarket Cap = $N/A (share price * number of shares outstanding)\\n\\n\\n2-Mid-big cap gainers\\nchange from the close >= 2%\\nprice >= $5.00 <= $400.00 (could do $500.00)\\nVolume >= 20000 (shares)\\nFloat <= (float=total outstanding shares - restricted shares)\\nMarket Cap = $5000000000 (5 billion)\\n'"
      ]
     },
     "execution_count": 1,
     "metadata": {},
     "output_type": "execute_result"
    }
   ],
   "source": [
    "#large cap stocks\n",
    "\"\"\"\n",
    "pre-market stock scanner\n",
    "Technical Requirements:\n",
    "1-pre-market top gainers\n",
    "change from close >= 15%\n",
    "price >= $1.00\n",
    "Volume >= 20,000 (shares)\n",
    "Market Cap = $N/A (share price * number of shares outstanding)\n",
    "\n",
    "\n",
    "2-Mid-big cap gainers\n",
    "change from the close >= 2%\n",
    "price >= $5.00 <= $400.00 (could do $500.00)\n",
    "Volume >= 20000 (shares)\n",
    "Float <= (float=total outstanding shares - restricted shares)\n",
    "Market Cap = $5000000000 (5 billion)\n",
    "\"\"\""
   ]
  },
  {
   "cell_type": "code",
   "execution_count": 3,
   "metadata": {},
   "outputs": [
    {
     "data": {
      "text/plain": [
       "True"
      ]
     },
     "execution_count": 3,
     "metadata": {},
     "output_type": "execute_result"
    }
   ],
   "source": [
    "import os\n",
    "import pandas as pd\n",
    "import requests\n",
    "from dotenv import load_dotenv #pip3 install python-dotenv\n",
    "\n",
    "# load secrets\n",
    "load_dotenv()"
   ]
  },
  {
   "cell_type": "code",
   "execution_count": 4,
   "metadata": {},
   "outputs": [],
   "source": [
    "#variables\n",
    "screener_col_names = ['ticker',\n",
    "                      'stock_price',\n",
    "                      'float_shares',\n",
    "                      'short_float', #more significant for small cap stocks\n",
    "                      'change_close',\n",
    "                      'volume_today',\n",
    "                      'volume_avg_5d',\n",
    "                      'market_cap',\n",
    "                      'insitutional_ownership',\n",
    "                      'sector',\n",
    "                      'company_name']"
   ]
  },
  {
   "cell_type": "code",
   "execution_count": 5,
   "metadata": {},
   "outputs": [
    {
     "name": "stdout",
     "output_type": "stream",
     "text": [
      "{'ticker': 'PLTR', 'stock_price': 17.36, 'change_close': -0.58, 'change_close_pct': -0.03233, 'volume_today': 54881953, 'volume_avg_5d': None, 'market_cap': 35540246754, 'float': 920329412, 'float_pct': None, 'volatility': None, 'liquidity': None, 'news': None, 'sector': 'Information', 'industry': 'Software Publishers', 'company_name': 'Palantir Technologies Inc', 'latestUpdate': 1697227201918}\n"
     ]
    }
   ],
   "source": [
    "def get_stock_data(symbol):\n",
    "    iex_key = os.getenv(\"IEX_API_KEY\") \n",
    "    \n",
    "    #define and append endpoints below\n",
    "    quote_url = f'https://cloud.iexapis.com/v1/stock/{symbol}/quote?token={iex_key}'\n",
    "    company_url = f'https://cloud.iexapis.com/v1/stock/{symbol}/company?token={iex_key}'\n",
    "    float_url = f'https://cloud.iexapis.com/v1/data-points/{symbol}/FLOAT?token={iex_key}'\n",
    "    \n",
    "    #execute api calls\n",
    "    quote_data = requests.get(quote_url).json()\n",
    "    company_data = requests.get(company_url).json()\n",
    "    float_data = requests.get(float_url).json()\n",
    "\n",
    "    #data mapping\n",
    "    stock_data = {\n",
    "        'ticker': symbol,\n",
    "        'stock_price': quote_data['latestPrice'],\n",
    "        'change_close': quote_data['change'], #KEY-Price Gap\n",
    "        'change_close_pct': quote_data['changePercent'],\n",
    "        'volume_today': quote_data['latestVolume'],\n",
    "        'volume_avg_5d': None, \n",
    "        'market_cap': quote_data['marketCap'],\n",
    "        'float': float_data,  \n",
    "        'float_pct': None, \n",
    "        'volatility': None,\n",
    "        'liquidity': None,\n",
    "        'news': None,\n",
    "        'sector': company_data['sector'],\n",
    "        'industry': company_data['industry'],\n",
    "        'company_name': company_data['companyName'],\n",
    "        'latestUpdate': quote_data['latestUpdate']\n",
    "    }\n",
    "\n",
    "    return stock_data\n",
    "\n",
    "#execute testing\n",
    "ticker = 'PLTR'\n",
    "stock_data = get_stock_data(ticker)\n",
    "print(stock_data)"
   ]
  },
  {
   "cell_type": "code",
   "execution_count": 6,
   "metadata": {},
   "outputs": [
    {
     "data": {
      "text/html": [
       "<div>\n",
       "<style scoped>\n",
       "    .dataframe tbody tr th:only-of-type {\n",
       "        vertical-align: middle;\n",
       "    }\n",
       "\n",
       "    .dataframe tbody tr th {\n",
       "        vertical-align: top;\n",
       "    }\n",
       "\n",
       "    .dataframe thead th {\n",
       "        text-align: right;\n",
       "    }\n",
       "</style>\n",
       "<table border=\"1\" class=\"dataframe\">\n",
       "  <thead>\n",
       "    <tr style=\"text-align: right;\">\n",
       "      <th></th>\n",
       "      <th>ticker</th>\n",
       "      <th>stock_price</th>\n",
       "      <th>change_close</th>\n",
       "      <th>change_close_pct</th>\n",
       "      <th>volume_today</th>\n",
       "      <th>volume_avg_5d</th>\n",
       "      <th>market_cap</th>\n",
       "      <th>float</th>\n",
       "      <th>float_pct</th>\n",
       "      <th>volatility</th>\n",
       "      <th>liquidity</th>\n",
       "      <th>news</th>\n",
       "      <th>sector</th>\n",
       "      <th>industry</th>\n",
       "      <th>company_name</th>\n",
       "      <th>latestUpdate</th>\n",
       "    </tr>\n",
       "  </thead>\n",
       "  <tbody>\n",
       "    <tr>\n",
       "      <th>0</th>\n",
       "      <td>PLTR</td>\n",
       "      <td>17.36</td>\n",
       "      <td>-0.58</td>\n",
       "      <td>-0.03233</td>\n",
       "      <td>54881953</td>\n",
       "      <td>None</td>\n",
       "      <td>35540246754</td>\n",
       "      <td>920329412</td>\n",
       "      <td>None</td>\n",
       "      <td>None</td>\n",
       "      <td>None</td>\n",
       "      <td>None</td>\n",
       "      <td>Information</td>\n",
       "      <td>Software Publishers</td>\n",
       "      <td>Palantir Technologies Inc</td>\n",
       "      <td>1697227201918</td>\n",
       "    </tr>\n",
       "  </tbody>\n",
       "</table>\n",
       "</div>"
      ],
      "text/plain": [
       "  ticker  stock_price  change_close  change_close_pct  volume_today  \\\n",
       "0   PLTR        17.36         -0.58          -0.03233      54881953   \n",
       "\n",
       "  volume_avg_5d   market_cap      float float_pct volatility liquidity  news  \\\n",
       "0          None  35540246754  920329412      None       None      None  None   \n",
       "\n",
       "        sector             industry               company_name   latestUpdate  \n",
       "0  Information  Software Publishers  Palantir Technologies Inc  1697227201918  "
      ]
     },
     "execution_count": 6,
     "metadata": {},
     "output_type": "execute_result"
    }
   ],
   "source": [
    "#create df from data\n",
    "stock_df = pd.DataFrame([stock_data])\n",
    "\n",
    "#print df\n",
    "stock_df"
   ]
  },
  {
   "cell_type": "code",
   "execution_count": null,
   "metadata": {},
   "outputs": [],
   "source": [
    "# start here"
   ]
  }
 ],
 "metadata": {
  "kernelspec": {
   "display_name": "dt_venv",
   "language": "python",
   "name": "python3"
  },
  "language_info": {
   "codemirror_mode": {
    "name": "ipython",
    "version": 3
   },
   "file_extension": ".py",
   "mimetype": "text/x-python",
   "name": "python",
   "nbconvert_exporter": "python",
   "pygments_lexer": "ipython3",
   "version": "3.11.1"
  },
  "orig_nbformat": 4
 },
 "nbformat": 4,
 "nbformat_minor": 2
}
