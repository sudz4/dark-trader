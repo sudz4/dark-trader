{
 "cells": [
  {
   "cell_type": "markdown",
   "metadata": {},
   "source": [
    "| Stock Trading | Railroads & Railroad Technology  |\n",
    "| ----------- | ----------- |  "
   ]
  },
  {
   "cell_type": "code",
   "execution_count": 4,
   "metadata": {},
   "outputs": [],
   "source": [
    "import os\n",
    "import requests\n",
    "import pandas as pd\n",
    "from dotenv import load_dotenv\n",
    "from prettytable import PrettyTable"
   ]
  },
  {
   "cell_type": "code",
   "execution_count": 5,
   "metadata": {},
   "outputs": [],
   "source": [
    "# Load environment variables\n",
    "load_dotenv()\n",
    "iex_api_key = os.getenv(\"IEX_API_KEY\")"
   ]
  },
  {
   "cell_type": "code",
   "execution_count": null,
   "metadata": {},
   "outputs": [],
   "source": [
    "#### needs to be fixed"
   ]
  },
  {
   "cell_type": "code",
   "execution_count": 6,
   "metadata": {},
   "outputs": [
    {
     "name": "stdout",
     "output_type": "stream",
     "text": [
      "Error retrieving data from IEX Cloud: 402 Client Error: Your account does not have the relevant IEX Cloud data bundle add-on for this data. Buy data bundle add-ons at https://iexcloud.io/console/manage-plan. for url: https://cloud.iexapis.com/stable/stock/market/batch?symbols=UNP%2CCSX%2CNSC%2CCNI%2CCP%2CRAIL&types=quote&token=pk_c25fa94638ab4167b135b4e55aa3d756\n"
     ]
    }
   ],
   "source": [
    "# Define a list of stock symbols for rail companies\n",
    "rail_company_stocks = ['UNP', 'CSX', 'NSC', 'CNI', 'CP', 'RAIL']\n",
    "\n",
    "# Define the API endpoint for retrieving batch stock quotes\n",
    "endpoint = 'https://cloud.iexapis.com/stable/stock/market/batch'\n",
    "\n",
    "# Set up API parameters for the batch stock quote request\n",
    "params = {\n",
    "    'symbols': ','.join(rail_company_stocks),\n",
    "    'types': 'quote',\n",
    "    'token': iex_api_key\n",
    "}\n",
    "\n",
    "# Function to fetch stock data\n",
    "def fetch_stock_data():\n",
    "    try:\n",
    "        response = requests.get(endpoint, params=params)\n",
    "        response.raise_for_status()  # Raises HTTPError for bad requests (4XX or 5XX)\n",
    "        return response.json()\n",
    "    except requests.RequestException as e:\n",
    "        print(f\"Error retrieving data from IEX Cloud: {e}\")\n",
    "        return {}\n",
    "\n",
    "# Display the data in a tabular format using PrettyTable\n",
    "def display_data(data):\n",
    "    table = PrettyTable()\n",
    "    table.field_names = [\"Symbol\", \"Latest Price\", \"Year High\", \"Year Low\"]\n",
    "    for symbol, details in data.items():\n",
    "        quote = details['quote']\n",
    "        table.add_row([symbol, quote['latestPrice'], quote['week52High'], quote['week52Low']])\n",
    "    print(table)\n",
    "\n",
    "# Main function to control the flow\n",
    "def main():\n",
    "    data = fetch_stock_data()\n",
    "    if data:\n",
    "        display_data(data)\n",
    "\n",
    "if __name__ == \"__main__\":\n",
    "    main()"
   ]
  }
 ],
 "metadata": {
  "kernelspec": {
   "display_name": "dt_venv",
   "language": "python",
   "name": "python3"
  },
  "language_info": {
   "codemirror_mode": {
    "name": "ipython",
    "version": 3
   },
   "file_extension": ".py",
   "mimetype": "text/x-python",
   "name": "python",
   "nbconvert_exporter": "python",
   "pygments_lexer": "ipython3",
   "version": "3.11.1"
  }
 },
 "nbformat": 4,
 "nbformat_minor": 2
}
