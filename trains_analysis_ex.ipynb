{
 "cells": [
  {
   "cell_type": "markdown",
   "metadata": {},
   "source": [
    "| Stock Trading | Railroads & Railroad Technology  |\n",
    "| ----------- | ----------- |  "
   ]
  },
  {
   "cell_type": "code",
   "execution_count": 4,
   "metadata": {},
   "outputs": [
    {
     "data": {
      "text/plain": [
       "True"
      ]
     },
     "execution_count": 4,
     "metadata": {},
     "output_type": "execute_result"
    }
   ],
   "source": [
    "# API\n",
    "import requests\n",
    "import json\n",
    "# libraries\n",
    "import requests\n",
    "import pandas as pd\n",
    "from prettytable import PrettyTable\n",
    "\n",
    "# Set pandas display options for better data frame visualization\n",
    "pd.set_option('display.max_columns', None)\n",
    "pd.set_option('display.max_rows', None)\n",
    "\n",
    "from dotenv import load_dotenv\n",
    "load_dotenv()"
   ]
  },
  {
   "cell_type": "code",
   "execution_count": 3,
   "metadata": {},
   "outputs": [
    {
     "name": "stdout",
     "output_type": "stream",
     "text": [
      "Error retrieving data from IEX Cloud\n"
     ]
    }
   ],
   "source": [
    "# define a list of stock symbols to retrieve data for rail company stocks\n",
    "rail_COMPANY_stocks = ['UNP','CSX','NSC','CNI','CP','RAIL']\n",
    "\n",
    "# define the API endpoint for retrieving batch stock quotes\n",
    "endpoint = 'https://cloud.iexapis.com/stable/stock/market/batch'\n",
    "\n",
    "# define the API parameters for the batch stock quote request\n",
    "params = {\n",
    "    'symbols': ','.join(rail_COMPANY_stocks),\n",
    "    'types': 'quote',\n",
    "    'token': 'IEX_API_KEY'\n",
    "}\n",
    "\n",
    "# send the API request and retrieve the response\n",
    "response = requests.get(endpoint, params=params)\n",
    "\n",
    "# check if the API request was successful\n",
    "if response.status_code == 200:\n",
    "    # print the response JSON data\n",
    "    data = response.json()\n",
    "    print(data)\n",
    "   \n",
    "else:\n",
    "    print('Error retrieving data from IEX Cloud')\n"
   ]
  }
 ],
 "metadata": {
  "kernelspec": {
   "display_name": "dt_venv",
   "language": "python",
   "name": "python3"
  },
  "language_info": {
   "codemirror_mode": {
    "name": "ipython",
    "version": 3
   },
   "file_extension": ".py",
   "mimetype": "text/x-python",
   "name": "python",
   "nbconvert_exporter": "python",
   "pygments_lexer": "ipython3",
   "version": "3.11.1"
  }
 },
 "nbformat": 4,
 "nbformat_minor": 2
}
