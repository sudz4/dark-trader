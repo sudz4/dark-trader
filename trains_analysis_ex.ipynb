{
 "cells": [
  {
   "cell_type": "markdown",
   "metadata": {},
   "source": [
    "| Stock Trading | Railroads & Railroad Technology  |\n",
    "| ----------- | ----------- |  "
   ]
  },
  {
   "cell_type": "code",
   "execution_count": 1,
   "metadata": {},
   "outputs": [],
   "source": [
    "import os\n",
    "import requests\n",
    "import pandas as pd\n",
    "from dotenv import load_dotenv\n",
    "from prettytable import PrettyTable"
   ]
  },
  {
   "cell_type": "code",
   "execution_count": 2,
   "metadata": {},
   "outputs": [],
   "source": [
    "# Load environment variables\n",
    "load_dotenv()\n",
    "iex_api_key_syr = os.getenv(\"IEX_API_KEY_SYR\")"
   ]
  },
  {
   "cell_type": "code",
   "execution_count": 3,
   "metadata": {},
   "outputs": [
    {
     "data": {
      "text/html": [
       "<div>\n",
       "<style scoped>\n",
       "    .dataframe tbody tr th:only-of-type {\n",
       "        vertical-align: middle;\n",
       "    }\n",
       "\n",
       "    .dataframe tbody tr th {\n",
       "        vertical-align: top;\n",
       "    }\n",
       "\n",
       "    .dataframe thead th {\n",
       "        text-align: right;\n",
       "    }\n",
       "</style>\n",
       "<table border=\"1\" class=\"dataframe\">\n",
       "  <thead>\n",
       "    <tr style=\"text-align: right;\">\n",
       "      <th></th>\n",
       "      <th>Symbol</th>\n",
       "      <th>Company Name</th>\n",
       "      <th>Latest Price</th>\n",
       "      <th>52 Week High</th>\n",
       "      <th>52 Week Low</th>\n",
       "      <th>PE Ratio</th>\n",
       "      <th>Market Cap</th>\n",
       "      <th>Primary Exchange</th>\n",
       "    </tr>\n",
       "  </thead>\n",
       "  <tbody>\n",
       "    <tr>\n",
       "      <th>0</th>\n",
       "      <td>UNP</td>\n",
       "      <td>Union Pacific Corp.</td>\n",
       "      <td>224.06</td>\n",
       "      <td>255.87</td>\n",
       "      <td>196.08</td>\n",
       "      <td>21.38</td>\n",
       "      <td>136703962655</td>\n",
       "      <td>NEW YORK STOCK EXCHANGE INC.</td>\n",
       "    </tr>\n",
       "    <tr>\n",
       "      <th>1</th>\n",
       "      <td>CSX</td>\n",
       "      <td>CSX Corp.</td>\n",
       "      <td>32.71</td>\n",
       "      <td>39.58</td>\n",
       "      <td>28.44</td>\n",
       "      <td>17.97</td>\n",
       "      <td>63945667469</td>\n",
       "      <td>NASDAQ</td>\n",
       "    </tr>\n",
       "    <tr>\n",
       "      <th>2</th>\n",
       "      <td>NSC</td>\n",
       "      <td>Norfolk Southern Corp.</td>\n",
       "      <td>213.37</td>\n",
       "      <td>262.12</td>\n",
       "      <td>179.69</td>\n",
       "      <td>34.25</td>\n",
       "      <td>48203276154</td>\n",
       "      <td>NEW YORK STOCK EXCHANGE INC.</td>\n",
       "    </tr>\n",
       "    <tr>\n",
       "      <th>3</th>\n",
       "      <td>CNI</td>\n",
       "      <td>Canadian National Railway Co.</td>\n",
       "      <td>117.88</td>\n",
       "      <td>133.37</td>\n",
       "      <td>102.44</td>\n",
       "      <td>18.51</td>\n",
       "      <td>74796401163</td>\n",
       "      <td>NEW YORK STOCK EXCHANGE INC.</td>\n",
       "    </tr>\n",
       "    <tr>\n",
       "      <th>4</th>\n",
       "      <td>CP</td>\n",
       "      <td>Canadian Pacific Kansas City Limited</td>\n",
       "      <td>79.24</td>\n",
       "      <td>91.43</td>\n",
       "      <td>68.69</td>\n",
       "      <td>25.16</td>\n",
       "      <td>73912583943</td>\n",
       "      <td>NEW YORK STOCK EXCHANGE INC.</td>\n",
       "    </tr>\n",
       "    <tr>\n",
       "      <th>5</th>\n",
       "      <td>RAIL</td>\n",
       "      <td>FreightCar America Inc</td>\n",
       "      <td>3.74</td>\n",
       "      <td>4.26</td>\n",
       "      <td>2.25</td>\n",
       "      <td>-3.17</td>\n",
       "      <td>69977592</td>\n",
       "      <td>NASDAQ</td>\n",
       "    </tr>\n",
       "  </tbody>\n",
       "</table>\n",
       "</div>"
      ],
      "text/plain": [
       "  Symbol                          Company Name  Latest Price  52 Week High  \\\n",
       "0    UNP                   Union Pacific Corp.        224.06        255.87   \n",
       "1    CSX                             CSX Corp.         32.71         39.58   \n",
       "2    NSC                Norfolk Southern Corp.        213.37        262.12   \n",
       "3    CNI         Canadian National Railway Co.        117.88        133.37   \n",
       "4     CP  Canadian Pacific Kansas City Limited         79.24         91.43   \n",
       "5   RAIL                FreightCar America Inc          3.74          4.26   \n",
       "\n",
       "   52 Week Low  PE Ratio    Market Cap              Primary Exchange  \n",
       "0       196.08     21.38  136703962655  NEW YORK STOCK EXCHANGE INC.  \n",
       "1        28.44     17.97   63945667469                        NASDAQ  \n",
       "2       179.69     34.25   48203276154  NEW YORK STOCK EXCHANGE INC.  \n",
       "3       102.44     18.51   74796401163  NEW YORK STOCK EXCHANGE INC.  \n",
       "4        68.69     25.16   73912583943  NEW YORK STOCK EXCHANGE INC.  \n",
       "5         2.25     -3.17      69977592                        NASDAQ  "
      ]
     },
     "metadata": {},
     "output_type": "display_data"
    }
   ],
   "source": [
    "# Define a list of stock symbols for rail companies\n",
    "rail_company_stocks = ['UNP', 'CSX', 'NSC', 'CNI', 'CP', 'RAIL']\n",
    "\n",
    "# Define the API endpoint for retrieving batch stock quotes\n",
    "endpoint = 'https://cloud.iexapis.com/stable/stock/market/batch'\n",
    "\n",
    "# Set up API parameters for the batch stock quote request\n",
    "params = {\n",
    "    'symbols': ','.join(rail_company_stocks),\n",
    "    'types': 'quote',\n",
    "    'token': iex_api_key_syr\n",
    "}\n",
    "\n",
    "# send the API request and retrieve the response\n",
    "response = requests.get(endpoint, params=params)\n",
    "\n",
    "# check if the API request was successful\n",
    "if response.status_code == 200:\n",
    "    # extract the nested JSON data and flatten it into a dictionary\n",
    "    nested_data = response.json()\n",
    "    flat_data = {}\n",
    "    for symbol in rail_company_stocks:\n",
    "        flat_data[symbol] = nested_data[symbol]['quote']\n",
    "    \n",
    "    # extract the 'latestPrice' value for each stock\n",
    "    latest_prices = {symbol: data['latestPrice'] for symbol, data in flat_data.items()}\n",
    "    \n",
    "    # extract the 'companyName' value for each stock\n",
    "    company_names = {symbol: data['companyName'] for symbol, data in flat_data.items()}\n",
    "\n",
    "     # extract the 52 week high & low value for each stock\n",
    "    week_52_high = {symbol: data['week52High'] for symbol, data in flat_data.items()}\n",
    "    week_52_low = {symbol: data['week52Low'] for symbol, data in flat_data.items()}\n",
    "\n",
    "    # extract the PE Ratio & Market Cap for each stock\n",
    "    pe_ratio = {symbol: data['peRatio'] for symbol, data in flat_data.items()}\n",
    "    market_cap = {symbol: data['marketCap'] for symbol, data in flat_data.items()}\n",
    "\n",
    "    # extract the primary trading exchange for each stock\n",
    "    primary_exchange = {symbol: data['primaryExchange'] for symbol, data in flat_data.items()}\n",
    "    \n",
    "    # store the data in a pandas DataFrame\n",
    "    data = pd.DataFrame({\n",
    "        'Symbol': list(latest_prices.keys()),\n",
    "        'Company Name': list(company_names.values()),\n",
    "        'Latest Price': list(latest_prices.values()),\n",
    "        '52 Week High': list(week_52_high.values()),\n",
    "        '52 Week Low': list(week_52_low.values()),\n",
    "        'PE Ratio': list(pe_ratio.values()),\n",
    "        'Market Cap': list(market_cap.values()), # market cap = (number of outstanding shares) * (current market value of one share)\n",
    "        'Primary Exchange': list(primary_exchange.values())\n",
    "    })\n",
    "    \n",
    "    # print the pandas DataFrame\n",
    "    display(data) # use display()for easier viewing as an html tabular format\n",
    "else:\n",
    "    print('Error retrieving data from IEX Cloud')"
   ]
  },
  {
   "cell_type": "code",
   "execution_count": 4,
   "metadata": {},
   "outputs": [
    {
     "data": {
      "text/plain": [
       "'Railroad-related (rail car leasing, repairs, etc.) stocks Trading on the US Markets'"
      ]
     },
     "execution_count": 4,
     "metadata": {},
     "output_type": "execute_result"
    }
   ],
   "source": [
    "\"\"\"Railroad-related (rail car leasing, repairs, etc.) stocks Trading on the US Markets\"\"\""
   ]
  },
  {
   "cell_type": "code",
   "execution_count": 5,
   "metadata": {},
   "outputs": [
    {
     "data": {
      "text/plain": [
       "'Railroad-related technology companies trading on the US Markets'"
      ]
     },
     "execution_count": 5,
     "metadata": {},
     "output_type": "execute_result"
    }
   ],
   "source": [
    "\"\"\"Railroad-related technology companies trading on the US Markets\"\"\""
   ]
  }
 ],
 "metadata": {
  "kernelspec": {
   "display_name": "dt_venv",
   "language": "python",
   "name": "python3"
  },
  "language_info": {
   "codemirror_mode": {
    "name": "ipython",
    "version": 3
   },
   "file_extension": ".py",
   "mimetype": "text/x-python",
   "name": "python",
   "nbconvert_exporter": "python",
   "pygments_lexer": "ipython3",
   "version": "3.11.1"
  }
 },
 "nbformat": 4,
 "nbformat_minor": 2
}
